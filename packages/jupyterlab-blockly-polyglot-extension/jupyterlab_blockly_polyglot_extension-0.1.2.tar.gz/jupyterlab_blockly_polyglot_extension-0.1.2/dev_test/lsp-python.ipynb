{
 "cells": [
  {
   "cell_type": "code",
   "execution_count": 22,
   "id": "06e1c680-732f-4f4b-b6c9-f877a0774add",
   "metadata": {},
   "outputs": [
    {
     "name": "stdout",
     "output_type": "stream",
     "text": [
      "1\n"
     ]
    }
   ],
   "source": [
    "import numpy as np\n",
    "print(np.abs((-1)))\n",
    "\n",
    "#<xml xmlns=\"https://developers.google.com/blockly/xml\"><variables><variable id=\"9ExA$YS:)Ne}dr6LdSvg\">np</variable></variables><block type=\"importAs\" id=\"G`_j}=q2gEh.^:22`+0a\" x=\"28\" y=\"60\"><field name=\"libraryName\">numpy</field><field name=\"libraryAlias\" id=\"9ExA$YS:)Ne}dr6LdSvg\">np</field><next><block type=\"text_print\" id=\"i@~R-lRPq8koVjryu.mS\"><value name=\"TEXT\"><block type=\"varDoMethod\" id=\"{@6dK}!U!?kKrJ3Yp|wn\"><mutation items=\"1\"></mutation><field name=\"VAR\" id=\"9ExA$YS:)Ne}dr6LdSvg\">np</field><field name=\"MEMBER\">abs</field><data>np:abs</data><value name=\"ADD0\"><block type=\"math_number\" id=\"y=e^Ypxh,:keEb9.CV8*\"><field name=\"NUM\">-1</field></block></value></block></value></block></next></block></xml>"
   ]
  },
  {
   "cell_type": "markdown",
   "id": "8e7159d6-d6d1-4387-962b-913105d30188",
   "metadata": {},
   "source": [
    "# start"
   ]
  },
  {
   "cell_type": "code",
   "execution_count": null,
   "id": "d629db97-03c1-4fef-b66e-f8bbf7fd89a9",
   "metadata": {},
   "outputs": [],
   "source": [
    "pd."
   ]
  },
  {
   "cell_type": "code",
   "execution_count": 5,
   "id": "4f96fa39-d15b-47a7-a234-214bfd42d3d7",
   "metadata": {},
   "outputs": [
    {
     "data": {
      "text/html": [
       "<div>\n",
       "<style scoped>\n",
       "    .dataframe tbody tr th:only-of-type {\n",
       "        vertical-align: middle;\n",
       "    }\n",
       "\n",
       "    .dataframe tbody tr th {\n",
       "        vertical-align: top;\n",
       "    }\n",
       "\n",
       "    .dataframe thead th {\n",
       "        text-align: right;\n",
       "    }\n",
       "</style>\n",
       "<table border=\"1\" class=\"dataframe\">\n",
       "  <thead>\n",
       "    <tr style=\"text-align: right;\">\n",
       "      <th></th>\n",
       "      <th>SepalLength</th>\n",
       "      <th>SepalWidth</th>\n",
       "      <th>PetalLength</th>\n",
       "      <th>PetalWidth</th>\n",
       "      <th>Species</th>\n",
       "    </tr>\n",
       "  </thead>\n",
       "  <tbody>\n",
       "    <tr>\n",
       "      <th>0</th>\n",
       "      <td>5.1</td>\n",
       "      <td>3.5</td>\n",
       "      <td>1.4</td>\n",
       "      <td>0.2</td>\n",
       "      <td>setosa</td>\n",
       "    </tr>\n",
       "    <tr>\n",
       "      <th>1</th>\n",
       "      <td>4.9</td>\n",
       "      <td>3.0</td>\n",
       "      <td>1.4</td>\n",
       "      <td>0.2</td>\n",
       "      <td>setosa</td>\n",
       "    </tr>\n",
       "    <tr>\n",
       "      <th>2</th>\n",
       "      <td>4.7</td>\n",
       "      <td>3.2</td>\n",
       "      <td>1.3</td>\n",
       "      <td>0.2</td>\n",
       "      <td>setosa</td>\n",
       "    </tr>\n",
       "    <tr>\n",
       "      <th>3</th>\n",
       "      <td>4.6</td>\n",
       "      <td>3.1</td>\n",
       "      <td>1.5</td>\n",
       "      <td>0.2</td>\n",
       "      <td>setosa</td>\n",
       "    </tr>\n",
       "    <tr>\n",
       "      <th>4</th>\n",
       "      <td>5.0</td>\n",
       "      <td>3.6</td>\n",
       "      <td>1.4</td>\n",
       "      <td>0.2</td>\n",
       "      <td>setosa</td>\n",
       "    </tr>\n",
       "    <tr>\n",
       "      <th>...</th>\n",
       "      <td>...</td>\n",
       "      <td>...</td>\n",
       "      <td>...</td>\n",
       "      <td>...</td>\n",
       "      <td>...</td>\n",
       "    </tr>\n",
       "    <tr>\n",
       "      <th>145</th>\n",
       "      <td>6.7</td>\n",
       "      <td>3.0</td>\n",
       "      <td>5.2</td>\n",
       "      <td>2.3</td>\n",
       "      <td>virginica</td>\n",
       "    </tr>\n",
       "    <tr>\n",
       "      <th>146</th>\n",
       "      <td>6.3</td>\n",
       "      <td>2.5</td>\n",
       "      <td>5.0</td>\n",
       "      <td>1.9</td>\n",
       "      <td>virginica</td>\n",
       "    </tr>\n",
       "    <tr>\n",
       "      <th>147</th>\n",
       "      <td>6.5</td>\n",
       "      <td>3.0</td>\n",
       "      <td>5.2</td>\n",
       "      <td>2.0</td>\n",
       "      <td>virginica</td>\n",
       "    </tr>\n",
       "    <tr>\n",
       "      <th>148</th>\n",
       "      <td>6.2</td>\n",
       "      <td>3.4</td>\n",
       "      <td>5.4</td>\n",
       "      <td>2.3</td>\n",
       "      <td>virginica</td>\n",
       "    </tr>\n",
       "    <tr>\n",
       "      <th>149</th>\n",
       "      <td>5.9</td>\n",
       "      <td>3.0</td>\n",
       "      <td>5.1</td>\n",
       "      <td>1.8</td>\n",
       "      <td>virginica</td>\n",
       "    </tr>\n",
       "  </tbody>\n",
       "</table>\n",
       "<p>150 rows × 5 columns</p>\n",
       "</div>"
      ],
      "text/plain": [
       "     SepalLength  SepalWidth  PetalLength  PetalWidth    Species\n",
       "0            5.1         3.5          1.4         0.2     setosa\n",
       "1            4.9         3.0          1.4         0.2     setosa\n",
       "2            4.7         3.2          1.3         0.2     setosa\n",
       "3            4.6         3.1          1.5         0.2     setosa\n",
       "4            5.0         3.6          1.4         0.2     setosa\n",
       "..           ...         ...          ...         ...        ...\n",
       "145          6.7         3.0          5.2         2.3  virginica\n",
       "146          6.3         2.5          5.0         1.9  virginica\n",
       "147          6.5         3.0          5.2         2.0  virginica\n",
       "148          6.2         3.4          5.4         2.3  virginica\n",
       "149          5.9         3.0          5.1         1.8  virginica\n",
       "\n",
       "[150 rows x 5 columns]"
      ]
     },
     "execution_count": 5,
     "metadata": {},
     "output_type": "execute_result"
    }
   ],
   "source": [
    "import pandas as pd\n",
    "df = pd.read_csv('datasets/iris.csv')\n",
    "\n",
    "df\n",
    "\n",
    "#<xml xmlns=\"https://developers.google.com/blockly/xml\"><variables><variable id=\"xKANhr$+hvj,P*[4AarF\">pd</variable><variable id=\"w3vz|KB1-PbUq49cXAis\">df</variable></variables><block type=\"importAs\" id=\"{Pz6yF%F|,C?[P22:j.0\" x=\"46\" y=\"114\"><field name=\"libraryName\">pandas</field><field name=\"libraryAlias\" id=\"xKANhr$+hvj,P*[4AarF\">pd</field><next><block type=\"variables_set\" id=\"6$QuNpEe}V.J6bHYJiZv\"><field name=\"VAR\" id=\"w3vz|KB1-PbUq49cXAis\">df</field><value name=\"VALUE\"><block type=\"varDoMethod\" id=\"(34szjsEXVa^#VZY4/C,\"><mutation items=\"1\"></mutation><field name=\"VAR\" id=\"xKANhr$+hvj,P*[4AarF\">pd</field><field name=\"MEMBER\">read_csv</field><data>pd:read_csv</data><value name=\"ADD0\"><block type=\"text\" id=\"0JN-PDje=;+eOiY)=),]\"><field name=\"TEXT\">datasets/iris.csv</field></block></value></block></value></block></next></block><block type=\"variables_get\" id=\"Veeb47@F;Xf$OvyOePRD\" x=\"48\" y=\"217\"><field name=\"VAR\" id=\"w3vz|KB1-PbUq49cXAis\">df</field></block></xml>"
   ]
  },
  {
   "cell_type": "code",
   "execution_count": 14,
   "id": "f4ab3f6e-b490-4cce-ba0f-0e7f5667c9f0",
   "metadata": {},
   "outputs": [
    {
     "data": {
      "text/plain": [
       "0      5.1\n",
       "1      4.9\n",
       "2      4.7\n",
       "3      4.6\n",
       "4      5.0\n",
       "      ... \n",
       "145    6.7\n",
       "146    6.3\n",
       "147    6.5\n",
       "148    6.2\n",
       "149    5.9\n",
       "Name: SepalLength, Length: 150, dtype: float64"
      ]
     },
     "execution_count": 14,
     "metadata": {},
     "output_type": "execute_result"
    }
   ],
   "source": [
    "df.SepalLength\n",
    "\n",
    "#<xml xmlns=\"https://developers.google.com/blockly/xml\"><variables><variable id=\"w3vz|KB1-PbUq49cXAis\">df</variable></variables><block type=\"varGetProperty\" id=\"E%49N$-Wym0PSy!0Q^`O\" x=\"8\" y=\"140\"><field name=\"VAR\" id=\"w3vz|KB1-PbUq49cXAis\">df</field><field name=\"MEMBER\">SepalLength</field><data>df:SepalLength</data></block><block type=\"varDoMethod\" id=\"sOPl==yrJZ{-wzP3T5gd\" disabled-reasons=\"MANUALLY_DISABLED\" x=\"8\" y=\"186\"><mutation items=\"1\"></mutation><field name=\"VAR\" id=\"w3vz|KB1-PbUq49cXAis\">df</field><field name=\"MEMBER\">columns</field><data>df:columns</data></block><block type=\"varCreateObject\" id=\"Z)VBY(!ku0(O5h@FdVqU\" disabled-reasons=\"MANUALLY_DISABLED\" x=\"8\" y=\"258\"><mutation items=\"1\"></mutation><field name=\"VAR\" id=\"w3vz|KB1-PbUq49cXAis\">df</field><field name=\"MEMBER\">plot</field><data>df:plot</data></block></xml>"
   ]
  },
  {
   "cell_type": "code",
   "execution_count": 5,
   "id": "40390acc-4343-42ef-b4c4-4dd6b6641205",
   "metadata": {},
   "outputs": [],
   "source": [
    "x = 0\n",
    "\n",
    "#<xml xmlns=\"https://developers.google.com/blockly/xml\"><variables><variable id=\"zqC]{1azE#X+Y4pTqQY$\">x</variable></variables><block type=\"variables_set\" id=\".*Z}w/O~V71BpNBAWd4,\" x=\"41\" y=\"275\"><field name=\"VAR\" id=\"zqC]{1azE#X+Y4pTqQY$\">x</field><value name=\"VALUE\"><block type=\"math_number\" id=\"Q+[*Bo`xw_gA%(snd`-8\"><field name=\"NUM\">0</field></block></value></block></xml>"
   ]
  },
  {
   "cell_type": "code",
   "execution_count": 20,
   "id": "ca606f0c-c887-4d9f-b794-68a66763a223",
   "metadata": {},
   "outputs": [],
   "source": [
    "import numpy as np\n",
    "\n",
    "#<xml xmlns=\"https://developers.google.com/blockly/xml\"><variables><variable id=\"WEz?:@(i(^HgHE;,v{CQ\">np</variable></variables><block type=\"importAs\" id=\"G(990E0FWT.zPH0^]72/\" x=\"16\" y=\"8\"><field name=\"libraryName\">numpy</field><field name=\"libraryAlias\" id=\"WEz?:@(i(^HgHE;,v{CQ\">np</field></block></xml>"
   ]
  },
  {
   "cell_type": "code",
   "execution_count": null,
   "id": "4994a494-682c-443f-83e1-be608a071289",
   "metadata": {},
   "outputs": [],
   "source": [
    "np.abs()\n",
    "np.\n",
    "#<xml xmlns=\"https://developers.google.com/blockly/xml\"><variables><variable id=\"WEz?:@(i(^HgHE;,v{CQ\">np</variable></variables><block type=\"varDoMethod\" id=\"bKI^(bg=y(c9FYqz(dtM\" x=\"8\" y=\"186\"><mutation items=\"1\"></mutation><field name=\"VAR\" id=\"WEz?:@(i(^HgHE;,v{CQ\">np</field><field name=\"MEMBER\">abs</field><data>np:abs</data></block></xml>"
   ]
  }
 ],
 "metadata": {
  "kernelspec": {
   "display_name": "Python 3 (ipykernel)",
   "language": "python",
   "name": "python3"
  },
  "language_info": {
   "codemirror_mode": {
    "name": "ipython",
    "version": 3
   },
   "file_extension": ".py",
   "mimetype": "text/x-python",
   "name": "python",
   "nbconvert_exporter": "python",
   "pygments_lexer": "ipython3",
   "version": "3.10.6"
  }
 },
 "nbformat": 4,
 "nbformat_minor": 5
}
