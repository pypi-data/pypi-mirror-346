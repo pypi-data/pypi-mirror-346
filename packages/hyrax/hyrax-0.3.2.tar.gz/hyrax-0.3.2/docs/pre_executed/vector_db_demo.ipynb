{
 "cells": [
  {
   "cell_type": "markdown",
   "id": "f163b281",
   "metadata": {},
   "source": [
    "# Vector DB Demo"
   ]
  },
  {
   "cell_type": "code",
   "execution_count": 2,
   "id": "44b00d84",
   "metadata": {},
   "outputs": [
    {
     "name": "stderr",
     "output_type": "stream",
     "text": [
      "[2025-05-06 20:38:01,176 hyrax:INFO] Runtime Config read from: /home/drew/code/hyrax/src/hyrax/hyrax_default_config.toml\n"
     ]
    }
   ],
   "source": [
    "from hyrax import Hyrax\n",
    "\n",
    "h = Hyrax()"
   ]
  },
  {
   "cell_type": "markdown",
   "id": "ebd2eaa8",
   "metadata": {},
   "source": [
    "Quickly train a model using the default CiFAR dataset and then use the model to run inference."
   ]
  },
  {
   "cell_type": "code",
   "execution_count": 44,
   "id": "e214de6f",
   "metadata": {},
   "outputs": [
    {
     "name": "stderr",
     "output_type": "stream",
     "text": [
      "[2025-05-05 21:24:13,608 hyrax.models.model_registry:INFO] Using criterion: torch.nn.CrossEntropyLoss with default arguments.\n",
      "2025-05-05 21:24:13,614 ignite.distributed.auto.auto_dataloader INFO: Use data loader kwargs for dataset '<hyrax.data_sets.hyr': \n",
      "\t{'sampler': <hyrax.pytorch_ignite.SubsetSequentialSampler object at 0x7f11bdcdb3b0>, 'batch_size': 512, 'shuffle': False, 'pin_memory': True}\n",
      "2025-05-05 21:24:13,616 ignite.distributed.auto.auto_dataloader INFO: Use data loader kwargs for dataset '<hyrax.data_sets.hyr': \n",
      "\t{'sampler': <hyrax.pytorch_ignite.SubsetSequentialSampler object at 0x7f11bdcd9b80>, 'batch_size': 512, 'shuffle': False, 'pin_memory': True}\n",
      "2025/05/05 21:24:13 INFO mlflow.system_metrics.system_metrics_monitor: Started monitoring system metrics.\n",
      "[2025-05-05 21:24:13,665 hyrax.pytorch_ignite:INFO] Training model on device: cuda\n"
     ]
    },
    {
     "data": {
      "application/vnd.jupyter.widget-view+json": {
       "model_id": "625519c4d81949e788557cfbfdec5d20",
       "version_major": 2,
       "version_minor": 0
      },
      "text/plain": [
       "  2%|1         | 1/59 [00:00<?, ?it/s]"
      ]
     },
     "metadata": {},
     "output_type": "display_data"
    },
    {
     "data": {
      "application/vnd.jupyter.widget-view+json": {
       "model_id": "65ebeb0a1a864e908a17a956e09e6539",
       "version_major": 2,
       "version_minor": 0
      },
      "text/plain": [
       "  2%|1         | 1/59 [00:00<?, ?it/s]"
      ]
     },
     "metadata": {},
     "output_type": "display_data"
    },
    {
     "data": {
      "application/vnd.jupyter.widget-view+json": {
       "model_id": "a777435382eb4d799d34abee19f0e055",
       "version_major": 2,
       "version_minor": 0
      },
      "text/plain": [
       "  2%|1         | 1/59 [00:00<?, ?it/s]"
      ]
     },
     "metadata": {},
     "output_type": "display_data"
    },
    {
     "data": {
      "application/vnd.jupyter.widget-view+json": {
       "model_id": "fe5ee658ef514229a6ad2a12be1b051b",
       "version_major": 2,
       "version_minor": 0
      },
      "text/plain": [
       "  2%|1         | 1/59 [00:00<?, ?it/s]"
      ]
     },
     "metadata": {},
     "output_type": "display_data"
    },
    {
     "data": {
      "application/vnd.jupyter.widget-view+json": {
       "model_id": "d85d41dd67fd493283af72312424b9f6",
       "version_major": 2,
       "version_minor": 0
      },
      "text/plain": [
       "  2%|1         | 1/59 [00:00<?, ?it/s]"
      ]
     },
     "metadata": {},
     "output_type": "display_data"
    },
    {
     "data": {
      "application/vnd.jupyter.widget-view+json": {
       "model_id": "b499dce67f0949a1b14ded2e39798053",
       "version_major": 2,
       "version_minor": 0
      },
      "text/plain": [
       "  2%|1         | 1/59 [00:00<?, ?it/s]"
      ]
     },
     "metadata": {},
     "output_type": "display_data"
    },
    {
     "data": {
      "application/vnd.jupyter.widget-view+json": {
       "model_id": "a8514e6f1abc4a448ef16787422bd9d0",
       "version_major": 2,
       "version_minor": 0
      },
      "text/plain": [
       "  2%|1         | 1/59 [00:00<?, ?it/s]"
      ]
     },
     "metadata": {},
     "output_type": "display_data"
    },
    {
     "data": {
      "application/vnd.jupyter.widget-view+json": {
       "model_id": "ac73aff785604719a2bc8f3eef2f759b",
       "version_major": 2,
       "version_minor": 0
      },
      "text/plain": [
       "  2%|1         | 1/59 [00:00<?, ?it/s]"
      ]
     },
     "metadata": {},
     "output_type": "display_data"
    },
    {
     "data": {
      "application/vnd.jupyter.widget-view+json": {
       "model_id": "155bd3935b52428b94f5db13da9b803c",
       "version_major": 2,
       "version_minor": 0
      },
      "text/plain": [
       "  2%|1         | 1/59 [00:00<?, ?it/s]"
      ]
     },
     "metadata": {},
     "output_type": "display_data"
    },
    {
     "data": {
      "application/vnd.jupyter.widget-view+json": {
       "model_id": "ac22e100d2f74d29b4ab20d32545a3dd",
       "version_major": 2,
       "version_minor": 0
      },
      "text/plain": [
       "  2%|1         | 1/59 [00:00<?, ?it/s]"
      ]
     },
     "metadata": {},
     "output_type": "display_data"
    },
    {
     "name": "stderr",
     "output_type": "stream",
     "text": [
      "[2025-05-05 21:25:43,484 hyrax.pytorch_ignite:INFO] Total training time: 89.82[s]\n",
      "[2025-05-05 21:25:43,484 hyrax.pytorch_ignite:INFO] Latest checkpoint saved as: /home/drew/code/hyrax/docs/pre_executed/results/20250505-212406-train-ID7T/checkpoint_epoch_10.pt\n",
      "[2025-05-05 21:25:43,485 hyrax.pytorch_ignite:INFO] Best metric checkpoint saved as: /home/drew/code/hyrax/docs/pre_executed/results/20250505-212406-train-ID7T/checkpoint_10_loss=-115.1023.pt\n",
      "2025/05/05 21:25:43 INFO mlflow.system_metrics.system_metrics_monitor: Stopping system metrics monitoring...\n",
      "2025/05/05 21:25:43 INFO mlflow.system_metrics.system_metrics_monitor: Successfully terminated system metrics monitoring!\n",
      "[2025-05-05 21:25:43,500 hyrax.train:INFO] Finished Training\n",
      "[2025-05-05 21:25:43,756 hyrax.model_exporters:INFO] Exported model to ONNX format: /home/drew/code/hyrax/docs/pre_executed/results/20250505-212406-train-ID7T/example_model_opset_20.onnx\n",
      "[2025-05-05 21:25:51,103 hyrax.models.model_registry:INFO] Using criterion: torch.nn.CrossEntropyLoss with default arguments.\n",
      "[2025-05-05 21:25:51,104 hyrax.verbs.infer:INFO] data set has length 50000\n",
      "2025-05-05 21:25:51,104 ignite.distributed.auto.auto_dataloader INFO: Use data loader kwargs for dataset '<hyrax.data_sets.hyr': \n",
      "\t{'sampler': None, 'batch_size': 512, 'shuffle': False, 'pin_memory': True}\n",
      "[2025-05-05 21:25:51,126 hyrax.verbs.infer:INFO] Saving inference results at: /home/drew/code/hyrax/docs/pre_executed/results/20250505-212543-infer-XZTm\n",
      "[2025-05-05 21:25:51,388 hyrax.pytorch_ignite:INFO] Evaluating model on device: cuda\n",
      "[2025-05-05 21:25:51,390 hyrax.pytorch_ignite:INFO] Total epochs: 1\n"
     ]
    },
    {
     "data": {
      "application/vnd.jupyter.widget-view+json": {
       "model_id": "a5de7ce0a99041698161ba68a9207460",
       "version_major": 2,
       "version_minor": 0
      },
      "text/plain": [
       "  1%|1         | 1/98 [00:00<?, ?it/s]"
      ]
     },
     "metadata": {},
     "output_type": "display_data"
    },
    {
     "name": "stderr",
     "output_type": "stream",
     "text": [
      "[2025-05-05 21:26:02,131 hyrax.pytorch_ignite:INFO] Total evaluation time: 10.74[s]\n",
      "[2025-05-05 21:26:02,894 hyrax.verbs.infer:INFO] Inference Complete.\n",
      "[2025-05-05 21:26:02,929 hyrax.config_utils:WARNING] Cannot find default_config.toml for torch.\n",
      "[2025-05-05 21:26:02,930 hyrax.config_utils:WARNING] Cannot find default_config.toml for torch.\n",
      "[2025-05-05 21:26:02,931 hyrax.config_utils:WARNING] Cannot find default_config.toml for umap.\n"
     ]
    },
    {
     "data": {
      "text/plain": [
       "<hyrax.data_sets.inference_dataset.InferenceDataSet at 0x7f11bde49010>"
      ]
     },
     "execution_count": 44,
     "metadata": {},
     "output_type": "execute_result"
    }
   ],
   "source": [
    "h.config[\"train\"][\"epochs\"] = 10\n",
    "h.train()\n",
    "h.infer()"
   ]
  },
  {
   "cell_type": "markdown",
   "id": "0f2da27c",
   "metadata": {},
   "source": [
    "Use the output of inference to populate a ChromaDB vector database."
   ]
  },
  {
   "cell_type": "code",
   "execution_count": 45,
   "id": "6b8e25f1",
   "metadata": {},
   "outputs": [
    {
     "name": "stderr",
     "output_type": "stream",
     "text": [
      "[2025-05-05 21:26:47,163 hyrax.config_utils:WARNING] Cannot find default_config.toml for torch.\n",
      "[2025-05-05 21:26:47,164 hyrax.config_utils:WARNING] Cannot find default_config.toml for torch.\n",
      "[2025-05-05 21:26:47,165 hyrax.config_utils:WARNING] Cannot find default_config.toml for umap.\n",
      "[2025-05-05 21:26:54,821 hyrax.verbs.vdb_index:INFO] Number of inference result batches to index: 98.\n",
      "100%|██████████| 98/98 [00:10<00:00,  9.05it/s]\n"
     ]
    }
   ],
   "source": [
    "h.index()"
   ]
  },
  {
   "cell_type": "markdown",
   "id": "fe58a5ef",
   "metadata": {},
   "source": [
    "Some examples of simple database operations. Here we get the directory that contains the vector database that was just populated and create an instance of the ChromaDB object for querying."
   ]
  },
  {
   "cell_type": "code",
   "execution_count": 3,
   "id": "9a7627c8",
   "metadata": {},
   "outputs": [],
   "source": [
    "from hyrax.vector_dbs import ChromaDB\n",
    "from hyrax.config_utils import find_most_recent_results_dir\n",
    "\n",
    "context = {\"results_dir\": find_most_recent_results_dir(h.config, \"index\")}\n",
    "cdb = ChromaDB({}, context)"
   ]
  },
  {
   "cell_type": "markdown",
   "id": "0a1934c7",
   "metadata": {},
   "source": [
    "Next we'll retrieve the vectors associated with two ids. The result is a dictionary where the keys are id strings and values are the numpy array vectors stored in the vector database."
   ]
  },
  {
   "cell_type": "code",
   "execution_count": 4,
   "id": "9f61c605",
   "metadata": {},
   "outputs": [
    {
     "name": "stdout",
     "output_type": "stream",
     "text": [
      "Id: 97, Vector: [ 0.03944793  0.3558799   0.25223956 -0.0754521   1.21438968 -0.20974497\n",
      "  0.1351877  -0.32994613 -0.31074765 -0.35594231 -0.34430811 -0.20604473\n",
      "  0.45631796  0.43832898  0.39286935 -0.68292439 -0.43553033  0.2303443\n",
      "  0.07766815  0.10676508  0.05971036 -0.58332515 -0.85855955  0.27715769\n",
      "  0.29078636  0.35345447 -0.66003358 -0.21075204  0.6518687   0.41284499\n",
      "  0.14182426  0.28613818 -0.52455962  0.50611925  0.04625352 -0.3224065\n",
      "  0.3642571  -0.36285824 -0.10188343  0.20414513  0.24323951  0.61370313\n",
      " -0.08387056 -0.32608244 -0.41909656  0.83472192  0.29513356 -0.05968503\n",
      "  0.65934277 -0.46486792 -0.00231487 -0.07055005 -0.17652111  0.30367675\n",
      "  0.28033113  0.41673368  0.70939934  0.50588834 -0.09763379 -0.34357762\n",
      " -0.06451014  0.25463673 -0.59559703  0.27798894]\n",
      "Id: 99, Vector: [ 0.73876572  0.19451125  0.14610657 -0.51498705  0.61082381  0.39704716\n",
      " -0.43067837  0.31517011  0.65467519  0.8016476   0.32953    -0.07402328\n",
      "  0.48097423 -0.41715565  0.17189725 -0.12793687 -0.31174842  0.21610478\n",
      "  0.18904878  0.12781662  0.25548795 -0.10004312 -0.1588864   0.18900926\n",
      " -0.60600233  0.44324812  0.11960325  0.04293833 -0.05438157 -0.49329892\n",
      "  0.57582283  0.39957413  0.08884203  0.25487712  0.72081274 -0.6978538\n",
      " -0.20381176 -0.16728716 -0.09492586  0.70705658 -0.02392591 -0.40256652\n",
      " -0.00398434  0.47762519 -0.13295761 -0.07980289  0.65890872 -0.16351144\n",
      "  0.23159459 -0.26683387  0.17476416 -0.09734846 -0.11687887  0.06231707\n",
      "  0.24468309 -0.1957892   0.4440937   0.11096022 -0.56019002 -0.09255603\n",
      "  0.09784195  0.54374331 -0.36552608  0.00855556]\n",
      "Id: 334, Vector: [ 0.21758763  0.61957812  0.70391268 -0.71891177  0.03151681 -0.03021694\n",
      " -0.78882849 -0.05880384 -0.17123401  0.10940058  0.23445277 -0.41498992\n",
      "  0.20345522 -0.17673534  0.45089257 -0.8302533  -0.32601833  0.52293003\n",
      "  0.12234025  0.11995897  0.48317307 -0.63917238 -0.40982932  0.01211371\n",
      " -0.24531263  0.39203402 -0.19057278 -0.10403228 -0.21501856  0.59222835\n",
      "  0.68357092  0.10693593  0.26825529  0.89528656  0.68839723  0.25249362\n",
      "  0.61618882  0.24151264 -0.28890374 -0.34188798  0.2696152   0.10760415\n",
      " -0.3607446   0.43477303 -0.55706829  0.07890901 -0.17707878  0.24020155\n",
      "  0.81330979  0.00943825 -0.11097961  0.00190817 -0.13636126  0.37004232\n",
      "  0.44999483  0.35046244  0.53614783  0.26852119 -0.1682405   0.57033759\n",
      " -0.25760028  0.35980114 -0.15502594 -0.02204505]\n",
      "Id: 19022, Vector: [ 0.17490365  0.48049939  0.43611622  0.07514876  0.9207859  -0.12114437\n",
      " -0.48578677 -0.43594787  0.11580303  0.21337487  0.12295244 -0.27417156\n",
      "  0.26114911  0.1373311  -0.07047495 -0.25382772 -0.37638015  0.82928431\n",
      " -0.16666892  0.27457857  0.17267708 -0.28727862 -0.77045816  0.58270323\n",
      "  0.50538534  0.29904756 -0.76027101 -0.25870228 -0.26126507  0.25753099\n",
      "  0.00980249 -0.33886153 -0.47207943  0.80155778  0.34526649 -0.14036793\n",
      " -0.12734018  0.64056575  0.21455288  0.27396193 -0.00817694 -0.08531304\n",
      " -0.29876879 -0.01457919 -0.21274428 -0.21743254  0.17419121  0.15707381\n",
      "  0.46332097 -0.41400301 -0.35714602  0.09599587 -0.40847179  0.09285823\n",
      "  0.04295826  0.28861237  0.6971674  -0.02973679 -0.32608443  0.28712678\n",
      " -0.22161517  0.06826291 -0.13286771  0.27101639]\n"
     ]
    }
   ],
   "source": [
    "results = cdb.get_by_id(ids=[\"97\", \"99\", \"334\", \"19022\"])\n",
    "\n",
    "for k, v in results.items():\n",
    "    print(f\"Id: {k}, Vector: {v}\")"
   ]
  },
  {
   "cell_type": "markdown",
   "id": "14cff8dc",
   "metadata": {},
   "source": [
    "Here we'll search for the 5 nearest neighbors of the vector with id = '334'. Note that the closest of the 5 neighbors is the vector itself, since it's in the database."
   ]
  },
  {
   "cell_type": "code",
   "execution_count": 5,
   "id": "b7d4b69e",
   "metadata": {},
   "outputs": [
    {
     "data": {
      "text/plain": [
       "{0: ['3133', '3608', '30942', '37903', '30307']}"
      ]
     },
     "execution_count": 5,
     "metadata": {},
     "output_type": "execute_result"
    }
   ],
   "source": [
    "cdb.search_by_id(\"3133\", k=5)"
   ]
  },
  {
   "cell_type": "markdown",
   "id": "8079aa88",
   "metadata": {},
   "source": [
    "We can repeat the search, using the vector that we found when running `get_by_id`. The results from this search should match those of `search_by_id`."
   ]
  },
  {
   "cell_type": "code",
   "execution_count": 42,
   "id": "81088de0",
   "metadata": {},
   "outputs": [],
   "source": [
    "neighbors = cdb.search_by_vector([results[\"99\"]], k=2)"
   ]
  },
  {
   "cell_type": "code",
   "execution_count": 7,
   "id": "32946b37",
   "metadata": {},
   "outputs": [
    {
     "name": "stderr",
     "output_type": "stream",
     "text": [
      "[2025-05-06 20:38:13,897 hyrax.prepare:INFO] Finished Prepare\n"
     ]
    }
   ],
   "source": [
    "dataset = h.prepare()"
   ]
  },
  {
   "cell_type": "code",
   "execution_count": 21,
   "id": "2d245a5f",
   "metadata": {},
   "outputs": [],
   "source": [
    "import numpy as np\n",
    "from matplotlib import pyplot as plt\n",
    "\n",
    "\n",
    "def show_image(data):\n",
    "    image = data[\"image\"]\n",
    "    title = f\"Label: {data['label']}, Id: {data['object_id']}\"\n",
    "    image = image.permute(1, 2, 0).numpy()\n",
    "    min_val = np.min(image)\n",
    "    max_val = np.max(image)\n",
    "    image = (image - min_val) / (max_val - min_val)\n",
    "    plt.imshow(image)\n",
    "    if title:\n",
    "        plt.title(title)\n",
    "    plt.axis(\"off\")\n",
    "    plt.show()"
   ]
  },
  {
   "cell_type": "code",
   "execution_count": 22,
   "id": "bd6f001f",
   "metadata": {},
   "outputs": [
    {
     "data": {
      "image/png": "[encoded data removed]",
      "text/plain": [
       "<Figure size 640x480 with 1 Axes>"
      ]
     },
     "metadata": {},
     "output_type": "display_data"
    }
   ],
   "source": [
    "d = dataset[99]\n",
    "show_image(d)"
   ]
  },
  {
   "cell_type": "code",
   "execution_count": 44,
   "id": "8ac4f559",
   "metadata": {},
   "outputs": [
    {
     "name": "stdout",
     "output_type": "stream",
     "text": [
      "hello\n"
     ]
    },
    {
     "ename": "AttributeError",
     "evalue": "'Axes' object has no attribute 'flatten'",
     "output_type": "error",
     "traceback": [
      "\u001b[31m---------------------------------------------------------------------------\u001b[39m",
      "\u001b[31mAttributeError\u001b[39m                            Traceback (most recent call last)",
      "\u001b[36mCell\u001b[39m\u001b[36m \u001b[39m\u001b[32mIn[44]\u001b[39m\u001b[32m, line 43\u001b[39m\n\u001b[32m     40\u001b[39m \u001b[38;5;28;01mfor\u001b[39;00m n \u001b[38;5;129;01min\u001b[39;00m nearest_neighbors[\u001b[32m1\u001b[39m:]:\n\u001b[32m     41\u001b[39m     data_list.append(dataset[\u001b[38;5;28mint\u001b[39m(n)])\n\u001b[32m---> \u001b[39m\u001b[32m43\u001b[39m \u001b[43mshow_image_grid\u001b[49m\u001b[43m(\u001b[49m\u001b[43mdata_list\u001b[49m\u001b[43m)\u001b[49m\n",
      "\u001b[36mCell\u001b[39m\u001b[36m \u001b[39m\u001b[32mIn[44]\u001b[39m\u001b[32m, line 17\u001b[39m, in \u001b[36mshow_image_grid\u001b[39m\u001b[34m(data_list)\u001b[39m\n\u001b[32m     15\u001b[39m     cols = \u001b[38;5;28mlen\u001b[39m(data_list)\n\u001b[32m     16\u001b[39m fig, axes = plt.subplots(rows, cols, figsize=(cols * \u001b[32m3\u001b[39m, rows * \u001b[32m3\u001b[39m))\n\u001b[32m---> \u001b[39m\u001b[32m17\u001b[39m axes = \u001b[43maxes\u001b[49m\u001b[43m.\u001b[49m\u001b[43mflatten\u001b[49m()  \u001b[38;5;66;03m# Flatten the axes for easy iteration\u001b[39;00m\n\u001b[32m     19\u001b[39m \u001b[38;5;28;01mfor\u001b[39;00m ax, data \u001b[38;5;129;01min\u001b[39;00m \u001b[38;5;28mzip\u001b[39m(axes, data_list):\n\u001b[32m     20\u001b[39m     image = data[\u001b[33m'\u001b[39m\u001b[33mimage\u001b[39m\u001b[33m'\u001b[39m]\n",
      "\u001b[31mAttributeError\u001b[39m: 'Axes' object has no attribute 'flatten'"
     ]
    },
    {
     "data": {
      "image/png": "[encoded data removed]",
      "text/plain": [
       "<Figure size 300x300 with 1 Axes>"
      ]
     },
     "metadata": {},
     "output_type": "display_data"
    }
   ],
   "source": [
    "def show_image_grid(data_list):\n",
    "    \"\"\"\n",
    "    Display a grid of images.\n",
    "\n",
    "    Parameters\n",
    "    ----------\n",
    "    data_list : list\n",
    "        A list of data dictionaries, each containing an 'image' key and optionally 'label' and 'object_id'.\n",
    "    \"\"\"\n",
    "    rows = int(len(data_list) / 4)\n",
    "    if len(data_list) % 4 != 0:\n",
    "        rows += 1\n",
    "    cols = 4\n",
    "    if rows == 1:\n",
    "        cols = len(data_list)\n",
    "    fig, axes = plt.subplots(rows, cols, figsize=(cols * 3, rows * 3))\n",
    "    axes = axes.flatten()  # Flatten the axes for easy iteration\n",
    "\n",
    "    for ax, data in zip(axes, data_list):\n",
    "        image = data[\"image\"]\n",
    "        title = f\"Label: {data.get('label', 'N/A')}, Id: {data.get('object_id', 'N/A')}\"\n",
    "        image = image.permute(1, 2, 0).numpy()\n",
    "        min_val = np.min(image)\n",
    "        max_val = np.max(image)\n",
    "        image = (image - min_val) / (max_val - min_val)  # Normalize to [0, 1]\n",
    "        ax.imshow(image)\n",
    "        ax.set_title(title)\n",
    "        ax.axis(\"off\")\n",
    "\n",
    "    # Turn off any unused axes\n",
    "    for ax in axes[len(data_list) :]:\n",
    "        ax.axis(\"off\")\n",
    "\n",
    "    plt.tight_layout()\n",
    "    plt.show()\n",
    "\n",
    "\n",
    "# Example usage\n",
    "data_list = []\n",
    "nearest_neighbors = neighbors[0]\n",
    "for n in nearest_neighbors[1:]:\n",
    "    data_list.append(dataset[int(n)])\n",
    "\n",
    "show_image_grid(data_list)"
   ]
  },
  {
   "cell_type": "code",
   "execution_count": 34,
   "id": "50c1bf0c",
   "metadata": {},
   "outputs": [
    {
     "name": "stdout",
     "output_type": "stream",
     "text": [
      "[{'object_id': 49594, 'image': tensor([[[-0.7882, -0.6235, -0.3725,  ..., -0.4353, -0.4902, -0.4824],\n",
      "         [-0.6941, -0.7647, -0.6471,  ..., -0.4510, -0.6314, -0.5373],\n",
      "         [-0.6078, -0.5059, -0.4039,  ..., -0.4980, -0.6471, -0.4667],\n",
      "         ...,\n",
      "         [-0.5765, -0.2863,  0.0745,  ..., -0.8824, -0.7882, -0.8118],\n",
      "         [-0.4667,  0.0510,  0.2314,  ..., -0.7804, -0.8118, -0.4510],\n",
      "         [-0.5059,  0.3255,  0.3804,  ..., -0.7490, -0.4824, -0.2078]],\n",
      "\n",
      "        [[-0.7882, -0.6157, -0.3569,  ..., -0.4431, -0.4588, -0.4431],\n",
      "         [-0.6941, -0.7647, -0.6235,  ..., -0.4824, -0.6235, -0.4902],\n",
      "         [-0.6000, -0.4980, -0.4039,  ..., -0.5137, -0.6471, -0.4196],\n",
      "         ...,\n",
      "         [-0.6078, -0.3882, -0.2000,  ..., -0.9059, -0.8588, -0.8667],\n",
      "         [-0.5137, -0.0118,  0.0353,  ..., -0.8196, -0.8353, -0.5608],\n",
      "         [-0.5529,  0.2706,  0.2706,  ..., -0.8039, -0.6000, -0.3725]],\n",
      "\n",
      "        [[-0.8824, -0.7882, -0.6235,  ..., -0.8196, -0.8196, -0.7961],\n",
      "         [-0.8745, -0.9059, -0.7961,  ..., -0.8510, -0.8824, -0.8745],\n",
      "         [-0.8745, -0.7020, -0.6706,  ..., -0.8275, -0.8510, -0.8588],\n",
      "         ...,\n",
      "         [-0.6784, -0.5373, -0.4275,  ..., -0.9451, -0.8980, -0.9294],\n",
      "         [-0.5765, -0.0745, -0.1059,  ..., -0.8824, -0.8824, -0.6471],\n",
      "         [-0.6000,  0.2784,  0.2157,  ..., -0.8353, -0.6941, -0.5294]]]), 'label': 1}, {'object_id': 37791, 'image': tensor([[[-0.4824, -0.4667, -0.4745,  ..., -0.3569, -0.3412, -0.4902],\n",
      "         [-0.2549, -0.2157, -0.2549,  ..., -0.2000, -0.0510, -0.0431],\n",
      "         [-0.0667,  0.2471, -0.1529,  ..., -0.3961, -0.2941, -0.2471],\n",
      "         ...,\n",
      "         [ 0.0196,  0.0353,  0.0196,  ...,  0.0039,  0.0275,  0.0118],\n",
      "         [ 0.0118,  0.0353,  0.0039,  ..., -0.0118,  0.0431,  0.0275],\n",
      "         [ 0.0588,  0.0667,  0.0667,  ...,  0.0275,  0.0431,  0.0510]],\n",
      "\n",
      "        [[-0.4980, -0.4980, -0.4980,  ..., -0.4980, -0.4980, -0.5765],\n",
      "         [-0.3176, -0.2863, -0.3333,  ..., -0.2471, -0.1686, -0.1765],\n",
      "         [-0.1294,  0.1922, -0.2549,  ..., -0.5373, -0.4431, -0.4510],\n",
      "         ...,\n",
      "         [-0.3412, -0.3333, -0.3490,  ..., -0.3412, -0.3333, -0.3490],\n",
      "         [-0.3490, -0.3412, -0.3569,  ..., -0.3725, -0.3333, -0.3333],\n",
      "         [-0.3020, -0.3098, -0.3020,  ..., -0.3098, -0.2784, -0.2235]],\n",
      "\n",
      "        [[-0.5765, -0.5686, -0.5608,  ..., -0.6078, -0.5765, -0.6235],\n",
      "         [-0.4039, -0.3804, -0.4275,  ..., -0.3569, -0.2941, -0.2941],\n",
      "         [-0.2078,  0.0824, -0.3882,  ..., -0.6157, -0.5529, -0.5451],\n",
      "         ...,\n",
      "         [-0.6627, -0.6471, -0.6627,  ..., -0.6784, -0.6627, -0.6627],\n",
      "         [-0.6784, -0.6706, -0.6784,  ..., -0.6863, -0.6706, -0.6627],\n",
      "         [-0.6549, -0.6706, -0.6706,  ..., -0.6235, -0.6078, -0.5529]]]), 'label': 7}, {'object_id': 33511, 'image': tensor([[[ 0.1373,  0.0275, -0.0196,  ...,  0.0588, -0.2000, -0.6078],\n",
      "         [ 0.0824, -0.0118, -0.0588,  ..., -0.0039, -0.3020, -0.8745],\n",
      "         [ 0.0667, -0.0039, -0.0431,  ..., -0.0039, -0.2235, -0.7804],\n",
      "         ...,\n",
      "         [ 0.2471,  0.2392,  0.2706,  ...,  0.0980,  0.1451, -0.0667],\n",
      "         [ 0.2235,  0.1765,  0.1529,  ...,  0.1529,  0.1373, -0.2078],\n",
      "         [ 0.2392,  0.1922,  0.1686,  ...,  0.2000,  0.1451, -0.1451]],\n",
      "\n",
      "        [[-0.1137, -0.2549, -0.2863,  ..., -0.1608, -0.3176, -0.6000],\n",
      "         [-0.3255, -0.4510, -0.4902,  ..., -0.3176, -0.4824, -0.8667],\n",
      "         [-0.3490, -0.4353, -0.4824,  ..., -0.3098, -0.4353, -0.7804],\n",
      "         ...,\n",
      "         [-0.1608, -0.1922, -0.1765,  ..., -0.2549, -0.1529, -0.2706],\n",
      "         [-0.2000, -0.2863, -0.3176,  ..., -0.2000, -0.2000, -0.4353],\n",
      "         [-0.0824, -0.1765, -0.2000,  ..., -0.0667, -0.1137, -0.3176]],\n",
      "\n",
      "        [[-0.4588, -0.5843, -0.6078,  ..., -0.4510, -0.5137, -0.6784],\n",
      "         [-0.8118, -0.9059, -0.9529,  ..., -0.7412, -0.8039, -1.0000],\n",
      "         [-0.8039, -0.8667, -0.9137,  ..., -0.7333, -0.7961, -0.9922],\n",
      "         ...,\n",
      "         [-0.6863, -0.7569, -0.7255,  ..., -0.7569, -0.6314, -0.6549],\n",
      "         [-0.7569, -0.8510, -0.8588,  ..., -0.7098, -0.6863, -0.8196],\n",
      "         [-0.4902, -0.5765, -0.5922,  ..., -0.4510, -0.4980, -0.5922]]]), 'label': 3}, {'object_id': 8049, 'image': tensor([[[-0.2078, -0.2392, -0.2078,  ..., -0.3961, -0.4118, -0.4980],\n",
      "         [-0.1843, -0.2627, -0.2784,  ..., -0.4745, -0.4745, -0.4667],\n",
      "         [-0.2157, -0.3176, -0.3020,  ..., -0.5765, -0.4902, -0.4745],\n",
      "         ...,\n",
      "         [-0.4431, -0.3882, -0.2941,  ...,  0.0039, -0.0588, -0.0431],\n",
      "         [-0.6078, -0.5686, -0.5529,  ..., -0.3490, -0.3961, -0.4353],\n",
      "         [-0.7647, -0.7804, -0.7569,  ..., -0.6314, -0.6784, -0.7098]],\n",
      "\n",
      "        [[-0.1137, -0.1294, -0.1059,  ..., -0.3255, -0.3804, -0.4824],\n",
      "         [-0.1059, -0.1608, -0.1765,  ..., -0.4118, -0.4510, -0.4745],\n",
      "         [-0.1294, -0.2235, -0.2078,  ..., -0.5137, -0.4667, -0.4824],\n",
      "         ...,\n",
      "         [-0.5451, -0.5059, -0.4275,  ..., -0.2941, -0.3412, -0.3176],\n",
      "         [-0.6627, -0.6471, -0.6471,  ..., -0.5608, -0.6000, -0.6157],\n",
      "         [-0.7961, -0.8196, -0.8275,  ..., -0.7725, -0.8118, -0.8275]],\n",
      "\n",
      "        [[-0.5922, -0.7020, -0.6941,  ..., -0.7569, -0.7255, -0.8196],\n",
      "         [-0.5451, -0.6941, -0.7490,  ..., -0.7725, -0.7333, -0.6941],\n",
      "         [-0.5843, -0.6941, -0.7176,  ..., -0.8902, -0.7725, -0.6784],\n",
      "         ...,\n",
      "         [-0.8118, -0.8275, -0.7882,  ..., -0.8588, -0.8667, -0.7961],\n",
      "         [-0.8275, -0.8275, -0.8431,  ..., -0.9059, -0.8980, -0.8745],\n",
      "         [-0.8980, -0.9137, -0.9059,  ..., -0.9216, -0.9294, -0.9216]]]), 'label': 4}, {'object_id': 47650, 'image': tensor([[[-0.8588, -0.8196, -0.7961,  ..., -0.4275, -0.3882, -0.4039],\n",
      "         [-0.8588, -0.8353, -0.8510,  ..., -0.4745, -0.4510, -0.4588],\n",
      "         [-0.8510, -0.8431, -0.8824,  ..., -0.4824, -0.4667, -0.5137],\n",
      "         ...,\n",
      "         [-0.3255, -0.3804, -0.4745,  ..., -0.1059, -0.1686, -0.2235],\n",
      "         [-0.4353, -0.1922, -0.3176,  ..., -0.1529, -0.2627, -0.3176],\n",
      "         [-0.5922, -0.2235, -0.2706,  ..., -0.2157, -0.3255, -0.2941]],\n",
      "\n",
      "        [[-0.5529, -0.4353, -0.4039,  ...,  0.0353,  0.0353,  0.0667],\n",
      "         [-0.5608, -0.4118, -0.3961,  ...,  0.0824,  0.0667,  0.0902],\n",
      "         [-0.5608, -0.4196, -0.4118,  ...,  0.1294,  0.1059,  0.0902],\n",
      "         ...,\n",
      "         [-0.2471, -0.2627, -0.3647,  ..., -0.4118, -0.4745, -0.5137],\n",
      "         [-0.3569, -0.1059, -0.3176,  ..., -0.4275, -0.5373, -0.5529],\n",
      "         [-0.6627, -0.2157, -0.3255,  ..., -0.1922, -0.2706, -0.2000]],\n",
      "\n",
      "        [[-0.9059, -0.8902, -0.8745,  ..., -0.5608, -0.5294, -0.5294],\n",
      "         [-0.9922, -0.9686, -0.9686,  ..., -0.7647, -0.7412, -0.7020],\n",
      "         [-0.9765, -0.9686, -0.9765,  ..., -0.8118, -0.7882, -0.7647],\n",
      "         ...,\n",
      "         [-0.7333, -0.7647, -0.7569,  ..., -0.7020, -0.7176, -0.7176],\n",
      "         [-0.6863, -0.6392, -0.7020,  ..., -0.7647, -0.8039, -0.7804],\n",
      "         [-0.8667, -0.7647, -0.8039,  ..., -0.7176, -0.7569, -0.6314]]]), 'label': 6}, {'object_id': 36488, 'image': tensor([[[-0.0902, -0.4039, -0.4902,  ..., -0.4275, -0.3882, -0.4667],\n",
      "         [-0.2471, -0.3490, -0.3255,  ..., -0.4118, -0.4275, -0.4824],\n",
      "         [-0.4039, -0.4588, -0.4275,  ..., -0.4196, -0.4667, -0.5373],\n",
      "         ...,\n",
      "         [ 0.5373,  0.5529,  0.5373,  ..., -0.0902,  0.0510,  0.2627],\n",
      "         [ 0.3176,  0.2784,  0.2784,  ..., -0.2471, -0.1529,  0.0118],\n",
      "         [ 0.2314,  0.0667,  0.0039,  ..., -0.0902, -0.0745, -0.1137]],\n",
      "\n",
      "        [[-0.3255, -0.5843, -0.6235,  ..., -0.4745, -0.4353, -0.5216],\n",
      "         [-0.4353, -0.4745, -0.4353,  ..., -0.4588, -0.4745, -0.5294],\n",
      "         [-0.5451, -0.5451, -0.5216,  ..., -0.4745, -0.5216, -0.5922],\n",
      "         ...,\n",
      "         [-0.0275,  0.0196,  0.0196,  ..., -0.6235, -0.4667, -0.2549],\n",
      "         [-0.2314, -0.2471, -0.2392,  ..., -0.7804, -0.6784, -0.5137],\n",
      "         [-0.3176, -0.4588, -0.5216,  ..., -0.6314, -0.6000, -0.6471]],\n",
      "\n",
      "        [[-0.4824, -0.6314, -0.6392,  ..., -0.5765, -0.5373, -0.6157],\n",
      "         [-0.5686, -0.5451, -0.4745,  ..., -0.5765, -0.5922, -0.6392],\n",
      "         [-0.6706, -0.6549, -0.5843,  ..., -0.5373, -0.5843, -0.6627],\n",
      "         ...,\n",
      "         [-0.3020, -0.3020, -0.2863,  ..., -0.7490, -0.6157, -0.4431],\n",
      "         [-0.5451, -0.5765, -0.5059,  ..., -0.8824, -0.7961, -0.6549],\n",
      "         [-0.6392, -0.7725, -0.7569,  ..., -0.7176, -0.6863, -0.7255]]]), 'label': 4}, {'object_id': 34293, 'image': tensor([[[-0.6235, -0.5843, -0.5294,  ..., -0.3725, -0.3098, -0.2471],\n",
      "         [-0.6157, -0.5843, -0.5294,  ..., -0.3333, -0.2863, -0.2392],\n",
      "         [-0.6000, -0.5765, -0.5294,  ..., -0.2863, -0.2471, -0.2235],\n",
      "         ...,\n",
      "         [-0.5686, -0.5608, -0.1765,  ..., -0.0588, -0.1059, -0.2078],\n",
      "         [-0.5529, -0.4667, -0.0353,  ..., -0.0667, -0.1137, -0.2078],\n",
      "         [-0.4588,  0.0118,  0.2078,  ..., -0.0745, -0.1137, -0.1922]],\n",
      "\n",
      "        [[-0.5608, -0.5529, -0.5137,  ..., -0.4275, -0.4039, -0.3804],\n",
      "         [-0.5529, -0.5529, -0.5137,  ..., -0.4275, -0.4118, -0.3961],\n",
      "         [-0.5373, -0.5373, -0.5059,  ..., -0.4039, -0.4039, -0.3961],\n",
      "         ...,\n",
      "         [-0.5843, -0.6157, -0.2863,  ..., -0.3176, -0.3255, -0.4039],\n",
      "         [-0.5765, -0.5451, -0.1765,  ..., -0.3255, -0.3412, -0.4039],\n",
      "         [-0.4980, -0.1686, -0.0510,  ..., -0.3176, -0.3412, -0.3961]],\n",
      "\n",
      "        [[-0.7020, -0.7020, -0.6784,  ..., -0.6863, -0.6941, -0.7020],\n",
      "         [-0.6941, -0.7020, -0.6706,  ..., -0.7020, -0.7098, -0.7255],\n",
      "         [-0.6784, -0.6863, -0.6706,  ..., -0.7098, -0.7255, -0.7412],\n",
      "         ...,\n",
      "         [-0.7176, -0.7255, -0.6549,  ..., -0.7804, -0.7647, -0.7412],\n",
      "         [-0.7098, -0.6941, -0.5922,  ..., -0.7490, -0.7412, -0.7412],\n",
      "         [-0.7020, -0.5765, -0.6314,  ..., -0.7725, -0.7569, -0.7647]]]), 'label': 2}, {'object_id': 2339, 'image': tensor([[[-0.0902, -0.0667, -0.0431,  ..., -0.5059, -0.4118, -0.3412],\n",
      "         [-0.0588, -0.0510, -0.0196,  ..., -0.6863, -0.8196, -0.8510],\n",
      "         [-0.1137, -0.0745, -0.0118,  ..., -0.7882, -0.8588, -0.8510],\n",
      "         ...,\n",
      "         [ 0.9137,  0.9059,  0.9294,  ..., -0.0431,  0.3098,  0.3176],\n",
      "         [ 0.9529,  0.9294,  0.9529,  ..., -0.2235,  0.2235,  0.2549],\n",
      "         [ 0.9529,  0.9373,  0.9608,  ..., -0.3176,  0.1451,  0.2078]],\n",
      "\n",
      "        [[-0.5765, -0.5608, -0.5451,  ..., -0.7020, -0.6627, -0.6235],\n",
      "         [-0.5843, -0.5765, -0.5529,  ..., -0.7961, -0.8902, -0.8980],\n",
      "         [-0.5922, -0.5529, -0.5137,  ..., -0.8196, -0.8588, -0.8510],\n",
      "         ...,\n",
      "         [-0.6706, -0.6549, -0.6235,  ..., -0.8196, -0.8980, -0.9922],\n",
      "         [-0.6392, -0.6157, -0.5765,  ..., -0.8588, -0.9294, -0.9765],\n",
      "         [-0.7490, -0.7176, -0.6392,  ..., -0.7961, -0.9451, -0.9765]],\n",
      "\n",
      "        [[-0.9843, -0.9922, -0.9843,  ..., -0.9059, -0.9137, -0.9137],\n",
      "         [-0.9922, -0.9922, -1.0000,  ..., -0.8745, -0.9294, -0.9137],\n",
      "         [-0.9765, -0.9686, -0.9608,  ..., -0.8510, -0.8824, -0.8667],\n",
      "         ...,\n",
      "         [-0.6941, -0.6784, -0.6549,  ..., -0.8431, -0.8980, -1.0000],\n",
      "         [-0.6706, -0.6471, -0.6314,  ..., -0.8980, -0.9529, -1.0000],\n",
      "         [-0.6941, -0.6784, -0.6627,  ..., -0.8353, -0.9529, -0.9922]]]), 'label': 1}, {'object_id': 15042, 'image': tensor([[[-0.8431, -0.8039, -0.8275,  ...,  0.0745,  0.1608,  0.2549],\n",
      "         [-0.8039, -0.8431, -0.8667,  ...,  0.0824,  0.1373,  0.2000],\n",
      "         [-0.8039, -0.8353, -0.8588,  ...,  0.0196,  0.0118,  0.0431],\n",
      "         ...,\n",
      "         [-0.6235, -0.5608, -0.3490,  ...,  0.1765,  0.3098,  0.3804],\n",
      "         [-0.6157, -0.6627, -0.6157,  ..., -0.0039,  0.3412,  0.5216],\n",
      "         [-0.4980, -0.5922, -0.6941,  ..., -0.1216,  0.1686,  0.4353]],\n",
      "\n",
      "        [[-0.7255, -0.7176, -0.6706,  ...,  0.3882,  0.4745,  0.5216],\n",
      "         [-0.7255, -0.7882, -0.7490,  ...,  0.4039,  0.4510,  0.4745],\n",
      "         [-0.7333, -0.7961, -0.7490,  ...,  0.3412,  0.3255,  0.3255],\n",
      "         ...,\n",
      "         [-0.4588, -0.6000, -0.7176,  ..., -0.3333, -0.2549, -0.0431],\n",
      "         [-0.3647, -0.5451, -0.7098,  ..., -0.1529,  0.1529,  0.4196],\n",
      "         [-0.1843, -0.3333, -0.5373,  ..., -0.0510,  0.2078,  0.4980]],\n",
      "\n",
      "        [[-0.9294, -0.8980, -0.9216,  ..., -0.1608, -0.1608, -0.0353],\n",
      "         [-0.8824, -0.9216, -0.9529,  ..., -0.1765, -0.1922, -0.1059],\n",
      "         [-0.8824, -0.9059, -0.9373,  ..., -0.2549, -0.3176, -0.2706],\n",
      "         ...,\n",
      "         [-0.8510, -0.8902, -0.9686,  ..., -0.6000, -0.5451, -0.4118],\n",
      "         [-0.8745, -0.9373, -1.0000,  ..., -0.5686, -0.2706, -0.0510],\n",
      "         [-0.7961, -0.8431, -0.9294,  ..., -0.5608, -0.3098, -0.0196]]]), 'label': 1}, {'object_id': 4946, 'image': tensor([[[-0.4196, -0.3961, -0.2392,  ..., -0.2078, -0.1922, -0.1765],\n",
      "         [-0.5686, -0.5529, -0.5059,  ..., -0.1216, -0.1765, -0.2157],\n",
      "         [-0.5373, -0.5608, -0.5216,  ..., -0.0824, -0.1608, -0.2549],\n",
      "         ...,\n",
      "         [-0.5137, -0.5373, -0.4980,  ..., -0.1059, -0.1686, -0.1765],\n",
      "         [-0.6000, -0.5529, -0.3647,  ..., -0.1059, -0.1373, -0.0980],\n",
      "         [-0.5765, -0.5373, -0.4196,  ..., -0.1216, -0.2078, -0.0902]],\n",
      "\n",
      "        [[-0.6078, -0.5608, -0.4353,  ..., -0.5529, -0.5529, -0.5216],\n",
      "         [-0.7647, -0.7412, -0.7098,  ..., -0.4824, -0.5373, -0.5608],\n",
      "         [-0.7490, -0.7569, -0.7412,  ..., -0.4510, -0.5137, -0.5765],\n",
      "         ...,\n",
      "         [-0.7098, -0.7098, -0.7020,  ..., -0.4667, -0.5059, -0.5294],\n",
      "         [-0.7647, -0.7255, -0.5765,  ..., -0.4902, -0.4745, -0.4275],\n",
      "         [-0.7255, -0.7020, -0.6392,  ..., -0.5216, -0.5529, -0.4039]],\n",
      "\n",
      "        [[-0.8431, -0.8275, -0.7255,  ..., -0.9608, -0.9451, -0.9294],\n",
      "         [-0.9686, -0.9686, -0.9608,  ..., -0.9529, -0.9529, -0.9529],\n",
      "         [-0.9529, -0.9608, -0.9686,  ..., -0.9373, -0.9451, -0.9529],\n",
      "         ...,\n",
      "         [-0.9451, -0.9451, -0.9373,  ..., -0.8510, -0.8824, -0.9137],\n",
      "         [-0.9922, -0.9529, -0.8510,  ..., -0.8824, -0.8824, -0.8902],\n",
      "         [-0.9608, -0.9529, -0.9137,  ..., -0.9137, -0.9529, -0.8902]]]), 'label': 6}, {'object_id': 33524, 'image': tensor([[[-0.3961, -0.3804, -0.3569,  ..., -0.4118, -0.4510, -0.5137],\n",
      "         [-0.3647, -0.3647, -0.3490,  ..., -0.3804, -0.4118, -0.4431],\n",
      "         [-0.3961, -0.3725, -0.3569,  ..., -0.3804, -0.3882, -0.4353],\n",
      "         ...,\n",
      "         [ 0.1451,  0.1451,  0.1686,  ...,  0.0824,  0.0588,  0.0196],\n",
      "         [ 0.1373,  0.1608,  0.1922,  ...,  0.0745,  0.0431, -0.0039],\n",
      "         [ 0.0902,  0.1294,  0.1608,  ...,  0.0431, -0.0118, -0.0588]],\n",
      "\n",
      "        [[-0.5529, -0.5451, -0.5294,  ..., -0.5529, -0.5765, -0.6235],\n",
      "         [-0.5216, -0.5137, -0.4902,  ..., -0.5373, -0.5529, -0.5686],\n",
      "         [-0.5529, -0.5059, -0.4745,  ..., -0.5529, -0.5451, -0.5765],\n",
      "         ...,\n",
      "         [-0.3098, -0.3176, -0.3176,  ..., -0.3725, -0.3804, -0.4039],\n",
      "         [-0.3176, -0.3020, -0.2941,  ..., -0.3725, -0.3882, -0.4196],\n",
      "         [-0.3412, -0.3098, -0.3020,  ..., -0.3882, -0.4196, -0.4588]],\n",
      "\n",
      "        [[-0.7647, -0.7412, -0.7176,  ..., -0.7333, -0.7412, -0.7725],\n",
      "         [-0.7333, -0.7255, -0.7098,  ..., -0.7176, -0.7176, -0.7098],\n",
      "         [-0.7569, -0.7333, -0.7255,  ..., -0.7255, -0.7020, -0.7176],\n",
      "         ...,\n",
      "         [-0.7020, -0.7176, -0.7333,  ..., -0.7020, -0.7020, -0.7020],\n",
      "         [-0.6941, -0.6941, -0.7020,  ..., -0.7020, -0.7020, -0.7098],\n",
      "         [-0.7020, -0.6863, -0.6941,  ..., -0.7020, -0.7255, -0.7333]]]), 'label': 7}, {'object_id': 37635, 'image': tensor([[[-0.2314, -0.2549, -0.3882,  ...,  0.0510,  0.0745,  0.0667],\n",
      "         [-0.1373, -0.1765, -0.3804,  ...,  0.0902,  0.1137,  0.1216],\n",
      "         [-0.1686, -0.2078, -0.3725,  ...,  0.1137,  0.1216,  0.1294],\n",
      "         ...,\n",
      "         [ 0.0824,  0.1294,  0.0980,  ...,  0.0353,  0.0980,  0.0588],\n",
      "         [ 0.1059,  0.1059,  0.0353,  ...,  0.0431,  0.0588,  0.0118],\n",
      "         [ 0.0824,  0.0745,  0.0431,  ...,  0.0353,  0.0118,  0.0353]],\n",
      "\n",
      "        [[-0.3098, -0.4275, -0.5843,  ..., -0.1059, -0.0824, -0.0824],\n",
      "         [-0.2157, -0.3490, -0.5765,  ..., -0.0667, -0.0510, -0.0431],\n",
      "         [-0.2627, -0.3882, -0.5922,  ..., -0.0353, -0.0275, -0.0353],\n",
      "         ...,\n",
      "         [-0.2784, -0.2471, -0.2863,  ..., -0.3255, -0.2863, -0.3098],\n",
      "         [-0.2784, -0.2627, -0.3098,  ..., -0.3333, -0.3176, -0.3490],\n",
      "         [-0.3020, -0.3098, -0.3176,  ..., -0.3255, -0.3412, -0.2863]],\n",
      "\n",
      "        [[-0.3255, -0.4431, -0.5843,  ..., -0.2706, -0.2627, -0.2627],\n",
      "         [-0.2392, -0.3804, -0.5765,  ..., -0.2471, -0.2314, -0.2314],\n",
      "         [-0.2706, -0.3961, -0.5765,  ..., -0.2235, -0.2235, -0.2235],\n",
      "         ...,\n",
      "         [-0.4902, -0.4745, -0.5059,  ..., -0.5608, -0.5373, -0.5608],\n",
      "         [-0.4902, -0.5059, -0.5216,  ..., -0.5765, -0.5686, -0.5843],\n",
      "         [-0.5137, -0.5373, -0.5216,  ..., -0.5608, -0.5686, -0.5137]]]), 'label': 7}, {'object_id': 2712, 'image': tensor([[[-0.5373, -0.5373, -0.5294,  ..., -0.5608, -0.5608, -0.5686],\n",
      "         [-0.5451, -0.5529, -0.5451,  ..., -0.5608, -0.5765, -0.5843],\n",
      "         [-0.5373, -0.5373, -0.5216,  ..., -0.5608, -0.5686, -0.5843],\n",
      "         ...,\n",
      "         [ 0.2941,  0.2941,  0.3255,  ..., -0.2471, -0.2314, -0.2235],\n",
      "         [ 0.3333,  0.2941,  0.3255,  ..., -0.1451, -0.1373, -0.1059],\n",
      "         [ 0.3412,  0.3255,  0.3255,  ..., -0.0039,  0.0196,  0.0745]],\n",
      "\n",
      "        [[-0.5922, -0.6000, -0.5843,  ..., -0.6000, -0.6000, -0.6078],\n",
      "         [-0.6000, -0.6078, -0.6000,  ..., -0.6000, -0.6157, -0.6235],\n",
      "         [-0.5922, -0.5922, -0.5765,  ..., -0.6000, -0.6078, -0.6235],\n",
      "         ...,\n",
      "         [ 0.0980,  0.0980,  0.1373,  ..., -0.2941, -0.2706, -0.2627],\n",
      "         [ 0.0902,  0.0510,  0.0824,  ..., -0.2706, -0.2549, -0.2235],\n",
      "         [ 0.0824,  0.0667,  0.0667,  ..., -0.1922, -0.1686, -0.1137]],\n",
      "\n",
      "        [[-0.6392, -0.6392, -0.6314,  ..., -0.6549, -0.6471, -0.6549],\n",
      "         [-0.6627, -0.6627, -0.6549,  ..., -0.6471, -0.6627, -0.6706],\n",
      "         [-0.6627, -0.6627, -0.6471,  ..., -0.6471, -0.6549, -0.6706],\n",
      "         ...,\n",
      "         [-0.4510, -0.4588, -0.4353,  ..., -0.7098, -0.7176, -0.7412],\n",
      "         [-0.4667, -0.4902, -0.4667,  ..., -0.6863, -0.6863, -0.6784],\n",
      "         [-0.4824, -0.4824, -0.4745,  ..., -0.6471, -0.6314, -0.5843]]]), 'label': 4}, {'object_id': 49391, 'image': tensor([[[-0.3961, -0.3569, -0.3255,  ..., -0.4667, -0.5765, -0.6392],\n",
      "         [-0.4588, -0.4353, -0.4353,  ..., -0.5137, -0.6000, -0.6392],\n",
      "         [-0.6235, -0.6314, -0.6471,  ..., -0.4902, -0.6078, -0.6392],\n",
      "         ...,\n",
      "         [-0.1765, -0.1686, -0.2000,  ..., -0.2000, -0.2000, -0.2000],\n",
      "         [-0.1451, -0.1294, -0.1451,  ..., -0.2549, -0.2157, -0.2157],\n",
      "         [-0.1451, -0.1216, -0.1294,  ..., -0.1686, -0.1216, -0.0745]],\n",
      "\n",
      "        [[-0.4824, -0.4588, -0.4353,  ..., -0.5294, -0.6784, -0.7490],\n",
      "         [-0.5294, -0.5137, -0.5137,  ..., -0.5765, -0.6941, -0.7490],\n",
      "         [-0.6784, -0.6941, -0.7020,  ..., -0.6000, -0.7098, -0.7569],\n",
      "         ...,\n",
      "         [-0.4667, -0.4667, -0.4902,  ..., -0.4902, -0.4824, -0.4824],\n",
      "         [-0.4275, -0.4275, -0.4431,  ..., -0.5294, -0.4980, -0.4902],\n",
      "         [-0.4353, -0.4431, -0.4510,  ..., -0.4353, -0.3725, -0.3176]],\n",
      "\n",
      "        [[-0.5765, -0.5765, -0.5608,  ..., -0.5922, -0.7020, -0.7569],\n",
      "         [-0.6078, -0.6157, -0.6078,  ..., -0.5843, -0.7098, -0.7647],\n",
      "         [-0.7020, -0.7333, -0.7412,  ..., -0.6627, -0.7333, -0.7804],\n",
      "         ...,\n",
      "         [-0.6784, -0.6941, -0.7020,  ..., -0.7098, -0.7098, -0.7020],\n",
      "         [-0.6706, -0.6941, -0.6941,  ..., -0.7412, -0.7176, -0.7098],\n",
      "         [-0.6863, -0.7020, -0.6941,  ..., -0.6471, -0.6157, -0.5765]]]), 'label': 7}, {'object_id': 46942, 'image': tensor([[[-0.6706, -0.5059, -0.4196,  ..., -0.5216, -0.5686, -0.5373],\n",
      "         [-0.6157, -0.5843, -0.5294,  ..., -0.3961, -0.5608, -0.4431],\n",
      "         [-0.5608, -0.6235, -0.7020,  ..., -0.2157, -0.3255, -0.5608],\n",
      "         ...,\n",
      "         [-0.2157, -0.0431, -0.0353,  ...,  0.0431,  0.0980, -0.2314],\n",
      "         [-0.1922, -0.1294, -0.0039,  ..., -0.2392, -0.2314, -0.3882],\n",
      "         [-0.2627, -0.2471, -0.0824,  ..., -0.1843, -0.2471, -0.3176]],\n",
      "\n",
      "        [[-0.6863, -0.5922, -0.5373,  ..., -0.5216, -0.5686, -0.5451],\n",
      "         [-0.6314, -0.6314, -0.6000,  ..., -0.4039, -0.5608, -0.4431],\n",
      "         [-0.5529, -0.6392, -0.7255,  ..., -0.1373, -0.3020, -0.5843],\n",
      "         ...,\n",
      "         [-0.1843, -0.0118,  0.0118,  ..., -0.0431,  0.0980, -0.1686],\n",
      "         [-0.1608, -0.0431,  0.0588,  ..., -0.2627, -0.2157, -0.3412],\n",
      "         [-0.2000, -0.1529, -0.0039,  ..., -0.1686, -0.2314, -0.2941]],\n",
      "\n",
      "        [[-0.8118, -0.7961, -0.7647,  ..., -0.5294, -0.5765, -0.5608],\n",
      "         [-0.7412, -0.7725, -0.7569,  ..., -0.3804, -0.5373, -0.4196],\n",
      "         [-0.7098, -0.7412, -0.7647,  ..., -0.0745, -0.2157, -0.5451],\n",
      "         ...,\n",
      "         [-0.7490, -0.7020, -0.7255,  ..., -0.6784, -0.6235, -0.7255],\n",
      "         [-0.7490, -0.7490, -0.7176,  ..., -0.7412, -0.6627, -0.7176],\n",
      "         [-0.7412, -0.7804, -0.7255,  ..., -0.7333, -0.7255, -0.7098]]]), 'label': 7}, {'object_id': 34299, 'image': tensor([[[-0.1686, -0.1922, -0.1294,  ..., -0.4510, -0.3882, -0.3569],\n",
      "         [-0.1686, -0.1922, -0.1137,  ..., -0.3176, -0.3255, -0.3412],\n",
      "         [-0.1216, -0.0980, -0.0667,  ..., -0.1765, -0.2471, -0.3176],\n",
      "         ...,\n",
      "         [-0.4275, -0.3176, -0.1686,  ...,  0.0745,  0.0588,  0.0353],\n",
      "         [-0.3333, -0.3725, -0.3255,  ...,  0.0431,  0.0039, -0.0196],\n",
      "         [-0.3020, -0.3804, -0.4275,  ..., -0.0745, -0.1216, -0.1451]],\n",
      "\n",
      "        [[-0.4980, -0.5137, -0.4431,  ..., -0.8275, -0.7569, -0.5843],\n",
      "         [-0.5216, -0.5294, -0.4431,  ..., -0.7020, -0.7020, -0.5451],\n",
      "         [-0.4667, -0.4353, -0.4118,  ..., -0.5608, -0.6078, -0.5216],\n",
      "         ...,\n",
      "         [-0.5451, -0.4353, -0.3020,  ..., -0.2627, -0.2863, -0.3333],\n",
      "         [-0.4588, -0.4824, -0.4275,  ..., -0.3176, -0.3490, -0.3804],\n",
      "         [-0.4353, -0.5059, -0.5373,  ..., -0.4353, -0.4667, -0.4824]],\n",
      "\n",
      "        [[-0.8510, -0.8667, -0.8353,  ..., -0.9686, -0.9686, -0.8196],\n",
      "         [-0.8824, -0.8980, -0.8431,  ..., -0.9294, -0.9529, -0.7961],\n",
      "         [-0.8275, -0.8118, -0.8118,  ..., -0.8980, -0.9294, -0.7804],\n",
      "         ...,\n",
      "         [-0.7255, -0.6314, -0.5373,  ..., -0.7569, -0.7725, -0.7882],\n",
      "         [-0.6784, -0.6863, -0.6471,  ..., -0.7882, -0.8039, -0.8118],\n",
      "         [-0.6235, -0.7020, -0.7255,  ..., -0.8431, -0.8667, -0.8824]]]), 'label': 5}]\n"
     ]
    }
   ],
   "source": [
    "a = [dataset[int(i)] for i in nearest_neighbors[1:]]\n",
    "print(a)"
   ]
  },
  {
   "cell_type": "code",
   "execution_count": null,
   "id": "865cb668",
   "metadata": {},
   "outputs": [],
   "source": []
  },
  {
   "cell_type": "code",
   "execution_count": null,
   "id": "d4a84d4b",
   "metadata": {},
   "outputs": [],
   "source": []
  }
 ],
 "metadata": {
  "kernelspec": {
   "display_name": "hyrax",
   "language": "python",
   "name": "python3"
  },
  "language_info": {
   "codemirror_mode": {
    "name": "ipython",
    "version": 3
   },
   "file_extension": ".py",
   "mimetype": "text/x-python",
   "name": "python",
   "nbconvert_exporter": "python",
   "pygments_lexer": "ipython3",
   "version": "3.12.10"
  },
  "nbsphinx": {
   "orphan": true
  }
 },
 "nbformat": 4,
 "nbformat_minor": 5
}
