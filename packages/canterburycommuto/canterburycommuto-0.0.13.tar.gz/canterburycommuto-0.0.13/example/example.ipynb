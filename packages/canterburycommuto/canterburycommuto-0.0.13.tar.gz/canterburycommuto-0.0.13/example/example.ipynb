{
 "cells": [
  {
   "cell_type": "markdown",
   "id": "57f9339e-6cc5-4e1e-9e8b-fba490c497f0",
   "metadata": {},
   "source": [
    "The exclamation mark ! is added before git in Jupyter Notebook to avoid syntax error."
   ]
  },
  {
   "cell_type": "code",
   "execution_count": 2,
   "id": "d4d170b6-c212-47aa-9a65-6fe595305ccc",
   "metadata": {},
   "outputs": [
    {
     "name": "stderr",
     "output_type": "stream",
     "text": [
      "Cloning into 'CanterburyCommuto'...\n"
     ]
    }
   ],
   "source": [
    "!git clone https://github.com/PeirongShi/CanterburyCommuto.git"
   ]
  },
  {
   "cell_type": "markdown",
   "id": "02a9a994-d93f-4707-9fea-8f14001bfcc3",
   "metadata": {},
   "source": [
    "For the same reason as it is for git, % and ! should be added in front of cd and pip."
   ]
  },
  {
   "cell_type": "code",
   "execution_count": 4,
   "id": "c0786058-db2e-4592-8c9c-3b8f0ce66253",
   "metadata": {},
   "outputs": [
    {
     "name": "stdout",
     "output_type": "stream",
     "text": [
      "C:\\Users\\HUAWEI\\CanterburyCommuto\n",
      "Requirement already satisfied: requests==2.32.2 in d:\\anaconda\\lib\\site-packages (from -r requirements.txt (line 1)) (2.32.2)\n",
      "Requirement already satisfied: polyline==2.0.2 in d:\\anaconda\\lib\\site-packages (from -r requirements.txt (line 2)) (2.0.2)\n",
      "Requirement already satisfied: matplotlib==3.8.4 in d:\\anaconda\\lib\\site-packages (from -r requirements.txt (line 3)) (3.8.4)\n",
      "Requirement already satisfied: shapely==2.0.5 in d:\\anaconda\\lib\\site-packages (from -r requirements.txt (line 4)) (2.0.5)\n",
      "Requirement already satisfied: pyproj==3.6.1 in d:\\anaconda\\lib\\site-packages (from -r requirements.txt (line 5)) (3.6.1)\n",
      "Requirement already satisfied: folium==0.14.0 in d:\\anaconda\\lib\\site-packages (from -r requirements.txt (line 6)) (0.14.0)\n",
      "Requirement already satisfied: IPython==8.25.0 in d:\\anaconda\\lib\\site-packages (from -r requirements.txt (line 7)) (8.25.0)\n",
      "Requirement already satisfied: charset-normalizer<4,>=2 in d:\\anaconda\\lib\\site-packages (from requests==2.32.2->-r requirements.txt (line 1)) (2.0.4)\n",
      "Requirement already satisfied: idna<4,>=2.5 in d:\\anaconda\\lib\\site-packages (from requests==2.32.2->-r requirements.txt (line 1)) (3.7)\n",
      "Requirement already satisfied: urllib3<3,>=1.21.1 in d:\\anaconda\\lib\\site-packages (from requests==2.32.2->-r requirements.txt (line 1)) (2.2.2)\n",
      "Requirement already satisfied: certifi>=2017.4.17 in d:\\anaconda\\lib\\site-packages (from requests==2.32.2->-r requirements.txt (line 1)) (2024.8.30)\n",
      "Requirement already satisfied: contourpy>=1.0.1 in d:\\anaconda\\lib\\site-packages (from matplotlib==3.8.4->-r requirements.txt (line 3)) (1.2.0)\n",
      "Requirement already satisfied: cycler>=0.10 in d:\\anaconda\\lib\\site-packages (from matplotlib==3.8.4->-r requirements.txt (line 3)) (0.11.0)\n",
      "Requirement already satisfied: fonttools>=4.22.0 in d:\\anaconda\\lib\\site-packages (from matplotlib==3.8.4->-r requirements.txt (line 3)) (4.51.0)\n",
      "Requirement already satisfied: kiwisolver>=1.3.1 in d:\\anaconda\\lib\\site-packages (from matplotlib==3.8.4->-r requirements.txt (line 3)) (1.4.4)\n",
      "Requirement already satisfied: numpy>=1.21 in d:\\anaconda\\lib\\site-packages (from matplotlib==3.8.4->-r requirements.txt (line 3)) (1.26.4)\n",
      "Requirement already satisfied: packaging>=20.0 in d:\\anaconda\\lib\\site-packages (from matplotlib==3.8.4->-r requirements.txt (line 3)) (23.2)\n",
      "Requirement already satisfied: pillow>=8 in d:\\anaconda\\lib\\site-packages (from matplotlib==3.8.4->-r requirements.txt (line 3)) (10.3.0)\n",
      "Requirement already satisfied: pyparsing>=2.3.1 in d:\\anaconda\\lib\\site-packages (from matplotlib==3.8.4->-r requirements.txt (line 3)) (3.0.9)\n",
      "Requirement already satisfied: python-dateutil>=2.7 in d:\\anaconda\\lib\\site-packages (from matplotlib==3.8.4->-r requirements.txt (line 3)) (2.9.0.post0)\n",
      "Requirement already satisfied: branca>=0.6.0 in d:\\anaconda\\lib\\site-packages (from folium==0.14.0->-r requirements.txt (line 6)) (0.6.0)\n",
      "Requirement already satisfied: jinja2>=2.9 in d:\\anaconda\\lib\\site-packages (from folium==0.14.0->-r requirements.txt (line 6)) (3.1.4)\n",
      "Requirement already satisfied: decorator in d:\\anaconda\\lib\\site-packages (from IPython==8.25.0->-r requirements.txt (line 7)) (5.1.1)\n",
      "Requirement already satisfied: jedi>=0.16 in d:\\anaconda\\lib\\site-packages (from IPython==8.25.0->-r requirements.txt (line 7)) (0.18.1)\n",
      "Requirement already satisfied: matplotlib-inline in d:\\anaconda\\lib\\site-packages (from IPython==8.25.0->-r requirements.txt (line 7)) (0.1.6)\n",
      "Requirement already satisfied: prompt-toolkit<3.1.0,>=3.0.41 in d:\\anaconda\\lib\\site-packages (from IPython==8.25.0->-r requirements.txt (line 7)) (3.0.43)\n",
      "Requirement already satisfied: pygments>=2.4.0 in d:\\anaconda\\lib\\site-packages (from IPython==8.25.0->-r requirements.txt (line 7)) (2.15.1)\n",
      "Requirement already satisfied: stack-data in d:\\anaconda\\lib\\site-packages (from IPython==8.25.0->-r requirements.txt (line 7)) (0.2.0)\n",
      "Requirement already satisfied: traitlets>=5.13.0 in d:\\anaconda\\lib\\site-packages (from IPython==8.25.0->-r requirements.txt (line 7)) (5.14.3)\n",
      "Requirement already satisfied: colorama in d:\\anaconda\\lib\\site-packages (from IPython==8.25.0->-r requirements.txt (line 7)) (0.4.6)\n",
      "Requirement already satisfied: parso<0.9.0,>=0.8.0 in d:\\anaconda\\lib\\site-packages (from jedi>=0.16->IPython==8.25.0->-r requirements.txt (line 7)) (0.8.3)\n",
      "Requirement already satisfied: MarkupSafe>=2.0 in d:\\anaconda\\lib\\site-packages (from jinja2>=2.9->folium==0.14.0->-r requirements.txt (line 6)) (2.1.3)\n",
      "Requirement already satisfied: wcwidth in d:\\anaconda\\lib\\site-packages (from prompt-toolkit<3.1.0,>=3.0.41->IPython==8.25.0->-r requirements.txt (line 7)) (0.2.5)\n",
      "Requirement already satisfied: six>=1.5 in d:\\anaconda\\lib\\site-packages (from python-dateutil>=2.7->matplotlib==3.8.4->-r requirements.txt (line 3)) (1.16.0)\n",
      "Requirement already satisfied: executing in d:\\anaconda\\lib\\site-packages (from stack-data->IPython==8.25.0->-r requirements.txt (line 7)) (0.8.3)\n",
      "Requirement already satisfied: asttokens in d:\\anaconda\\lib\\site-packages (from stack-data->IPython==8.25.0->-r requirements.txt (line 7)) (2.0.5)\n",
      "Requirement already satisfied: pure-eval in d:\\anaconda\\lib\\site-packages (from stack-data->IPython==8.25.0->-r requirements.txt (line 7)) (0.2.2)\n"
     ]
    }
   ],
   "source": [
    "%cd CanterburyCommuto\n",
    "!pip install -r requirements.txt"
   ]
  },
  {
   "cell_type": "markdown",
   "id": "c14ba06f-cca8-4237-b5b6-9b75616df80b",
   "metadata": {},
   "source": [
    "Add ! before python."
   ]
  },
  {
   "cell_type": "code",
   "execution_count": 6,
   "id": "4f6e4151-c340-45a8-bf3e-bcd995175bbe",
   "metadata": {},
   "outputs": [
    {
     "name": "stdout",
     "output_type": "stream",
     "text": [
      "CSV file saved as origin_destination_coordinates.csv\n"
     ]
    }
   ],
   "source": [
    "!python CanterburyCommuto/canterburycommuto/Sample.py"
   ]
  },
  {
   "cell_type": "markdown",
   "id": "534a8662-5527-452e-aea0-1d796da9b353",
   "metadata": {},
   "source": [
    "## Please replace \"API_KEY\" with your Google API Key in the following codes. "
   ]
  },
  {
   "cell_type": "markdown",
   "id": "1e26bef2-3f7c-430a-8e81-13f38f3b15bb",
   "metadata": {},
   "source": [
    "With approximation and commuting information before and after the overlap. The approximation threshold is 60% for the overlaps of rectangles contructed along the segments before and after the overlap. The rectangles' have the same width: 120 meters."
   ]
  },
  {
   "cell_type": "code",
   "execution_count": 9,
   "id": "6fb66cff-d103-4f27-8180-528141a2c7be",
   "metadata": {},
   "outputs": [
    {
     "name": "stdout",
     "output_type": "stream",
     "text": [
      "Routes A and B have identical origins and destinations: 5.373588,-3.998759 -> 5.327810,-4.005012\n",
      "Map saved to: C:\\Users\\HUAWEI\\CanterburyCommuto\\results\\routes_map-2025-04-10_15-46-37_16657.html\n",
      "<IPython.lib.display.IFrame object at 0x000001C89830E360>\n",
      "Map saved to: C:\\Users\\HUAWEI\\CanterburyCommuto\\results\\routes_map-2025-04-10_15-46-39_80213.html\n",
      "<IPython.lib.display.IFrame object at 0x000001C89835D460>\n",
      "Map saved to: C:\\Users\\HUAWEI\\CanterburyCommuto\\results\\routes_map-2025-04-10_15-46-41_86213.html\n",
      "<IPython.lib.display.IFrame object at 0x000001C89835F530>\n",
      "Map saved to: C:\\Users\\HUAWEI\\CanterburyCommuto\\results\\routes_map-2025-04-10_15-46-43_75793.html\n",
      "<IPython.lib.display.IFrame object at 0x000001C89840AB70>\n",
      "No common nodes found for these routes.\n",
      "Map saved to: C:\\Users\\HUAWEI\\CanterburyCommuto\\results\\routes_map-2025-04-10_15-46-43_99035.html\n",
      "<IPython.lib.display.IFrame object at 0x000001C898448800>\n",
      "Map saved to: C:\\Users\\HUAWEI\\CanterburyCommuto\\results\\routes_map-2025-04-10_15-46-45_34295.html\n",
      "<IPython.lib.display.IFrame object at 0x000001C8984492B0>\n",
      "Map saved to: C:\\Users\\HUAWEI\\CanterburyCommuto\\results\\routes_map-2025-04-10_15-46-47_86555.html\n",
      "<IPython.lib.display.IFrame object at 0x000001C8982D2330>\n",
      "Log file saved to: C:\\Users\\HUAWEI\\CanterburyCommuto\\results\\rec_output.log\n"
     ]
    }
   ],
   "source": [
    "!python -m canterburycommuto origin_destination_coordinates.csv \"API_KEY\" \\\n",
    "    --threshold 60 \\\n",
    "    --width 120 \\\n",
    "    --buffer 150 \\\n",
    "    --approximation \"yes\" \\\n",
    "    --commuting_info \"yes\" \\\n",
    "    --colorna \"home_A\" \\\n",
    "    --coldesta \"work_A\" \\\n",
    "    --colorib \"home_B\" \\\n",
    "    --colfestb \"work_B\" \\\n",
    "    --output_overlap \"rec_output.csv\" \\\n",
    "    --output_buffer \"buffer_output.csv\""
   ]
  },
  {
   "cell_type": "markdown",
   "id": "54f7aa01-07ca-49e0-9296-e23eeb506390",
   "metadata": {},
   "source": [
    "With approximation but without commuting information before and after the overlap. "
   ]
  },
  {
   "cell_type": "code",
   "execution_count": 11,
   "id": "f0bbaa5c-9e3c-496b-a20b-a581c86455b6",
   "metadata": {},
   "outputs": [
    {
     "name": "stdout",
     "output_type": "stream",
     "text": [
      "Routes A and B have identical origins and destinations: 5.373588,-3.998759 -> 5.327810,-4.005012\n",
      "Map saved to: C:\\Users\\HUAWEI\\CanterburyCommuto\\results\\routes_map-2025-04-10_15-46-50_62021.html\n",
      "<IPython.lib.display.IFrame object at 0x000001CA9F90E3F0>\n",
      "Map saved to: C:\\Users\\HUAWEI\\CanterburyCommuto\\results\\routes_map-2025-04-10_15-46-51_31312.html\n",
      "<IPython.lib.display.IFrame object at 0x000001CA9F96D220>\n",
      "Map saved to: C:\\Users\\HUAWEI\\CanterburyCommuto\\results\\routes_map-2025-04-10_15-46-52_40484.html\n",
      "<IPython.lib.display.IFrame object at 0x000001CA9F96F170>\n",
      "Map saved to: C:\\Users\\HUAWEI\\CanterburyCommuto\\results\\routes_map-2025-04-10_15-46-53_76251.html\n",
      "<IPython.lib.display.IFrame object at 0x000001CA9F99A4E0>\n",
      "No common nodes found for these routes.\n",
      "Map saved to: C:\\Users\\HUAWEI\\CanterburyCommuto\\results\\routes_map-2025-04-10_15-46-53_58523.html\n",
      "<IPython.lib.display.IFrame object at 0x000001CA9F9DC0E0>\n",
      "Map saved to: C:\\Users\\HUAWEI\\CanterburyCommuto\\results\\routes_map-2025-04-10_15-46-54_42588.html\n",
      "<IPython.lib.display.IFrame object at 0x000001CA9F9DD7F0>\n",
      "Map saved to: C:\\Users\\HUAWEI\\CanterburyCommuto\\results\\routes_map-2025-04-10_15-46-55_94687.html\n",
      "<IPython.lib.display.IFrame object at 0x000001CA9FA10380>\n",
      "Log file saved to: C:\\Users\\HUAWEI\\CanterburyCommuto\\results\\rec_only_output.log\n"
     ]
    }
   ],
   "source": [
    "!python -m canterburycommuto origin_destination_coordinates.csv \"API_KEY\" \\\n",
    "    --threshold 60 \\\n",
    "    --width 120 \\\n",
    "    --buffer 150 \\\n",
    "    --approximation \"yes\" \\\n",
    "    --commuting_info \"no\" \\\n",
    "    --colorna \"home_A\" \\\n",
    "    --coldesta \"work_A\" \\\n",
    "    --colorib \"home_B\" \\\n",
    "    --colfestb \"work_B\" \\\n",
    "    --output_overlap \"rec_only_output.csv\" \\\n",
    "    --output_buffer \"buffer_output.csv\""
   ]
  },
  {
   "cell_type": "markdown",
   "id": "430cb5c6-bc4b-4583-b683-19b56c00e986",
   "metadata": {},
   "source": [
    "Without approximation but with commuting information before and after the overlap"
   ]
  },
  {
   "cell_type": "code",
   "execution_count": 13,
   "id": "cf57fdf7-e1c8-4bf2-a997-4f169982deff",
   "metadata": {},
   "outputs": [
    {
     "name": "stdout",
     "output_type": "stream",
     "text": [
      "Routes A and B have identical origins and destinations: 5.373588,-3.998759 -> 5.327810,-4.005012\n",
      "Map saved to: C:\\Users\\HUAWEI\\CanterburyCommuto\\results\\routes_map-2025-04-10_15-46-58_34472.html\n",
      "<IPython.lib.display.IFrame object at 0x000002E75E6EE510>\n",
      "Map saved to: C:\\Users\\HUAWEI\\CanterburyCommuto\\results\\routes_map-2025-04-10_15-46-59_19449.html\n",
      "<IPython.lib.display.IFrame object at 0x000002E75E7448C0>\n",
      "Map saved to: C:\\Users\\HUAWEI\\CanterburyCommuto\\results\\routes_map-2025-04-10_15-47-00_13891.html\n",
      "<IPython.lib.display.IFrame object at 0x000002E75E746B70>\n",
      "Map saved to: C:\\Users\\HUAWEI\\CanterburyCommuto\\results\\routes_map-2025-04-10_15-47-02_72411.html\n",
      "<IPython.lib.display.IFrame object at 0x000002E75E7ED1C0>\n",
      "No common nodes found for these routes.\n",
      "Map saved to: C:\\Users\\HUAWEI\\CanterburyCommuto\\results\\routes_map-2025-04-10_15-47-02_72756.html\n",
      "<IPython.lib.display.IFrame object at 0x000002E75E7EEEA0>\n",
      "Map saved to: C:\\Users\\HUAWEI\\CanterburyCommuto\\results\\routes_map-2025-04-10_15-47-03_69543.html\n",
      "<IPython.lib.display.IFrame object at 0x000002E75E829250>\n",
      "Map saved to: C:\\Users\\HUAWEI\\CanterburyCommuto\\results\\routes_map-2025-04-10_15-47-04_51195.html\n",
      "<IPython.lib.display.IFrame object at 0x000002E75E82B590>\n",
      "Log file saved to: C:\\Users\\HUAWEI\\CanterburyCommuto\\results\\route_output.log\n"
     ]
    }
   ],
   "source": [
    "!python -m canterburycommuto origin_destination_coordinates.csv \"API_KEY\" \\\n",
    "    --threshold 60 \\\n",
    "    --width 120 \\\n",
    "    --buffer 150 \\\n",
    "    --approximation \"no\" \\\n",
    "    --commuting_info \"yes\" \\\n",
    "    --colorna \"home_A\" \\\n",
    "    --coldesta \"work_A\" \\\n",
    "    --colorib \"home_B\" \\\n",
    "    --colfestb \"work_B\" \\\n",
    "    --output_overlap \"route_output.csv\" \\\n",
    "    --output_buffer \"buffer_output.csv\""
   ]
  },
  {
   "cell_type": "markdown",
   "id": "cff1bdc9-95c6-45b9-9fdf-7f3656bc8958",
   "metadata": {},
   "source": [
    "Without approximation or commuting information before and after the overlap"
   ]
  },
  {
   "cell_type": "code",
   "execution_count": 15,
   "id": "05f43809-23af-4add-bb91-95b569882131",
   "metadata": {},
   "outputs": [
    {
     "name": "stdout",
     "output_type": "stream",
     "text": [
      "Routes A and B have identical origins and destinations: 5.373588,-3.998759 -> 5.327810,-4.005012\n",
      "Map saved to: C:\\Users\\HUAWEI\\CanterburyCommuto\\results\\routes_map-2025-04-10_15-47-07_62085.html\n",
      "<IPython.lib.display.IFrame object at 0x000001653172A2A0>\n",
      "Map saved to: C:\\Users\\HUAWEI\\CanterburyCommuto\\results\\routes_map-2025-04-10_15-47-08_58167.html\n",
      "<IPython.lib.display.IFrame object at 0x00000165317703E0>\n",
      "Map saved to: C:\\Users\\HUAWEI\\CanterburyCommuto\\results\\routes_map-2025-04-10_15-47-08_48247.html\n",
      "<IPython.lib.display.IFrame object at 0x0000016531772600>\n",
      "Map saved to: C:\\Users\\HUAWEI\\CanterburyCommuto\\results\\routes_map-2025-04-10_15-47-09_32483.html\n",
      "<IPython.lib.display.IFrame object at 0x000001653187C770>\n",
      "No common nodes found for these routes.\n",
      "Map saved to: C:\\Users\\HUAWEI\\CanterburyCommuto\\results\\routes_map-2025-04-10_15-47-10_15985.html\n",
      "<IPython.lib.display.IFrame object at 0x000001653187E4E0>\n",
      "Map saved to: C:\\Users\\HUAWEI\\CanterburyCommuto\\results\\routes_map-2025-04-10_15-47-11_18157.html\n",
      "<IPython.lib.display.IFrame object at 0x00000165318C4710>\n",
      "Map saved to: C:\\Users\\HUAWEI\\CanterburyCommuto\\results\\routes_map-2025-04-10_15-47-11_96282.html\n",
      "<IPython.lib.display.IFrame object at 0x00000165318C68A0>\n",
      "Log file saved to: C:\\Users\\HUAWEI\\CanterburyCommuto\\results\\route_only_output.log\n"
     ]
    }
   ],
   "source": [
    "!python -m canterburycommuto origin_destination_coordinates.csv \"API_KEY\" \\\n",
    "    --threshold 60 \\\n",
    "    --width 120 \\\n",
    "    --buffer 150 \\\n",
    "    --approximation \"no\" \\\n",
    "    --commuting_info \"no\" \\\n",
    "    --colorna \"home_A\" \\\n",
    "    --coldesta \"work_A\" \\\n",
    "    --colorib \"home_B\" \\\n",
    "    --colfestb \"work_B\" \\\n",
    "    --output_overlap \"route_only_output.csv\" \\\n",
    "    --output_buffer \"buffer_output.csv\""
   ]
  },
  {
   "cell_type": "markdown",
   "id": "58a5227b-5b17-4116-a0e9-b1ef920e4af5",
   "metadata": {},
   "source": [
    "Buffer Method, as described in README.md; buffer length is 150 meters."
   ]
  },
  {
   "cell_type": "code",
   "execution_count": 17,
   "id": "a266f6f3-8159-4bcd-98fa-51cb7e292ec9",
   "metadata": {},
   "outputs": [
    {
     "name": "stdout",
     "output_type": "stream",
     "text": [
      "Map saved to: C:\\Users\\HUAWEI\\CanterburyCommuto\\results\\routes_with_buffers_map-2025-04-10_15-47-14_24864.html\n",
      "<IPython.lib.display.IFrame object at 0x0000016913FEE930>\n",
      "Map has been displayed inline and saved as 'results\\routes_with_buffers_map-2025-04-10_15-47-14_24864.html'.\n",
      "Map saved to: C:\\Users\\HUAWEI\\CanterburyCommuto\\results\\routes_with_buffers_map-2025-04-10_15-47-15_59939.html\n",
      "<IPython.lib.display.IFrame object at 0x00000169140E04D0>\n",
      "Map has been displayed inline and saved as 'results\\routes_with_buffers_map-2025-04-10_15-47-15_59939.html'.\n",
      "Map saved to: C:\\Users\\HUAWEI\\CanterburyCommuto\\results\\routes_with_buffers_map-2025-04-10_15-47-16_35186.html\n",
      "<IPython.lib.display.IFrame object at 0x00000169140E2D80>\n",
      "Map has been displayed inline and saved as 'results\\routes_with_buffers_map-2025-04-10_15-47-16_35186.html'.\n",
      "Map saved to: C:\\Users\\HUAWEI\\CanterburyCommuto\\results\\routes_with_buffers_map-2025-04-10_15-47-17_63859.html\n",
      "<IPython.lib.display.IFrame object at 0x000001691413CFB0>\n",
      "Map has been displayed inline and saved as 'results\\routes_with_buffers_map-2025-04-10_15-47-17_63859.html'.\n",
      "Map saved to: C:\\Users\\HUAWEI\\CanterburyCommuto\\results\\routes_with_buffers_map-2025-04-10_15-47-17_93144.html\n",
      "<IPython.lib.display.IFrame object at 0x00000169140E0C20>\n",
      "Map has been displayed inline and saved as 'results\\routes_with_buffers_map-2025-04-10_15-47-17_93144.html'.\n",
      "Map saved to: C:\\Users\\HUAWEI\\CanterburyCommuto\\results\\routes_with_buffers_map-2025-04-10_15-47-18_68388.html\n",
      "<IPython.lib.display.IFrame object at 0x00000169140E2DB0>\n",
      "Map has been displayed inline and saved as 'results\\routes_with_buffers_map-2025-04-10_15-47-18_68388.html'.\n",
      "Map saved to: C:\\Users\\HUAWEI\\CanterburyCommuto\\results\\routes_with_buffers_map-2025-04-10_15-47-19_55912.html\n",
      "<IPython.lib.display.IFrame object at 0x00000169140E22D0>\n",
      "Map has been displayed inline and saved as 'results\\routes_with_buffers_map-2025-04-10_15-47-19_55912.html'.\n",
      "Log file saved to: C:\\Users\\HUAWEI\\CanterburyCommuto\\results\\buffer_output.log\n"
     ]
    }
   ],
   "source": [
    "!python -m canterburycommuto origin_destination_coordinates.csv \"API_KEY\" \\\n",
    "    --threshold 60 \\\n",
    "    --width 120 \\\n",
    "    --buffer 150 \\\n",
    "    --approximation \"yes with buffer\" \\\n",
    "    --commuting_info \"yes\" \\\n",
    "    --colorna \"home_A\" \\\n",
    "    --coldesta \"work_A\" \\\n",
    "    --colorib \"home_B\" \\\n",
    "    --colfestb \"work_B\" \\\n",
    "    --output_overlap \"buffer_percentage_output.csv\" \\\n",
    "    --output_buffer \"buffer_output.csv\""
   ]
  },
  {
   "cell_type": "markdown",
   "id": "113476d0-9504-4dc7-8820-d3fe221b7e5c",
   "metadata": {},
   "source": [
    "Uses the closest route nodes to the intersection points between the routes and the overlapping buffer polygon and with commuting information before and after the overlap"
   ]
  },
  {
   "cell_type": "code",
   "execution_count": 19,
   "id": "392c35a7-f091-4e4c-a7fc-383fe1e374a0",
   "metadata": {},
   "outputs": [
    {
     "name": "stdout",
     "output_type": "stream",
     "text": [
      "Map saved to: C:\\Users\\HUAWEI\\CanterburyCommuto\\results\\routes_with_buffers_map-2025-04-10_15-47-21_73391.html\n",
      "<IPython.lib.display.IFrame object at 0x0000020E3698EA50>\n",
      "Map has been displayed inline and saved as 'results\\routes_with_buffers_map-2025-04-10_15-47-21_73391.html'.\n",
      "Map saved to: C:\\Users\\HUAWEI\\CanterburyCommuto\\results\\routes_with_buffers_map-2025-04-10_15-47-22_36284.html\n",
      "<IPython.lib.display.IFrame object at 0x0000020E36A80AD0>\n",
      "Map has been displayed inline and saved as 'results\\routes_with_buffers_map-2025-04-10_15-47-22_36284.html'.\n",
      "Before segment: ([(5.37344, -3.99877), (5.37345, -3.99855), (5.37347, -3.99848), (5.37337, -3.99847), (5.37305, -3.99846), (5.37275, -3.99846), (5.37218, -3.99841), (5.37171, -3.99833), (5.37142, -3.99829), (5.37099, -3.99825), (5.3707, -3.99825), (5.37022, -3.99825), (5.36842, -3.99825), (5.36763, -3.99825), (5.36717, -3.99823), (5.36692, -3.99815), (5.36679, -3.99808), (5.36653, -3.99784), (5.3663, -3.99764), (5.36608, -3.99754), (5.36598, -3.99752), (5.36516, -3.9975), (5.36157, -3.99751)], 1.382, 3.6333333333333333)\n",
      "During segment: ([(5.36157, -3.99751), (5.36125, -3.99755), (5.36101, -3.99763), (5.36091, -3.99768), (5.36071, -3.99782), (5.36055, -3.99798), (5.36035, -3.99822), (5.35951, -3.9994), (5.3587, -4.0005), (5.35831, -4.00098), (5.35802, -4.00123), (5.35778, -4.00134), (5.35727, -4.00144), (5.35612, -4.00158), (5.35513, -4.0017), (5.35329, -4.00194), (5.35009, -4.00233), (5.34813, -4.00255), (5.34687, -4.00267), (5.34554, -4.00282), (5.34508, -4.00287), (5.34413, -4.00303), (5.34407, -4.00309), (5.344, -4.00311), (5.34393, -4.00309), (5.3439, -4.00308), (5.34307, -4.00318), (5.34066, -4.00349), (5.33832, -4.00378), (5.33683, -4.00397), (5.3364, -4.00402), (5.33622, -4.00405), (5.33612, -4.00403), (5.33608, -4.00407), (5.33603, -4.00409), (5.33597, -4.00408), (5.33595, -4.00407), (5.33593, -4.00405), (5.3359, -4.00406), (5.33583, -4.00409), (5.33568, -4.0041), (5.33532, -4.00412), (5.33444, -4.00425), (5.33215, -4.00454)], 3.498, 8.383333333333333)\n",
      "After segment: ([(5.33215, -4.00454), (5.32797, -4.00505)], 0.468, 0.9833333333333333)\n",
      "Before segment: ([(5.36172, -3.99001), (5.36173, -3.99116), (5.36172, -3.99224), (5.36173, -3.99256), (5.36177, -3.99304), (5.36187, -3.99335), (5.36222, -3.99399), (5.36237, -3.9944), (5.36244, -3.99478), (5.36245, -3.99699)], 0.789, 1.6166666666666667)\n",
      "During segment: ([(5.36245, -3.99699), (5.36244, -3.9975), (5.36167, -3.99751), (5.36132, -3.99753), (5.36101, -3.99763), (5.36085, -3.99772), (5.36062, -3.99791), (5.36036, -3.9982), (5.35969, -3.99914), (5.35894, -4.00016), (5.35837, -4.00092), (5.35823, -4.00105), (5.35796, -4.00127), (5.35761, -4.00139), (5.35719, -4.00145), (5.35539, -4.00167), (5.3545, -4.00179), (5.35216, -4.00208), (5.34852, -4.00252), (5.34598, -4.00277), (5.34473, -4.00293), (5.34453, -4.00297), (5.34413, -4.00303), (5.34411, -4.00306), (5.34405, -4.0031), (5.34397, -4.00311), (5.34391, -4.00308), (5.34351, -4.00312), (5.34275, -4.00322), (5.33911, -4.00369), (5.33772, -4.00385), (5.33706, -4.00394), (5.33653, -4.00399), (5.33629, -4.00404), (5.33618, -4.00404), (5.33612, -4.00403), (5.3361, -4.00405), (5.33605, -4.00408), (5.336, -4.00409), (5.33593, -4.00405), (5.33588, -4.00408), (5.33576, -4.00409), (5.33542, -4.00411), (5.33515, -4.00414), (5.33458, -4.00424), (5.3342, -4.00428), (5.33031, -4.00476), (5.3302, -4.004)], 3.941, 9.616666666666667)\n",
      "After segment: ([(5.3302, -4.004), (5.32996, -4.00207), (5.32985, -4.00109), (5.32984, -4.00099), (5.32971, -4.001), (5.32925, -4.00106), (5.32739, -4.0013), (5.3267, -4.00136), (5.32528, -4.00156), (5.3246, -4.00166), (5.32296, -4.00214), (5.32275, -4.0022)], 1.136, 3.5)\n",
      "Map saved to: C:\\Users\\HUAWEI\\CanterburyCommuto\\results\\routes_with_buffers_map-2025-04-10_15-47-24_84250.html\n",
      "<IPython.lib.display.IFrame object at 0x0000020E36A83410>\n",
      "Map has been displayed inline and saved as 'results\\routes_with_buffers_map-2025-04-10_15-47-24_84250.html'.\n",
      "Before segment: ([(5.37344, -3.99877), (5.37345, -3.99855), (5.37347, -3.99848), (5.37337, -3.99847), (5.37305, -3.99846), (5.37275, -3.99846), (5.37218, -3.99841), (5.37171, -3.99833), (5.37142, -3.99829), (5.37099, -3.99825), (5.3707, -3.99825), (5.37022, -3.99825), (5.36842, -3.99825)], 0.595, 1.9)\n",
      "During segment: ([(5.36842, -3.99825), (5.36763, -3.99825), (5.36717, -3.99823), (5.36692, -3.99815), (5.36679, -3.99808), (5.36653, -3.99784), (5.3663, -3.99764), (5.36608, -3.99754), (5.36598, -3.99752), (5.36516, -3.9975), (5.36298, -3.99751), (5.36157, -3.99751), (5.36125, -3.99755), (5.36101, -3.99763), (5.36091, -3.99768), (5.36071, -3.99782), (5.36055, -3.99798), (5.36035, -3.99822), (5.35951, -3.9994), (5.3587, -4.0005), (5.35831, -4.00098), (5.35802, -4.00123), (5.35778, -4.00134), (5.35727, -4.00144), (5.35612, -4.00158), (5.35513, -4.0017), (5.35443, -4.0018), (5.35195, -4.0021), (5.35009, -4.00233), (5.34813, -4.00255), (5.34687, -4.00267), (5.34554, -4.00282), (5.34465, -4.00295), (5.34413, -4.00303), (5.3441, -4.00306), (5.34404, -4.0031), (5.34396, -4.00311), (5.3439, -4.00308), (5.34244, -4.00326), (5.33887, -4.00371), (5.33769, -4.00386), (5.3364, -4.00402), (5.33622, -4.00405), (5.33612, -4.00403), (5.33608, -4.00407), (5.33603, -4.00409), (5.33597, -4.00408), (5.33595, -4.00407), (5.33593, -4.00405), (5.3359, -4.00406), (5.33583, -4.00409), (5.33568, -4.0041), (5.33532, -4.00412)], 3.93, 9.5)\n",
      "After segment: ([(5.33532, -4.00412), (5.33444, -4.00425), (5.33339, -4.00439), (5.32986, -4.00482), (5.32797, -4.00505)], 0.824, 1.5833333333333333)\n",
      "Before segment: ([(5.36838, -4.00602), (5.36839, -4.00337), (5.36838, -4.00077), (5.36838, -3.99964), (5.36842, -3.99873)], 0.808, 3.5)\n",
      "During segment: ([(5.36842, -3.99873), (5.36842, -3.99825), (5.36782, -3.99825), (5.36734, -3.99824), (5.36703, -3.99819), (5.36679, -3.99808), (5.36638, -3.9977), (5.3663, -3.99764), (5.36608, -3.99754), (5.36587, -3.99751), (5.3634, -3.9975), (5.36189, -3.99751), (5.36139, -3.99752), (5.3611, -3.99759), (5.36091, -3.99768), (5.36071, -3.99782), (5.36055, -3.99798), (5.36035, -3.99822), (5.35983, -3.99895), (5.35916, -3.99987), (5.3584, -4.00089), (5.35802, -4.00123), (5.35778, -4.00134), (5.35727, -4.00144), (5.35578, -4.00162), (5.35467, -4.00177), (5.35222, -4.00207), (5.34864, -4.00251), (5.34626, -4.00274), (5.34536, -4.00284), (5.34494, -4.0029), (5.34426, -4.00302), (5.34413, -4.00303), (5.34412, -4.00305), (5.34409, -4.00308), (5.34406, -4.0031), (5.34398, -4.00311), (5.34392, -4.00309), (5.3439, -4.00308), (5.34369, -4.0031), (5.3428, -4.00321), (5.33983, -4.0036), (5.33673, -4.00398), (5.3364, -4.00402), (5.33622, -4.00405), (5.33612, -4.00403), (5.3361, -4.00405), (5.33603, -4.00409), (5.33595, -4.00407), (5.33591, -4.00403), (5.3359, -4.00398), (5.33593, -4.0039), (5.33591, -4.00371), (5.3359, -4.00348)], 3.98, 9.85)\n",
      "After segment: ([(5.3359, -4.00348), (5.33575, -4.00234), (5.33553, -4.00053), (5.33537, -3.99923), (5.33503, -3.99642), (5.33481, -3.99454), (5.33472, -3.99381), (5.33472, -3.99364), (5.33471, -3.99363), (5.33471, -3.99362), (5.33471, -3.99361), (5.33471, -3.99359), (5.33475, -3.99356), (5.33479, -3.99359), (5.33479, -3.99363), (5.33481, -3.99368), (5.33495, -3.9947), (5.33504, -3.9955)], 1.33, 2.8)\n",
      "Map saved to: C:\\Users\\HUAWEI\\CanterburyCommuto\\results\\routes_with_buffers_map-2025-04-10_15-47-27_73715.html\n",
      "<IPython.lib.display.IFrame object at 0x0000020E36AC1A60>\n",
      "Map has been displayed inline and saved as 'results\\routes_with_buffers_map-2025-04-10_15-47-27_73715.html'.\n",
      "Before segment: ([(5.37344, -3.99877), (5.37345, -3.99855), (5.37347, -3.99848), (5.37337, -3.99847), (5.37305, -3.99846), (5.37275, -3.99846), (5.37218, -3.99841), (5.37171, -3.99833), (5.37142, -3.99829), (5.37099, -3.99825), (5.3707, -3.99825), (5.37022, -3.99825), (5.36842, -3.99825), (5.36763, -3.99825), (5.36717, -3.99823), (5.36692, -3.99815), (5.36679, -3.99808), (5.36653, -3.99784), (5.3663, -3.99764), (5.36608, -3.99754), (5.36598, -3.99752), (5.36516, -3.9975), (5.36157, -3.99751), (5.36125, -3.99755), (5.36101, -3.99763), (5.36091, -3.99768), (5.36071, -3.99782), (5.36055, -3.99798), (5.36035, -3.99822), (5.35951, -3.9994), (5.3587, -4.0005), (5.35831, -4.00098), (5.35802, -4.00123), (5.35778, -4.00134), (5.35727, -4.00144), (5.35612, -4.00158), (5.35513, -4.0017), (5.35329, -4.00194), (5.35009, -4.00233), (5.34813, -4.00255), (5.34687, -4.00267), (5.34554, -4.00282), (5.34508, -4.00287), (5.34465, -4.00295), (5.34413, -4.00303)], 3.528, 8.633333333333333)\n",
      "During segment: ([(5.34412, -4.00305), (5.34406, -4.0031), (5.34398, -4.00311), (5.34392, -4.00309), (5.3439, -4.00308), (5.34369, -4.0031), (5.3428, -4.00321), (5.33983, -4.0036), (5.33796, -4.00382), (5.33673, -4.00398), (5.3364, -4.00402), (5.33622, -4.00405), (5.33612, -4.00403), (5.3361, -4.00405), (5.33603, -4.00409), (5.33595, -4.00407), (5.33593, -4.00405), (5.3359, -4.00406), (5.33583, -4.00409), (5.3355, -4.0041), (5.33532, -4.00412)], 0.994, 2.7333333333333334)\n",
      "After segment: ([(5.33532, -4.00412), (5.33444, -4.00425), (5.33339, -4.00439), (5.32986, -4.00482), (5.32797, -4.00505)], 0.824, 1.5833333333333333)\n",
      "Before segment: ([(5.35576, -3.96982), (5.35617, -3.96841), (5.3565, -3.9676), (5.35645, -3.96755), (5.35643, -3.96748), (5.35644, -3.96736), (5.35651, -3.96727), (5.35658, -3.96724), (5.35665, -3.96723), (5.35676, -3.96727), (5.35681, -3.96733), (5.35683, -3.9674), (5.35683, -3.96747), (5.35678, -3.96758), (5.35665, -3.96763), (5.35661, -3.96764), (5.35646, -3.96799), (5.35617, -3.96882), (5.35588, -3.9698), (5.35574, -3.97029), (5.35561, -3.97081), (5.35549, -3.97117), (5.35521, -3.97201), (5.35496, -3.97288), (5.35464, -3.97391), (5.35427, -3.97522), (5.35409, -3.97592), (5.35373, -3.97724), (5.35326, -3.97881), (5.35244, -3.98144), (5.35205, -3.98263), (5.35178, -3.98337), (5.3509, -3.98644), (5.34987, -3.99015), (5.34967, -3.99082), (5.34955, -3.99133), (5.34942, -3.99198), (5.34936, -3.99233), (5.34931, -3.99285), (5.3493, -3.99347), (5.34948, -3.99587), (5.34946, -3.99629), (5.3494, -3.99695), (5.34886, -3.99695), (5.34852, -3.99699), (5.34736, -3.99714), (5.3458, -3.99735), (5.34538, -3.9974), (5.34449, -3.99828), (5.34387, -3.9989), (5.34376, -3.99905), (5.34369, -3.99918), (5.34363, -3.99935), (5.3436, -3.99955), (5.34362, -3.99985), (5.34367, -4.00018), (5.34375, -4.00055), (5.34386, -4.00141), (5.34394, -4.00197), (5.34407, -4.00284)], 4.892, 10.933333333333334)\n",
      "During segment: ([(5.34408, -4.00284), (5.34413, -4.00291), (5.34414, -4.00298), (5.34412, -4.00305), (5.34406, -4.0031), (5.34398, -4.00311), (5.34392, -4.00309), (5.3439, -4.00308), (5.34369, -4.0031), (5.3428, -4.00321), (5.33983, -4.0036), (5.33673, -4.00398), (5.3364, -4.00402), (5.33622, -4.00405), (5.33612, -4.00403), (5.3361, -4.00405), (5.33614, -4.0041), (5.33619, -4.00487)], 1.02, 2.7666666666666666)\n",
      "After segment: ([(5.33619, -4.00487), (5.33621, -4.00533), (5.3362, -4.0055), (5.33607, -4.00553), (5.33542, -4.00564), (5.33519, -4.00568), (5.33476, -4.00579), (5.33454, -4.00586), (5.33428, -4.00601), (5.33401, -4.00621), (5.33345, -4.00678), (5.33323, -4.00699)], 0.452, 1.6666666666666667)\n",
      "Map saved to: C:\\Users\\HUAWEI\\CanterburyCommuto\\results\\routes_with_buffers_map-2025-04-10_15-47-29_32167.html\n",
      "<IPython.lib.display.IFrame object at 0x0000020E3698D910>\n",
      "Map has been displayed inline and saved as 'results\\routes_with_buffers_map-2025-04-10_15-47-29_32167.html'.\n",
      "Before segment: ([(5.37344, -3.99877), (5.37345, -3.99855), (5.37347, -3.99848), (5.37337, -3.99847), (5.37305, -3.99846), (5.37275, -3.99846), (5.37218, -3.99841), (5.37171, -3.99833), (5.37142, -3.99829), (5.37099, -3.99825), (5.3707, -3.99825), (5.37022, -3.99825), (5.36842, -3.99825), (5.36763, -3.99825), (5.36717, -3.99823), (5.36692, -3.99815), (5.36679, -3.99808), (5.36653, -3.99784), (5.3663, -3.99764), (5.36608, -3.99754), (5.36598, -3.99752), (5.36516, -3.9975), (5.36157, -3.99751), (5.36125, -3.99755), (5.36101, -3.99763), (5.36091, -3.99768), (5.36071, -3.99782), (5.36055, -3.99798), (5.36035, -3.99822), (5.35951, -3.9994), (5.3587, -4.0005), (5.35831, -4.00098), (5.35802, -4.00123), (5.35778, -4.00134), (5.35727, -4.00144), (5.35612, -4.00158), (5.35513, -4.0017), (5.35329, -4.00194), (5.35009, -4.00233), (5.34813, -4.00255)], 3.08, 7.65)\n",
      "During segment: ([(5.34813, -4.00255), (5.34598, -4.00277), (5.34473, -4.00293), (5.34453, -4.00297), (5.34413, -4.00303), (5.34411, -4.00306), (5.34405, -4.0031), (5.34397, -4.00311), (5.34392, -4.00309)], 0.475, 1.0833333333333333)\n",
      "After segment: ([(5.3439, -4.00307), (5.34227, -4.00328), (5.33867, -4.00373), (5.33751, -4.00388), (5.3368, -4.00397), (5.33653, -4.00399), (5.33629, -4.00404), (5.33618, -4.00404), (5.33612, -4.00403), (5.33605, -4.00408), (5.33595, -4.00407), (5.33593, -4.00405), (5.33588, -4.00408), (5.33559, -4.00411), (5.33515, -4.00414), (5.33444, -4.00425), (5.33296, -4.00444), (5.32917, -4.00491), (5.32797, -4.00505)], 1.79, 4.25)\n",
      "Before segment: ([(5.393, -3.97552), (5.39339, -3.97407), (5.3936, -3.97317), (5.39377, -3.97259), (5.39391, -3.97219), (5.39409, -3.97188), (5.39478, -3.97105), (5.39448, -3.97095), (5.39379, -3.97078), (5.39286, -3.97055), (5.39183, -3.97028), (5.39081, -3.97002), (5.39009, -3.96983), (5.38863, -3.96948), (5.38736, -3.96916), (5.38667, -3.96896), (5.38596, -3.96879), (5.38394, -3.9684), (5.38351, -3.96831), (5.38323, -3.9682), (5.38309, -3.96815), (5.38235, -3.96793), (5.38038, -3.96734), (5.37776, -3.96655), (5.37742, -3.96645), (5.37656, -3.96619), (5.3765, -3.96619), (5.37639, -3.96619), (5.37638, -3.9662), (5.37637, -3.96622), (5.37631, -3.9663), (5.37617, -3.96635), (5.37614, -3.96635), (5.37607, -3.96642), (5.37603, -3.96647), (5.37595, -3.96677), (5.37578, -3.96747), (5.37542, -3.96866), (5.375, -3.9701), (5.3749, -3.9704), (5.37468, -3.97033), (5.37445, -3.97026), (5.37437, -3.97025), (5.37425, -3.97025), (5.3735, -3.97042), (5.37249, -3.97062), (5.37196, -3.97073), (5.37146, -3.97083), (5.37128, -3.97083), (5.37114, -3.97081), (5.3708, -3.97073), (5.36874, -3.9701), (5.36433, -3.96879), (5.36152, -3.96795), (5.36059, -3.96766), (5.35982, -3.96744), (5.35882, -3.96713), (5.35873, -3.96733), (5.35853, -3.96785), (5.3585, -3.96784), (5.35757, -3.96744), (5.35707, -3.96723), (5.35702, -3.96725), (5.35696, -3.96738), (5.35691, -3.96742), (5.35684, -3.96745), (5.35683, -3.96747), (5.35682, -3.96753), (5.35678, -3.96758), (5.35673, -3.96761), (5.35665, -3.96763), (5.35661, -3.96764), (5.35646, -3.96799), (5.35617, -3.96882), (5.35588, -3.9698), (5.35574, -3.97029), (5.35561, -3.97081), (5.35549, -3.97117), (5.35521, -3.97201), (5.35496, -3.97288), (5.35464, -3.97391), (5.35427, -3.97522), (5.35409, -3.97592), (5.35373, -3.97724), (5.35326, -3.97881), (5.35244, -3.98144), (5.35205, -3.98263), (5.35178, -3.98337), (5.3509, -3.98644), (5.34987, -3.99015), (5.34967, -3.99082), (5.34955, -3.99133), (5.34942, -3.99198), (5.34936, -3.99233), (5.34931, -3.99285), (5.3493, -3.99347), (5.34948, -3.99587), (5.34946, -3.99629), (5.3494, -3.99695), (5.34886, -3.99695), (5.34852, -3.99699), (5.34736, -3.99714), (5.3458, -3.99735), (5.34538, -3.9974), (5.34449, -3.99828), (5.34387, -3.9989), (5.34376, -3.99905), (5.34369, -3.99918), (5.34363, -3.99935), (5.3436, -3.99955), (5.34362, -3.99985), (5.34367, -4.00018), (5.34375, -4.00055), (5.34386, -4.00141), (5.34394, -4.00197), (5.34407, -4.00284)], 9.857, 22.666666666666668)\n",
      "During segment: ([(5.34408, -4.00284), (5.34413, -4.00291), (5.34414, -4.00298), (5.34412, -4.00305), (5.34415, -4.00341), (5.34419, -4.00371), (5.34424, -4.00391), (5.34433, -4.0041), (5.34445, -4.00429), (5.34469, -4.00457), (5.34494, -4.00474), (5.34513, -4.00484), (5.34604, -4.00524), (5.34673, -4.00418), (5.347, -4.0038), (5.34708, -4.00373), (5.34722, -4.00369), (5.34765, -4.00365), (5.34778, -4.00364), (5.34778, -4.00356), (5.34775, -4.00341), (5.34773, -4.00333)], 0.698, 2.033333333333333)\n",
      "After segment: ([(5.34773, -4.00333)], 0.0, 0.0)\n",
      "Map saved to: C:\\Users\\HUAWEI\\CanterburyCommuto\\results\\routes_with_buffers_map-2025-04-10_15-47-30_43519.html\n",
      "<IPython.lib.display.IFrame object at 0x0000020E3698FC20>\n",
      "Map has been displayed inline and saved as 'results\\routes_with_buffers_map-2025-04-10_15-47-30_43519.html'.\n",
      "Before segment: ([(5.36172, -3.99001), (5.36173, -3.99116), (5.36172, -3.99224), (5.36173, -3.99256), (5.36177, -3.99304), (5.36187, -3.99335), (5.36222, -3.99399), (5.36237, -3.9944), (5.36244, -3.99478), (5.36245, -3.99699)], 0.789, 1.6166666666666667)\n",
      "During segment: ([(5.36245, -3.99699), (5.36244, -3.9975), (5.36167, -3.99751), (5.36132, -3.99753), (5.36101, -3.99763), (5.36085, -3.99772), (5.36062, -3.99791), (5.36036, -3.9982), (5.35969, -3.99914), (5.35894, -4.00016), (5.35837, -4.00092), (5.35823, -4.00105), (5.35796, -4.00127), (5.35761, -4.00139), (5.35719, -4.00145), (5.35539, -4.00167), (5.3545, -4.00179), (5.35216, -4.00208), (5.34852, -4.00252), (5.34598, -4.00277), (5.34473, -4.00293), (5.34453, -4.00297), (5.34413, -4.00303), (5.34411, -4.00306), (5.34405, -4.0031), (5.34397, -4.00311), (5.34391, -4.00308), (5.34351, -4.00312), (5.34275, -4.00322), (5.33911, -4.00369), (5.33772, -4.00385), (5.33706, -4.00394), (5.33653, -4.00399), (5.33629, -4.00404), (5.33618, -4.00404), (5.33612, -4.00403), (5.3361, -4.00405), (5.33605, -4.00408), (5.336, -4.00409), (5.33593, -4.00405), (5.33588, -4.00408), (5.33576, -4.00409), (5.33542, -4.00411), (5.33515, -4.00414)], 3.314, 8.433333333333334)\n",
      "After segment: ([(5.33515, -4.00414), (5.33444, -4.00425), (5.33296, -4.00444), (5.33159, -4.00461), (5.33031, -4.00476), (5.3302, -4.004), (5.33002, -4.00261), (5.32991, -4.00158), (5.32984, -4.00099), (5.32914, -4.00107), (5.32722, -4.00131), (5.32602, -4.00145), (5.32509, -4.00158), (5.32477, -4.00163), (5.32441, -4.00172), (5.32365, -4.00194), (5.32275, -4.0022)], 1.765, 4.683333333333334)\n",
      "Before segment: ([(5.36838, -4.00602), (5.36839, -4.00337), (5.36838, -4.00077), (5.36838, -3.99964), (5.36842, -3.99873), (5.36842, -3.99825), (5.36763, -3.99825), (5.36717, -3.99823), (5.36692, -3.99815), (5.36679, -3.99808), (5.36653, -3.99784), (5.3663, -3.99764), (5.36608, -3.99754), (5.36598, -3.99752), (5.36516, -3.9975), (5.36298, -3.99751)], 1.491, 5.3)\n",
      "During segment: ([(5.36298, -3.99751), (5.36167, -3.99751), (5.36132, -3.99753), (5.36101, -3.99763), (5.36085, -3.99772), (5.36062, -3.99791), (5.36036, -3.9982), (5.35969, -3.99914), (5.35894, -4.00016), (5.35837, -4.00092), (5.35823, -4.00105), (5.35796, -4.00127), (5.35761, -4.00139), (5.35719, -4.00145), (5.35539, -4.00167), (5.3545, -4.00179), (5.35216, -4.00208), (5.34852, -4.00252), (5.34598, -4.00277), (5.34473, -4.00293), (5.34453, -4.00297), (5.34413, -4.00303), (5.34411, -4.00306), (5.34405, -4.0031), (5.34397, -4.00311), (5.34391, -4.00308), (5.34351, -4.00312), (5.34275, -4.00322), (5.33911, -4.00369), (5.33772, -4.00385), (5.33706, -4.00394), (5.33653, -4.00399), (5.33629, -4.00404), (5.33618, -4.00404), (5.33612, -4.00403), (5.3361, -4.00405), (5.33605, -4.00408), (5.336, -4.00409), (5.33593, -4.00405), (5.3359, -4.004), (5.3359, -4.00395), (5.33594, -4.00389), (5.33591, -4.00381), (5.33591, -4.00361), (5.3359, -4.00348)], 3.297, 8.116666666666667)\n",
      "After segment: ([(5.3359, -4.00348), (5.33575, -4.00234), (5.33553, -4.00053), (5.33537, -3.99923), (5.33503, -3.99642), (5.33481, -3.99454), (5.33472, -3.99381), (5.33472, -3.99364), (5.33471, -3.99363), (5.33471, -3.99362), (5.33471, -3.99361), (5.33471, -3.99359), (5.33475, -3.99356), (5.33479, -3.99359), (5.33479, -3.99363), (5.33481, -3.99368), (5.33495, -3.9947), (5.33504, -3.9955)], 1.33, 2.8)\n",
      "Map saved to: C:\\Users\\HUAWEI\\CanterburyCommuto\\results\\routes_with_buffers_map-2025-04-10_15-47-32_11177.html\n",
      "<IPython.lib.display.IFrame object at 0x0000020E3698F950>\n",
      "Map has been displayed inline and saved as 'results\\routes_with_buffers_map-2025-04-10_15-47-32_11177.html'.\n",
      "Before segment: ([(5.35576, -3.96982)], 0.0, 0.0)\n",
      "During segment: ([(5.35576, -3.96982), (5.35617, -3.96841), (5.3565, -3.9676), (5.35645, -3.96755), (5.35643, -3.96748), (5.35644, -3.96736), (5.35651, -3.96727), (5.35658, -3.96724), (5.35665, -3.96723), (5.35676, -3.96727), (5.35681, -3.96733), (5.35683, -3.9674), (5.35683, -3.96747), (5.35678, -3.96758), (5.35665, -3.96763), (5.35661, -3.96764), (5.35646, -3.96799), (5.35617, -3.96882), (5.35588, -3.9698), (5.35574, -3.97029), (5.35561, -3.97081), (5.35549, -3.97117), (5.35521, -3.97201), (5.35496, -3.97288), (5.35464, -3.97391), (5.35427, -3.97522), (5.35409, -3.97592), (5.35373, -3.97724), (5.35326, -3.97881), (5.35244, -3.98144), (5.35205, -3.98263), (5.35178, -3.98337), (5.3509, -3.98644), (5.34987, -3.99015), (5.34967, -3.99082), (5.34955, -3.99133), (5.34942, -3.99198), (5.34936, -3.99233), (5.34931, -3.99285), (5.3493, -3.99347), (5.34948, -3.99587), (5.34946, -3.99629), (5.3494, -3.99695), (5.34886, -3.99695), (5.34852, -3.99699), (5.34736, -3.99714), (5.3458, -3.99735), (5.34538, -3.9974), (5.34449, -3.99828), (5.34387, -3.9989), (5.34376, -3.99905), (5.34369, -3.99918), (5.34363, -3.99935), (5.3436, -3.99955), (5.34362, -3.99985), (5.34367, -4.00018), (5.34375, -4.00055), (5.34386, -4.00141), (5.34394, -4.00197), (5.34408, -4.00284), (5.34411, -4.00288), (5.34414, -4.00295), (5.34413, -4.00302), (5.34409, -4.00308), (5.34402, -4.00311), (5.34394, -4.0031), (5.34392, -4.00309), (5.3439, -4.00308), (5.34369, -4.0031)], 4.97, 11.233333333333333)\n",
      "After segment: ([(5.34369, -4.0031), (5.34137, -4.0034), (5.33861, -4.00374), (5.33716, -4.00392), (5.33673, -4.00398), (5.3364, -4.00402), (5.33622, -4.00405), (5.33612, -4.00403), (5.3361, -4.00405), (5.33614, -4.0041), (5.33619, -4.00487), (5.33621, -4.00533), (5.3362, -4.0055), (5.33607, -4.00553), (5.33542, -4.00564), (5.33519, -4.00568), (5.33476, -4.00579), (5.33454, -4.00586), (5.33428, -4.00601), (5.33401, -4.00621), (5.33345, -4.00678), (5.33323, -4.00699)], 1.396, 4.216666666666667)\n",
      "Before segment: ([(5.393, -3.97552), (5.39339, -3.97407), (5.3936, -3.97317), (5.39377, -3.97259), (5.39391, -3.97219), (5.39409, -3.97188), (5.39478, -3.97105), (5.39448, -3.97095), (5.39379, -3.97078), (5.39286, -3.97055), (5.39183, -3.97028), (5.39081, -3.97002), (5.39009, -3.96983), (5.38863, -3.96948), (5.38736, -3.96916), (5.38667, -3.96896), (5.38596, -3.96879), (5.38394, -3.9684), (5.38351, -3.96831), (5.38323, -3.9682), (5.38309, -3.96815), (5.38235, -3.96793), (5.38038, -3.96734), (5.37776, -3.96655), (5.37742, -3.96645), (5.37656, -3.96619), (5.3765, -3.96619), (5.37639, -3.96619), (5.37638, -3.9662), (5.37637, -3.96622), (5.37631, -3.9663), (5.37617, -3.96635), (5.37614, -3.96635), (5.37607, -3.96642), (5.37603, -3.96647), (5.37595, -3.96677), (5.37578, -3.96747), (5.37542, -3.96866), (5.375, -3.9701), (5.3749, -3.9704), (5.37468, -3.97033), (5.37445, -3.97026), (5.37437, -3.97025), (5.37425, -3.97025), (5.3735, -3.97042), (5.37249, -3.97062), (5.37196, -3.97073), (5.37146, -3.97083), (5.37128, -3.97083), (5.37114, -3.97081), (5.3708, -3.97073), (5.36874, -3.9701), (5.36433, -3.96879), (5.36152, -3.96795), (5.36059, -3.96766), (5.35982, -3.96744), (5.35882, -3.96713), (5.35873, -3.96733), (5.35853, -3.96785), (5.3585, -3.96784), (5.35757, -3.96744)], 5.222, 13.066666666666666)\n",
      "During segment: ([(5.35757, -3.96744), (5.35707, -3.96723), (5.35702, -3.96725), (5.35696, -3.96738), (5.35691, -3.96742), (5.35684, -3.96745), (5.35683, -3.96747), (5.35682, -3.96753), (5.35678, -3.96758), (5.35673, -3.96761), (5.35665, -3.96763), (5.35661, -3.96764), (5.35646, -3.96799), (5.35617, -3.96882), (5.35588, -3.9698), (5.35574, -3.97029), (5.35561, -3.97081), (5.35549, -3.97117), (5.35521, -3.97201), (5.35496, -3.97288), (5.35464, -3.97391), (5.35427, -3.97522), (5.35391, -3.97663), (5.35326, -3.97881), (5.35205, -3.98263), (5.35178, -3.98337), (5.35154, -3.98419), (5.3509, -3.98644), (5.35029, -3.98863), (5.34987, -3.99015), (5.34967, -3.99082), (5.34955, -3.99133), (5.34942, -3.99198), (5.34936, -3.99233), (5.34931, -3.99285), (5.3493, -3.99347), (5.34948, -3.99587), (5.34946, -3.99629), (5.3494, -3.99695), (5.34886, -3.99695), (5.34852, -3.99699), (5.34736, -3.99714), (5.3458, -3.99735), (5.34538, -3.9974), (5.34449, -3.99828), (5.34387, -3.9989), (5.34376, -3.99905), (5.34369, -3.99918), (5.34363, -3.99935), (5.3436, -3.99955), (5.34362, -3.99985), (5.34367, -4.00018), (5.34375, -4.00055), (5.34386, -4.00141), (5.34394, -4.00197), (5.34408, -4.00284), (5.34413, -4.00291), (5.34414, -4.00298), (5.34412, -4.00305), (5.34415, -4.00341), (5.34419, -4.00371), (5.34424, -4.00391)], 4.758, 9.983333333333333)\n",
      "After segment: ([(5.34424, -4.00391), (5.34433, -4.0041), (5.34445, -4.00429), (5.34469, -4.00457), (5.34494, -4.00474), (5.34513, -4.00484), (5.34604, -4.00524), (5.34673, -4.00418), (5.347, -4.0038), (5.34708, -4.00373), (5.34722, -4.00369), (5.34765, -4.00365), (5.34778, -4.00364), (5.34778, -4.00356), (5.34775, -4.00341), (5.34773, -4.00333)], 0.575, 1.7166666666666666)\n",
      "Log file saved to: C:\\Users\\HUAWEI\\CanterburyCommuto\\results\\closest_node.log\n"
     ]
    }
   ],
   "source": [
    "!python -m canterburycommuto origin_destination_coordinates.csv \"API_KEY\" \\\n",
    "    --threshold 50 \\\n",
    "    --width 100 \\\n",
    "    --buffer 100 \\\n",
    "    --approximation \"closer to precision\" \\\n",
    "    --commuting_info \"yes\" \\\n",
    "    --colorna \"home_A\" \\\n",
    "    --coldesta \"work_A\" \\\n",
    "    --colorib \"home_B\" \\\n",
    "    --colfestb \"work_B\" \\\n",
    "    --output_overlap \"closest_node_output.csv\" \\\n",
    "    --output_buffer \"closest_node.csv\""
   ]
  },
  {
   "cell_type": "markdown",
   "id": "40f02a3b-bc54-440c-8e54-d9615038ef1b",
   "metadata": {},
   "source": [
    "Uses the closest route nodes to the intersection points between the routes and the overlapping buffer polygon and but without commuting information before and after the overlap"
   ]
  },
  {
   "cell_type": "code",
   "execution_count": 21,
   "id": "306c13ad-2428-4ce4-9997-4e84ba66a7c9",
   "metadata": {},
   "outputs": [
    {
     "name": "stdout",
     "output_type": "stream",
     "text": [
      "Map saved to: C:\\Users\\HUAWEI\\CanterburyCommuto\\results\\routes_with_buffers_map-2025-04-10_15-47-37_94579.html\n",
      "<IPython.lib.display.IFrame object at 0x0000027F18CDE5D0>\n",
      "Map has been displayed inline and saved as 'results\\routes_with_buffers_map-2025-04-10_15-47-37_94579.html'.\n",
      "Map saved to: C:\\Users\\HUAWEI\\CanterburyCommuto\\results\\routes_with_buffers_map-2025-04-10_15-47-38_60383.html\n",
      "<IPython.lib.display.IFrame object at 0x0000027F18DD0920>\n",
      "Map has been displayed inline and saved as 'results\\routes_with_buffers_map-2025-04-10_15-47-38_60383.html'.\n",
      "Before segment: ([(5.37344, -3.99877), (5.37345, -3.99855), (5.37347, -3.99848), (5.37337, -3.99847), (5.37305, -3.99846), (5.37275, -3.99846), (5.37218, -3.99841), (5.37171, -3.99833), (5.37142, -3.99829), (5.37099, -3.99825), (5.3707, -3.99825), (5.37022, -3.99825), (5.36842, -3.99825), (5.36763, -3.99825), (5.36717, -3.99823), (5.36692, -3.99815), (5.36679, -3.99808), (5.36653, -3.99784), (5.3663, -3.99764), (5.36608, -3.99754), (5.36598, -3.99752), (5.36516, -3.9975), (5.36157, -3.99751)], 1.382, 3.6333333333333333)\n",
      "During segment: ([(5.36157, -3.99751), (5.36125, -3.99755), (5.36101, -3.99763), (5.36091, -3.99768), (5.36071, -3.99782), (5.36055, -3.99798), (5.36035, -3.99822), (5.35951, -3.9994), (5.3587, -4.0005), (5.35831, -4.00098), (5.35802, -4.00123), (5.35778, -4.00134), (5.35727, -4.00144), (5.35612, -4.00158), (5.35513, -4.0017), (5.35329, -4.00194), (5.35009, -4.00233), (5.34813, -4.00255), (5.34687, -4.00267), (5.34554, -4.00282), (5.34508, -4.00287), (5.34413, -4.00303), (5.34407, -4.00309), (5.344, -4.00311), (5.34393, -4.00309), (5.3439, -4.00308), (5.34307, -4.00318), (5.34066, -4.00349), (5.33832, -4.00378), (5.33683, -4.00397), (5.3364, -4.00402), (5.33622, -4.00405), (5.33612, -4.00403), (5.33608, -4.00407), (5.33603, -4.00409), (5.33597, -4.00408), (5.33595, -4.00407), (5.33593, -4.00405), (5.3359, -4.00406), (5.33583, -4.00409), (5.33568, -4.0041), (5.33532, -4.00412), (5.33444, -4.00425), (5.33215, -4.00454)], 3.498, 8.383333333333333)\n",
      "After segment: ([(5.33215, -4.00454), (5.32797, -4.00505)], 0.468, 0.9833333333333333)\n",
      "Before segment: ([(5.36172, -3.99001), (5.36173, -3.99116), (5.36172, -3.99224), (5.36173, -3.99256), (5.36177, -3.99304), (5.36187, -3.99335), (5.36222, -3.99399), (5.36237, -3.9944), (5.36244, -3.99478), (5.36245, -3.99699)], 0.789, 1.6166666666666667)\n",
      "During segment: ([(5.36245, -3.99699), (5.36244, -3.9975), (5.36167, -3.99751), (5.36132, -3.99753), (5.36101, -3.99763), (5.36085, -3.99772), (5.36062, -3.99791), (5.36036, -3.9982), (5.35969, -3.99914), (5.35894, -4.00016), (5.35837, -4.00092), (5.35823, -4.00105), (5.35796, -4.00127), (5.35761, -4.00139), (5.35719, -4.00145), (5.35539, -4.00167), (5.3545, -4.00179), (5.35216, -4.00208), (5.34852, -4.00252), (5.34598, -4.00277), (5.34473, -4.00293), (5.34453, -4.00297), (5.34413, -4.00303), (5.34411, -4.00306), (5.34405, -4.0031), (5.34397, -4.00311), (5.34391, -4.00308), (5.34351, -4.00312), (5.34275, -4.00322), (5.33911, -4.00369), (5.33772, -4.00385), (5.33706, -4.00394), (5.33653, -4.00399), (5.33629, -4.00404), (5.33618, -4.00404), (5.33612, -4.00403), (5.3361, -4.00405), (5.33605, -4.00408), (5.336, -4.00409), (5.33593, -4.00405), (5.33588, -4.00408), (5.33576, -4.00409), (5.33542, -4.00411), (5.33515, -4.00414), (5.33458, -4.00424), (5.3342, -4.00428), (5.33031, -4.00476), (5.3302, -4.004)], 3.941, 9.616666666666667)\n",
      "After segment: ([(5.3302, -4.004), (5.32996, -4.00207), (5.32985, -4.00109), (5.32984, -4.00099), (5.32971, -4.001), (5.32925, -4.00106), (5.32739, -4.0013), (5.3267, -4.00136), (5.32528, -4.00156), (5.3246, -4.00166), (5.32296, -4.00214), (5.32275, -4.0022)], 1.136, 3.5)\n",
      "Map saved to: C:\\Users\\HUAWEI\\CanterburyCommuto\\results\\routes_with_buffers_map-2025-04-10_15-47-39_14637.html\n",
      "<IPython.lib.display.IFrame object at 0x0000027F18DD0B30>\n",
      "Map has been displayed inline and saved as 'results\\routes_with_buffers_map-2025-04-10_15-47-39_14637.html'.\n",
      "Before segment: ([(5.37344, -3.99877), (5.37345, -3.99855), (5.37347, -3.99848), (5.37337, -3.99847), (5.37305, -3.99846), (5.37275, -3.99846), (5.37218, -3.99841), (5.37171, -3.99833), (5.37142, -3.99829), (5.37099, -3.99825), (5.3707, -3.99825), (5.37022, -3.99825), (5.36842, -3.99825)], 0.595, 1.9)\n",
      "During segment: ([(5.36842, -3.99825), (5.36763, -3.99825), (5.36717, -3.99823), (5.36692, -3.99815), (5.36679, -3.99808), (5.36653, -3.99784), (5.3663, -3.99764), (5.36608, -3.99754), (5.36598, -3.99752), (5.36516, -3.9975), (5.36298, -3.99751), (5.36157, -3.99751), (5.36125, -3.99755), (5.36101, -3.99763), (5.36091, -3.99768), (5.36071, -3.99782), (5.36055, -3.99798), (5.36035, -3.99822), (5.35951, -3.9994), (5.3587, -4.0005), (5.35831, -4.00098), (5.35802, -4.00123), (5.35778, -4.00134), (5.35727, -4.00144), (5.35612, -4.00158), (5.35513, -4.0017), (5.35443, -4.0018), (5.35195, -4.0021), (5.35009, -4.00233), (5.34813, -4.00255), (5.34687, -4.00267), (5.34554, -4.00282), (5.34465, -4.00295), (5.34413, -4.00303), (5.3441, -4.00306), (5.34404, -4.0031), (5.34396, -4.00311), (5.3439, -4.00308), (5.34244, -4.00326), (5.33887, -4.00371), (5.33769, -4.00386), (5.3364, -4.00402), (5.33622, -4.00405), (5.33612, -4.00403), (5.33608, -4.00407), (5.33603, -4.00409), (5.33597, -4.00408), (5.33595, -4.00407), (5.33593, -4.00405), (5.3359, -4.00406), (5.33583, -4.00409), (5.33568, -4.0041), (5.33532, -4.00412)], 3.93, 9.5)\n",
      "After segment: ([(5.33532, -4.00412), (5.33444, -4.00425), (5.33339, -4.00439), (5.32986, -4.00482), (5.32797, -4.00505)], 0.824, 1.5833333333333333)\n",
      "Before segment: ([(5.36838, -4.00602), (5.36839, -4.00337), (5.36838, -4.00077), (5.36838, -3.99964), (5.36842, -3.99873)], 0.808, 3.5)\n",
      "During segment: ([(5.36842, -3.99873), (5.36842, -3.99825), (5.36782, -3.99825), (5.36734, -3.99824), (5.36703, -3.99819), (5.36679, -3.99808), (5.36638, -3.9977), (5.3663, -3.99764), (5.36608, -3.99754), (5.36587, -3.99751), (5.3634, -3.9975), (5.36189, -3.99751), (5.36139, -3.99752), (5.3611, -3.99759), (5.36091, -3.99768), (5.36071, -3.99782), (5.36055, -3.99798), (5.36035, -3.99822), (5.35983, -3.99895), (5.35916, -3.99987), (5.3584, -4.00089), (5.35802, -4.00123), (5.35778, -4.00134), (5.35727, -4.00144), (5.35578, -4.00162), (5.35467, -4.00177), (5.35222, -4.00207), (5.34864, -4.00251), (5.34626, -4.00274), (5.34536, -4.00284), (5.34494, -4.0029), (5.34426, -4.00302), (5.34413, -4.00303), (5.34412, -4.00305), (5.34409, -4.00308), (5.34406, -4.0031), (5.34398, -4.00311), (5.34392, -4.00309), (5.3439, -4.00308), (5.34369, -4.0031), (5.3428, -4.00321), (5.33983, -4.0036), (5.33673, -4.00398), (5.3364, -4.00402), (5.33622, -4.00405), (5.33612, -4.00403), (5.3361, -4.00405), (5.33603, -4.00409), (5.33595, -4.00407), (5.33591, -4.00403), (5.3359, -4.00398), (5.33593, -4.0039), (5.33591, -4.00371), (5.3359, -4.00348)], 3.98, 9.85)\n",
      "After segment: ([(5.3359, -4.00348), (5.33575, -4.00234), (5.33553, -4.00053), (5.33537, -3.99923), (5.33503, -3.99642), (5.33481, -3.99454), (5.33472, -3.99381), (5.33472, -3.99364), (5.33471, -3.99363), (5.33471, -3.99362), (5.33471, -3.99361), (5.33471, -3.99359), (5.33475, -3.99356), (5.33479, -3.99359), (5.33479, -3.99363), (5.33481, -3.99368), (5.33495, -3.9947), (5.33504, -3.9955)], 1.33, 2.8)\n",
      "Map saved to: C:\\Users\\HUAWEI\\CanterburyCommuto\\results\\routes_with_buffers_map-2025-04-10_15-47-41_66046.html\n",
      "<IPython.lib.display.IFrame object at 0x0000027F18E12BD0>\n",
      "Map has been displayed inline and saved as 'results\\routes_with_buffers_map-2025-04-10_15-47-41_66046.html'.\n",
      "Before segment: ([(5.37344, -3.99877), (5.37345, -3.99855), (5.37347, -3.99848), (5.37337, -3.99847), (5.37305, -3.99846), (5.37275, -3.99846), (5.37218, -3.99841), (5.37171, -3.99833), (5.37142, -3.99829), (5.37099, -3.99825), (5.3707, -3.99825), (5.37022, -3.99825), (5.36842, -3.99825), (5.36763, -3.99825), (5.36717, -3.99823), (5.36692, -3.99815), (5.36679, -3.99808), (5.36653, -3.99784), (5.3663, -3.99764), (5.36608, -3.99754), (5.36598, -3.99752), (5.36516, -3.9975), (5.36157, -3.99751), (5.36125, -3.99755), (5.36101, -3.99763), (5.36091, -3.99768), (5.36071, -3.99782), (5.36055, -3.99798), (5.36035, -3.99822), (5.35951, -3.9994), (5.3587, -4.0005), (5.35831, -4.00098), (5.35802, -4.00123), (5.35778, -4.00134), (5.35727, -4.00144), (5.35612, -4.00158), (5.35513, -4.0017), (5.35329, -4.00194), (5.35009, -4.00233), (5.34813, -4.00255), (5.34687, -4.00267), (5.34554, -4.00282), (5.34508, -4.00287), (5.34465, -4.00295), (5.34413, -4.00303)], 3.528, 8.633333333333333)\n",
      "During segment: ([(5.34412, -4.00305), (5.34406, -4.0031), (5.34398, -4.00311), (5.34392, -4.00309), (5.3439, -4.00308), (5.34369, -4.0031), (5.3428, -4.00321), (5.33983, -4.0036), (5.33796, -4.00382), (5.33673, -4.00398), (5.3364, -4.00402), (5.33622, -4.00405), (5.33612, -4.00403), (5.3361, -4.00405), (5.33603, -4.00409), (5.33595, -4.00407), (5.33593, -4.00405), (5.3359, -4.00406), (5.33583, -4.00409), (5.3355, -4.0041), (5.33532, -4.00412)], 0.994, 2.7333333333333334)\n",
      "After segment: ([(5.33532, -4.00412), (5.33444, -4.00425), (5.33339, -4.00439), (5.32986, -4.00482), (5.32797, -4.00505)], 0.824, 1.5833333333333333)\n",
      "Before segment: ([(5.35576, -3.96982), (5.35617, -3.96841), (5.3565, -3.9676), (5.35645, -3.96755), (5.35643, -3.96748), (5.35644, -3.96736), (5.35651, -3.96727), (5.35658, -3.96724), (5.35665, -3.96723), (5.35676, -3.96727), (5.35681, -3.96733), (5.35683, -3.9674), (5.35683, -3.96747), (5.35678, -3.96758), (5.35665, -3.96763), (5.35661, -3.96764), (5.35646, -3.96799), (5.35617, -3.96882), (5.35588, -3.9698), (5.35574, -3.97029), (5.35561, -3.97081), (5.35549, -3.97117), (5.35521, -3.97201), (5.35496, -3.97288), (5.35464, -3.97391), (5.35427, -3.97522), (5.35409, -3.97592), (5.35373, -3.97724), (5.35326, -3.97881), (5.35244, -3.98144), (5.35205, -3.98263), (5.35178, -3.98337), (5.3509, -3.98644), (5.34987, -3.99015), (5.34967, -3.99082), (5.34955, -3.99133), (5.34942, -3.99198), (5.34936, -3.99233), (5.34931, -3.99285), (5.3493, -3.99347), (5.34948, -3.99587), (5.34946, -3.99629), (5.3494, -3.99695), (5.34886, -3.99695), (5.34852, -3.99699), (5.34736, -3.99714), (5.3458, -3.99735), (5.34538, -3.9974), (5.34449, -3.99828), (5.34387, -3.9989), (5.34376, -3.99905), (5.34369, -3.99918), (5.34363, -3.99935), (5.3436, -3.99955), (5.34362, -3.99985), (5.34367, -4.00018), (5.34375, -4.00055), (5.34386, -4.00141), (5.34394, -4.00197), (5.34407, -4.00284)], 4.892, 10.933333333333334)\n",
      "During segment: ([(5.34408, -4.00284), (5.34413, -4.00291), (5.34414, -4.00298), (5.34412, -4.00305), (5.34406, -4.0031), (5.34398, -4.00311), (5.34392, -4.00309), (5.3439, -4.00308), (5.34369, -4.0031), (5.3428, -4.00321), (5.33983, -4.0036), (5.33673, -4.00398), (5.3364, -4.00402), (5.33622, -4.00405), (5.33612, -4.00403), (5.3361, -4.00405), (5.33614, -4.0041), (5.33619, -4.00487)], 1.02, 2.7666666666666666)\n",
      "After segment: ([(5.33619, -4.00487), (5.33621, -4.00533), (5.3362, -4.0055), (5.33607, -4.00553), (5.33542, -4.00564), (5.33519, -4.00568), (5.33476, -4.00579), (5.33454, -4.00586), (5.33428, -4.00601), (5.33401, -4.00621), (5.33345, -4.00678), (5.33323, -4.00699)], 0.452, 1.6666666666666667)\n",
      "Map saved to: C:\\Users\\HUAWEI\\CanterburyCommuto\\results\\routes_with_buffers_map-2025-04-10_15-47-43_46506.html\n",
      "<IPython.lib.display.IFrame object at 0x0000027F18CDD9D0>\n",
      "Map has been displayed inline and saved as 'results\\routes_with_buffers_map-2025-04-10_15-47-43_46506.html'.\n",
      "Before segment: ([(5.37344, -3.99877), (5.37345, -3.99855), (5.37347, -3.99848), (5.37337, -3.99847), (5.37305, -3.99846), (5.37275, -3.99846), (5.37218, -3.99841), (5.37171, -3.99833), (5.37142, -3.99829), (5.37099, -3.99825), (5.3707, -3.99825), (5.37022, -3.99825), (5.36842, -3.99825), (5.36763, -3.99825), (5.36717, -3.99823), (5.36692, -3.99815), (5.36679, -3.99808), (5.36653, -3.99784), (5.3663, -3.99764), (5.36608, -3.99754), (5.36598, -3.99752), (5.36516, -3.9975), (5.36157, -3.99751), (5.36125, -3.99755), (5.36101, -3.99763), (5.36091, -3.99768), (5.36071, -3.99782), (5.36055, -3.99798), (5.36035, -3.99822), (5.35951, -3.9994), (5.3587, -4.0005), (5.35831, -4.00098), (5.35802, -4.00123), (5.35778, -4.00134), (5.35727, -4.00144), (5.35612, -4.00158), (5.35513, -4.0017), (5.35329, -4.00194), (5.35009, -4.00233), (5.34813, -4.00255)], 3.08, 7.65)\n",
      "During segment: ([(5.34813, -4.00255), (5.34598, -4.00277), (5.34473, -4.00293), (5.34453, -4.00297), (5.34413, -4.00303), (5.34411, -4.00306), (5.34405, -4.0031), (5.34397, -4.00311), (5.34392, -4.00309)], 0.475, 1.0833333333333333)\n",
      "After segment: ([(5.3439, -4.00307), (5.34227, -4.00328), (5.33867, -4.00373), (5.33751, -4.00388), (5.3368, -4.00397), (5.33653, -4.00399), (5.33629, -4.00404), (5.33618, -4.00404), (5.33612, -4.00403), (5.33605, -4.00408), (5.33595, -4.00407), (5.33593, -4.00405), (5.33588, -4.00408), (5.33559, -4.00411), (5.33515, -4.00414), (5.33444, -4.00425), (5.33296, -4.00444), (5.32917, -4.00491), (5.32797, -4.00505)], 1.79, 4.25)\n",
      "Before segment: ([(5.393, -3.97552), (5.39339, -3.97407), (5.3936, -3.97317), (5.39377, -3.97259), (5.39391, -3.97219), (5.39409, -3.97188), (5.39478, -3.97105), (5.39448, -3.97095), (5.39379, -3.97078), (5.39286, -3.97055), (5.39183, -3.97028), (5.39081, -3.97002), (5.39009, -3.96983), (5.38863, -3.96948), (5.38736, -3.96916), (5.38667, -3.96896), (5.38596, -3.96879), (5.38394, -3.9684), (5.38351, -3.96831), (5.38323, -3.9682), (5.38309, -3.96815), (5.38235, -3.96793), (5.38038, -3.96734), (5.37776, -3.96655), (5.37742, -3.96645), (5.37656, -3.96619), (5.3765, -3.96619), (5.37639, -3.96619), (5.37638, -3.9662), (5.37637, -3.96622), (5.37631, -3.9663), (5.37617, -3.96635), (5.37614, -3.96635), (5.37607, -3.96642), (5.37603, -3.96647), (5.37595, -3.96677), (5.37578, -3.96747), (5.37542, -3.96866), (5.375, -3.9701), (5.3749, -3.9704), (5.37468, -3.97033), (5.37445, -3.97026), (5.37437, -3.97025), (5.37425, -3.97025), (5.3735, -3.97042), (5.37249, -3.97062), (5.37196, -3.97073), (5.37146, -3.97083), (5.37128, -3.97083), (5.37114, -3.97081), (5.3708, -3.97073), (5.36874, -3.9701), (5.36433, -3.96879), (5.36152, -3.96795), (5.36059, -3.96766), (5.35982, -3.96744), (5.35882, -3.96713), (5.35873, -3.96733), (5.35853, -3.96785), (5.3585, -3.96784), (5.35757, -3.96744), (5.35707, -3.96723), (5.35702, -3.96725), (5.35696, -3.96738), (5.35691, -3.96742), (5.35684, -3.96745), (5.35683, -3.96747), (5.35682, -3.96753), (5.35678, -3.96758), (5.35673, -3.96761), (5.35665, -3.96763), (5.35661, -3.96764), (5.35646, -3.96799), (5.35617, -3.96882), (5.35588, -3.9698), (5.35574, -3.97029), (5.35561, -3.97081), (5.35549, -3.97117), (5.35521, -3.97201), (5.35496, -3.97288), (5.35464, -3.97391), (5.35427, -3.97522), (5.35409, -3.97592), (5.35373, -3.97724), (5.35326, -3.97881), (5.35244, -3.98144), (5.35205, -3.98263), (5.35178, -3.98337), (5.3509, -3.98644), (5.34987, -3.99015), (5.34967, -3.99082), (5.34955, -3.99133), (5.34942, -3.99198), (5.34936, -3.99233), (5.34931, -3.99285), (5.3493, -3.99347), (5.34948, -3.99587), (5.34946, -3.99629), (5.3494, -3.99695), (5.34886, -3.99695), (5.34852, -3.99699), (5.34736, -3.99714), (5.3458, -3.99735), (5.34538, -3.9974), (5.34449, -3.99828), (5.34387, -3.9989), (5.34376, -3.99905), (5.34369, -3.99918), (5.34363, -3.99935), (5.3436, -3.99955), (5.34362, -3.99985), (5.34367, -4.00018), (5.34375, -4.00055), (5.34386, -4.00141), (5.34394, -4.00197), (5.34407, -4.00284)], 9.857, 22.666666666666668)\n",
      "During segment: ([(5.34408, -4.00284), (5.34413, -4.00291), (5.34414, -4.00298), (5.34412, -4.00305), (5.34415, -4.00341), (5.34419, -4.00371), (5.34424, -4.00391), (5.34433, -4.0041), (5.34445, -4.00429), (5.34469, -4.00457), (5.34494, -4.00474), (5.34513, -4.00484), (5.34604, -4.00524), (5.34673, -4.00418), (5.347, -4.0038), (5.34708, -4.00373), (5.34722, -4.00369), (5.34765, -4.00365), (5.34778, -4.00364), (5.34778, -4.00356), (5.34775, -4.00341), (5.34773, -4.00333)], 0.698, 2.033333333333333)\n",
      "After segment: ([(5.34773, -4.00333)], 0.0, 0.0)\n",
      "Map saved to: C:\\Users\\HUAWEI\\CanterburyCommuto\\results\\routes_with_buffers_map-2025-04-10_15-47-44_30853.html\n",
      "<IPython.lib.display.IFrame object at 0x0000027F18CDF6B0>\n",
      "Map has been displayed inline and saved as 'results\\routes_with_buffers_map-2025-04-10_15-47-44_30853.html'.\n",
      "Before segment: ([(5.36172, -3.99001), (5.36173, -3.99116), (5.36172, -3.99224), (5.36173, -3.99256), (5.36177, -3.99304), (5.36187, -3.99335), (5.36222, -3.99399), (5.36237, -3.9944), (5.36244, -3.99478), (5.36245, -3.99699)], 0.789, 1.6166666666666667)\n",
      "During segment: ([(5.36245, -3.99699), (5.36244, -3.9975), (5.36167, -3.99751), (5.36132, -3.99753), (5.36101, -3.99763), (5.36085, -3.99772), (5.36062, -3.99791), (5.36036, -3.9982), (5.35969, -3.99914), (5.35894, -4.00016), (5.35837, -4.00092), (5.35823, -4.00105), (5.35796, -4.00127), (5.35761, -4.00139), (5.35719, -4.00145), (5.35539, -4.00167), (5.3545, -4.00179), (5.35216, -4.00208), (5.34852, -4.00252), (5.34598, -4.00277), (5.34473, -4.00293), (5.34453, -4.00297), (5.34413, -4.00303), (5.34411, -4.00306), (5.34405, -4.0031), (5.34397, -4.00311), (5.34391, -4.00308), (5.34351, -4.00312), (5.34275, -4.00322), (5.33911, -4.00369), (5.33772, -4.00385), (5.33706, -4.00394), (5.33653, -4.00399), (5.33629, -4.00404), (5.33618, -4.00404), (5.33612, -4.00403), (5.3361, -4.00405), (5.33605, -4.00408), (5.336, -4.00409), (5.33593, -4.00405), (5.33588, -4.00408), (5.33576, -4.00409), (5.33542, -4.00411), (5.33515, -4.00414)], 3.314, 8.433333333333334)\n",
      "After segment: ([(5.33515, -4.00414), (5.33444, -4.00425), (5.33296, -4.00444), (5.33159, -4.00461), (5.33031, -4.00476), (5.3302, -4.004), (5.33002, -4.00261), (5.32991, -4.00158), (5.32984, -4.00099), (5.32914, -4.00107), (5.32722, -4.00131), (5.32602, -4.00145), (5.32509, -4.00158), (5.32477, -4.00163), (5.32441, -4.00172), (5.32365, -4.00194), (5.32275, -4.0022)], 1.765, 4.683333333333334)\n",
      "Before segment: ([(5.36838, -4.00602), (5.36839, -4.00337), (5.36838, -4.00077), (5.36838, -3.99964), (5.36842, -3.99873), (5.36842, -3.99825), (5.36763, -3.99825), (5.36717, -3.99823), (5.36692, -3.99815), (5.36679, -3.99808), (5.36653, -3.99784), (5.3663, -3.99764), (5.36608, -3.99754), (5.36598, -3.99752), (5.36516, -3.9975), (5.36298, -3.99751)], 1.491, 5.3)\n",
      "During segment: ([(5.36298, -3.99751), (5.36167, -3.99751), (5.36132, -3.99753), (5.36101, -3.99763), (5.36085, -3.99772), (5.36062, -3.99791), (5.36036, -3.9982), (5.35969, -3.99914), (5.35894, -4.00016), (5.35837, -4.00092), (5.35823, -4.00105), (5.35796, -4.00127), (5.35761, -4.00139), (5.35719, -4.00145), (5.35539, -4.00167), (5.3545, -4.00179), (5.35216, -4.00208), (5.34852, -4.00252), (5.34598, -4.00277), (5.34473, -4.00293), (5.34453, -4.00297), (5.34413, -4.00303), (5.34411, -4.00306), (5.34405, -4.0031), (5.34397, -4.00311), (5.34391, -4.00308), (5.34351, -4.00312), (5.34275, -4.00322), (5.33911, -4.00369), (5.33772, -4.00385), (5.33706, -4.00394), (5.33653, -4.00399), (5.33629, -4.00404), (5.33618, -4.00404), (5.33612, -4.00403), (5.3361, -4.00405), (5.33605, -4.00408), (5.336, -4.00409), (5.33593, -4.00405), (5.3359, -4.004), (5.3359, -4.00395), (5.33594, -4.00389), (5.33591, -4.00381), (5.33591, -4.00361), (5.3359, -4.00348)], 3.297, 8.116666666666667)\n",
      "After segment: ([(5.3359, -4.00348), (5.33575, -4.00234), (5.33553, -4.00053), (5.33537, -3.99923), (5.33503, -3.99642), (5.33481, -3.99454), (5.33472, -3.99381), (5.33472, -3.99364), (5.33471, -3.99363), (5.33471, -3.99362), (5.33471, -3.99361), (5.33471, -3.99359), (5.33475, -3.99356), (5.33479, -3.99359), (5.33479, -3.99363), (5.33481, -3.99368), (5.33495, -3.9947), (5.33504, -3.9955)], 1.33, 2.8)\n",
      "Map saved to: C:\\Users\\HUAWEI\\CanterburyCommuto\\results\\routes_with_buffers_map-2025-04-10_15-47-46_77848.html\n",
      "<IPython.lib.display.IFrame object at 0x0000027F18CDE300>\n",
      "Map has been displayed inline and saved as 'results\\routes_with_buffers_map-2025-04-10_15-47-46_77848.html'.\n",
      "Before segment: ([(5.35576, -3.96982)], 0.0, 0.0)\n",
      "During segment: ([(5.35576, -3.96982), (5.35617, -3.96841), (5.3565, -3.9676), (5.35645, -3.96755), (5.35643, -3.96748), (5.35644, -3.96736), (5.35651, -3.96727), (5.35658, -3.96724), (5.35665, -3.96723), (5.35676, -3.96727), (5.35681, -3.96733), (5.35683, -3.9674), (5.35683, -3.96747), (5.35678, -3.96758), (5.35665, -3.96763), (5.35661, -3.96764), (5.35646, -3.96799), (5.35617, -3.96882), (5.35588, -3.9698), (5.35574, -3.97029), (5.35561, -3.97081), (5.35549, -3.97117), (5.35521, -3.97201), (5.35496, -3.97288), (5.35464, -3.97391), (5.35427, -3.97522), (5.35409, -3.97592), (5.35373, -3.97724), (5.35326, -3.97881), (5.35244, -3.98144), (5.35205, -3.98263), (5.35178, -3.98337), (5.3509, -3.98644), (5.34987, -3.99015), (5.34967, -3.99082), (5.34955, -3.99133), (5.34942, -3.99198), (5.34936, -3.99233), (5.34931, -3.99285), (5.3493, -3.99347), (5.34948, -3.99587), (5.34946, -3.99629), (5.3494, -3.99695), (5.34886, -3.99695), (5.34852, -3.99699), (5.34736, -3.99714), (5.3458, -3.99735), (5.34538, -3.9974), (5.34449, -3.99828), (5.34387, -3.9989), (5.34376, -3.99905), (5.34369, -3.99918), (5.34363, -3.99935), (5.3436, -3.99955), (5.34362, -3.99985), (5.34367, -4.00018), (5.34375, -4.00055), (5.34386, -4.00141), (5.34394, -4.00197), (5.34408, -4.00284), (5.34411, -4.00288), (5.34414, -4.00295), (5.34413, -4.00302), (5.34409, -4.00308), (5.34402, -4.00311), (5.34394, -4.0031), (5.34392, -4.00309), (5.3439, -4.00308), (5.34369, -4.0031)], 4.97, 11.233333333333333)\n",
      "After segment: ([(5.34369, -4.0031), (5.34137, -4.0034), (5.33861, -4.00374), (5.33716, -4.00392), (5.33673, -4.00398), (5.3364, -4.00402), (5.33622, -4.00405), (5.33612, -4.00403), (5.3361, -4.00405), (5.33614, -4.0041), (5.33619, -4.00487), (5.33621, -4.00533), (5.3362, -4.0055), (5.33607, -4.00553), (5.33542, -4.00564), (5.33519, -4.00568), (5.33476, -4.00579), (5.33454, -4.00586), (5.33428, -4.00601), (5.33401, -4.00621), (5.33345, -4.00678), (5.33323, -4.00699)], 1.396, 4.216666666666667)\n",
      "Before segment: ([(5.393, -3.97552), (5.39339, -3.97407), (5.3936, -3.97317), (5.39377, -3.97259), (5.39391, -3.97219), (5.39409, -3.97188), (5.39478, -3.97105), (5.39448, -3.97095), (5.39379, -3.97078), (5.39286, -3.97055), (5.39183, -3.97028), (5.39081, -3.97002), (5.39009, -3.96983), (5.38863, -3.96948), (5.38736, -3.96916), (5.38667, -3.96896), (5.38596, -3.96879), (5.38394, -3.9684), (5.38351, -3.96831), (5.38323, -3.9682), (5.38309, -3.96815), (5.38235, -3.96793), (5.38038, -3.96734), (5.37776, -3.96655), (5.37742, -3.96645), (5.37656, -3.96619), (5.3765, -3.96619), (5.37639, -3.96619), (5.37638, -3.9662), (5.37637, -3.96622), (5.37631, -3.9663), (5.37617, -3.96635), (5.37614, -3.96635), (5.37607, -3.96642), (5.37603, -3.96647), (5.37595, -3.96677), (5.37578, -3.96747), (5.37542, -3.96866), (5.375, -3.9701), (5.3749, -3.9704), (5.37468, -3.97033), (5.37445, -3.97026), (5.37437, -3.97025), (5.37425, -3.97025), (5.3735, -3.97042), (5.37249, -3.97062), (5.37196, -3.97073), (5.37146, -3.97083), (5.37128, -3.97083), (5.37114, -3.97081), (5.3708, -3.97073), (5.36874, -3.9701), (5.36433, -3.96879), (5.36152, -3.96795), (5.36059, -3.96766), (5.35982, -3.96744), (5.35882, -3.96713), (5.35873, -3.96733), (5.35853, -3.96785), (5.3585, -3.96784), (5.35757, -3.96744)], 5.222, 13.066666666666666)\n",
      "During segment: ([(5.35757, -3.96744), (5.35707, -3.96723), (5.35702, -3.96725), (5.35696, -3.96738), (5.35691, -3.96742), (5.35684, -3.96745), (5.35683, -3.96747), (5.35682, -3.96753), (5.35678, -3.96758), (5.35673, -3.96761), (5.35665, -3.96763), (5.35661, -3.96764), (5.35646, -3.96799), (5.35617, -3.96882), (5.35588, -3.9698), (5.35574, -3.97029), (5.35561, -3.97081), (5.35549, -3.97117), (5.35521, -3.97201), (5.35496, -3.97288), (5.35464, -3.97391), (5.35427, -3.97522), (5.35391, -3.97663), (5.35326, -3.97881), (5.35205, -3.98263), (5.35178, -3.98337), (5.35154, -3.98419), (5.3509, -3.98644), (5.35029, -3.98863), (5.34987, -3.99015), (5.34967, -3.99082), (5.34955, -3.99133), (5.34942, -3.99198), (5.34936, -3.99233), (5.34931, -3.99285), (5.3493, -3.99347), (5.34948, -3.99587), (5.34946, -3.99629), (5.3494, -3.99695), (5.34886, -3.99695), (5.34852, -3.99699), (5.34736, -3.99714), (5.3458, -3.99735), (5.34538, -3.9974), (5.34449, -3.99828), (5.34387, -3.9989), (5.34376, -3.99905), (5.34369, -3.99918), (5.34363, -3.99935), (5.3436, -3.99955), (5.34362, -3.99985), (5.34367, -4.00018), (5.34375, -4.00055), (5.34386, -4.00141), (5.34394, -4.00197), (5.34408, -4.00284), (5.34413, -4.00291), (5.34414, -4.00298), (5.34412, -4.00305), (5.34415, -4.00341), (5.34419, -4.00371), (5.34424, -4.00391)], 4.758, 9.983333333333333)\n",
      "After segment: ([(5.34424, -4.00391), (5.34433, -4.0041), (5.34445, -4.00429), (5.34469, -4.00457), (5.34494, -4.00474), (5.34513, -4.00484), (5.34604, -4.00524), (5.34673, -4.00418), (5.347, -4.0038), (5.34708, -4.00373), (5.34722, -4.00369), (5.34765, -4.00365), (5.34778, -4.00364), (5.34778, -4.00356), (5.34775, -4.00341), (5.34773, -4.00333)], 0.575, 1.7166666666666666)\n",
      "Log file saved to: C:\\Users\\HUAWEI\\CanterburyCommuto\\results\\closest_node_only.log\n"
     ]
    }
   ],
   "source": [
    "!python -m canterburycommuto origin_destination_coordinates.csv \"API_KEY\" \\\n",
    "    --threshold 50 \\\n",
    "    --width 100 \\\n",
    "    --buffer 100 \\\n",
    "    --approximation \"closer to precision\" \\\n",
    "    --commuting_info \"no\" \\\n",
    "    --colorna \"home_A\" \\\n",
    "    --coldesta \"work_A\" \\\n",
    "    --colorib \"home_B\" \\\n",
    "    --colfestb \"work_B\" \\\n",
    "    --output_overlap \"closest_node_only_output.csv\" \\\n",
    "    --output_buffer \"closest_node_only.csv\""
   ]
  },
  {
   "cell_type": "markdown",
   "id": "5b8f7611-6424-4272-a3d0-686a9e62eb76",
   "metadata": {},
   "source": [
    "Uses the precise geometric intersection of the road and buffer intersection polygon and with commuting info before and after the overlap"
   ]
  },
  {
   "cell_type": "code",
   "execution_count": 23,
   "id": "f7850eec-a5e4-4f1d-aa42-db1085e246a9",
   "metadata": {},
   "outputs": [
    {
     "name": "stdout",
     "output_type": "stream",
     "text": [
      "Map saved to: C:\\Users\\HUAWEI\\CanterburyCommuto\\results\\routes_with_buffers_map-2025-04-10_15-47-50_88939.html\n",
      "<IPython.lib.display.IFrame object at 0x000001B22F6AAAE0>\n",
      "Map has been displayed inline and saved as 'results\\routes_with_buffers_map-2025-04-10_15-47-50_88939.html'.\n",
      "Map saved to: C:\\Users\\HUAWEI\\CanterburyCommuto\\results\\routes_with_buffers_map-2025-04-10_15-47-51_72266.html\n",
      "<IPython.lib.display.IFrame object at 0x000001B22F710A10>\n",
      "Map has been displayed inline and saved as 'results\\routes_with_buffers_map-2025-04-10_15-47-51_72266.html'.\n",
      "Before segment: ([(5.37344, -3.99877), (5.37345, -3.99855), (5.37347, -3.99848), (5.37337, -3.99847), (5.37305, -3.99846), (5.37275, -3.99846), (5.37218, -3.99841), (5.37171, -3.99833), (5.37142, -3.99829), (5.37099, -3.99825), (5.3707, -3.99825), (5.37022, -3.99825), (5.36842, -3.99825), (5.36763, -3.99825), (5.36717, -3.99823), (5.36692, -3.99815), (5.36679, -3.99808), (5.36653, -3.99784), (5.3663, -3.99764), (5.36608, -3.99754), (5.36598, -3.99752), (5.36516, -3.9975), (5.36333, -3.9975)], 1.186, 3.15)\n",
      "During segment: ([(5.36333, -3.9975), (5.36189, -3.99751), (5.36139, -3.99752), (5.3611, -3.99759), (5.36091, -3.99768), (5.36071, -3.99782), (5.36055, -3.99798), (5.36035, -3.99822), (5.35983, -3.99895), (5.35916, -3.99987), (5.3584, -4.00089), (5.35802, -4.00123), (5.35778, -4.00134), (5.35727, -4.00144), (5.35578, -4.00162), (5.35467, -4.00177), (5.35222, -4.00207), (5.34864, -4.00251), (5.34626, -4.00274), (5.34536, -4.00284), (5.34494, -4.0029), (5.34426, -4.00302), (5.34413, -4.00303), (5.34412, -4.00305), (5.34409, -4.00308), (5.34406, -4.0031), (5.34398, -4.00311), (5.34392, -4.00309), (5.3439, -4.00308), (5.34369, -4.0031), (5.3428, -4.00321), (5.33983, -4.0036), (5.33673, -4.00398), (5.3364, -4.00402), (5.33622, -4.00405), (5.33612, -4.00403), (5.3361, -4.00405), (5.33603, -4.00409), (5.33595, -4.00407), (5.33593, -4.00405), (5.3359, -4.00406), (5.33583, -4.00409), (5.3355, -4.0041), (5.33505, -4.00415), (5.33425, -4.00428), (5.33109, -4.00467), (5.32942, -4.00488)], 4.0, 9.483333333333333)\n",
      "After segment: ([(5.32942, -4.00488), (5.32797, -4.00505)], 0.163, 0.38333333333333336)\n",
      "Before segment: ([(5.36172, -3.99001), (5.36173, -3.99116), (5.36172, -3.99224), (5.36173, -3.99256), (5.36177, -3.99304), (5.36187, -3.99335), (5.36222, -3.99399), (5.36237, -3.9944), (5.36244, -3.99478), (5.36245, -3.99661)], 0.746, 1.45)\n",
      "During segment: ([(5.36245, -3.99661), (5.36244, -3.9975), (5.36146, -3.99751), (5.36117, -3.99757), (5.36096, -3.99765), (5.36085, -3.99772), (5.36062, -3.99791), (5.36036, -3.9982), (5.36008, -3.9986), (5.35937, -3.9996), (5.35847, -4.0008), (5.35823, -4.00105), (5.35796, -4.00127), (5.35761, -4.00139), (5.35594, -4.0016), (5.35503, -4.00172), (5.35312, -4.00196), (5.34925, -4.00243), (5.34795, -4.00257), (5.34662, -4.0027), (5.34542, -4.00283), (5.34501, -4.00289), (5.34453, -4.00297), (5.34413, -4.00303), (5.34412, -4.00304), (5.3441, -4.00307), (5.34406, -4.00309), (5.34399, -4.00311), (5.34392, -4.00309), (5.3439, -4.00307), (5.34298, -4.00319), (5.33995, -4.00358), (5.3368, -4.00397), (5.33653, -4.00399), (5.33629, -4.00404), (5.33618, -4.00404), (5.33612, -4.00403), (5.33605, -4.00408), (5.33595, -4.00407), (5.33593, -4.00405), (5.33588, -4.00408), (5.33559, -4.00411), (5.33515, -4.00414), (5.33444, -4.00425), (5.33159, -4.00461), (5.33031, -4.00476), (5.3302, -4.004), (5.33018, -4.00388)], 3.998, 9.833333333333334)\n",
      "After segment: ([(5.33018, -4.00388), (5.32991, -4.00158), (5.32984, -4.00099), (5.32914, -4.00107), (5.32722, -4.00131), (5.32602, -4.00145), (5.32509, -4.00158), (5.32477, -4.00163), (5.32441, -4.00172), (5.32365, -4.00194), (5.32275, -4.0022)], 1.122, 3.466666666666667)\n",
      "Map saved to: C:\\Users\\HUAWEI\\CanterburyCommuto\\results\\routes_with_buffers_map-2025-04-10_15-47-52_40880.html\n",
      "<IPython.lib.display.IFrame object at 0x000001B22F713260>\n",
      "Map has been displayed inline and saved as 'results\\routes_with_buffers_map-2025-04-10_15-47-52_40880.html'.\n",
      "Before segment: ([(5.37344, -3.99877), (5.37345, -3.99855), (5.37347, -3.99848), (5.37337, -3.99847), (5.37305, -3.99846), (5.37275, -3.99846), (5.37218, -3.99841), (5.37171, -3.99833), (5.37142, -3.99829), (5.37099, -3.99825), (5.3707, -3.99825), (5.37022, -3.99825), (5.36931, -3.99825)], 0.496, 1.5833333333333333)\n",
      "During segment: ([(5.36931, -3.99825), (5.36734, -3.99824), (5.36703, -3.99819), (5.36679, -3.99808), (5.36638, -3.9977), (5.3663, -3.99764), (5.36608, -3.99754), (5.36587, -3.99751), (5.3634, -3.9975), (5.36189, -3.99751), (5.36139, -3.99752), (5.3611, -3.99759), (5.36091, -3.99768), (5.36071, -3.99782), (5.36055, -3.99798), (5.36035, -3.99822), (5.35983, -3.99895), (5.35916, -3.99987), (5.3584, -4.00089), (5.35802, -4.00123), (5.35778, -4.00134), (5.35727, -4.00144), (5.35578, -4.00162), (5.35467, -4.00177), (5.35222, -4.00207), (5.34864, -4.00251), (5.34626, -4.00274), (5.34536, -4.00284), (5.34494, -4.0029), (5.34426, -4.00302), (5.34413, -4.00303), (5.34412, -4.00305), (5.34409, -4.00308), (5.34406, -4.0031), (5.34398, -4.00311), (5.34392, -4.00309), (5.3439, -4.00308), (5.34369, -4.0031), (5.3428, -4.00321), (5.33983, -4.0036), (5.33673, -4.00398), (5.3364, -4.00402), (5.33622, -4.00405), (5.33612, -4.00403), (5.3361, -4.00405), (5.33603, -4.00409), (5.33595, -4.00407), (5.33593, -4.00405), (5.3359, -4.00406), (5.33583, -4.00409), (5.3355, -4.0041), (5.33502, -4.00416)], 4.062, 9.933333333333334)\n",
      "After segment: ([(5.33502, -4.00416), (5.33425, -4.00428), (5.33279, -4.00446), (5.32876, -4.00496), (5.32797, -4.00505)], 0.79, 1.4833333333333334)\n",
      "Before segment: ([(5.36838, -4.00602), (5.36839, -4.00337), (5.36838, -4.00077), (5.36838, -3.99964), (5.36841, -3.99915)], 0.761, 3.216666666666667)\n",
      "During segment: ([(5.36841, -3.99915), (5.36842, -3.99825), (5.36763, -3.99825), (5.36717, -3.99823), (5.36692, -3.99815), (5.36679, -3.99808), (5.36653, -3.99784), (5.3663, -3.99764), (5.36608, -3.99754), (5.36598, -3.99752), (5.36516, -3.9975), (5.36157, -3.99751), (5.36125, -3.99755), (5.36101, -3.99763), (5.36091, -3.99768), (5.36071, -3.99782), (5.36055, -3.99798), (5.36035, -3.99822), (5.35951, -3.9994), (5.3587, -4.0005), (5.35831, -4.00098), (5.35802, -4.00123), (5.35778, -4.00134), (5.35727, -4.00144), (5.35612, -4.00158), (5.35513, -4.0017), (5.35329, -4.00194), (5.35009, -4.00233), (5.34813, -4.00255), (5.34687, -4.00267), (5.34554, -4.00282), (5.34508, -4.00287), (5.34413, -4.00303), (5.34407, -4.00309), (5.344, -4.00311), (5.34393, -4.00309), (5.3439, -4.00308), (5.34307, -4.00318), (5.34066, -4.00349), (5.33683, -4.00397), (5.3364, -4.00402), (5.33622, -4.00405), (5.33612, -4.00403), (5.33608, -4.00407), (5.33603, -4.00409), (5.33597, -4.00408), (5.33591, -4.00403), (5.3359, -4.00398), (5.33591, -4.00392), (5.33593, -4.0039), (5.33592, -4.00386), (5.3359, -4.00348), (5.33586, -4.00316)], 4.063, 10.3)\n",
      "After segment: ([(5.33586, -4.00316), (5.33548, -4.00012), (5.33526, -3.99834), (5.33512, -3.99716), (5.33496, -3.9957), (5.33484, -3.99472), (5.33472, -3.99373), (5.33472, -3.99364), (5.33471, -3.99363), (5.33471, -3.99361), (5.33471, -3.99358), (5.33475, -3.99356), (5.33479, -3.99359), (5.33478, -3.99363), (5.33482, -3.99373), (5.33489, -3.99425), (5.33503, -3.99537), (5.33504, -3.9955)], 1.294, 2.7)\n",
      "Map saved to: C:\\Users\\HUAWEI\\CanterburyCommuto\\results\\routes_with_buffers_map-2025-04-10_15-47-55_60328.html\n",
      "<IPython.lib.display.IFrame object at 0x000001B22F761520>\n",
      "Map has been displayed inline and saved as 'results\\routes_with_buffers_map-2025-04-10_15-47-55_60328.html'.\n",
      "Before segment: ([(5.37344, -3.99877), (5.37345, -3.99855), (5.37347, -3.99848), (5.37337, -3.99847), (5.37305, -3.99846), (5.37275, -3.99846), (5.37218, -3.99841), (5.37171, -3.99833), (5.37142, -3.99829), (5.37099, -3.99825), (5.3707, -3.99825), (5.37022, -3.99825), (5.36842, -3.99825), (5.36763, -3.99825), (5.36717, -3.99823), (5.36692, -3.99815), (5.36679, -3.99808), (5.36653, -3.99784), (5.3663, -3.99764), (5.36608, -3.99754), (5.36598, -3.99752), (5.36516, -3.9975), (5.36157, -3.99751), (5.36125, -3.99755), (5.36101, -3.99763), (5.36091, -3.99768), (5.36071, -3.99782), (5.36055, -3.99798), (5.36035, -3.99822), (5.35951, -3.9994), (5.3587, -4.0005), (5.35831, -4.00098), (5.35802, -4.00123), (5.35778, -4.00134), (5.35727, -4.00144), (5.35612, -4.00158), (5.35513, -4.0017), (5.35329, -4.00194), (5.35009, -4.00233), (5.34813, -4.00255), (5.34687, -4.00267), (5.34554, -4.00282), (5.34508, -4.00287), (5.34503, -4.00288)], 3.426, 8.416666666666666)\n",
      "During segment: ([(5.34503, -4.00288), (5.34413, -4.00303), (5.34407, -4.00309), (5.344, -4.00311), (5.34393, -4.00309), (5.3439, -4.00308), (5.34307, -4.00318), (5.34066, -4.00349), (5.33683, -4.00397), (5.3364, -4.00402), (5.33622, -4.00405), (5.33612, -4.00403), (5.33608, -4.00407), (5.33603, -4.00409), (5.33597, -4.00408), (5.33595, -4.00407), (5.33593, -4.00405), (5.3359, -4.00406), (5.33583, -4.00409), (5.33568, -4.0041), (5.33532, -4.00412), (5.33521, -4.00413)], 1.111, 3.0166666666666666)\n",
      "After segment: ([(5.33521, -4.00413), (5.33444, -4.00425), (5.33339, -4.00439), (5.32986, -4.00482), (5.32797, -4.00505)], 0.811, 1.55)\n",
      "Before segment: ([(5.35576, -3.96982), (5.35617, -3.96841), (5.3565, -3.9676), (5.35645, -3.96755), (5.35643, -3.96748), (5.35644, -3.96736), (5.35651, -3.96727), (5.35658, -3.96724), (5.35665, -3.96723), (5.35676, -3.96727), (5.35681, -3.96733), (5.35683, -3.9674), (5.35683, -3.96747), (5.35678, -3.96758), (5.35665, -3.96763), (5.35661, -3.96764), (5.35646, -3.96799), (5.35617, -3.96882), (5.35588, -3.9698), (5.35574, -3.97029), (5.35561, -3.97081), (5.35549, -3.97117), (5.35521, -3.97201), (5.35496, -3.97288), (5.35464, -3.97391), (5.35427, -3.97522), (5.35409, -3.97592), (5.35373, -3.97724), (5.35326, -3.97881), (5.35244, -3.98144), (5.35205, -3.98263), (5.35178, -3.98337), (5.3509, -3.98644), (5.34987, -3.99015), (5.34967, -3.99082), (5.34955, -3.99133), (5.34942, -3.99198), (5.34936, -3.99233), (5.34931, -3.99285), (5.3493, -3.99347), (5.34948, -3.99587), (5.34946, -3.99629), (5.3494, -3.99695), (5.34886, -3.99695), (5.34852, -3.99699), (5.34736, -3.99714), (5.3458, -3.99735), (5.34538, -3.9974), (5.34449, -3.99828), (5.34387, -3.9989), (5.34376, -3.99905), (5.34369, -3.99918), (5.34363, -3.99935), (5.3436, -3.99955), (5.34362, -3.99985), (5.34367, -4.00018), (5.34375, -4.00055), (5.34386, -4.00141), (5.34394, -4.00197), (5.34397, -4.00215)], 4.814, 10.716666666666667)\n",
      "During segment: ([(5.34397, -4.00215), (5.34407, -4.00284), (5.34408, -4.00285), (5.34412, -4.00288), (5.34414, -4.00296), (5.34413, -4.00303), (5.34408, -4.00308), (5.34401, -4.00311), (5.34394, -4.0031), (5.34391, -4.00308), (5.34351, -4.00312), (5.34102, -4.00345), (5.33706, -4.00394), (5.33653, -4.00399), (5.33629, -4.00404), (5.33618, -4.00404), (5.33612, -4.00403), (5.33611, -4.00406), (5.33614, -4.00414), (5.3362, -4.00497)], 1.111, 3.1)\n",
      "After segment: ([(5.3362, -4.00497), (5.33621, -4.00533), (5.3362, -4.0055), (5.33607, -4.00553), (5.33542, -4.00564), (5.33519, -4.00568), (5.33476, -4.00579), (5.33454, -4.00586), (5.33428, -4.00601), (5.33401, -4.00621), (5.33345, -4.00678), (5.33323, -4.00699)], 0.441, 1.6333333333333333)\n",
      "Map saved to: C:\\Users\\HUAWEI\\CanterburyCommuto\\results\\routes_with_buffers_map-2025-04-10_15-47-57_85476.html\n",
      "<IPython.lib.display.IFrame object at 0x000001B22F6AAAB0>\n",
      "Map has been displayed inline and saved as 'results\\routes_with_buffers_map-2025-04-10_15-47-57_85476.html'.\n",
      "Not enough route A intersections.\n",
      "Not enough route B intersections.\n",
      "Map saved to: C:\\Users\\HUAWEI\\CanterburyCommuto\\results\\routes_with_buffers_map-2025-04-10_15-47-57_55185.html\n",
      "<IPython.lib.display.IFrame object at 0x000001B22F6AA840>\n",
      "Map has been displayed inline and saved as 'results\\routes_with_buffers_map-2025-04-10_15-47-57_55185.html'.\n",
      "Before segment: ([(5.36172, -3.99001), (5.36173, -3.99116), (5.36172, -3.99224), (5.36173, -3.99256), (5.36177, -3.99304), (5.36187, -3.99335), (5.36222, -3.99399), (5.36237, -3.9944), (5.36244, -3.99478), (5.36245, -3.99661)], 0.747, 1.4666666666666666)\n",
      "During segment: ([(5.36245, -3.99661), (5.36244, -3.9975), (5.36146, -3.99751), (5.36117, -3.99757), (5.36096, -3.99765), (5.36085, -3.99772), (5.36062, -3.99791), (5.36036, -3.9982), (5.36008, -3.9986), (5.35937, -3.9996), (5.35847, -4.0008), (5.35823, -4.00105), (5.35796, -4.00127), (5.35761, -4.00139), (5.35594, -4.0016), (5.35503, -4.00172), (5.35312, -4.00196), (5.34925, -4.00243), (5.34795, -4.00257), (5.34662, -4.0027), (5.34542, -4.00283), (5.34501, -4.00289), (5.34453, -4.00297), (5.34413, -4.00303), (5.34412, -4.00304), (5.3441, -4.00307), (5.34406, -4.00309), (5.34399, -4.00311), (5.34392, -4.00309), (5.3439, -4.00307), (5.34298, -4.00319), (5.33995, -4.00358), (5.3368, -4.00397), (5.33653, -4.00399), (5.33629, -4.00404), (5.33618, -4.00404), (5.33612, -4.00403), (5.33605, -4.00408), (5.33595, -4.00407), (5.33593, -4.00405), (5.33588, -4.00408), (5.33559, -4.00411), (5.33515, -4.00414), (5.33502, -4.00416)], 3.371, 8.666666666666666)\n",
      "After segment: ([(5.33502, -4.00416), (5.33425, -4.00428), (5.33279, -4.00446), (5.33109, -4.00467), (5.33031, -4.00476), (5.33028, -4.00465), (5.33015, -4.00364), (5.32998, -4.00225), (5.32988, -4.00137), (5.32985, -4.00109), (5.32984, -4.00099), (5.32971, -4.001), (5.32925, -4.00106), (5.32872, -4.00112), (5.32739, -4.0013), (5.32716, -4.00131), (5.32592, -4.00146), (5.32493, -4.0016), (5.3246, -4.00166), (5.32418, -4.00179), (5.32345, -4.002), (5.32275, -4.0022)], 1.75, 4.65)\n",
      "Before segment: ([(5.36838, -4.00602), (5.36839, -4.00337), (5.36838, -4.00077), (5.36838, -3.99964), (5.36842, -3.99873), (5.36842, -3.99825), (5.36763, -3.99825), (5.36717, -3.99823), (5.36692, -3.99815), (5.36679, -3.99808), (5.36653, -3.99784), (5.3663, -3.99764), (5.36608, -3.99754), (5.36598, -3.99752), (5.36516, -3.9975), (5.36333, -3.9975)], 1.452, 5.183333333333334)\n",
      "During segment: ([(5.36333, -3.9975), (5.36189, -3.99751), (5.36139, -3.99752), (5.3611, -3.99759), (5.36091, -3.99768), (5.36071, -3.99782), (5.36055, -3.99798), (5.36035, -3.99822), (5.35983, -3.99895), (5.35916, -3.99987), (5.3584, -4.00089), (5.35802, -4.00123), (5.35778, -4.00134), (5.35727, -4.00144), (5.35578, -4.00162), (5.35467, -4.00177), (5.35222, -4.00207), (5.34864, -4.00251), (5.34626, -4.00274), (5.34536, -4.00284), (5.34494, -4.0029), (5.34426, -4.00302), (5.34413, -4.00303), (5.34412, -4.00305), (5.34409, -4.00308), (5.34406, -4.0031), (5.34398, -4.00311), (5.34392, -4.00309), (5.3439, -4.00308), (5.34369, -4.0031), (5.3428, -4.00321), (5.33983, -4.0036), (5.33673, -4.00398), (5.3364, -4.00402), (5.33622, -4.00405), (5.33612, -4.00403), (5.3361, -4.00405), (5.33603, -4.00409), (5.33595, -4.00407), (5.33591, -4.00403), (5.3359, -4.00398), (5.33593, -4.0039), (5.33591, -4.00371), (5.3359, -4.00348), (5.33586, -4.00317), (5.33586, -4.00316)], 3.372, 8.35)\n",
      "After segment: ([(5.33586, -4.00316), (5.33548, -4.00012), (5.33526, -3.99834), (5.33512, -3.99716), (5.33496, -3.9957), (5.33484, -3.99472), (5.33472, -3.99373), (5.33472, -3.99364), (5.33471, -3.99363), (5.33471, -3.99361), (5.33471, -3.99358), (5.33475, -3.99356), (5.33479, -3.99359), (5.33478, -3.99363), (5.33482, -3.99373), (5.33489, -3.99425), (5.33503, -3.99537), (5.33504, -3.9955)], 1.294, 2.7)\n",
      "Map saved to: C:\\Users\\HUAWEI\\CanterburyCommuto\\results\\routes_with_buffers_map-2025-04-10_15-47-59_84220.html\n",
      "<IPython.lib.display.IFrame object at 0x000001B22F6A9250>\n",
      "Map has been displayed inline and saved as 'results\\routes_with_buffers_map-2025-04-10_15-47-59_84220.html'.\n",
      "Before segment: ([(5.35576, -3.96982)], 0.0, 0.0)\n",
      "During segment: ([(5.35576, -3.96982), (5.35617, -3.96841), (5.3565, -3.9676), (5.35645, -3.96755), (5.35643, -3.96748), (5.35644, -3.96736), (5.35651, -3.96727), (5.35658, -3.96724), (5.35665, -3.96723), (5.35676, -3.96727), (5.35681, -3.96733), (5.35683, -3.9674), (5.35683, -3.96747), (5.35678, -3.96758), (5.35665, -3.96763), (5.35661, -3.96764), (5.35646, -3.96799), (5.35617, -3.96882), (5.35588, -3.9698), (5.35574, -3.97029), (5.35561, -3.97081), (5.35549, -3.97117), (5.35521, -3.97201), (5.35496, -3.97288), (5.35464, -3.97391), (5.35427, -3.97522), (5.35409, -3.97592), (5.35373, -3.97724), (5.35326, -3.97881), (5.35244, -3.98144), (5.35205, -3.98263), (5.35178, -3.98337), (5.3509, -3.98644), (5.34987, -3.99015), (5.34967, -3.99082), (5.34955, -3.99133), (5.34942, -3.99198), (5.34936, -3.99233), (5.34931, -3.99285), (5.3493, -3.99347), (5.34948, -3.99587), (5.34946, -3.99629), (5.3494, -3.99695), (5.34886, -3.99695), (5.34852, -3.99699), (5.34736, -3.99714), (5.3458, -3.99735), (5.34538, -3.9974), (5.34449, -3.99828), (5.34387, -3.9989), (5.34376, -3.99905), (5.34369, -3.99918), (5.34363, -3.99935), (5.3436, -3.99955), (5.34362, -3.99985), (5.34367, -4.00018), (5.34375, -4.00055), (5.34386, -4.00141), (5.34394, -4.00197), (5.34408, -4.00284), (5.34411, -4.00288), (5.34414, -4.00295), (5.34413, -4.00302), (5.34409, -4.00308), (5.34402, -4.00311), (5.34394, -4.0031), (5.34392, -4.00309), (5.3439, -4.00308), (5.34369, -4.0031), (5.34323, -4.00316)], 5.021, 11.333333333333334)\n",
      "After segment: ([(5.34323, -4.00316), (5.34102, -4.00345), (5.33858, -4.00375), (5.33706, -4.00394), (5.33653, -4.00399), (5.33629, -4.00404), (5.33618, -4.00404), (5.33612, -4.00403), (5.33611, -4.00406), (5.33614, -4.00414), (5.33621, -4.00512), (5.3362, -4.0055), (5.33573, -4.00558), (5.33512, -4.0057), (5.33464, -4.00582), (5.3344, -4.00593), (5.33421, -4.00605), (5.33386, -4.00635), (5.33323, -4.00699)], 1.345, 4.1)\n",
      "Before segment: ([(5.393, -3.97552), (5.39339, -3.97407), (5.3936, -3.97317), (5.39377, -3.97259), (5.39391, -3.97219), (5.39409, -3.97188), (5.39478, -3.97105), (5.39448, -3.97095), (5.39379, -3.97078), (5.39286, -3.97055), (5.39183, -3.97028), (5.39081, -3.97002), (5.39009, -3.96983), (5.38863, -3.96948), (5.38736, -3.96916), (5.38667, -3.96896), (5.38596, -3.96879), (5.38394, -3.9684), (5.38351, -3.96831), (5.38323, -3.9682), (5.38309, -3.96815), (5.38235, -3.96793), (5.38038, -3.96734), (5.37776, -3.96655), (5.37742, -3.96645), (5.37656, -3.96619), (5.3765, -3.96619), (5.37639, -3.96619), (5.37638, -3.9662), (5.37637, -3.96622), (5.37631, -3.9663), (5.37617, -3.96635), (5.37614, -3.96635), (5.37607, -3.96642), (5.37603, -3.96647), (5.37595, -3.96677), (5.37578, -3.96747), (5.37542, -3.96866), (5.375, -3.9701), (5.3749, -3.9704), (5.37468, -3.97033), (5.37445, -3.97026), (5.37437, -3.97025), (5.37425, -3.97025), (5.3735, -3.97042), (5.37249, -3.97062), (5.37196, -3.97073), (5.37146, -3.97083), (5.37128, -3.97083), (5.37114, -3.97081), (5.3708, -3.97073), (5.36874, -3.9701), (5.36433, -3.96879), (5.36152, -3.96795), (5.36059, -3.96766), (5.35982, -3.96744), (5.35882, -3.96713), (5.35873, -3.96733), (5.35853, -3.96785), (5.3585, -3.96784), (5.35772, -3.9675)], 5.204, 13.0)\n",
      "During segment: ([(5.35772, -3.9675), (5.35709, -3.96723), (5.35704, -3.96724), (5.35697, -3.96736), (5.35694, -3.9674), (5.35684, -3.96745), (5.3568, -3.96755), (5.35675, -3.9676), (5.35667, -3.96763), (5.3566, -3.96764), (5.35623, -3.96865), (5.35602, -3.96926), (5.35587, -3.96981), (5.35568, -3.97054), (5.3555, -3.97115), (5.35524, -3.97191), (5.35501, -3.9727), (5.35469, -3.97374), (5.35437, -3.97487), (5.35391, -3.97662), (5.35345, -3.97818), (5.35279, -3.98033), (5.3521, -3.98247), (5.35182, -3.98325), (5.35159, -3.98401), (5.3506, -3.98747), (5.34992, -3.98998), (5.3496, -3.99109), (5.3494, -3.99208), (5.34932, -3.99269), (5.3493, -3.99323), (5.34933, -3.99393), (5.34946, -3.99558), (5.34947, -3.99608), (5.34945, -3.99653), (5.3494, -3.99695), (5.34931, -3.99694), (5.34871, -3.99697), (5.34771, -3.99709), (5.34608, -3.9973), (5.34574, -3.99735), (5.34538, -3.9974), (5.34462, -3.99815), (5.34447, -3.99829), (5.34409, -3.99867), (5.34382, -3.99897), (5.34373, -3.99911), (5.34365, -3.99927), (5.34361, -3.99945), (5.3436, -3.9997), (5.34364, -4.00004), (5.34369, -4.00031), (5.34379, -4.00083), (5.34394, -4.00194), (5.34407, -4.00284), (5.34413, -4.0029), (5.34414, -4.00298), (5.34412, -4.00304), (5.34414, -4.00338), (5.34419, -4.00371), (5.34427, -4.00397)], 4.784, 10.066666666666666)\n",
      "After segment: ([(5.34427, -4.00397), (5.34442, -4.00425), (5.34458, -4.00446), (5.34483, -4.00467), (5.34498, -4.00476), (5.34579, -4.00513), (5.34604, -4.00524), (5.34638, -4.00473), (5.3469, -4.00394), (5.34704, -4.00375), (5.34715, -4.0037), (5.34778, -4.00364), (5.34777, -4.00349), (5.34773, -4.00333)], 0.568, 1.7166666666666666)\n",
      "Log file saved to: C:\\Users\\HUAWEI\\CanterburyCommuto\\results\\exact.log\n"
     ]
    }
   ],
   "source": [
    "!python -m canterburycommuto origin_destination_coordinates.csv \"API_KEY\" \\\n",
    "    --threshold 50 \\\n",
    "    --width 100 \\\n",
    "    --buffer 100 \\\n",
    "    --approximation \"exact\" \\\n",
    "    --commuting_info \"yes\" \\\n",
    "    --colorna \"home_A\" \\\n",
    "    --coldesta \"work_A\" \\\n",
    "    --colorib \"home_B\" \\\n",
    "    --colfestb \"work_B\" \\\n",
    "    --output_overlap \"exact_output.csv\" \\\n",
    "    --output_buffer \"exact.csv\""
   ]
  },
  {
   "cell_type": "markdown",
   "id": "3ffd076f-fa2b-40f0-93c7-f8eeaeadf0fb",
   "metadata": {},
   "source": [
    "Uses the precise geometric intersection of the road and buffer intersection polygon, but without commuting information before and after the overlap"
   ]
  },
  {
   "cell_type": "code",
   "execution_count": 25,
   "id": "cfc19160-425d-4af7-a7bc-cc37cacae908",
   "metadata": {},
   "outputs": [
    {
     "name": "stdout",
     "output_type": "stream",
     "text": [
      "Map saved to: C:\\Users\\HUAWEI\\CanterburyCommuto\\results\\routes_with_buffers_map-2025-04-10_15-48-04_70808.html\n",
      "<IPython.lib.display.IFrame object at 0x0000019A1DBAEBA0>\n",
      "Map has been displayed inline and saved as 'results\\routes_with_buffers_map-2025-04-10_15-48-04_70808.html'.\n",
      "Map saved to: C:\\Users\\HUAWEI\\CanterburyCommuto\\results\\routes_with_buffers_map-2025-04-10_15-48-05_69386.html\n",
      "<IPython.lib.display.IFrame object at 0x0000019A1DC909B0>\n",
      "Map has been displayed inline and saved as 'results\\routes_with_buffers_map-2025-04-10_15-48-05_69386.html'.\n",
      "Before segment: ([(5.37344, -3.99877), (5.37345, -3.99855), (5.37347, -3.99848), (5.37337, -3.99847), (5.37305, -3.99846), (5.37275, -3.99846), (5.37218, -3.99841), (5.37171, -3.99833), (5.37142, -3.99829), (5.37099, -3.99825), (5.3707, -3.99825), (5.37022, -3.99825), (5.36842, -3.99825), (5.36763, -3.99825), (5.36717, -3.99823), (5.36692, -3.99815), (5.36679, -3.99808), (5.36653, -3.99784), (5.3663, -3.99764), (5.36608, -3.99754), (5.36598, -3.99752), (5.36516, -3.9975), (5.36333, -3.9975)], 1.186, 3.15)\n",
      "During segment: ([(5.36333, -3.9975), (5.36189, -3.99751), (5.36139, -3.99752), (5.3611, -3.99759), (5.36091, -3.99768), (5.36071, -3.99782), (5.36055, -3.99798), (5.36035, -3.99822), (5.35983, -3.99895), (5.35916, -3.99987), (5.3584, -4.00089), (5.35802, -4.00123), (5.35778, -4.00134), (5.35727, -4.00144), (5.35578, -4.00162), (5.35467, -4.00177), (5.35222, -4.00207), (5.34864, -4.00251), (5.34626, -4.00274), (5.34536, -4.00284), (5.34494, -4.0029), (5.34426, -4.00302), (5.34413, -4.00303), (5.34412, -4.00305), (5.34409, -4.00308), (5.34406, -4.0031), (5.34398, -4.00311), (5.34392, -4.00309), (5.3439, -4.00308), (5.34369, -4.0031), (5.3428, -4.00321), (5.33983, -4.0036), (5.33673, -4.00398), (5.3364, -4.00402), (5.33622, -4.00405), (5.33612, -4.00403), (5.3361, -4.00405), (5.33603, -4.00409), (5.33595, -4.00407), (5.33593, -4.00405), (5.3359, -4.00406), (5.33583, -4.00409), (5.3355, -4.0041), (5.33505, -4.00415), (5.33425, -4.00428), (5.33109, -4.00467), (5.32942, -4.00488)], 4.0, 9.483333333333333)\n",
      "After segment: ([(5.32942, -4.00488), (5.32797, -4.00505)], 0.163, 0.38333333333333336)\n",
      "Before segment: ([(5.36172, -3.99001), (5.36173, -3.99116), (5.36172, -3.99224), (5.36173, -3.99256), (5.36177, -3.99304), (5.36187, -3.99335), (5.36222, -3.99399), (5.36237, -3.9944), (5.36244, -3.99478), (5.36245, -3.99661)], 0.746, 1.45)\n",
      "During segment: ([(5.36245, -3.99661), (5.36244, -3.9975), (5.36146, -3.99751), (5.36117, -3.99757), (5.36096, -3.99765), (5.36085, -3.99772), (5.36062, -3.99791), (5.36036, -3.9982), (5.36008, -3.9986), (5.35937, -3.9996), (5.35847, -4.0008), (5.35823, -4.00105), (5.35796, -4.00127), (5.35761, -4.00139), (5.35594, -4.0016), (5.35503, -4.00172), (5.35312, -4.00196), (5.34925, -4.00243), (5.34795, -4.00257), (5.34662, -4.0027), (5.34542, -4.00283), (5.34501, -4.00289), (5.34453, -4.00297), (5.34413, -4.00303), (5.34412, -4.00304), (5.3441, -4.00307), (5.34406, -4.00309), (5.34399, -4.00311), (5.34392, -4.00309), (5.3439, -4.00307), (5.34298, -4.00319), (5.33995, -4.00358), (5.3368, -4.00397), (5.33653, -4.00399), (5.33629, -4.00404), (5.33618, -4.00404), (5.33612, -4.00403), (5.33605, -4.00408), (5.33595, -4.00407), (5.33593, -4.00405), (5.33588, -4.00408), (5.33559, -4.00411), (5.33515, -4.00414), (5.33444, -4.00425), (5.33159, -4.00461), (5.33031, -4.00476), (5.3302, -4.004), (5.33018, -4.00388)], 3.998, 9.833333333333334)\n",
      "After segment: ([(5.33018, -4.00388), (5.32991, -4.00158), (5.32984, -4.00099), (5.32914, -4.00107), (5.32722, -4.00131), (5.32602, -4.00145), (5.32509, -4.00158), (5.32477, -4.00163), (5.32441, -4.00172), (5.32365, -4.00194), (5.32275, -4.0022)], 1.122, 3.466666666666667)\n",
      "Map saved to: C:\\Users\\HUAWEI\\CanterburyCommuto\\results\\routes_with_buffers_map-2025-04-10_15-48-06_77724.html\n",
      "<IPython.lib.display.IFrame object at 0x0000019A1DC92F60>\n",
      "Map has been displayed inline and saved as 'results\\routes_with_buffers_map-2025-04-10_15-48-06_77724.html'.\n",
      "Before segment: ([(5.37344, -3.99877), (5.37345, -3.99855), (5.37347, -3.99848), (5.37337, -3.99847), (5.37305, -3.99846), (5.37275, -3.99846), (5.37218, -3.99841), (5.37171, -3.99833), (5.37142, -3.99829), (5.37099, -3.99825), (5.3707, -3.99825), (5.37022, -3.99825), (5.36931, -3.99825)], 0.496, 1.5833333333333333)\n",
      "During segment: ([(5.36931, -3.99825), (5.36734, -3.99824), (5.36703, -3.99819), (5.36679, -3.99808), (5.36638, -3.9977), (5.3663, -3.99764), (5.36608, -3.99754), (5.36587, -3.99751), (5.3634, -3.9975), (5.36189, -3.99751), (5.36139, -3.99752), (5.3611, -3.99759), (5.36091, -3.99768), (5.36071, -3.99782), (5.36055, -3.99798), (5.36035, -3.99822), (5.35983, -3.99895), (5.35916, -3.99987), (5.3584, -4.00089), (5.35802, -4.00123), (5.35778, -4.00134), (5.35727, -4.00144), (5.35578, -4.00162), (5.35467, -4.00177), (5.35222, -4.00207), (5.34864, -4.00251), (5.34626, -4.00274), (5.34536, -4.00284), (5.34494, -4.0029), (5.34426, -4.00302), (5.34413, -4.00303), (5.34412, -4.00305), (5.34409, -4.00308), (5.34406, -4.0031), (5.34398, -4.00311), (5.34392, -4.00309), (5.3439, -4.00308), (5.34369, -4.0031), (5.3428, -4.00321), (5.33983, -4.0036), (5.33673, -4.00398), (5.3364, -4.00402), (5.33622, -4.00405), (5.33612, -4.00403), (5.3361, -4.00405), (5.33603, -4.00409), (5.33595, -4.00407), (5.33593, -4.00405), (5.3359, -4.00406), (5.33583, -4.00409), (5.3355, -4.0041), (5.33502, -4.00416)], 4.062, 9.933333333333334)\n",
      "After segment: ([(5.33502, -4.00416), (5.33425, -4.00428), (5.33279, -4.00446), (5.32876, -4.00496), (5.32797, -4.00505)], 0.79, 1.4833333333333334)\n",
      "Before segment: ([(5.36838, -4.00602), (5.36839, -4.00337), (5.36838, -4.00077), (5.36838, -3.99964), (5.36841, -3.99915)], 0.761, 3.216666666666667)\n",
      "During segment: ([(5.36841, -3.99915), (5.36842, -3.99825), (5.36763, -3.99825), (5.36717, -3.99823), (5.36692, -3.99815), (5.36679, -3.99808), (5.36653, -3.99784), (5.3663, -3.99764), (5.36608, -3.99754), (5.36598, -3.99752), (5.36516, -3.9975), (5.36157, -3.99751), (5.36125, -3.99755), (5.36101, -3.99763), (5.36091, -3.99768), (5.36071, -3.99782), (5.36055, -3.99798), (5.36035, -3.99822), (5.35951, -3.9994), (5.3587, -4.0005), (5.35831, -4.00098), (5.35802, -4.00123), (5.35778, -4.00134), (5.35727, -4.00144), (5.35612, -4.00158), (5.35513, -4.0017), (5.35329, -4.00194), (5.35009, -4.00233), (5.34813, -4.00255), (5.34687, -4.00267), (5.34554, -4.00282), (5.34508, -4.00287), (5.34413, -4.00303), (5.34407, -4.00309), (5.344, -4.00311), (5.34393, -4.00309), (5.3439, -4.00308), (5.34307, -4.00318), (5.34066, -4.00349), (5.33683, -4.00397), (5.3364, -4.00402), (5.33622, -4.00405), (5.33612, -4.00403), (5.33608, -4.00407), (5.33603, -4.00409), (5.33597, -4.00408), (5.33591, -4.00403), (5.3359, -4.00398), (5.33591, -4.00392), (5.33593, -4.0039), (5.33592, -4.00386), (5.3359, -4.00348), (5.33586, -4.00316)], 4.063, 10.3)\n",
      "After segment: ([(5.33586, -4.00316), (5.33548, -4.00012), (5.33526, -3.99834), (5.33512, -3.99716), (5.33496, -3.9957), (5.33484, -3.99472), (5.33472, -3.99373), (5.33472, -3.99364), (5.33471, -3.99363), (5.33471, -3.99361), (5.33471, -3.99358), (5.33475, -3.99356), (5.33479, -3.99359), (5.33478, -3.99363), (5.33482, -3.99373), (5.33489, -3.99425), (5.33503, -3.99537), (5.33504, -3.9955)], 1.294, 2.7)\n",
      "Map saved to: C:\\Users\\HUAWEI\\CanterburyCommuto\\results\\routes_with_buffers_map-2025-04-10_15-48-07_99391.html\n",
      "<IPython.lib.display.IFrame object at 0x0000019A1DCE1130>\n",
      "Map has been displayed inline and saved as 'results\\routes_with_buffers_map-2025-04-10_15-48-07_99391.html'.\n",
      "Before segment: ([(5.37344, -3.99877), (5.37345, -3.99855), (5.37347, -3.99848), (5.37337, -3.99847), (5.37305, -3.99846), (5.37275, -3.99846), (5.37218, -3.99841), (5.37171, -3.99833), (5.37142, -3.99829), (5.37099, -3.99825), (5.3707, -3.99825), (5.37022, -3.99825), (5.36842, -3.99825), (5.36763, -3.99825), (5.36717, -3.99823), (5.36692, -3.99815), (5.36679, -3.99808), (5.36653, -3.99784), (5.3663, -3.99764), (5.36608, -3.99754), (5.36598, -3.99752), (5.36516, -3.9975), (5.36157, -3.99751), (5.36125, -3.99755), (5.36101, -3.99763), (5.36091, -3.99768), (5.36071, -3.99782), (5.36055, -3.99798), (5.36035, -3.99822), (5.35951, -3.9994), (5.3587, -4.0005), (5.35831, -4.00098), (5.35802, -4.00123), (5.35778, -4.00134), (5.35727, -4.00144), (5.35612, -4.00158), (5.35513, -4.0017), (5.35329, -4.00194), (5.35009, -4.00233), (5.34813, -4.00255), (5.34687, -4.00267), (5.34554, -4.00282), (5.34508, -4.00287), (5.34503, -4.00288)], 3.426, 8.416666666666666)\n",
      "During segment: ([(5.34503, -4.00288), (5.34413, -4.00303), (5.34407, -4.00309), (5.344, -4.00311), (5.34393, -4.00309), (5.3439, -4.00308), (5.34307, -4.00318), (5.34066, -4.00349), (5.33683, -4.00397), (5.3364, -4.00402), (5.33622, -4.00405), (5.33612, -4.00403), (5.33608, -4.00407), (5.33603, -4.00409), (5.33597, -4.00408), (5.33595, -4.00407), (5.33593, -4.00405), (5.3359, -4.00406), (5.33583, -4.00409), (5.33568, -4.0041), (5.33532, -4.00412), (5.33521, -4.00413)], 1.111, 3.0166666666666666)\n",
      "After segment: ([(5.33521, -4.00413), (5.33444, -4.00425), (5.33339, -4.00439), (5.32986, -4.00482), (5.32797, -4.00505)], 0.811, 1.55)\n",
      "Before segment: ([(5.35576, -3.96982), (5.35617, -3.96841), (5.3565, -3.9676), (5.35645, -3.96755), (5.35643, -3.96748), (5.35644, -3.96736), (5.35651, -3.96727), (5.35658, -3.96724), (5.35665, -3.96723), (5.35676, -3.96727), (5.35681, -3.96733), (5.35683, -3.9674), (5.35683, -3.96747), (5.35678, -3.96758), (5.35665, -3.96763), (5.35661, -3.96764), (5.35646, -3.96799), (5.35617, -3.96882), (5.35588, -3.9698), (5.35574, -3.97029), (5.35561, -3.97081), (5.35549, -3.97117), (5.35521, -3.97201), (5.35496, -3.97288), (5.35464, -3.97391), (5.35427, -3.97522), (5.35409, -3.97592), (5.35373, -3.97724), (5.35326, -3.97881), (5.35244, -3.98144), (5.35205, -3.98263), (5.35178, -3.98337), (5.3509, -3.98644), (5.34987, -3.99015), (5.34967, -3.99082), (5.34955, -3.99133), (5.34942, -3.99198), (5.34936, -3.99233), (5.34931, -3.99285), (5.3493, -3.99347), (5.34948, -3.99587), (5.34946, -3.99629), (5.3494, -3.99695), (5.34886, -3.99695), (5.34852, -3.99699), (5.34736, -3.99714), (5.3458, -3.99735), (5.34538, -3.9974), (5.34449, -3.99828), (5.34387, -3.9989), (5.34376, -3.99905), (5.34369, -3.99918), (5.34363, -3.99935), (5.3436, -3.99955), (5.34362, -3.99985), (5.34367, -4.00018), (5.34375, -4.00055), (5.34386, -4.00141), (5.34394, -4.00197), (5.34397, -4.00215)], 4.814, 10.716666666666667)\n",
      "During segment: ([(5.34397, -4.00215), (5.34407, -4.00284), (5.34408, -4.00285), (5.34412, -4.00288), (5.34414, -4.00296), (5.34413, -4.00303), (5.34408, -4.00308), (5.34401, -4.00311), (5.34394, -4.0031), (5.34391, -4.00308), (5.34351, -4.00312), (5.34102, -4.00345), (5.33706, -4.00394), (5.33653, -4.00399), (5.33629, -4.00404), (5.33618, -4.00404), (5.33612, -4.00403), (5.33611, -4.00406), (5.33614, -4.00414), (5.3362, -4.00497)], 1.111, 3.1)\n",
      "After segment: ([(5.3362, -4.00497), (5.33621, -4.00533), (5.3362, -4.0055), (5.33607, -4.00553), (5.33542, -4.00564), (5.33519, -4.00568), (5.33476, -4.00579), (5.33454, -4.00586), (5.33428, -4.00601), (5.33401, -4.00621), (5.33345, -4.00678), (5.33323, -4.00699)], 0.441, 1.6333333333333333)\n",
      "Map saved to: C:\\Users\\HUAWEI\\CanterburyCommuto\\results\\routes_with_buffers_map-2025-04-10_15-48-09_12559.html\n",
      "<IPython.lib.display.IFrame object at 0x0000019A1DBAE690>\n",
      "Map has been displayed inline and saved as 'results\\routes_with_buffers_map-2025-04-10_15-48-09_12559.html'.\n",
      "Not enough route A intersections.\n",
      "Not enough route B intersections.\n",
      "Map saved to: C:\\Users\\HUAWEI\\CanterburyCommuto\\results\\routes_with_buffers_map-2025-04-10_15-48-09_96288.html\n",
      "<IPython.lib.display.IFrame object at 0x0000019A1DBAF8C0>\n",
      "Map has been displayed inline and saved as 'results\\routes_with_buffers_map-2025-04-10_15-48-09_96288.html'.\n",
      "Before segment: ([(5.36172, -3.99001), (5.36173, -3.99116), (5.36172, -3.99224), (5.36173, -3.99256), (5.36177, -3.99304), (5.36187, -3.99335), (5.36222, -3.99399), (5.36237, -3.9944), (5.36244, -3.99478), (5.36245, -3.99661)], 0.747, 1.4666666666666666)\n",
      "During segment: ([(5.36245, -3.99661), (5.36244, -3.9975), (5.36146, -3.99751), (5.36117, -3.99757), (5.36096, -3.99765), (5.36085, -3.99772), (5.36062, -3.99791), (5.36036, -3.9982), (5.36008, -3.9986), (5.35937, -3.9996), (5.35847, -4.0008), (5.35823, -4.00105), (5.35796, -4.00127), (5.35761, -4.00139), (5.35594, -4.0016), (5.35503, -4.00172), (5.35312, -4.00196), (5.34925, -4.00243), (5.34795, -4.00257), (5.34662, -4.0027), (5.34542, -4.00283), (5.34501, -4.00289), (5.34453, -4.00297), (5.34413, -4.00303), (5.34412, -4.00304), (5.3441, -4.00307), (5.34406, -4.00309), (5.34399, -4.00311), (5.34392, -4.00309), (5.3439, -4.00307), (5.34298, -4.00319), (5.33995, -4.00358), (5.3368, -4.00397), (5.33653, -4.00399), (5.33629, -4.00404), (5.33618, -4.00404), (5.33612, -4.00403), (5.33605, -4.00408), (5.33595, -4.00407), (5.33593, -4.00405), (5.33588, -4.00408), (5.33559, -4.00411), (5.33515, -4.00414), (5.33502, -4.00416)], 3.371, 8.666666666666666)\n",
      "After segment: ([(5.33502, -4.00416), (5.33425, -4.00428), (5.33279, -4.00446), (5.33109, -4.00467), (5.33031, -4.00476), (5.33028, -4.00465), (5.33015, -4.00364), (5.32998, -4.00225), (5.32988, -4.00137), (5.32985, -4.00109), (5.32984, -4.00099), (5.32971, -4.001), (5.32925, -4.00106), (5.32872, -4.00112), (5.32739, -4.0013), (5.32716, -4.00131), (5.32592, -4.00146), (5.32493, -4.0016), (5.3246, -4.00166), (5.32418, -4.00179), (5.32345, -4.002), (5.32275, -4.0022)], 1.75, 4.65)\n",
      "Before segment: ([(5.36838, -4.00602), (5.36839, -4.00337), (5.36838, -4.00077), (5.36838, -3.99964), (5.36842, -3.99873), (5.36842, -3.99825), (5.36763, -3.99825), (5.36717, -3.99823), (5.36692, -3.99815), (5.36679, -3.99808), (5.36653, -3.99784), (5.3663, -3.99764), (5.36608, -3.99754), (5.36598, -3.99752), (5.36516, -3.9975), (5.36333, -3.9975)], 1.452, 5.183333333333334)\n",
      "During segment: ([(5.36333, -3.9975), (5.36189, -3.99751), (5.36139, -3.99752), (5.3611, -3.99759), (5.36091, -3.99768), (5.36071, -3.99782), (5.36055, -3.99798), (5.36035, -3.99822), (5.35983, -3.99895), (5.35916, -3.99987), (5.3584, -4.00089), (5.35802, -4.00123), (5.35778, -4.00134), (5.35727, -4.00144), (5.35578, -4.00162), (5.35467, -4.00177), (5.35222, -4.00207), (5.34864, -4.00251), (5.34626, -4.00274), (5.34536, -4.00284), (5.34494, -4.0029), (5.34426, -4.00302), (5.34413, -4.00303), (5.34412, -4.00305), (5.34409, -4.00308), (5.34406, -4.0031), (5.34398, -4.00311), (5.34392, -4.00309), (5.3439, -4.00308), (5.34369, -4.0031), (5.3428, -4.00321), (5.33983, -4.0036), (5.33673, -4.00398), (5.3364, -4.00402), (5.33622, -4.00405), (5.33612, -4.00403), (5.3361, -4.00405), (5.33603, -4.00409), (5.33595, -4.00407), (5.33591, -4.00403), (5.3359, -4.00398), (5.33593, -4.0039), (5.33591, -4.00371), (5.3359, -4.00348), (5.33586, -4.00317), (5.33586, -4.00316)], 3.372, 8.35)\n",
      "After segment: ([(5.33586, -4.00316), (5.33548, -4.00012), (5.33526, -3.99834), (5.33512, -3.99716), (5.33496, -3.9957), (5.33484, -3.99472), (5.33472, -3.99373), (5.33472, -3.99364), (5.33471, -3.99363), (5.33471, -3.99361), (5.33471, -3.99358), (5.33475, -3.99356), (5.33479, -3.99359), (5.33478, -3.99363), (5.33482, -3.99373), (5.33489, -3.99425), (5.33503, -3.99537), (5.33504, -3.9955)], 1.294, 2.7)\n",
      "Map saved to: C:\\Users\\HUAWEI\\CanterburyCommuto\\results\\routes_with_buffers_map-2025-04-10_15-48-11_66566.html\n",
      "<IPython.lib.display.IFrame object at 0x0000019A1DBAFB00>\n",
      "Map has been displayed inline and saved as 'results\\routes_with_buffers_map-2025-04-10_15-48-11_66566.html'.\n",
      "Before segment: ([(5.35576, -3.96982)], 0.0, 0.0)\n",
      "During segment: ([(5.35576, -3.96982), (5.35617, -3.96841), (5.3565, -3.9676), (5.35645, -3.96755), (5.35643, -3.96748), (5.35644, -3.96736), (5.35651, -3.96727), (5.35658, -3.96724), (5.35665, -3.96723), (5.35676, -3.96727), (5.35681, -3.96733), (5.35683, -3.9674), (5.35683, -3.96747), (5.35678, -3.96758), (5.35665, -3.96763), (5.35661, -3.96764), (5.35646, -3.96799), (5.35617, -3.96882), (5.35588, -3.9698), (5.35574, -3.97029), (5.35561, -3.97081), (5.35549, -3.97117), (5.35521, -3.97201), (5.35496, -3.97288), (5.35464, -3.97391), (5.35427, -3.97522), (5.35409, -3.97592), (5.35373, -3.97724), (5.35326, -3.97881), (5.35244, -3.98144), (5.35205, -3.98263), (5.35178, -3.98337), (5.3509, -3.98644), (5.34987, -3.99015), (5.34967, -3.99082), (5.34955, -3.99133), (5.34942, -3.99198), (5.34936, -3.99233), (5.34931, -3.99285), (5.3493, -3.99347), (5.34948, -3.99587), (5.34946, -3.99629), (5.3494, -3.99695), (5.34886, -3.99695), (5.34852, -3.99699), (5.34736, -3.99714), (5.3458, -3.99735), (5.34538, -3.9974), (5.34449, -3.99828), (5.34387, -3.9989), (5.34376, -3.99905), (5.34369, -3.99918), (5.34363, -3.99935), (5.3436, -3.99955), (5.34362, -3.99985), (5.34367, -4.00018), (5.34375, -4.00055), (5.34386, -4.00141), (5.34394, -4.00197), (5.34408, -4.00284), (5.34411, -4.00288), (5.34414, -4.00295), (5.34413, -4.00302), (5.34409, -4.00308), (5.34402, -4.00311), (5.34394, -4.0031), (5.34392, -4.00309), (5.3439, -4.00308), (5.34369, -4.0031), (5.34323, -4.00316)], 5.021, 11.333333333333334)\n",
      "After segment: ([(5.34323, -4.00316), (5.34102, -4.00345), (5.33858, -4.00375), (5.33706, -4.00394), (5.33653, -4.00399), (5.33629, -4.00404), (5.33618, -4.00404), (5.33612, -4.00403), (5.33611, -4.00406), (5.33614, -4.00414), (5.33621, -4.00512), (5.3362, -4.0055), (5.33573, -4.00558), (5.33512, -4.0057), (5.33464, -4.00582), (5.3344, -4.00593), (5.33421, -4.00605), (5.33386, -4.00635), (5.33323, -4.00699)], 1.345, 4.1)\n",
      "Before segment: ([(5.393, -3.97552), (5.39339, -3.97407), (5.3936, -3.97317), (5.39377, -3.97259), (5.39391, -3.97219), (5.39409, -3.97188), (5.39478, -3.97105), (5.39448, -3.97095), (5.39379, -3.97078), (5.39286, -3.97055), (5.39183, -3.97028), (5.39081, -3.97002), (5.39009, -3.96983), (5.38863, -3.96948), (5.38736, -3.96916), (5.38667, -3.96896), (5.38596, -3.96879), (5.38394, -3.9684), (5.38351, -3.96831), (5.38323, -3.9682), (5.38309, -3.96815), (5.38235, -3.96793), (5.38038, -3.96734), (5.37776, -3.96655), (5.37742, -3.96645), (5.37656, -3.96619), (5.3765, -3.96619), (5.37639, -3.96619), (5.37638, -3.9662), (5.37637, -3.96622), (5.37631, -3.9663), (5.37617, -3.96635), (5.37614, -3.96635), (5.37607, -3.96642), (5.37603, -3.96647), (5.37595, -3.96677), (5.37578, -3.96747), (5.37542, -3.96866), (5.375, -3.9701), (5.3749, -3.9704), (5.37468, -3.97033), (5.37445, -3.97026), (5.37437, -3.97025), (5.37425, -3.97025), (5.3735, -3.97042), (5.37249, -3.97062), (5.37196, -3.97073), (5.37146, -3.97083), (5.37128, -3.97083), (5.37114, -3.97081), (5.3708, -3.97073), (5.36874, -3.9701), (5.36433, -3.96879), (5.36152, -3.96795), (5.36059, -3.96766), (5.35982, -3.96744), (5.35882, -3.96713), (5.35873, -3.96733), (5.35853, -3.96785), (5.3585, -3.96784), (5.35772, -3.9675)], 5.204, 13.0)\n",
      "During segment: ([(5.35772, -3.9675), (5.35709, -3.96723), (5.35704, -3.96724), (5.35697, -3.96736), (5.35694, -3.9674), (5.35684, -3.96745), (5.3568, -3.96755), (5.35675, -3.9676), (5.35667, -3.96763), (5.3566, -3.96764), (5.35623, -3.96865), (5.35602, -3.96926), (5.35587, -3.96981), (5.35568, -3.97054), (5.3555, -3.97115), (5.35524, -3.97191), (5.35501, -3.9727), (5.35469, -3.97374), (5.35437, -3.97487), (5.35391, -3.97662), (5.35345, -3.97818), (5.35279, -3.98033), (5.3521, -3.98247), (5.35182, -3.98325), (5.35159, -3.98401), (5.3506, -3.98747), (5.34992, -3.98998), (5.3496, -3.99109), (5.3494, -3.99208), (5.34932, -3.99269), (5.3493, -3.99323), (5.34933, -3.99393), (5.34946, -3.99558), (5.34947, -3.99608), (5.34945, -3.99653), (5.3494, -3.99695), (5.34931, -3.99694), (5.34871, -3.99697), (5.34771, -3.99709), (5.34608, -3.9973), (5.34574, -3.99735), (5.34538, -3.9974), (5.34462, -3.99815), (5.34447, -3.99829), (5.34409, -3.99867), (5.34382, -3.99897), (5.34373, -3.99911), (5.34365, -3.99927), (5.34361, -3.99945), (5.3436, -3.9997), (5.34364, -4.00004), (5.34369, -4.00031), (5.34379, -4.00083), (5.34394, -4.00194), (5.34407, -4.00284), (5.34413, -4.0029), (5.34414, -4.00298), (5.34412, -4.00304), (5.34414, -4.00338), (5.34419, -4.00371), (5.34427, -4.00397)], 4.784, 10.066666666666666)\n",
      "After segment: ([(5.34427, -4.00397), (5.34442, -4.00425), (5.34458, -4.00446), (5.34483, -4.00467), (5.34498, -4.00476), (5.34579, -4.00513), (5.34604, -4.00524), (5.34638, -4.00473), (5.3469, -4.00394), (5.34704, -4.00375), (5.34715, -4.0037), (5.34778, -4.00364), (5.34777, -4.00349), (5.34773, -4.00333)], 0.568, 1.7166666666666666)\n",
      "Log file saved to: C:\\Users\\HUAWEI\\CanterburyCommuto\\results\\exact_only.log\n"
     ]
    }
   ],
   "source": [
    "!python -m canterburycommuto origin_destination_coordinates.csv \"API_KEY\" \\\n",
    "    --threshold 50 \\\n",
    "    --width 100 \\\n",
    "    --buffer 100 \\\n",
    "    --approximation \"exact\" \\\n",
    "    --commuting_info \"no\" \\\n",
    "    --colorna \"home_A\" \\\n",
    "    --coldesta \"work_A\" \\\n",
    "    --colorib \"home_B\" \\\n",
    "    --colfestb \"work_B\" \\\n",
    "    --output_overlap \"exact_only_output.csv\" \\\n",
    "    --output_buffer \"exact_only.csv\""
   ]
  },
  {
   "cell_type": "code",
   "execution_count": null,
   "id": "65194be7-8c9f-44cf-b43c-db3891b67a38",
   "metadata": {},
   "outputs": [],
   "source": []
  }
 ],
 "metadata": {
  "kernelspec": {
   "display_name": "Python 3 (ipykernel)",
   "language": "python",
   "name": "python3"
  },
  "language_info": {
   "codemirror_mode": {
    "name": "ipython",
    "version": 3
   },
   "file_extension": ".py",
   "mimetype": "text/x-python",
   "name": "python",
   "nbconvert_exporter": "python",
   "pygments_lexer": "ipython3",
   "version": "3.12.4"
  }
 },
 "nbformat": 4,
 "nbformat_minor": 5
}
