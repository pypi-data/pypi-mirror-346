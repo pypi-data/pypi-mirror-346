{
 "cells": [
  {
   "cell_type": "markdown",
   "id": "6442467a-9e85-41d1-b15c-be7e8a33c3db",
   "metadata": {},
   "source": [
    "# Demo notebook for the R2X4 light source from Industrialise\n",
    "\n",
    "## Intro\n",
    "\n",
    "This notebook showcases the jupyterlab LightSourceWidget that can be used for interactive usage of the light source inside a notebook.\n",
    "It also has some calls to demo functions from the demo module inside the package. Checkout the demo.py file for examples on how to setup the triggering.\n",
    "\n",
    "## Some imports"
   ]
  },
  {
   "cell_type": "code",
   "execution_count": null,
   "id": "8a51934b-354d-44fb-b9ce-560a8d026236",
   "metadata": {},
   "outputs": [],
   "source": [
    "import ls_r2x4.demo.demo as demo\n",
    "import logging\n",
    "\n",
    "from ls_r2x4.r2x4 import LightSourceR2X4\n",
    "from ls_r2x4.gui.jupyterlab_widget import LightSourceWidget\n",
    "\n",
    "logging.basicConfig()"
   ]
  },
  {
   "cell_type": "markdown",
   "id": "e72cb454-cc77-47fd-95bf-8566454d644c",
   "metadata": {},
   "source": [
    "## Create the LightSourceR2X4 instance\n",
    "\n",
    "This can take some time as the lightsource will wait for the LED's temperature to be stabilized by the TEC."
   ]
  },
  {
   "cell_type": "code",
   "execution_count": null,
   "id": "846e312e-1baa-4b0e-a1fc-cd9b383af0e0",
   "metadata": {},
   "outputs": [],
   "source": [
    "ls  = LightSourceR2X4()"
   ]
  },
  {
   "cell_type": "markdown",
   "id": "6e864ebb-8ade-477f-b2fc-dbb882cdbc66",
   "metadata": {},
   "source": [
    "## Make the interactive widget"
   ]
  },
  {
   "cell_type": "code",
   "execution_count": null,
   "id": "057c9b4b-3fab-4fbe-a4b5-ab56e89001b8",
   "metadata": {},
   "outputs": [],
   "source": [
    "LightSourceWidget(light_source=ls)"
   ]
  },
  {
   "cell_type": "markdown",
   "id": "ec5433ca-79d6-48a3-aee1-519b00c65025",
   "metadata": {},
   "source": [
    "## Some demos\n",
    "### Do a software sweep of all channels over the full range"
   ]
  },
  {
   "cell_type": "code",
   "execution_count": null,
   "id": "8818e0a7-3a6b-4858-a4cf-6bab1ab6a4a3",
   "metadata": {},
   "outputs": [],
   "source": [
    "demo.sweep_all_channels_no_triggering(ls=ls)"
   ]
  },
  {
   "cell_type": "markdown",
   "id": "6aac26ff-a0d7-4245-a832-85cabd62d03f",
   "metadata": {},
   "source": [
    "### Pulse white with 4 different pulse lengths from software trigger"
   ]
  },
  {
   "cell_type": "code",
   "execution_count": null,
   "id": "e2acedac-352c-49eb-926a-920b8da4d9b8",
   "metadata": {},
   "outputs": [],
   "source": [
    "demo.pulse_white_with_4_lengths_from_software_trigger(ls=ls)"
   ]
  },
  {
   "cell_type": "markdown",
   "id": "e55299e9-f3c2-4c6b-8e24-bb90f7f0468f",
   "metadata": {},
   "source": [
    "### Toggle green and blue with self trigger period of 0.2s"
   ]
  },
  {
   "cell_type": "code",
   "execution_count": null,
   "id": "d1f2ec14-ffaf-44ac-81b5-996abdc50408",
   "metadata": {},
   "outputs": [],
   "source": [
    "demo.toggle_green_and_blue_with_self_triggering(ls=ls)"
   ]
  },
  {
   "cell_type": "markdown",
   "id": "709a98f9-f77b-4f7e-984e-f169d6cd6f61",
   "metadata": {},
   "source": [
    "### Use self triggering in combination with filtering to toggle red and white"
   ]
  },
  {
   "cell_type": "code",
   "execution_count": null,
   "id": "040b11c4-556d-466e-ac84-fb6b56984022",
   "metadata": {},
   "outputs": [],
   "source": [
    "demo.toggle_red_and_white_self_triggering_in_combination_with_filtering(ls=ls)"
   ]
  }
 ],
 "metadata": {
  "kernelspec": {
   "display_name": "Python 3 (ipykernel)",
   "language": "python",
   "name": "python3"
  },
  "language_info": {
   "codemirror_mode": {
    "name": "ipython",
    "version": 3
   },
   "file_extension": ".py",
   "mimetype": "text/x-python",
   "name": "python",
   "nbconvert_exporter": "python",
   "pygments_lexer": "ipython3",
   "version": "3.8.20"
  }
 },
 "nbformat": 4,
 "nbformat_minor": 5
}
