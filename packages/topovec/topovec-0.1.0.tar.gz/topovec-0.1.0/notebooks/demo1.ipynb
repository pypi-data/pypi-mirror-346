{
 "cells": [
  {
   "cell_type": "code",
   "execution_count": null,
   "id": "62ebe567-4cc8-443c-8571-ef02ac014f7d",
   "metadata": {},
   "outputs": [],
   "source": [
    "import numpy as np\n",
    "# import matplotlib.pyplot as plt\n",
    "# import json\n",
    "# import PIL\n",
    "\n",
    "import topovec as tv\n",
    "# tv.core.configLog() # Enable to see debug output."
   ]
  },
  {
   "cell_type": "code",
   "execution_count": null,
   "id": "cd7cd8b4-a7b0-495a-8bee-589f2cfd903b",
   "metadata": {},
   "outputs": [],
   "source": [
    "# Settings.\n",
    "SRC_FOLDER = '../files/' # Location of data files.\n",
    "IMG_FOLDER = '../tmp/' # Where to put figures.\n",
    "FIGSIZE = 512 # Image size.\n",
    "SCALEX = False # FIGSIZE defines height (False) or width (True). \n",
    "\n",
    "# Name of datafile.\n",
    "srcname = 'CCW_800_opposite_mix.npz'\n",
    "\n",
    "# Load data.\n",
    "images, system, settings = tv.core.load_lcsim_npz(f\"{SRC_FOLDER}/{srcname}\")\n",
    "\n",
    "# `images` is a sequence of vector/director fields.\n",
    "print(f\"Number of images: {len(images)}\")\n",
    "\n",
    "# Select one image\n",
    "director = images[0]\n",
    "print(f\"Director grid {director.shape}\")\n",
    "\n",
    "# Setup camera.\n",
    "camera = tv.mgl.Camera()\n",
    "# Preset 0-2 define axis to look along.\n",
    "aspectratio = camera.set_predefined_direction(preset=2).adjust_fov(system).adjust_scale(system)\n",
    "print(f\"Aspect ratio {aspectratio:.2f}\")\n",
    "\n",
    "# Define image size\n",
    "size = (int(FIGSIZE*aspectratio), FIGSIZE) if SCALEX else (FIGSIZE, int(FIGSIZE/aspectratio))\n",
    "\n",
    "# Select scene to render.\n",
    "scenecls = tv.mgl.LayerScene # Render single layer.\n",
    "\n",
    "# Initialize image to render to.\n",
    "ic = tv.mgl.ImageContainer(size=size,\n",
    "                           scene=lambda mglctx: scenecls(mglctx=mglctx, system=system, camera=camera),\n",
    "                          )\n",
    "\n",
    "# Make director field known to the director. \n",
    "ic.upload(director)\n",
    "\n",
    "# Tune system parameters if needed.\n",
    "ic.scene.layer = 10\n",
    "\n",
    "# Render and save to PIL image.\n",
    "img = ic.save() # PIL image. See PIL documentation for postprocessing.\n",
    "\n",
    "# Show image in the notebook.\n",
    "display(img)\n",
    "\n",
    "# Save image to the file.\n",
    "# img.save(f\"{IMG_FOLDER}/{srcname}.test.jpg\")\n"
   ]
  },
  {
   "cell_type": "code",
   "execution_count": null,
   "id": "21f992db-8a86-46a8-9792-64dfc3c5194d",
   "metadata": {},
   "outputs": [],
   "source": [
    "# Restrict director field to a sparse grid.\n",
    "sparse_director, sparse_system = system.thinned(data=director, steps=4)\n",
    "\n",
    "# Create new container.\n",
    "ic = tv.mgl.ImageContainer(size=size,\n",
    "                           scene=lambda mglctx: scenecls(mglctx=mglctx, system=sparse_system, camera=camera),\n",
    "                          )\n",
    "ic.upload(sparse_director)\n",
    "\n",
    "# Render image.\n",
    "ic.save() "
   ]
  },
  {
   "cell_type": "code",
   "execution_count": null,
   "id": "051dc951-ab85-4e0c-a78a-b3b510da431d",
   "metadata": {},
   "outputs": [],
   "source": [
    "# One can reuse existing ImageContainer to render again, if scene and system are not changed.\n",
    "# Lets try another projection\n",
    "ic.scene.axis = 0\n",
    "\n",
    "# Scene can update camera atomatically.\n",
    "# So if you want to adjust camera manually, do it AFTER setting scene parameters.\n",
    "# ic.scene.set_camera(camera)\n",
    "\n",
    "ic.save()\n",
    "# Image is still square, since aspect ratio was fixed when ImageContained was created."
   ]
  },
  {
   "cell_type": "code",
   "execution_count": null,
   "id": "f1f1f43a-f8d8-4651-8f68-0065ea46f32c",
   "metadata": {},
   "outputs": [],
   "source": [
    "# Some operations are very common, so we have helper functions to use them fast.\n",
    "# This is how we can render single layer as above, but with one line.\n",
    "ic = tv.mgl.render_layer(sparse_system, layer = 25, axis = 1)\n",
    "ic.upload(sparse_director)\n",
    "ic.save()"
   ]
  },
  {
   "cell_type": "code",
   "execution_count": null,
   "id": "3278dfa5-e3bc-46f8-a196-bd35e4710280",
   "metadata": {},
   "outputs": [],
   "source": [
    "# Now render isosurface. Internally it uses FlowScene.\n",
    "ic = tv.mgl.render_isosurface(system, preset = 0)\n",
    "ic.upload(director)\n",
    "ic.save()"
   ]
  },
  {
   "cell_type": "code",
   "execution_count": null,
   "id": "4e307ab4-74dc-4c60-942f-f0a9333718f6",
   "metadata": {},
   "outputs": [],
   "source": [
    "# The same way we can render isolines (IsolinesScene).\n",
    "ic = tv.mgl.render_isolines(system, preset = 0, nlines=10)\n",
    "ic.upload(director)\n",
    "ic.save()"
   ]
  },
  {
   "cell_type": "code",
   "execution_count": null,
   "id": "805a2f56-4d6a-4b43-9308-4d7abc1ab553",
   "metadata": {},
   "outputs": [],
   "source": [
    "tv.matplotlib.render_layer(director, layer=10, imagewidth_inch=5);\n"
   ]
  },
  {
   "cell_type": "code",
   "execution_count": null,
   "id": "b4d5b02b-331f-4c8c-b0bc-0e10d5b50c42",
   "metadata": {},
   "outputs": [],
   "source": [
    "# List all avaliable scenes\n",
    "tv.mgl.print_scenes()\n",
    "\n",
    "# Prepare scene.\n",
    "ic = tv.mgl.render_prepare(\n",
    "    scenecls = 'Astra',\n",
    "    system = system,\n",
    "    imgsize = FIGSIZE,\n",
    ")\n",
    "\n",
    "# Uploading vector field will initialize properties with default values. \n",
    "ic.upload(director)\n",
    "\n",
    "# List scene properties. The properties are grouped by the render.\n",
    "ic.scene.print_properties()\n",
    "\n",
    "# You can access any property by render name and property index or name.\n",
    "ic.scene['Astra']['Invert colors'] = False\n",
    "\n",
    "# Visualize the result.\n",
    "ic.save()"
   ]
  },
  {
   "cell_type": "code",
   "execution_count": null,
   "id": "6e40a7da-ba23-4652-b60b-c36f405fcb23",
   "metadata": {},
   "outputs": [],
   "source": [
    "# Camera settings can be read from the scene.\n",
    "print(ic.scene.camera)\n",
    "\n",
    "# The camera settings can be modified.\n",
    "camera = tv.mgl.Camera.from_angles(theta=2.5, phi=1.0, alpha=0.0, \n",
    "                                   scale=30, look_at=[99.5, 99.5, 9.5], perspective=True)\n",
    "ic.scene.set_camera(camera)\n",
    "\n",
    "# Let's see the result.\n",
    "ic.save()"
   ]
  },
  {
   "cell_type": "code",
   "execution_count": null,
   "id": "13ddd737-5e30-4fb1-b558-98375764141c",
   "metadata": {},
   "outputs": [],
   "source": [
    "# Most renders use HSV color scheme to show vector/director orientation.\n",
    "# Mapping of colors to the Bloch sphere is available from the following helper function.\n",
    "tv.matplotlib.plot_bloch_sphere(axis=1);"
   ]
  },
  {
   "cell_type": "code",
   "execution_count": null,
   "id": "da4a6ff1-4d36-442c-9784-617bd45f606c",
   "metadata": {},
   "outputs": [],
   "source": [
    "import matplotlib.pyplot as plt\n",
    "import taichi as ti\n",
    "ti.init()"
   ]
  },
  {
   "cell_type": "code",
   "execution_count": null,
   "id": "932e4242-51bd-4f97-846c-fabf0439ea73",
   "metadata": {},
   "outputs": [],
   "source": [
    "lambdas = np.linspace(0.380, 1.000, 13)\n",
    "rgb = tv.ti.render_cp_multi(\n",
    "    nn=director[:,:,:,0,:], \n",
    "    wavelengths=lambdas, \n",
    "    ne=tv.ti.ConstantFunction(1.7), \n",
    "    no=tv.ti.ConstantFunction(1.5), \n",
    "    emission=tv.ti.BlackbodyRadiation(),\n",
    "    efficiency=tv.ti.SimplifiedRGB(), \n",
    "    thickness=settings['L'], \n",
    "    polarizer=0., \n",
    "    deltafilter=np.pi/2)\n",
    "\n",
    "plt.imshow(rgb)"
   ]
  },
  {
   "cell_type": "code",
   "execution_count": null,
   "id": "39889a8a-c45b-4bd0-9c6d-5e708b167bc0",
   "metadata": {},
   "outputs": [],
   "source": []
  }
 ],
 "metadata": {
  "kernelspec": {
   "display_name": "Python 3 (ipykernel)",
   "language": "python",
   "name": "python3"
  },
  "language_info": {
   "codemirror_mode": {
    "name": "ipython",
    "version": 3
   },
   "file_extension": ".py",
   "mimetype": "text/x-python",
   "name": "python",
   "nbconvert_exporter": "python",
   "pygments_lexer": "ipython3",
   "version": "3.10.16"
  }
 },
 "nbformat": 4,
 "nbformat_minor": 5
}
