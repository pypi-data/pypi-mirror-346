{
 "cells": [
  {
   "cell_type": "code",
   "execution_count": null,
   "id": "d19e2012-e2f9-469f-8815-88f5946269a3",
   "metadata": {},
   "outputs": [],
   "source": [
    "# import numpy as np\n",
    "import topovec as tv\n",
    "import sadcompressor as sad\n"
   ]
  },
  {
   "cell_type": "code",
   "execution_count": null,
   "id": "5cf9561f-daa8-4110-a747-4383cde50cfe",
   "metadata": {},
   "outputs": [],
   "source": [
    "# Example of rendering states from SAD archive.\n",
    "\n",
    "# Files to read and write.\n",
    "SRC_FOLDER = '../files/'\n",
    "DST_FOLDER = '../tmp/'\n",
    "srcname = 'CW_800_opposite_mix.newdir.sad' \n",
    "\n",
    "# Sequential reader. First open file.\n",
    "reader = sad.SADReader(f\"{SRC_FOLDER}/{srcname}\")\n",
    "\n",
    "# Force to read first frame.\n",
    "reader.next_key()\n",
    "\n",
    "# We can track stored frames timestaps by inspecting `t` field.\n",
    "print(f\"Timestamp {reader.t}\")\n",
    "\n",
    "# State for the given frame can be extracted as follows.\n",
    "director, system, settings = tv.sad.load_lcsim_sad_single(reader)\n",
    "\n",
    "# Having system we can create render.\n",
    "ic = tv.mgl.render_isolines(system=system, imgsize=256)\n",
    "ic.scene.camera.look_scale /= 5\n",
    "ic.scene['Isolines'][9].let(0.01)\n",
    "\n",
    "# Loop over frames from SAD file.\n",
    "while True: # Here we can put stop condition, e.g. reader.t>end_time.\n",
    "    # Upload state to the render.\n",
    "    ic.upload(director)\n",
    "    \n",
    "    # Render state.\n",
    "    img = ic.save()\n",
    "\n",
    "    # One probably one to save the image at the point.\n",
    "    # img.save(f\"{DST_FOLDER}/img_{reader.t:.4f}.jpg\")\n",
    "    # or just show it.\n",
    "    display( img )\n",
    "    \n",
    "    # Go to the next frame.\n",
    "    if reader.next_key(): \n",
    "        break # Stop if end of file is reached.\n",
    "    # Update state.\n",
    "    director, system, settings = tv.sad.load_lcsim_sad_single(reader)\n",
    "        \n"
   ]
  },
  {
   "cell_type": "code",
   "execution_count": null,
   "id": "fa28978a-85d1-429e-bfb6-477062a2b773",
   "metadata": {},
   "outputs": [],
   "source": []
  },
  {
   "cell_type": "code",
   "execution_count": null,
   "id": "d7447fc3-f777-4c94-b1a8-e3d56ca1f991",
   "metadata": {},
   "outputs": [],
   "source": []
  }
 ],
 "metadata": {
  "kernelspec": {
   "display_name": "Python 3 (ipykernel)",
   "language": "python",
   "name": "python3"
  },
  "language_info": {
   "codemirror_mode": {
    "name": "ipython",
    "version": 3
   },
   "file_extension": ".py",
   "mimetype": "text/x-python",
   "name": "python",
   "nbconvert_exporter": "python",
   "pygments_lexer": "ipython3",
   "version": "3.10.16"
  }
 },
 "nbformat": 4,
 "nbformat_minor": 5
}
