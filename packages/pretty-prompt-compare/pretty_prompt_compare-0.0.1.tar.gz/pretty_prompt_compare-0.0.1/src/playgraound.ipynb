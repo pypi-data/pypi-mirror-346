{
 "cells": [
  {
   "cell_type": "code",
   "execution_count": 2,
   "metadata": {},
   "outputs": [],
   "source": [
    "import difflib\n",
    "\n",
    "s1 = \"abcdef\"\n",
    "s2 = \"azcedf\"\n",
    "\n",
    "matcher = difflib.SequenceMatcher(None, s1, s2)"
   ]
  },
  {
   "cell_type": "code",
   "execution_count": 3,
   "metadata": {},
   "outputs": [
    {
     "data": {
      "text/html": [
       "<pre style=\"white-space:pre;overflow-x:auto;line-height:normal;font-family:Menlo,'DejaVu Sans Mono',consolas,'Courier New',monospace\">hello b<span style=\"color: #008000; text-decoration-color: #008000\">rav</span>eautiful world\n",
       "</pre>\n"
      ],
      "text/plain": [
       "hello b\u001b[32mrav\u001b[0meautiful world\n"
      ]
     },
     "metadata": {},
     "output_type": "display_data"
    }
   ],
   "source": [
    "from difflib import SequenceMatcher\n",
    "from rich.text import Text\n",
    "import rich\n",
    "\n",
    "from difflib import SequenceMatcher\n",
    "from rich.console import Console\n",
    "from rich.text import Text\n",
    "\n",
    "from difflib import SequenceMatcher\n",
    "from rich.console import Console\n",
    "from rich.text import Text\n",
    "\n",
    "def highlight_differences(prompt_a: str, prompt_b: str):\n",
    "    matcher = SequenceMatcher(None, prompt_a, prompt_b)\n",
    "    text = Text()\n",
    "\n",
    "    for tag, i1, i2, j1, j2 in matcher.get_opcodes():\n",
    "        if tag == 'equal':\n",
    "            text.append(prompt_a[i1:i2])\n",
    "        elif tag == 'replace':\n",
    "            # Strike with colored line, default text color\n",
    "            text.append(Text(prompt_a[i1:i2], style=\"strike color(#ff0000)\"))\n",
    "            text.append(Text(prompt_b[j1:j2], style=\"green\"))\n",
    "        elif tag == 'delete':\n",
    "            text.append(Text(prompt_a[i1:i2], style=\"strike color(#ff0000)\"))\n",
    "        elif tag == 'insert':\n",
    "            text.append(Text(prompt_b[j1:j2], style=\"green\"))\n",
    "\n",
    "    console = Console()\n",
    "    console.print(text)\n",
    "\n",
    "\n",
    "# Example usage\n",
    "s1 = \"abcdef\"\n",
    "s2 = \"azcedf\"\n",
    "highlight_differences(\"hello beautiful world\", \"hello brave world\")\n"
   ]
  },
  {
   "cell_type": "code",
   "execution_count": 4,
   "metadata": {},
   "outputs": [
    {
     "data": {
      "text/html": [
       "<div>hello beautiful world</div>"
      ],
      "text/plain": [
       "<IPython.core.display.HTML object>"
      ]
     },
     "metadata": {},
     "output_type": "display_data"
    },
    {
     "data": {
      "text/html": [
       "<div>hello b<span style='color: #7cd9e6;'>rav</span>e<span style='color: #FF90BB; text-decoration: line-through; text-decoration-color: #FF90BB;'>autiful</span> world</div>"
      ],
      "text/plain": [
       "<IPython.core.display.HTML object>"
      ]
     },
     "metadata": {},
     "output_type": "display_data"
    }
   ],
   "source": [
    "from difflib import SequenceMatcher\n",
    "from IPython.display import display, HTML\n",
    "\n",
    "color_palette = {\n",
    "    \"delete\": \"#FF90BB\",\n",
    "    \"insert\": \"#7cd9e6\",\n",
    "    \"replace\": \"#FF90BB\",\n",
    "    \"equal\": \"#8ACCD5\",\n",
    "}\n",
    "\n",
    "def highlight_differences_html(prompt_a: str,\n",
    "                               prompt_b: str,\n",
    "                               color_palette=color_palette) -> None:\n",
    "\n",
    "    delete_color = color_palette[\"delete\"]\n",
    "    insert_color = color_palette[\"insert\"]\n",
    "\n",
    "    matcher = SequenceMatcher(None, prompt_a, prompt_b)\n",
    "    html = \"\"\n",
    "\n",
    "    for tag, i1, i2, j1, j2 in matcher.get_opcodes():\n",
    "        if tag == 'equal':\n",
    "            html += prompt_a[i1:i2]\n",
    "        elif tag == 'replace':\n",
    "            html += (\n",
    "                f\"<span style='color: {delete_color}; text-decoration: line-through; \"\n",
    "                f\"text-decoration-color: {delete_color};'>{prompt_a[i1:i2]}</span>\"\n",
    "            )\n",
    "            html += f\"<span style='color: {insert_color};'>{prompt_b[j1:j2]}</span>\"\n",
    "        elif tag == 'delete':\n",
    "            html += (\n",
    "                f\"<span style='color: {delete_color}; text-decoration: line-through; \"\n",
    "                f\"text-decoration-color: {delete_color};'>{prompt_a[i1:i2]}</span>\"\n",
    "            )\n",
    "        elif tag == 'insert':\n",
    "            html += f\"<span style='color: {insert_color};'>{prompt_b[j1:j2]}</span>\"\n",
    "    display(HTML(f\"<div>{prompt_a}</div>\"))\n",
    "    display(HTML(f\"<div>{html}</div>\"))\n",
    "\n",
    "\n",
    "highlight_differences_html(\"hello beautiful world\", \"hello brave world\")"
   ]
  },
  {
   "cell_type": "code",
   "execution_count": 5,
   "metadata": {},
   "outputs": [
    {
     "data": {
      "text/html": [
       "<pre style=\"white-space:pre;overflow-x:auto;line-height:normal;font-family:Menlo,'DejaVu Sans Mono',consolas,'Courier New',monospace\"><span style=\"color: #ff90bb; text-decoration-color: #ff90bb; font-weight: bold\">- </span><span style=\"color: #a3a3a3; text-decoration-color: #a3a3a3\">hello beautiful world</span>\n",
       "</pre>\n"
      ],
      "text/plain": [
       "\u001b[1;38;2;255;144;187m- \u001b[0m\u001b[38;2;163;163;163mhello beautiful world\u001b[0m\n"
      ]
     },
     "metadata": {},
     "output_type": "display_data"
    },
    {
     "data": {
      "text/html": [
       "<pre style=\"white-space:pre;overflow-x:auto;line-height:normal;font-family:Menlo,'DejaVu Sans Mono',consolas,'Courier New',monospace\"><span style=\"color: #7cd9e6; text-decoration-color: #7cd9e6; font-weight: bold\">+ </span><span style=\"color: #a3a3a3; text-decoration-color: #a3a3a3\">hello b</span><span style=\"color: #7cd9e6; text-decoration-color: #7cd9e6\">rav</span><span style=\"color: #a3a3a3; text-decoration-color: #a3a3a3\">e</span><span style=\"color: #ff90bb; text-decoration-color: #ff90bb; text-decoration: line-through\">autiful</span><span style=\"color: #a3a3a3; text-decoration-color: #a3a3a3\"> world</span>\n",
       "</pre>\n"
      ],
      "text/plain": [
       "\u001b[1;38;2;124;217;230m+ \u001b[0m\u001b[38;2;163;163;163mhello b\u001b[0m\u001b[38;2;124;217;230mrav\u001b[0m\u001b[38;2;163;163;163me\u001b[0m\u001b[9;38;2;255;144;187mautiful\u001b[0m\u001b[38;2;163;163;163m world\u001b[0m\n"
      ]
     },
     "metadata": {},
     "output_type": "display_data"
    }
   ],
   "source": [
    "from difflib import SequenceMatcher\n",
    "from rich.console import Console\n",
    "from rich.text import Text\n",
    "import re\n",
    "\n",
    "from cheatsheet import CHEATSHEETS\n",
    "from prompt import PROMPTS\n",
    "from IPython import get_ipython\n",
    "\n",
    "color_palette = {\n",
    "    \"delete\": \"#FF90BB\",\n",
    "    \"insert\": \"#7CD9E6\",\n",
    "    \"equal\": \"#A3A3A3\",\n",
    "    \"f-string expression\": \"#87A2FF\",\n",
    "    \"separator\": \"#86D293\",\n",
    "}\n",
    "\n",
    "def highlight_fstring_parts(s, default_style, expr_style):\n",
    "    text = Text()\n",
    "    pattern = re.compile(r\"({[^{}]+})\")\n",
    "    last_end = 0\n",
    "\n",
    "    for match in pattern.finditer(s):\n",
    "        start, end = match.span()\n",
    "        # Add preceding regular text\n",
    "        if start > last_end:\n",
    "            text.append(s[last_end:start], style=default_style)\n",
    "        # Add expression with special style\n",
    "        text.append(s[start:end], style=expr_style)\n",
    "        last_end = end\n",
    "\n",
    "    # Add any remaining text after last match\n",
    "    if last_end < len(s):\n",
    "        text.append(s[last_end:], style=default_style)\n",
    "\n",
    "    return text\n",
    "\n",
    "def highlight_differences(prompt_a: str, prompt_b: str, color_palette=color_palette, print_separator=False):\n",
    "    color_delete = color_palette[\"delete\"]\n",
    "    color_insert = color_palette[\"insert\"]\n",
    "    color_equal = color_palette[\"equal\"]\n",
    "    color_expression = color_palette[\"f-string expression\"]\n",
    "    color_separator = color_palette[\"separator\"]\n",
    "\n",
    "    matcher = SequenceMatcher(None, prompt_a, prompt_b)\n",
    "\n",
    "    # Init rich.Text() object\n",
    "    text_prompt_a = Text()\n",
    "    text_prompt_b = Text()\n",
    "\n",
    "    text_prompt_a.append(Text(\"- \", style=f\"bold {color_delete}\"))\n",
    "    text_prompt_a.append(highlight_fstring_parts(prompt_a, color_equal, color_expression))\n",
    "    text_prompt_b.append(Text(\"+ \", style=f\"bold {color_insert}\"))\n",
    "\n",
    "    for tag, i1, i2, j1, j2 in matcher.get_opcodes():\n",
    "        if tag == 'equal':\n",
    "            text_prompt_b.append(\n",
    "                highlight_fstring_parts(prompt_a[i1:i2], color_equal, color_expression))\n",
    "        elif tag == 'replace':\n",
    "            # Strike with colored line, default text color\n",
    "            text_prompt_b.append(Text(prompt_a[i1:i2], style=f\"strike {color_delete}\"))\n",
    "            text_prompt_b.append(Text(prompt_b[j1:j2], style=f\"{color_insert}\"))\n",
    "        elif tag == 'delete':\n",
    "            text_prompt_b.append(Text(prompt_a[i1:i2], style=f\"strike {color_delete}\"))\n",
    "        elif tag == 'insert':\n",
    "            text_prompt_b.append(Text(prompt_b[j1:j2], style=f\"{color_insert}\"))\n",
    "\n",
    "    console = Console()\n",
    "    separator = Text(\"-------------------------------------\", style=color_separator)\n",
    "    console.print(text_prompt_a)\n",
    "    if print_separator:\n",
    "        console.print(separator)\n",
    "    console.print(text_prompt_b)\n",
    "    \n",
    "\n",
    "system_prompt_a = PROMPTS[\"entity_extraction\"]\n",
    "system_prompt_b = CHEATSHEETS[\"fill_nightly\"]\n",
    "\n",
    "\n",
    "# Example usage\n",
    "highlight_differences(\"hello beautiful world\", \"hello brave world\", print_separator=False)"
   ]
  },
  {
   "cell_type": "code",
   "execution_count": 6,
   "metadata": {},
   "outputs": [
    {
     "data": {
      "text/html": [
       "<pre style=\"white-space:pre;overflow-x:auto;line-height:normal;font-family:Menlo,'DejaVu Sans Mono',consolas,'Courier New',monospace\"><span style=\"color: #ff90bb; text-decoration-color: #ff90bb; font-weight: bold\">- </span><span style=\"color: #a3a3a3; text-decoration-color: #a3a3a3\">hello beautiful world</span>\n",
       "</pre>\n"
      ],
      "text/plain": [
       "\u001b[1;38;2;255;144;187m- \u001b[0m\u001b[38;2;163;163;163mhello beautiful world\u001b[0m\n"
      ]
     },
     "metadata": {},
     "output_type": "display_data"
    },
    {
     "data": {
      "text/html": [
       "<pre style=\"white-space:pre;overflow-x:auto;line-height:normal;font-family:Menlo,'DejaVu Sans Mono',consolas,'Courier New',monospace\"><span style=\"color: #7cd9e6; text-decoration-color: #7cd9e6; font-weight: bold\">+ </span><span style=\"color: #a3a3a3; text-decoration-color: #a3a3a3\">hello b</span><span style=\"color: #7cd9e6; text-decoration-color: #7cd9e6\">rav</span><span style=\"color: #a3a3a3; text-decoration-color: #a3a3a3\">e</span><span style=\"color: #ff90bb; text-decoration-color: #ff90bb; text-decoration: line-through\">autiful</span><span style=\"color: #a3a3a3; text-decoration-color: #a3a3a3\"> world</span>\n",
       "</pre>\n"
      ],
      "text/plain": [
       "\u001b[1;38;2;124;217;230m+ \u001b[0m\u001b[38;2;163;163;163mhello b\u001b[0m\u001b[38;2;124;217;230mrav\u001b[0m\u001b[38;2;163;163;163me\u001b[0m\u001b[9;38;2;255;144;187mautiful\u001b[0m\u001b[38;2;163;163;163m world\u001b[0m\n"
      ]
     },
     "metadata": {},
     "output_type": "display_data"
    }
   ],
   "source": [
    "from pretty_prompt_compare import pretty_prompt_compare\n",
    "pretty_prompt_compare(\"hello beautiful world\", \"hello brave world\")"
   ]
  },
  {
   "cell_type": "code",
   "execution_count": 7,
   "metadata": {},
   "outputs": [
    {
     "data": {
      "text/html": [
       "<pre style=\"white-space:pre;overflow-x:auto;line-height:normal;font-family:Menlo,'DejaVu Sans Mono',consolas,'Courier New',monospace\"><span style=\"color: #00ff00; text-decoration-color: #00ff00\">─────────────────────────────────────────────── </span><span style=\"color: #808000; text-decoration-color: #808000; font-weight: bold\">Test </span><span style=\"color: #808000; text-decoration-color: #808000; font-weight: bold\">1</span><span style=\"color: #808000; text-decoration-color: #808000; font-weight: bold\">: Basic Focus</span><span style=\"color: #00ff00; text-decoration-color: #00ff00\"> ───────────────────────────────────────────────</span>\n",
       "</pre>\n"
      ],
      "text/plain": [
       "\u001b[92m─────────────────────────────────────────────── \u001b[0m\u001b[1;33mTest \u001b[0m\u001b[1;33m1\u001b[0m\u001b[1;33m: Basic Focus\u001b[0m\u001b[92m ───────────────────────────────────────────────\u001b[0m\n"
      ]
     },
     "metadata": {},
     "output_type": "display_data"
    },
    {
     "data": {
      "text/html": [
       "<pre style=\"white-space:pre;overflow-x:auto;line-height:normal;font-family:Menlo,'DejaVu Sans Mono',consolas,'Courier New',monospace\"><span style=\"color: #c0c0c0; text-decoration-color: #c0c0c0\">The </span><span style=\"color: #800000; text-decoration-color: #800000; font-weight: bold\">quick</span><span style=\"color: #c0c0c0; text-decoration-color: #c0c0c0\"> brown </span><span style=\"color: #800000; text-decoration-color: #800000; font-weight: bold\">fox</span><span style=\"color: #c0c0c0; text-decoration-color: #c0c0c0\"> jumps over the </span><span style=\"color: #800000; text-decoration-color: #800000; font-weight: bold\">lazy</span><span style=\"color: #c0c0c0; text-decoration-color: #c0c0c0\"> </span><span style=\"color: #800000; text-decoration-color: #800000; font-weight: bold\">fox</span>\n",
       "</pre>\n"
      ],
      "text/plain": [
       "\u001b[37mThe \u001b[0m\u001b[1;31mquick\u001b[0m\u001b[37m brown \u001b[0m\u001b[1;31mfox\u001b[0m\u001b[37m jumps over the \u001b[0m\u001b[1;31mlaz\u001b[0m\u001b[1;31my\u001b[0m\u001b[37m \u001b[0m\u001b[1;31mfox\u001b[0m\n"
      ]
     },
     "metadata": {},
     "output_type": "display_data"
    },
    {
     "data": {
      "text/html": [
       "<pre style=\"white-space:pre;overflow-x:auto;line-height:normal;font-family:Menlo,'DejaVu Sans Mono',consolas,'Courier New',monospace\"><span style=\"color: #00ff00; text-decoration-color: #00ff00\">────────────────────────────────────────── </span><span style=\"color: #808000; text-decoration-color: #808000; font-weight: bold\">Test </span><span style=\"color: #808000; text-decoration-color: #808000; font-weight: bold\">2</span><span style=\"color: #808000; text-decoration-color: #808000; font-weight: bold\">: Multiple Occurrences</span><span style=\"color: #00ff00; text-decoration-color: #00ff00\"> ───────────────────────────────────────────</span>\n",
       "</pre>\n"
      ],
      "text/plain": [
       "\u001b[92m────────────────────────────────────────── \u001b[0m\u001b[1;33mTest \u001b[0m\u001b[1;33m2\u001b[0m\u001b[1;33m: Multiple Occurrences\u001b[0m\u001b[92m ───────────────────────────────────────────\u001b[0m\n"
      ]
     },
     "metadata": {},
     "output_type": "display_data"
    },
    {
     "data": {
      "text/html": [
       "<pre style=\"white-space:pre;overflow-x:auto;line-height:normal;font-family:Menlo,'DejaVu Sans Mono',consolas,'Courier New',monospace\"><span style=\"color: #800080; text-decoration-color: #800080; font-weight: bold; text-decoration: underline\">Hello</span><span style=\"color: #008000; text-decoration-color: #008000\"> </span><span style=\"color: #800080; text-decoration-color: #800080; font-weight: bold; text-decoration: underline\">world</span><span style=\"color: #008000; text-decoration-color: #008000\">! This </span><span style=\"color: #800080; text-decoration-color: #800080; font-weight: bold; text-decoration: underline\">world</span><span style=\"color: #008000; text-decoration-color: #008000\"> is full of wonders. </span><span style=\"color: #800080; text-decoration-color: #800080; font-weight: bold; text-decoration: underline\">Hello</span><span style=\"color: #008000; text-decoration-color: #008000\"> again!</span>\n",
       "</pre>\n"
      ],
      "text/plain": [
       "\u001b[1;4;35mHello\u001b[0m\u001b[32m \u001b[0m\u001b[1;4;35mworld\u001b[0m\u001b[32m! This \u001b[0m\u001b[1;4;35mworld\u001b[0m\u001b[32m is full of wonders. \u001b[0m\u001b[1;4;35mHello\u001b[0m\u001b[32m again!\u001b[0m\n"
      ]
     },
     "metadata": {},
     "output_type": "display_data"
    },
    {
     "data": {
      "text/html": [
       "<pre style=\"white-space:pre;overflow-x:auto;line-height:normal;font-family:Menlo,'DejaVu Sans Mono',consolas,'Courier New',monospace\"><span style=\"color: #00ff00; text-decoration-color: #00ff00\">───────────────────────────────────────────── </span><span style=\"color: #808000; text-decoration-color: #808000; font-weight: bold\">Test </span><span style=\"color: #808000; text-decoration-color: #808000; font-weight: bold\">3</span><span style=\"color: #808000; text-decoration-color: #808000; font-weight: bold\">: Case-Sensitive</span><span style=\"color: #00ff00; text-decoration-color: #00ff00\"> ──────────────────────────────────────────────</span>\n",
       "</pre>\n"
      ],
      "text/plain": [
       "\u001b[92m───────────────────────────────────────────── \u001b[0m\u001b[1;33mTest \u001b[0m\u001b[1;33m3\u001b[0m\u001b[1;33m: Case-Sensitive\u001b[0m\u001b[92m ──────────────────────────────────────────────\u001b[0m\n"
      ]
     },
     "metadata": {},
     "output_type": "display_data"
    },
    {
     "data": {
      "text/html": [
       "<pre style=\"white-space:pre;overflow-x:auto;line-height:normal;font-family:Menlo,'DejaVu Sans Mono',consolas,'Courier New',monospace\"><span style=\"color: #008080; text-decoration-color: #008080\">CASE sensitivity Check: </span><span style=\"background-color: #800000\">case</span><span style=\"color: #008080; text-decoration-color: #008080\"> Case CASE</span>\n",
       "</pre>\n"
      ],
      "text/plain": [
       "\u001b[36mCASE sensitivity Check: \u001b[0m\u001b[7;31mcase\u001b[0m\u001b[36m Case CASE\u001b[0m\n"
      ]
     },
     "metadata": {},
     "output_type": "display_data"
    },
    {
     "data": {
      "text/html": [
       "<pre style=\"white-space:pre;overflow-x:auto;line-height:normal;font-family:Menlo,'DejaVu Sans Mono',consolas,'Courier New',monospace\"><span style=\"color: #00ff00; text-decoration-color: #00ff00\">──────────────────────────────────────────────── </span><span style=\"color: #808000; text-decoration-color: #808000; font-weight: bold\">Test </span><span style=\"color: #808000; text-decoration-color: #808000; font-weight: bold\">4</span><span style=\"color: #808000; text-decoration-color: #808000; font-weight: bold\">: Your Turn</span><span style=\"color: #00ff00; text-decoration-color: #00ff00\"> ────────────────────────────────────────────────</span>\n",
       "</pre>\n"
      ],
      "text/plain": [
       "\u001b[92m──────────────────────────────────────────────── \u001b[0m\u001b[1;33mTest \u001b[0m\u001b[1;33m4\u001b[0m\u001b[1;33m: Your Turn\u001b[0m\u001b[92m ────────────────────────────────────────────────\u001b[0m\n"
      ]
     },
     "metadata": {},
     "output_type": "display_data"
    },
    {
     "data": {
      "text/html": [
       "<pre style=\"white-space:pre;overflow-x:auto;line-height:normal;font-family:Menlo,'DejaVu Sans Mono',consolas,'Courier New',monospace\"><span style=\"color: #bfbf7f; text-decoration-color: #bfbf7f; font-weight: bold\">Change</span><span style=\"color: #7f7f7f; text-decoration-color: #7f7f7f\"> this prompt and try </span><span style=\"color: #bfbf7f; text-decoration-color: #bfbf7f; font-weight: bold\">your</span><span style=\"color: #7f7f7f; text-decoration-color: #7f7f7f\"> own </span><span style=\"color: #bfbf7f; text-decoration-color: #bfbf7f; font-weight: bold\">focus</span><span style=\"color: #7f7f7f; text-decoration-color: #7f7f7f\"> words!</span>\n",
       "</pre>\n"
      ],
      "text/plain": [
       "\u001b[1;2;33mChange\u001b[0m\u001b[2m this prompt and try \u001b[0m\u001b[1;2;33myour\u001b[0m\u001b[2m own \u001b[0m\u001b[1;2;33mfocus\u001b[0m\u001b[2m words!\u001b[0m\n"
      ]
     },
     "metadata": {},
     "output_type": "display_data"
    }
   ],
   "source": [
    "from rich.text import Text\n",
    "from rich.console import Console\n",
    "\n",
    "def _highlight_focus_parts(prompt: str,\n",
    "                           default_style: str,\n",
    "                           focus_style: str,\n",
    "                           focus_list: list[str]) -> Text:\n",
    "    text = Text(prompt, style=default_style)\n",
    "\n",
    "    for focus in focus_list:\n",
    "        start = 0\n",
    "        while True:\n",
    "            index = prompt.find(focus, start)\n",
    "            if index == -1:\n",
    "                break\n",
    "            text.stylize(focus_style, index, index + len(focus))\n",
    "            start = index + len(focus)\n",
    "\n",
    "    return text\n",
    "\n",
    "# ----------------------\n",
    "# 🎮 Try it out\n",
    "# ----------------------\n",
    "\n",
    "console = Console()\n",
    "\n",
    "# Test inputs\n",
    "prompt_1 = \"The quick brown fox jumps over the lazy fox\"\n",
    "focus_1 = [\"quick\", \"fox\", \"laz\", \"lazy\"]\n",
    "highlighted_1 = _highlight_focus_parts(prompt_1, \"white\", \"bold red\", focus_1)\n",
    "console.rule(\"[bold yellow]Test 1: Basic Focus\")\n",
    "console.print(highlighted_1)\n",
    "\n",
    "prompt_2 = \"Hello world! This world is full of wonders. Hello again!\"\n",
    "focus_2 = [\"Hello\", \"world\"]\n",
    "highlighted_2 = _highlight_focus_parts(prompt_2, \"green\", \"underline bold magenta\", focus_2)\n",
    "console.rule(\"[bold yellow]Test 2: Multiple Occurrences\")\n",
    "console.print(highlighted_2)\n",
    "\n",
    "prompt_3 = \"CASE sensitivity Check: case Case CASE\"\n",
    "focus_3 = [\"case\"]\n",
    "highlighted_3 = _highlight_focus_parts(prompt_3, \"cyan\", \"reverse red\", focus_3)\n",
    "console.rule(\"[bold yellow]Test 3: Case-Sensitive\")\n",
    "console.print(highlighted_3)\n",
    "\n",
    "# Modify these variables to experiment!\n",
    "your_prompt = \"Change this prompt and try your own focus words!\"\n",
    "your_focus = [\"Change\", \"your\", \"focus\"]\n",
    "highlighted_yours = _highlight_focus_parts(your_prompt, \"dim\", \"bold yellow\", your_focus)\n",
    "console.rule(\"[bold yellow]Test 4: Your Turn\")\n",
    "console.print(highlighted_yours)\n"
   ]
  },
  {
   "cell_type": "code",
   "execution_count": null,
   "metadata": {},
   "outputs": [
    {
     "data": {
      "text/html": [
       "<pre style=\"white-space:pre;overflow-x:auto;line-height:normal;font-family:Menlo,'DejaVu Sans Mono',consolas,'Courier New',monospace\"><span style=\"color: #ff90bb; text-decoration-color: #ff90bb; font-weight: bold\">- </span><span style=\"color: #a3a3a3; text-decoration-color: #a3a3a3\">Hello </span><span style=\"color: #ff90bb; text-decoration-color: #ff90bb; font-weight: bold; text-decoration: underline\">beautiful</span><span style=\"color: #a3a3a3; text-decoration-color: #a3a3a3\"> {</span><span style=\"color: #ff90bb; text-decoration-color: #ff90bb; font-weight: bold; text-decoration: underline\">world</span><span style=\"color: #a3a3a3; text-decoration-color: #a3a3a3\">}</span>\n",
       "</pre>\n"
      ],
      "text/plain": [
       "\u001b[1;38;2;255;144;187m- \u001b[0m\u001b[38;2;163;163;163mHello \u001b[0m\u001b[1;4;38;2;255;144;187mbeautiful\u001b[0m\u001b[38;2;163;163;163m {\u001b[0m\u001b[1;4;38;2;255;144;187mworld\u001b[0m\u001b[38;2;163;163;163m}\u001b[0m\n"
      ]
     },
     "metadata": {},
     "output_type": "display_data"
    },
    {
     "data": {
      "text/html": [
       "<pre style=\"white-space:pre;overflow-x:auto;line-height:normal;font-family:Menlo,'DejaVu Sans Mono',consolas,'Courier New',monospace\"><span style=\"color: #7cd9e6; text-decoration-color: #7cd9e6; font-weight: bold\">+ </span><span style=\"color: #a3a3a3; text-decoration-color: #a3a3a3\">Hello </span><span style=\"color: #a3a3a3; text-decoration-color: #a3a3a3; font-weight: bold; text-decoration: underline\">b</span><span style=\"color: #7cd9e6; text-decoration-color: #7cd9e6; font-weight: bold; text-decoration: underline\">rav</span><span style=\"color: #a3a3a3; text-decoration-color: #a3a3a3; font-weight: bold; text-decoration: underline\">e</span><span style=\"color: #ff90bb; text-decoration-color: #ff90bb; text-decoration: line-through\">autiful</span><span style=\"color: #a3a3a3; text-decoration-color: #a3a3a3\"> {</span><span style=\"color: #a3a3a3; text-decoration-color: #a3a3a3; font-weight: bold; text-decoration: underline\">world</span><span style=\"color: #a3a3a3; text-decoration-color: #a3a3a3\">}</span>\n",
       "</pre>\n"
      ],
      "text/plain": [
       "\u001b[1;38;2;124;217;230m+ \u001b[0m\u001b[38;2;163;163;163mHello \u001b[0m\u001b[1;4;38;2;163;163;163mb\u001b[0m\u001b[1;4;38;2;124;217;230mrav\u001b[0m\u001b[1;4;38;2;163;163;163me\u001b[0m\u001b[9;38;2;255;144;187mautiful\u001b[0m\u001b[38;2;163;163;163m {\u001b[0m\u001b[1;4;38;2;163;163;163mworld\u001b[0m\u001b[38;2;163;163;163m}\u001b[0m\n"
      ]
     },
     "metadata": {},
     "output_type": "display_data"
    }
   ],
   "source": [
    "from pretty_prompt_compare import PrettyCompare\n",
    "\n",
    "pretty_compare = PrettyCompare(compare_response=True, target=[\"brave\", \"beautiful\", \"world\"])\n",
    "\n",
    "# pretty_compare = PrettyCompare(compare_response=True, print_separator=True)\n",
    "\"Hello beautiful {world}\" |pretty_compare| \"Hello brave {world}\""
   ]
  },
  {
   "cell_type": "code",
   "execution_count": 1,
   "metadata": {},
   "outputs": [
    {
     "data": {
      "text/html": [
       "<pre style=\"white-space:pre;overflow-x:auto;line-height:normal;font-family:Menlo,'DejaVu Sans Mono',consolas,'Courier New',monospace\"><span style=\"color: #ff90bb; text-decoration-color: #ff90bb; font-weight: bold\">- </span><span style=\"color: #a3a3a3; text-decoration-color: #a3a3a3\">Hello </span><span style=\"color: #ff90bb; text-decoration-color: #ff90bb; font-weight: bold; text-decoration: underline\">brave</span><span style=\"color: #a3a3a3; text-decoration-color: #a3a3a3\"> world</span>\n",
       "</pre>\n"
      ],
      "text/plain": [
       "\u001b[1;38;2;255;144;187m- \u001b[0m\u001b[38;2;163;163;163mHello \u001b[0m\u001b[1;4;38;2;255;144;187mbrave\u001b[0m\u001b[38;2;163;163;163m world\u001b[0m\n"
      ]
     },
     "metadata": {},
     "output_type": "display_data"
    },
    {
     "data": {
      "text/html": [
       "<pre style=\"white-space:pre;overflow-x:auto;line-height:normal;font-family:Menlo,'DejaVu Sans Mono',consolas,'Courier New',monospace\"><span style=\"color: #7cd9e6; text-decoration-color: #7cd9e6; font-weight: bold\">+ </span><span style=\"color: #a3a3a3; text-decoration-color: #a3a3a3\">Hello </span><span style=\"color: #a3a3a3; text-decoration-color: #a3a3a3; font-weight: bold; text-decoration: underline\">b</span><span style=\"color: #ff90bb; text-decoration-color: #ff90bb; text-decoration: line-through\">r</span><span style=\"color: #7cd9e6; text-decoration-color: #7cd9e6; font-weight: bold; text-decoration: underline\">e</span><span style=\"color: #a3a3a3; text-decoration-color: #a3a3a3; font-weight: bold; text-decoration: underline\">a</span><span style=\"color: #ff90bb; text-decoration-color: #ff90bb; text-decoration: line-through\">ve</span><span style=\"color: #7cd9e6; text-decoration-color: #7cd9e6; font-weight: bold; text-decoration: underline\">utiful</span><span style=\"color: #a3a3a3; text-decoration-color: #a3a3a3\"> world</span>\n",
       "</pre>\n"
      ],
      "text/plain": [
       "\u001b[1;38;2;124;217;230m+ \u001b[0m\u001b[38;2;163;163;163mHello \u001b[0m\u001b[1;4;38;2;163;163;163mb\u001b[0m\u001b[9;38;2;255;144;187mr\u001b[0m\u001b[1;4;38;2;124;217;230me\u001b[0m\u001b[1;4;38;2;163;163;163ma\u001b[0m\u001b[9;38;2;255;144;187mve\u001b[0m\u001b[1;4;38;2;124;217;230mutiful\u001b[0m\u001b[38;2;163;163;163m world\u001b[0m\n"
      ]
     },
     "metadata": {},
     "output_type": "display_data"
    }
   ],
   "source": [
    "from pretty_prompt_compare import pretty_response_compare\n",
    "\n",
    "pretty_response_compare(\"Hello brave world\", \"Hello beautiful world\", [\"brave\", \"beautiful\"])"
   ]
  },
  {
   "cell_type": "code",
   "execution_count": null,
   "metadata": {},
   "outputs": [
    {
     "data": {
      "text/plain": [
       "rich.text.Text"
      ]
     },
     "execution_count": 6,
     "metadata": {},
     "output_type": "execute_result"
    }
   ],
   "source": [
    "# turn a python string into a rich.Text object\n",
    "from rich.text import Text\n",
    "from rich.console import Console\n",
    "\n",
    "console = Console()\n",
    "\n",
    "text = Text(\"Hello world!\")\n",
    "text.stylize(\"bold red\", 0, 5)\n",
    "\n",
    "type(text[0:6])\n",
    "\n",
    "# a_text = Text(\"Hello world!\")\n",
    "# a_text.append(text)"
   ]
  },
  {
   "cell_type": "code",
   "execution_count": null,
   "metadata": {},
   "outputs": [],
   "source": []
  }
 ],
 "metadata": {
  "kernelspec": {
   "display_name": "sam2",
   "language": "python",
   "name": "python3"
  },
  "language_info": {
   "codemirror_mode": {
    "name": "ipython",
    "version": 3
   },
   "file_extension": ".py",
   "mimetype": "text/x-python",
   "name": "python",
   "nbconvert_exporter": "python",
   "pygments_lexer": "ipython3",
   "version": "3.12.9"
  }
 },
 "nbformat": 4,
 "nbformat_minor": 2
}
