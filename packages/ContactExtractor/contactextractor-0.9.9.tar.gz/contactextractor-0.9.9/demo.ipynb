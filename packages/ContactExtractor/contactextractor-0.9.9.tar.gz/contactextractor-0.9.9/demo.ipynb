{
 "cells": [
  {
   "cell_type": "code",
   "execution_count": null,
   "id": "bfefffac",
   "metadata": {},
   "outputs": [],
   "source": [
    "!pip install ContExt"
   ]
  },
  {
   "cell_type": "code",
   "execution_count": 2,
   "id": "b6149946",
   "metadata": {},
   "outputs": [],
   "source": [
    "from ContExt import ContactExtractor"
   ]
  },
  {
   "cell_type": "code",
   "execution_count": 3,
   "id": "6cdecb93",
   "metadata": {},
   "outputs": [
    {
     "name": "stdout",
     "output_type": "stream",
     "text": [
      "Help on function ContactExtractor in module ContExt.ContExt:\n",
      "\n",
      "ContactExtractor(inpfile1, inpfile2=None, RANGE=10.0, mask1='#', mask2=None, printing=False)\n",
      "\n"
     ]
    }
   ],
   "source": [
    "help(ContactExtractor)"
   ]
  },
  {
   "cell_type": "code",
   "execution_count": 4,
   "id": "7e3dcad9",
   "metadata": {},
   "outputs": [
    {
     "name": "stdout",
     "output_type": "stream",
     "text": [
      "[2.5191333827330396, '#1/C:A_72.@N1_1558.', '#1/A:ARG_42.@N_3598.']\n",
      "[2.9109440049578423, '#1/C:A_72.@C2_1559.', '#1/A:ARG_42.@N_3598.']\n",
      "[2.7304267065790335, '#1/D:A_14.@OP1_1935.', '#1/B:ARG_303.@NH2_7979.']\n",
      "[2.9834674457751325, '#1/D:A_72.@N1_3204.', '#1/B:ARG_42.@N_5991.']\n"
     ]
    }
   ],
   "source": [
    "contacts = ContactExtractor(inpfile1 = \"examples/2fmt.pdb\", RANGE = 3.0, mask1=\":A\", mask2=\":ARG\")\n",
    "\n",
    "for contact in contacts:\n",
    "    print(contact)"
   ]
  },
  {
   "cell_type": "code",
   "execution_count": 5,
   "id": "343ce7ef",
   "metadata": {},
   "outputs": [
    {
     "name": "stdout",
     "output_type": "stream",
     "text": [
      "[1.5192873329294772, '#1/0:G_77.@P_1..', '#1/A:G_69.@P_489..']\n",
      "[1.5172633258600845, '#1/0:G_78.@P_24..', '#1/A:G_70.@P_512..']\n",
      "[1.8690634018138808, '#1/0:G_79.@P_47..', '#1/A:G_71.@P_535..']\n",
      "[0.8368010516245794, '#1/0:A_80.@P_70..', '#1/A:A_72.@P_558..']\n",
      "[2.673045641211536, '#1/0:G_81.@P_92..', '#1/A:G_9.@P_66..']\n",
      "[2.43018147470513, '#1/0:C_82.@P_115..', '#1/A:G_10.@P_89..']\n",
      "[4.643658040812216, '#1/0:C_82.@P_115..', '#1/A:G_11.@P_112..']\n",
      "[1.322598200512905, '#1/0:G_92.@P_135..', '#1/A:C_36.@P_220..']\n",
      "[0.9900535339061219, '#1/0:C_93.@P_158..', '#1/A:C_37.@P_240..']\n",
      "[1.6807896953515717, '#1/0:G_94.@P_178..', '#1/A:C_38.@P_260..']\n",
      "[1.7353599050341133, '#1/0:A_95.@P_201..', '#1/A:U_39.@P_280..']\n",
      "[2.72056042020757, '#1/0:G_97.@P_245..', '#1/A:G_42.@P_340..']\n",
      "[3.8932846030055335, '#1/0:G_97.@P_245..', '#1/A:A_43.@P_363..']\n",
      "[2.404202362531092, '#1/0:A_98.@P_268..', '#1/A:A_43.@P_363..']\n",
      "[3.8838966258127954, '#1/0:A_99.@P_290..', '#1/A:C_45.@P_407..']\n",
      "[1.825322163345433, '#1/0:C_100.@P_312..', '#1/A:C_46.@P_427..']\n"
     ]
    }
   ],
   "source": [
    "contacts = ContactExtractor(\"examples/1ffk_0_kt7.cif\", \"examples/3d2g_A_kj.cif\", 5.0, \"@P\", \"@P\")\n",
    "\n",
    "for contact in contacts:\n",
    "    print(contact)"
   ]
  },
  {
   "cell_type": "code",
   "execution_count": null,
   "id": "971e845f",
   "metadata": {},
   "outputs": [],
   "source": []
  },
  {
   "cell_type": "code",
   "execution_count": null,
   "id": "bb57f607",
   "metadata": {},
   "outputs": [],
   "source": []
  },
  {
   "cell_type": "code",
   "execution_count": null,
   "id": "1dcf9d7c",
   "metadata": {},
   "outputs": [],
   "source": []
  },
  {
   "cell_type": "code",
   "execution_count": null,
   "id": "028ebdb8",
   "metadata": {},
   "outputs": [],
   "source": []
  },
  {
   "cell_type": "code",
   "execution_count": null,
   "id": "cddddce6",
   "metadata": {},
   "outputs": [],
   "source": []
  }
 ],
 "metadata": {
  "kernelspec": {
   "display_name": "Python 3 (ipykernel)",
   "language": "python",
   "name": "python3"
  },
  "language_info": {
   "codemirror_mode": {
    "name": "ipython",
    "version": 3
   },
   "file_extension": ".py",
   "mimetype": "text/x-python",
   "name": "python",
   "nbconvert_exporter": "python",
   "pygments_lexer": "ipython3",
   "version": "3.8.10"
  }
 },
 "nbformat": 4,
 "nbformat_minor": 5
}
