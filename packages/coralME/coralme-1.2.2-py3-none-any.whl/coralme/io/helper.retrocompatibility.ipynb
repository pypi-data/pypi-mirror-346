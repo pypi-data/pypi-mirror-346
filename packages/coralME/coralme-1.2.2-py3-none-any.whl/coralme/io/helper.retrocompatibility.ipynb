{
 "cells": [
  {
   "cell_type": "markdown",
   "metadata": {},
   "source": [
    "## Description\n",
    "\n",
    "inputs:\n",
    "\n",
    "output:"
   ]
  },
  {
   "cell_type": "code",
   "execution_count": 1,
   "metadata": {},
   "outputs": [],
   "source": [
    "import glob\n",
    "import numpy\n",
    "import pandas\n",
    "# import seaborn\n",
    "# import matplotlib.pyplot as plt\n",
    "# plt.rcParams['svg.fonttype'] = 'none'\n",
    "from tqdm import tqdm"
   ]
  },
  {
   "cell_type": "code",
   "execution_count": 2,
   "metadata": {},
   "outputs": [
    {
     "data": {
      "text/html": [
       "<style>.container { width:95% !important; }</style>"
      ],
      "text/plain": [
       "<IPython.core.display.HTML object>"
      ]
     },
     "metadata": {},
     "output_type": "display_data"
    }
   ],
   "source": [
    "from IPython.display import display, HTML, Math, Markdown\n",
    "display(HTML(\"<style>.container { width:95% !important; }</style>\"))\n",
    "\n",
    "%load_ext autoreload\n",
    "%autoreload 2"
   ]
  },
  {
   "cell_type": "code",
   "execution_count": 3,
   "metadata": {},
   "outputs": [
    {
     "name": "stdout",
     "output_type": "stream",
     "text": [
      "Set parameter Username\n",
      "Academic license - for non-commercial use only - expires 2025-04-05\n"
     ]
    },
    {
     "name": "stderr",
     "output_type": "stream",
     "text": [
      "Adding Metabolites into the ME-model...                                    : 100.0%|██████████|  7196/ 7196 [00:00<00:00]\n",
      "Adding ProcessData into the ME-model...                                    : 100.0%|██████████|  8192/ 8192 [00:00<00:00]\n",
      "Adding Reactions into the ME-model...                                      : 100.0%|██████████| 14960/14960 [00:48<00:00]\n",
      "Updating ME-model Reactions...                                             : 100.0%|██████████| 12934/12934 [01:09<00:00]\n"
     ]
    }
   ],
   "source": [
    "# read old json schema\n",
    "import coralme\n",
    "json = '../solver/MEModel-step2-iJL1678b-ME.json'\n",
    "model = coralme.io.json.load_json_me_model(json)"
   ]
  }
 ],
 "metadata": {
  "kernelspec": {
   "display_name": "p312 :: venv :: coralME",
   "language": "python",
   "name": "p312-venv-coralme"
  },
  "language_info": {
   "codemirror_mode": {
    "name": "ipython",
    "version": 3
   },
   "file_extension": ".py",
   "mimetype": "text/x-python",
   "name": "python",
   "nbconvert_exporter": "python",
   "pygments_lexer": "ipython3",
   "version": "3.12.4"
  }
 },
 "nbformat": 4,
 "nbformat_minor": 4
}
