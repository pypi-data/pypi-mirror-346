{
 "cells": [
  {
   "cell_type": "markdown",
   "id": "0",
   "metadata": {},
   "source": [
    "## gistory"
   ]
  },
  {
   "cell_type": "markdown",
   "id": "1",
   "metadata": {},
   "source": [
    "[![Open In Colab](https://colab.research.google.com/assets/colab-badge.svg)](https://colab.research.google.com/github/dzfinch/maeson/blob/main/docs/examples/gistory.ipynb)"
   ]
  },
  {
   "cell_type": "markdown",
   "id": "2",
   "metadata": {},
   "source": [
    "### SceneBuilder"
   ]
  },
  {
   "cell_type": "code",
   "execution_count": null,
   "id": "3",
   "metadata": {},
   "outputs": [],
   "source": [
    "# %pip install maeson"
   ]
  },
  {
   "cell_type": "code",
   "execution_count": null,
   "id": "4",
   "metadata": {},
   "outputs": [],
   "source": [
    "import maeson\n",
    "from maeson.gistory import SceneBuilder\n",
    "\n",
    "m = maeson.Map(center=(0, 0), zoom=2)\n",
    "builder = SceneBuilder(m)\n",
    "builder.display()"
   ]
  },
  {
   "cell_type": "code",
   "execution_count": null,
   "id": "5",
   "metadata": {},
   "outputs": [],
   "source": [
    "## Raster layer\n",
    "# -22.1757, -51.2527\n",
    "# https://github.com/opengeos/datasets/releases/download/samgeo/tree_image.tif\n",
    "\n",
    "## Image layer\n",
    "# https://i.imgur.com/06Q1fSz.png\n",
    "# ((13, -130), (32, -100))\n",
    "\n",
    "# # June 2021 Sentinel‑2 mosaic using highest-NDVI pixel\n",
    "# import ee\n",
    "# ee.Initialize()\n",
    "# sentinel = (\n",
    "#     ee.ImageCollection(\"COPERNICUS/S2_SR\")\n",
    "#       .filterDate(\"2021-06-01\", \"2021-06-30\")\n",
    "#       .filterBounds(ee.Geometry.Point(-122.4, 37.8))\n",
    "# )\n",
    "\n",
    "# map.add_earthengine(\n",
    "#     ee_object=sentinel,\n",
    "#     vis_params={\n",
    "#         \"bands\": [\"B4\", \"B3\", \"B2\"],\n",
    "#         \"min\": 0,\n",
    "#         \"max\": 3000\n",
    "#     },\n",
    "#     name=\"Sentinel-2 True Color (Jun 2021)\"\n",
    "# )\n",
    "\n",
    "# Annual mean NDVI from MODIS\n",
    "# import ee\n",
    "# ee.Initialize()\n",
    "# ndvi = (\n",
    "#     ee.ImageCollection(\"MODIS/006/MOD13A1\")\n",
    "#       .select(\"NDVI\")\n",
    "#       .filterDate(\"2021-01-01\", \"2021-12-31\")\n",
    "#       .mean()\n",
    "# )\n",
    "\n",
    "# map.add_earthengine(\n",
    "#     ee_object=ndvi,\n",
    "#     vis_params={\n",
    "#         \"min\": 0,\n",
    "#         \"max\": 9000,\n",
    "#         \"palette\": [\"white\", \"yellow\", \"green\"]\n",
    "#     },\n",
    "#     name=\"MODIS NDVI 2021\"\n",
    "# )"
   ]
  }
 ],
 "metadata": {
  "language_info": {
   "name": "python"
  }
 },
 "nbformat": 4,
 "nbformat_minor": 5
}
