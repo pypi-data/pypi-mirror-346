{
 "cells": [
  {
   "cell_type": "markdown",
   "metadata": {},
   "source": [
    "# Environment setting\n",
    "環境設定"
   ]
  },
  {
   "cell_type": "code",
   "execution_count": null,
   "metadata": {},
   "outputs": [],
   "source": [
    "import os\n",
    "import requests\n",
    "from pathlib import Path\n",
    "\n",
    "\n",
    "# determine branch, default is main\n",
    "branch = 'main'\n",
    "\n",
    "# Check if running in Google Colab\n",
    "is_colab = 'COLAB_GPU' in os.environ\n",
    "\n",
    "if is_colab:\n",
    "    # Download the utils.py file from GitHub\n",
    "    utils_url = f\"https://raw.githubusercontent.com/nics-tw/petsard/{branch}/demo/utils.py\"\n",
    "    response = requests.get(utils_url)\n",
    "\n",
    "    if response.status_code == 200:\n",
    "        # Save the utils.py file\n",
    "        with open('utils.py', 'w') as f:\n",
    "            f.write(response.text)\n",
    "\n",
    "        # Create an empty __init__.py\n",
    "        Path('__init__.py').touch()\n",
    "    else:\n",
    "        raise RuntimeError(f\"Failed to download utils.py. Status code: {response.status_code}\")"
   ]
  },
  {
   "cell_type": "code",
   "execution_count": null,
   "metadata": {},
   "outputs": [],
   "source": [
    "# Now import and run the setup\n",
    "from utils import (\n",
    "    get_yaml_path,\n",
    "    setup_environment,\n",
    ")\n",
    "\n",
    "\n",
    "setup_environment(\n",
    "    is_colab,\n",
    "    branch,\n",
    "    benchmark_data=[\n",
    "        'adult-income',\n",
    "    ]\n",
    ")"
   ]
  },
  {
   "cell_type": "code",
   "execution_count": 3,
   "metadata": {},
   "outputs": [],
   "source": [
    "from petsard import Executor"
   ]
  },
  {
   "cell_type": "markdown",
   "metadata": {},
   "source": [
    "# YAML Configuration for PETsARD\n",
    "PETsARD 的 YAML 設定"
   ]
  },
  {
   "cell_type": "markdown",
   "metadata": {},
   "source": [
    "## Default Synthesis and Default Evaluation\n",
    "預設合成與預設評測"
   ]
  },
  {
   "cell_type": "code",
   "execution_count": 4,
   "metadata": {},
   "outputs": [
    {
     "name": "stdout",
     "output_type": "stream",
     "text": [
      "Configuration content:\n",
      "---\n",
      "Executor:\n",
      "  log_output_type: both\n",
      "  log_level: DEBUG\n",
      "  log_dir: demo_logs\n",
      "  log_filename: PETsARD_demo_{timestamp}.log\n",
      "Loader:\n",
      "  log-data:\n",
      "    filepath: 'benchmark/adult-income.csv'\n",
      "Splitter:\n",
      "  demo:\n",
      "    num_samples: 1\n",
      "    train_split_ratio: 0.8\n",
      "Preprocessor:\n",
      "  demo:\n",
      "    method: 'default'\n",
      "Synthesizer:\n",
      "  demo:\n",
      "    method: 'default'\n",
      "Postprocessor:\n",
      "  demo:\n",
      "    method: 'default'\n",
      "Evaluator:\n",
      "  demo-diagnostic:\n",
      "    method: 'sdmetrics-diagnosticreport'\n",
      "  demo-quality:\n",
      "    method: 'sdmetrics-qualityreport'\n",
      "Reporter:\n",
      "  output:\n",
      "    method: 'save_data'\n",
      "    source: 'Synthesizer'\n",
      "  save_report_global:\n",
      "    method: 'save_report'\n",
      "    granularity: 'global'\n",
      "...\n"
     ]
    }
   ],
   "source": [
    "yaml_file_case: str = 'logging-configuration.yaml'\n",
    "\n",
    "yaml_path_case: str = get_yaml_path(\n",
    "    is_colab=is_colab,\n",
    "    yaml_file=yaml_file_case,\n",
    "    branch=branch,\n",
    ")"
   ]
  },
  {
   "cell_type": "markdown",
   "metadata": {},
   "source": [
    "### Execution and Result\n",
    "執行與結果"
   ]
  },
  {
   "cell_type": "code",
   "execution_count": null,
   "metadata": {},
   "outputs": [],
   "source": [
    "exec_case = Executor(config=yaml_path_case)\n",
    "exec_case.run()"
   ]
  },
  {
   "cell_type": "code",
   "execution_count": 6,
   "metadata": {},
   "outputs": [
    {
     "data": {
      "text/html": [
       "<div>\n",
       "<style scoped>\n",
       "    .dataframe tbody tr th:only-of-type {\n",
       "        vertical-align: middle;\n",
       "    }\n",
       "\n",
       "    .dataframe tbody tr th {\n",
       "        vertical-align: top;\n",
       "    }\n",
       "\n",
       "    .dataframe thead th {\n",
       "        text-align: right;\n",
       "    }\n",
       "</style>\n",
       "<table border=\"1\" class=\"dataframe\">\n",
       "  <thead>\n",
       "    <tr style=\"text-align: right;\">\n",
       "      <th></th>\n",
       "      <th>full_expt_name</th>\n",
       "      <th>Loader</th>\n",
       "      <th>Splitter</th>\n",
       "      <th>Preprocessor</th>\n",
       "      <th>Synthesizer</th>\n",
       "      <th>Postprocessor</th>\n",
       "      <th>Evaluator</th>\n",
       "      <th>demo-diagnostic_Score</th>\n",
       "      <th>demo-diagnostic_Data Validity</th>\n",
       "      <th>demo-diagnostic_Data Structure</th>\n",
       "      <th>demo-quality_Score</th>\n",
       "      <th>demo-quality_Column Shapes</th>\n",
       "      <th>demo-quality_Column Pair Trends</th>\n",
       "    </tr>\n",
       "  </thead>\n",
       "  <tbody>\n",
       "    <tr>\n",
       "      <th>0</th>\n",
       "      <td>Loader[log-data]_Splitter[demo_[1-1]]_Preproce...</td>\n",
       "      <td>log-data</td>\n",
       "      <td>demo_[1-1]</td>\n",
       "      <td>demo</td>\n",
       "      <td>demo</td>\n",
       "      <td>demo</td>\n",
       "      <td>[global]</td>\n",
       "      <td>1.0</td>\n",
       "      <td>1.0</td>\n",
       "      <td>1.0</td>\n",
       "      <td>0.780137</td>\n",
       "      <td>0.953978</td>\n",
       "      <td>0.606295</td>\n",
       "    </tr>\n",
       "  </tbody>\n",
       "</table>\n",
       "</div>"
      ],
      "text/plain": [
       "                                      full_expt_name    Loader    Splitter  \\\n",
       "0  Loader[log-data]_Splitter[demo_[1-1]]_Preproce...  log-data  demo_[1-1]   \n",
       "\n",
       "  Preprocessor Synthesizer Postprocessor Evaluator  demo-diagnostic_Score  \\\n",
       "0         demo        demo          demo  [global]                    1.0   \n",
       "\n",
       "   demo-diagnostic_Data Validity  demo-diagnostic_Data Structure  \\\n",
       "0                            1.0                             1.0   \n",
       "\n",
       "   demo-quality_Score  demo-quality_Column Shapes  \\\n",
       "0            0.780137                    0.953978   \n",
       "\n",
       "   demo-quality_Column Pair Trends  \n",
       "0                         0.606295  "
      ]
     },
     "execution_count": 6,
     "metadata": {},
     "output_type": "execute_result"
    }
   ],
   "source": [
    "exec_case.get_result()[\n",
    "    'Loader[log-data]_Splitter[demo_[1-1]]_Preprocessor[demo]_Synthesizer[demo]_Postprocessor[demo]_Evaluator[demo-quality]_Reporter[save_report_global]'\n",
    "]['[global]']"
   ]
  }
 ],
 "metadata": {
  "kernelspec": {
   "display_name": ".venv",
   "language": "python",
   "name": "python3"
  },
  "language_info": {
   "codemirror_mode": {
    "name": "ipython",
    "version": 3
   },
   "file_extension": ".py",
   "mimetype": "text/x-python",
   "name": "python",
   "nbconvert_exporter": "python",
   "pygments_lexer": "ipython3",
   "version": "3.10.15"
  }
 },
 "nbformat": 4,
 "nbformat_minor": 2
}
