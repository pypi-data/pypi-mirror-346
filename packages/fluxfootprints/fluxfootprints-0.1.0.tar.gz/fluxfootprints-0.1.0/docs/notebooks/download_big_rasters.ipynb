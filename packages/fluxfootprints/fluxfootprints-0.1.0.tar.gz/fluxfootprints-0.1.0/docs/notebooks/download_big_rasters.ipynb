{
 "cells": [
  {
   "metadata": {},
   "cell_type": "code",
   "outputs": [],
   "execution_count": null,
   "source": [
    "import geopandas as gpd\n",
    "import pandas as pd\n",
    "import pathlib\n",
    "import requests\n",
    "import configparser\n"
   ],
   "id": "8acbce1a49823d0"
  },
  {
   "metadata": {},
   "cell_type": "code",
   "outputs": [],
   "execution_count": null,
   "source": [
    "\n",
    "file_path = pathlib.Path(r\"C:\\Users\\paulinkenbrandt\\Documents\\ArcGIS\\Projects\\MyProject2\\Wellington_Openet_wgs84.geojson\")"
   ],
   "id": "12c07459ddf87630"
  },
  {
   "metadata": {},
   "cell_type": "code",
   "outputs": [],
   "execution_count": null,
   "source": [
    "station = \"US-UTW\"\n",
    "config_path = f'../../station_config/{station}.ini'\n",
    "config = configparser.ConfigParser()\n",
    "config.read(config_path)\n",
    "\n",
    "secrets_path = f'../../secrets/config.ini'\n",
    "secrets_config = configparser.ConfigParser()\n",
    "secrets_config.read(secrets_path)\n",
    "url = secrets_config['DEFAULT']['url']\n",
    "apikey = secrets_config['OPENET']['key']"
   ],
   "id": "6264297c35f21a7b"
  },
  {
   "metadata": {},
   "cell_type": "code",
   "outputs": [],
   "execution_count": null,
   "source": "",
   "id": "f0216d6829dd9295"
  },
  {
   "metadata": {},
   "cell_type": "code",
   "outputs": [],
   "execution_count": null,
   "source": [
    "\n",
    "\n",
    "# 1. Read your GeoDataFrame (e.g., from a GeoJSON)\n",
    "gdf = gpd.read_file(file_path)\n",
    "\n",
    "# 2. Get the geometry of the first feature (Polygon)\n",
    "polygon = gdf.geometry.iloc[0]\n",
    "\n",
    "# 3. Extract the exterior coordinates as a list of (x, y) tuples\n",
    "exterior_coords = list(polygon.exterior.coords)\n",
    "\n",
    "# 4. Flatten that list of tuples into a single list\n",
    "flattened_coords = [value for x, y in exterior_coords for value in (x, y)]\n"
   ],
   "id": "a69e6dc49cc1d760"
  },
  {
   "metadata": {},
   "cell_type": "code",
   "outputs": [],
   "execution_count": null,
   "source": "flattened_coords",
   "id": "d73e9bc7b3108a6a"
  },
  {
   "metadata": {},
   "cell_type": "code",
   "outputs": [],
   "execution_count": null,
   "source": [
    "import requests\n",
    "\n",
    "# set your API key before making the request\n",
    "header = {\"Authorization\": apikey}\n",
    "\n"
   ],
   "id": "aa32e135da130d3a"
  },
  {
   "metadata": {},
   "cell_type": "code",
   "outputs": [],
   "execution_count": null,
   "source": [
    "info_resp = requests.get(headers=header,\n",
    "                         url=\"https://utah.openet-api.org/account/status\").json()\n",
    "print(info_resp)"
   ],
   "id": "db91e26822ba61c9"
  },
  {
   "metadata": {},
   "cell_type": "code",
   "outputs": [],
   "execution_count": null,
   "source": [
    "start_date = pd.to_datetime(\"2023-01-01\")\n",
    "end_date = pd.to_datetime(\"2024-10-01\")\n",
    "mon_req = info_resp['Monthly Requests'].split(\" \")\n",
    "used_req = int(mon_req[0])\n",
    "limit_req = int(mon_req[-1])\n",
    "date = start_date\n",
    "while date < end_date and used_req < limit_req:\n",
    "    bdate = date\n",
    "    edate = date + pd.Timedelta('30d')\n",
    "\n",
    "    # endpoint arguments\n",
    "    args = {\n",
    "      \"date_range\": [\n",
    "        f\"{bdate:%Y-%m-%d}\",\n",
    "        f\"{edate:%Y-%m-%d}\"\n",
    "      ],\n",
    "      \"interval\": \"daily\",\n",
    "      \"geometry\": flattened_coords,\n",
    "      \"model\": \"Ensemble\",\n",
    "      \"variable\": \"ET\",\n",
    "      \"reference_et\": \"gridMET\",\n",
    "      \"units\": \"mm\",\n",
    "      \"encrypt\": False\n",
    "    }\n",
    "\n",
    "    # query the api\n",
    "    resp = requests.post(\n",
    "        headers=header,\n",
    "        json=args,\n",
    "        url=\"https://utah.openet-api.org/raster/export/stack\"\n",
    "    )\n",
    "\n",
    "    print(resp.json())\n",
    "\n",
    "\n",
    "    if edate >= end_date:\n",
    "        date = end_date\n",
    "    else:\n",
    "        date = edate\n",
    "\n",
    "    used_req += 1\n",
    "    print(date, used_req)"
   ],
   "id": "831ee18cbb5e5d6c"
  },
  {
   "metadata": {},
   "cell_type": "code",
   "outputs": [],
   "execution_count": null,
   "source": "",
   "id": "44137f21b06a053c"
  }
 ],
 "metadata": {},
 "nbformat": 5,
 "nbformat_minor": 9
}
