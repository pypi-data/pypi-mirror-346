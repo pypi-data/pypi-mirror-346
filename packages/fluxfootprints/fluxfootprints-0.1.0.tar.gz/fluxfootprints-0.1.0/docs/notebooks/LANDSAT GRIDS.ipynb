{
 "cells": [
  {
   "metadata": {
    "ExecuteTime": {
     "end_time": "2025-02-03T15:29:02.066860Z",
     "start_time": "2025-02-03T15:29:00.798373Z"
    }
   },
   "cell_type": "code",
   "source": [
    "import ee\n",
    "ee.Authenticate()\n",
    "# Initialize Earth Engine\n"
   ],
   "id": "ba0060926a0469ab",
   "outputs": [
    {
     "data": {
      "text/plain": [
       "True"
      ]
     },
     "execution_count": 1,
     "metadata": {},
     "output_type": "execute_result"
    }
   ],
   "execution_count": 1
  },
  {
   "metadata": {
    "ExecuteTime": {
     "end_time": "2025-02-03T15:29:04.386280Z",
     "start_time": "2025-02-03T15:29:02.458473Z"
    }
   },
   "cell_type": "code",
   "source": "ee.Initialize()",
   "id": "a247b5fa1a8cf7ed",
   "outputs": [],
   "execution_count": 2
  },
  {
   "metadata": {
    "collapsed": true,
    "ExecuteTime": {
     "end_time": "2025-02-03T15:29:08.075810Z",
     "start_time": "2025-02-03T15:29:07.229460Z"
    }
   },
   "cell_type": "code",
   "source": [
    "\n",
    "\n",
    "# Define the Bounding Box (BBOX) as [min_lon, min_lat, max_lon, max_lat]\n",
    "#bbox = ee.Geometry.BBox(-113.5, 38.8, -113.0, 39.2)  # Example for Pahvant Valley\n",
    "\n",
    "# xmin, ymin, xmax, ymax\n",
    "box = [-110.75, 39.43, -110.7, 39.46]\n",
    "\n",
    "bbox = ee.Geometry.BBox(*box)\n",
    "# Load the Landsat 8 image collection\n",
    "# Load Landsat 8 TOA collection\n",
    "landsat = (\n",
    "    ee.ImageCollection(\"LANDSAT/LC08/C02/T1_TOA\")\n",
    "    .filterBounds(bbox)\n",
    "    .filterDate(\"2023-06-01\", \"2023-06-30\")\n",
    "    .sort(\"CLOUD_COVER\")\n",
    "    .first()\n",
    ")\n",
    "\n",
    "# Select only the 30m bands to avoid projection issues\n",
    "bands_30m = ['B1', 'B2', 'B3', 'B4', 'B5', 'B6', 'B7']  # Excludes B8 (15m) & B10/B11 (100m)\n",
    "landsat = landsat.select(bands_30m)\n",
    "\n",
    "# Convert all bands to Float32 to ensure consistency\n",
    "landsat = landsat.toFloat()\n",
    "\n",
    "# Get the original projection and scale\n",
    "orig_proj = landsat.select('B1').projection()\n",
    "orig_scale = orig_proj.nominalScale()\n",
    "\n",
    "# Reproject to preserve the Landsat grid\n",
    "reprojected_image = landsat.reproject(crs=orig_proj, scale=orig_scale)\n",
    "\n",
    "\n",
    "\n",
    "# Define export parameters\n",
    "export_task = ee.batch.Export.image.toDrive(\n",
    "    image=reprojected_image,\n",
    "    description=\"Landsat_Grid_Preserved\",\n",
    "    folder=\"EarthEngineExports\",\n",
    "    fileNamePrefix=\"landsat_grid_sample\",\n",
    "    scale=30,  # Landsat native resolution\n",
    "    region=bbox.bounds().getInfo()[\"coordinates\"],  # Use bounding box\n",
    "    fileFormat=\"GeoTIFF\",\n",
    "    crs=orig_proj.getInfo()[\"crs\"]  # Use original Landsat CRS\n",
    ")\n",
    "\n",
    "# Start the export task\n",
    "export_task.start()\n",
    "\n",
    "print(\"Export started. Check Google Drive for the image.\")\n"
   ],
   "id": "initial_id",
   "outputs": [
    {
     "name": "stdout",
     "output_type": "stream",
     "text": [
      "Export started. Check Google Drive for the image.\n"
     ]
    }
   ],
   "execution_count": 3
  },
  {
   "metadata": {
    "ExecuteTime": {
     "end_time": "2025-02-03T15:33:19.887958Z",
     "start_time": "2025-02-03T15:33:19.482325Z"
    }
   },
   "cell_type": "code",
   "source": "print(export_task.status())\n",
   "id": "d04a588aac7af3d4",
   "outputs": [
    {
     "name": "stdout",
     "output_type": "stream",
     "text": [
      "{'state': 'COMPLETED', 'description': 'Landsat_Grid_Preserved', 'priority': 100, 'creation_timestamp_ms': 1738596547998, 'update_timestamp_ms': 1738596561320, 'start_timestamp_ms': 1738596550316, 'task_type': 'EXPORT_IMAGE', 'destination_uris': ['https://drive.google.com/#folders/1JT1SHkgIEBYqHcCk4AIZ_5ca6f9qgg-J'], 'attempt': 1, 'batch_eecu_usage_seconds': 0.09087080508470535, 'id': 'GO6NJYN7YK3O4ECUXUCJURBX', 'name': 'projects/114443260784/operations/GO6NJYN7YK3O4ECUXUCJURBX'}\n"
     ]
    }
   ],
   "execution_count": 5
  },
  {
   "metadata": {
    "ExecuteTime": {
     "end_time": "2025-02-03T15:37:42.290019Z",
     "start_time": "2025-02-03T15:37:41.695327Z"
    }
   },
   "cell_type": "code",
   "source": [
    "# Select LANDSAT 8 image collection\n",
    "landsat_collection = (ee.ImageCollection(\"LANDSAT/LC08/C02/T1\")\n",
    "    .filterBounds(bbox)\n",
    "    .filterDate(\"2023-06-01\", \"2023-06-30\")\n",
    "    .sort(\"CLOUD_COVER\")\n",
    ")\n",
    "\n",
    "# Extract image footprints as geometries\n",
    "footprints = landsat_collection.map(lambda img: ee.Feature(img.geometry())).distinct([\"system:index\"])\n",
    "\n",
    "# Convert to FeatureCollection\n",
    "feature_collection = ee.FeatureCollection(footprints)\n",
    "\n",
    "# Print result to check\n",
    "print(feature_collection.getInfo())\n",
    "\n",
    "# Export as a shapefile (optional)\n",
    "export_task = ee.batch.Export.table.toDrive(\n",
    "    collection=feature_collection,\n",
    "    description=\"Landsat_Grid\",\n",
    "    fileFormat=\"SHP\"\n",
    ")\n",
    "export_task.start()\n",
    "\n",
    "print(\"Export started. Check Google Drive for the shapefile.\")"
   ],
   "id": "3d81c82597939f1c",
   "outputs": [
    {
     "name": "stdout",
     "output_type": "stream",
     "text": [
      "{'type': 'FeatureCollection', 'columns': {}, 'features': [{'type': 'Feature', 'geometry': {'type': 'Polygon', 'coordinates': [[[-109.5143955049841, 39.552418098948955], [-109.51436626990703, 39.55379062796317], [-109.846535552764, 39.61877648630259], [-111.29941780606933, 39.89050242608544], [-111.67054996082894, 39.95666289043085], [-111.67287982227646, 39.956649346510815], [-111.67402819552294, 39.953929793427164], [-111.87958467188453, 39.26344777805886], [-112.17728321368358, 38.23893909011135], [-112.17655951735253, 38.23838256580303], [-112.16413511398679, 38.236063964171414], [-110.36382572938976, 37.895379038720016], [-110.08491131076289, 37.83984047828962], [-110.06986420912627, 37.83687436116259], [-110.06904678172765, 37.837509811280825], [-109.98194603453061, 38.10815008681375], [-109.93300415576743, 38.261419888475395], [-109.77621663831708, 38.748437766237906], [-109.72956964001902, 38.89240759324901], [-109.54516995695177, 39.458322089305966], [-109.5143955049841, 39.552418098948955]]]}, 'id': 'LC08_037033_20230614', 'properties': {}}]}\n",
      "Export started. Check Google Drive for the shapefile.\n"
     ]
    }
   ],
   "execution_count": 8
  },
  {
   "metadata": {
    "ExecuteTime": {
     "end_time": "2025-02-03T15:41:39.972765Z",
     "start_time": "2025-02-03T15:41:39.798062Z"
    }
   },
   "cell_type": "code",
   "source": [
    "import geopandas as gpd\n",
    "import matplotlib.pyplot as plt\n",
    "\n",
    "gdf = gpd.read_file(\"G:/My Drive/Landsat_Grid.shp\")\n",
    "\n",
    "# Plot the LANDSAT Grid\n",
    "fig, ax = plt.subplots(figsize=(10, 6))\n",
    "gdf.plot(ax=ax, edgecolor=\"black\", facecolor=\"none\", linewidth=0.8)\n",
    "\n",
    "# Customize the plot\n",
    "ax.set_title(\"Vectorized LANDSAT Grid\", fontsize=14)\n",
    "ax.set_xlabel(\"Longitude\")\n",
    "ax.set_ylabel(\"Latitude\")\n",
    "plt.grid(True, linestyle=\"--\", linewidth=0.5)\n",
    "plt.show()\n"
   ],
   "id": "8ac8ed9dd5c7118f",
   "outputs": [
    {
     "data": {
      "text/plain": [
       "<Figure size 1000x600 with 1 Axes>"
      ],
      "image/png": "[encoded data removed]"
     },
     "metadata": {},
     "output_type": "display_data"
    }
   ],
   "execution_count": 12
  },
  {
   "metadata": {},
   "cell_type": "code",
   "outputs": [],
   "execution_count": null,
   "source": "-110.75, 39.43, -110.7, 39.46",
   "id": "11f9384937b8e914"
  },
  {
   "metadata": {
    "ExecuteTime": {
     "end_time": "2025-02-03T16:31:37.507268Z",
     "start_time": "2025-02-03T16:31:34.776207Z"
    }
   },
   "cell_type": "code",
   "source": [
    "import ee\n",
    "\n",
    "# Authenticate and initialize Earth Engine\n",
    "ee.Authenticate()\n",
    "ee.Initialize()\n",
    "\n",
    "# Define the region of interest (modify as needed)\n",
    "roi = ee.Geometry.BBox(-110.8, 39.4, -110.7, 39.5)  # Modify as needed\n",
    "\n",
    "# Select a single Landsat 8 image\n",
    "image = ee.ImageCollection(\"LANDSAT/LC08/C02/T1_TOA\") \\\n",
    "    .filterBounds(roi) \\\n",
    "    .filterDate(\"2023-06-01\", \"2023-06-30\") \\\n",
    "    .first()\n",
    "\n",
    "# Select only the 30m bands to avoid projection issues\n",
    "bands_30m = ['B1', 'B2', 'B3', 'B4', 'B5', 'B6', 'B7']  # Excludes B8 (15m) & B10/B11 (100m)\n",
    "image = image.select(bands_30m)\n",
    "\n",
    "# Print result to check\n",
    "print(image.getInfo())\n",
    "\n",
    "# Get projection and pixel size\n",
    "proj = image.select(0).projection()\n",
    "pixel_size = proj.nominalScale()  # Landsat pixel size (~30m)\n",
    "\n",
    "# Generate a pixel grid using `pixelCoordinates()`\n",
    "pixel_grid = ee.Image.pixelCoordinates(proj)\n",
    "\n",
    "# Sample pixels within the region\n",
    "sampled_pixels = pixel_grid.sample(region=roi, scale=30)\n",
    "\n",
    "# Filter out invalid features\n",
    "valid_pixels = sampled_pixels.filter(ee.Filter.notNull([\"longitude\", \"latitude\"]))\n",
    "\n",
    "# **Get pixel count safely**\n",
    "print(\"Estimated pixel count:\", valid_pixels.size().getInfo())\n",
    "\n",
    "# Convert pixel centers to rectangular polygons\n",
    "def create_pixel_polygon(feature):\n",
    "    \"\"\"Convert pixel center points to 30m x 30m bounding boxes\"\"\"\n",
    "    lon = ee.Number(feature.get(\"longitude\"))\n",
    "    lat = ee.Number(feature.get(\"latitude\"))\n",
    "    half_size = pixel_size.divide(2)  # Half pixel size (15m for Landsat)\n",
    "\n",
    "    bbox = ee.Geometry.Rectangle([\n",
    "        lon.subtract(half_size), lat.subtract(half_size),\n",
    "        lon.add(half_size), lat.add(half_size)\n",
    "    ])\n",
    "\n",
    "    return ee.Feature(bbox)\n",
    "\n",
    "# Convert points to pixel-sized polygons\n",
    "pixel_polygons = valid_pixels.map(create_pixel_polygon)\n",
    "\n",
    "# Export the vectorized pixel grid as a Shapefile\n",
    "export_task = ee.batch.Export.table.toDrive(\n",
    "    collection=pixel_polygons,\n",
    "    description=\"Landsat_Pixel_Grid\",\n",
    "    fileFormat=\"SHP\"\n",
    ")\n",
    "export_task.start()\n",
    "\n",
    "print(\"Export started. Check Google Drive for the shapefile.\")\n"
   ],
   "id": "37f44d6496b39253",
   "outputs": [
    {
     "name": "stdout",
     "output_type": "stream",
     "text": [
      "{'type': 'Image', 'bands': [{'id': 'B1', 'data_type': {'type': 'PixelType', 'precision': 'float'}, 'dimensions': [7721, 7841], 'crs': 'EPSG:32612', 'crs_transform': [30, 0, 434385, 0, -30, 4581915]}, {'id': 'B2', 'data_type': {'type': 'PixelType', 'precision': 'float'}, 'dimensions': [7721, 7841], 'crs': 'EPSG:32612', 'crs_transform': [30, 0, 434385, 0, -30, 4581915]}, {'id': 'B3', 'data_type': {'type': 'PixelType', 'precision': 'float'}, 'dimensions': [7721, 7841], 'crs': 'EPSG:32612', 'crs_transform': [30, 0, 434385, 0, -30, 4581915]}, {'id': 'B4', 'data_type': {'type': 'PixelType', 'precision': 'float'}, 'dimensions': [7721, 7841], 'crs': 'EPSG:32612', 'crs_transform': [30, 0, 434385, 0, -30, 4581915]}, {'id': 'B5', 'data_type': {'type': 'PixelType', 'precision': 'float'}, 'dimensions': [7721, 7841], 'crs': 'EPSG:32612', 'crs_transform': [30, 0, 434385, 0, -30, 4581915]}, {'id': 'B6', 'data_type': {'type': 'PixelType', 'precision': 'float'}, 'dimensions': [7721, 7841], 'crs': 'EPSG:32612', 'crs_transform': [30, 0, 434385, 0, -30, 4581915]}, {'id': 'B7', 'data_type': {'type': 'PixelType', 'precision': 'float'}, 'dimensions': [7721, 7841], 'crs': 'EPSG:32612', 'crs_transform': [30, 0, 434385, 0, -30, 4581915]}], 'version': 1738363961056431, 'id': 'LANDSAT/LC08/C02/T1_TOA/LC08_037032_20230614', 'properties': {'RADIANCE_MULT_BAND_5': 0.0059266, 'RADIANCE_MULT_BAND_6': 0.0014739, 'RADIANCE_MULT_BAND_3': 0.011485, 'RADIANCE_MULT_BAND_4': 0.0096847, 'RADIANCE_MULT_BAND_1': 0.012171, 'RADIANCE_MULT_BAND_2': 0.012463, 'WRS_TYPE': 2, 'K2_CONSTANT_BAND_11': 1201.1442, 'K2_CONSTANT_BAND_10': 1321.0789, 'system:footprint': {'type': 'LinearRing', 'coordinates': [[-109.07466686405833, 40.98644140048969], [-109.66506921421977, 41.10018395245634], [-111.23904254986962, 41.386866650455595], [-111.62445488039505, 40.12340609693875], [-111.74564337491017, 39.71485805175717], [-111.75068689036148, 39.69576745172712], [-111.75750430600479, 39.66955006778348], [-110.3722134663512, 39.41291606731479], [-109.61042579872176, 39.263923290800534], [-109.60511752548958, 39.27818412285598], [-109.58971532563399, 39.32425770066469], [-109.54517013854671, 39.45832167742843], [-109.49931096758444, 39.596402024822375], [-109.38494476788108, 39.93867122276564], [-109.34407282930908, 40.060934320482794], [-109.22325908463303, 40.42005376663244], [-109.07799939137078, 40.848518286879], [-109.0642815791444, 40.889626027265784], [-109.03512579104998, 40.978682868262396], [-109.07466686405833, 40.98644140048969]]}, 'REFLECTIVE_SAMPLES': 7721, 'SUN_AZIMUTH': 129.13626883, 'DATA_SOURCE_TIRS_STRAY_LIGHT_CORRECTION': 'TIRS', 'DATE_ACQUIRED': '2023-06-14', 'ELLIPSOID': 'WGS84', 'STATION_ID': 'LGN', 'RESAMPLING_OPTION': 'CUBIC_CONVOLUTION', 'ORIENTATION': 'NORTH_UP', 'WRS_ROW': 32, 'RADIANCE_MULT_BAND_9': 0.0023162, 'TARGET_WRS_ROW': 32, 'RADIANCE_MULT_BAND_7': 0.00049678, 'RADIANCE_MULT_BAND_8': 0.01096, 'IMAGE_QUALITY_TIRS': 9, 'TRUNCATION_OLI': 'UPPER', 'CLOUD_COVER': 79.48, 'COLLECTION_CATEGORY': 'T1', 'GRID_CELL_SIZE_REFLECTIVE': 30, 'CLOUD_COVER_LAND': 79.48, 'GEOMETRIC_RMSE_MODEL': 8.369, 'COLLECTION_NUMBER': 2, 'IMAGE_QUALITY_OLI': 9, 'LANDSAT_SCENE_ID': 'LC80370322023165LGN00', 'WRS_PATH': 37, 'PANCHROMATIC_SAMPLES': 15441, 'PANCHROMATIC_LINES': 15681, 'GEOMETRIC_RMSE_MODEL_Y': 6.126, 'REFLECTIVE_LINES': 7841, 'GEOMETRIC_RMSE_MODEL_X': 5.702, 'system:asset_size': 1408793448, 'system:index': 'LC08_037032_20230614', 'DATA_SOURCE_ELEVATION': 'GLS2000', 'REFLECTANCE_ADD_BAND_1': -0.1, 'REFLECTANCE_ADD_BAND_2': -0.1, 'DATUM': 'WGS84', 'REFLECTANCE_ADD_BAND_3': -0.1, 'REFLECTANCE_ADD_BAND_4': -0.1, 'REFLECTANCE_ADD_BAND_5': -0.1, 'REFLECTANCE_ADD_BAND_6': -0.1, 'REFLECTANCE_ADD_BAND_7': -0.1, 'REFLECTANCE_ADD_BAND_8': -0.1, 'GROUND_CONTROL_POINTS_VERSION': 5, 'UTM_ZONE': 12, 'system:time_end': 1686765688613, 'LANDSAT_PRODUCT_ID': 'LC08_L1TP_037032_20230614_20230622_02_T1', 'REFLECTANCE_ADD_BAND_9': -0.1, 'GRID_CELL_SIZE_PANCHROMATIC': 15, 'RADIANCE_ADD_BAND_4': -48.42355, 'REFLECTANCE_MULT_BAND_7': 2e-05, 'system:time_start': 1686765688613, 'RADIANCE_ADD_BAND_5': -29.6328, 'REFLECTANCE_MULT_BAND_6': 2e-05, 'RADIANCE_ADD_BAND_6': -7.36941, 'REFLECTANCE_MULT_BAND_9': 2e-05, 'PROCESSING_SOFTWARE_VERSION': 'LPGS_16.3.0', 'RADIANCE_ADD_BAND_7': -2.48388, 'REFLECTANCE_MULT_BAND_8': 2e-05, 'RADIANCE_ADD_BAND_1': -60.8556, 'RADIANCE_ADD_BAND_2': -62.31688, 'RADIANCE_ADD_BAND_3': -57.42447, 'REFLECTANCE_MULT_BAND_1': 2e-05, 'RADIANCE_ADD_BAND_8': -54.80213, 'REFLECTANCE_MULT_BAND_3': 2e-05, 'RADIANCE_ADD_BAND_9': -11.58117, 'REFLECTANCE_MULT_BAND_2': 2e-05, 'REFLECTANCE_MULT_BAND_5': 2e-05, 'REFLECTANCE_MULT_BAND_4': 2e-05, 'THERMAL_LINES': 7841, 'TIRS_SSM_POSITION_STATUS': 'ESTIMATED', 'GRID_CELL_SIZE_THERMAL': 30, 'NADIR_OFFNADIR': 'NADIR', 'RADIANCE_ADD_BAND_11': 0.1, 'REQUEST_ID': '1749525_00036', 'EARTH_SUN_DISTANCE': 1.0156782, 'TIRS_SSM_MODEL': 'FINAL', 'SCENE_CENTER_TIME': '18:01:28.6130760Z', 'SUN_ELEVATION': 65.96470337, 'RADIANCE_ADD_BAND_10': 0.1, 'ROLL_ANGLE': -0.001, 'DATE_PRODUCT_GENERATED': 1687468903000, 'K1_CONSTANT_BAND_10': 774.8853, 'SATURATION_BAND_1': 'Y', 'SATURATION_BAND_2': 'Y', 'SATURATION_BAND_3': 'Y', 'SATURATION_BAND_4': 'Y', 'SATURATION_BAND_5': 'Y', 'MAP_PROJECTION': 'UTM', 'SATURATION_BAND_6': 'Y', 'SENSOR_ID': 'OLI_TIRS', 'SATURATION_BAND_7': 'Y', 'K1_CONSTANT_BAND_11': 480.8883, 'SATURATION_BAND_8': 'N', 'SATURATION_BAND_9': 'N', 'TARGET_WRS_PATH': 37, 'PROCESSING_LEVEL': 'L1TP', 'RADIANCE_MULT_BAND_11': 0.0003342, 'RADIANCE_MULT_BAND_10': 0.0003342, 'GROUND_CONTROL_POINTS_MODEL': 164, 'SPACECRAFT_ID': 'LANDSAT_8', 'THERMAL_SAMPLES': 7721}}\n",
      "Estimated pixel count: 0\n",
      "Export started. Check Google Drive for the shapefile.\n"
     ]
    }
   ],
   "execution_count": 35
  },
  {
   "metadata": {
    "ExecuteTime": {
     "end_time": "2025-02-03T16:14:58.021741Z",
     "start_time": "2025-02-03T16:14:58.009315Z"
    }
   },
   "cell_type": "code",
   "source": "pixel_polygons",
   "id": "751054bbc78acb2f",
   "outputs": [
    {
     "data": {
      "text/plain": [
       "<ee.featurecollection.FeatureCollection at 0x1c98d2bf620>"
      ]
     },
     "execution_count": 20,
     "metadata": {},
     "output_type": "execute_result"
    }
   ],
   "execution_count": 20
  },
  {
   "metadata": {
    "ExecuteTime": {
     "end_time": "2025-02-03T16:15:12.804614Z",
     "start_time": "2025-02-03T16:15:12.587817Z"
    }
   },
   "cell_type": "code",
   "source": "print(export_task.status())",
   "id": "c92ae261fb34c02c",
   "outputs": [
    {
     "name": "stdout",
     "output_type": "stream",
     "text": [
      "{'state': 'FAILED', 'description': 'Landsat_Pixel_Grid', 'priority': 100, 'creation_timestamp_ms': 1738599113811, 'update_timestamp_ms': 1738599146710, 'start_timestamp_ms': 1738599118438, 'task_type': 'EXPORT_FEATURES', 'attempt': 1, 'batch_eecu_usage_seconds': 5.080406665, 'error_message': 'Error in map(ID=3):\\nList.get: List is empty (index is 0).', 'id': 'OQPAETDY3OZPJ5XVSCJU55DP', 'name': 'projects/114443260784/operations/OQPAETDY3OZPJ5XVSCJU55DP'}\n"
     ]
    }
   ],
   "execution_count": 21
  },
  {
   "metadata": {
    "ExecuteTime": {
     "end_time": "2025-02-03T22:39:08.089734Z",
     "start_time": "2025-02-03T22:39:02.868725Z"
    }
   },
   "cell_type": "code",
   "source": [
    "import ee\n",
    "import geemap\n",
    "import geopandas as gpd\n",
    "from shapely.geometry import Polygon\n",
    "\n",
    "# Initialize Google Earth Engine\n",
    "ee.Initialize()\n",
    "\n",
    "# Define the target latitude and longitude\n",
    "latitude, longitude = 39.5, -112.5  # Replace with your target point\n",
    "\n",
    "# Find the closest LANDSAT 8 scene\n",
    "landsat = ee.ImageCollection(\"LANDSAT/LC08/C02/T1_TOA\") \\\n",
    "    .filterBounds(ee.Geometry.Point([longitude, latitude])) \\\n",
    "    .sort(\"system:time_start\") \\\n",
    "    .first()\n",
    "\n",
    "# Get image metadata\n",
    "image_geometry = landsat.geometry()\n",
    "projection = landsat.select(0).projection()\n",
    "scale = projection.nominalScale().getInfo()  # Pixel size in meters\n",
    "\n",
    "# Get the bounding box coordinates\n",
    "bounds = image_geometry.bounds().coordinates().getInfo()[0]\n",
    "min_x, min_y = bounds[0]\n",
    "max_x, max_y = bounds[2]\n",
    "\n",
    "# Create a grid of polygons based on the Landsat scene extent and pixel size\n",
    "rows = int((max_y - min_y) / scale)\n",
    "cols = int((max_x - min_x) / scale)\n",
    "\n",
    "polygons = []\n",
    "for i in range(rows):\n",
    "    for j in range(cols):\n",
    "        x1 = min_x + j * scale\n",
    "        x2 = x1 + scale\n",
    "        y1 = min_y + i * scale\n",
    "        y2 = y1 + scale\n",
    "        polygons.append(Polygon([(x1, y1), (x2, y1), (x2, y2), (x1, y2)]))\n",
    "\n",
    "# Convert to a GeoDataFrame\n",
    "gdf = gpd.GeoDataFrame({\"geometry\": polygons}, crs=\"EPSG:4326\")\n",
    "\n",
    "# Save to file or display\n",
    "gdf.to_file(\"landsat_pixel_grid.geojson\", driver=\"GeoJSON\")\n",
    "\n",
    "# Display the grid on a map\n",
    "map_ = geemap.Map(center=(latitude, longitude), zoom=10)\n",
    "map_.addLayer(landsat, {}, \"Landsat Scene\")\n",
    "map_.add_gdf(gdf, layer_name=\"Pixel Grid\")\n",
    "#map_.show()\n",
    "map_"
   ],
   "id": "339203101664effa",
   "outputs": [
    {
     "data": {
      "text/plain": [
       "<IPython.core.display.HTML object>"
      ],
      "text/html": [
       "\n",
       "            <style>\n",
       "                .geemap-dark {\n",
       "                    --jp-widgets-color: white;\n",
       "                    --jp-widgets-label-color: white;\n",
       "                    --jp-ui-font-color1: white;\n",
       "                    --jp-layout-color2: #454545;\n",
       "                    background-color: #383838;\n",
       "                }\n",
       "\n",
       "                .geemap-dark .jupyter-button {\n",
       "                    --jp-layout-color3: #383838;\n",
       "                }\n",
       "\n",
       "                .geemap-colab {\n",
       "                    background-color: var(--colab-primary-surface-color, white);\n",
       "                }\n",
       "\n",
       "                .geemap-colab .jupyter-button {\n",
       "                    --jp-layout-color3: var(--colab-primary-surface-color, white);\n",
       "                }\n",
       "            </style>\n",
       "            "
      ]
     },
     "metadata": {},
     "output_type": "display_data"
    },
    {
     "data": {
      "text/plain": [
       "Map(center=[39.5, -112.5], controls=(WidgetControl(options=['position', 'transparent_bg'], widget=SearchDataGU…"
      ],
      "application/vnd.jupyter.widget-view+json": {
       "version_major": 2,
       "version_minor": 0,
       "model_id": "3ce00b13135e43469fc552fa0e547c60"
      }
     },
     "execution_count": 39,
     "metadata": {},
     "output_type": "execute_result"
    }
   ],
   "execution_count": 39
  },
  {
   "metadata": {
    "ExecuteTime": {
     "end_time": "2025-02-03T22:40:17.000789Z",
     "start_time": "2025-02-03T22:40:16.984838Z"
    }
   },
   "cell_type": "code",
   "source": "gdf",
   "id": "9933d41c8b9d79f1",
   "outputs": [
    {
     "data": {
      "text/plain": [
       "<IPython.core.display.HTML object>"
      ],
      "text/html": [
       "\n",
       "            <style>\n",
       "                .geemap-dark {\n",
       "                    --jp-widgets-color: white;\n",
       "                    --jp-widgets-label-color: white;\n",
       "                    --jp-ui-font-color1: white;\n",
       "                    --jp-layout-color2: #454545;\n",
       "                    background-color: #383838;\n",
       "                }\n",
       "\n",
       "                .geemap-dark .jupyter-button {\n",
       "                    --jp-layout-color3: #383838;\n",
       "                }\n",
       "\n",
       "                .geemap-colab {\n",
       "                    background-color: var(--colab-primary-surface-color, white);\n",
       "                }\n",
       "\n",
       "                .geemap-colab .jupyter-button {\n",
       "                    --jp-layout-color3: var(--colab-primary-surface-color, white);\n",
       "                }\n",
       "            </style>\n",
       "            "
      ]
     },
     "metadata": {},
     "output_type": "display_data"
    },
    {
     "data": {
      "text/plain": [
       "Empty GeoDataFrame\n",
       "Columns: [geometry]\n",
       "Index: []"
      ],
      "text/html": [
       "<div>\n",
       "<style scoped>\n",
       "    .dataframe tbody tr th:only-of-type {\n",
       "        vertical-align: middle;\n",
       "    }\n",
       "\n",
       "    .dataframe tbody tr th {\n",
       "        vertical-align: top;\n",
       "    }\n",
       "\n",
       "    .dataframe thead th {\n",
       "        text-align: right;\n",
       "    }\n",
       "</style>\n",
       "<table border=\"1\" class=\"dataframe\">\n",
       "  <thead>\n",
       "    <tr style=\"text-align: right;\">\n",
       "      <th></th>\n",
       "      <th>geometry</th>\n",
       "    </tr>\n",
       "  </thead>\n",
       "  <tbody>\n",
       "  </tbody>\n",
       "</table>\n",
       "</div>"
      ]
     },
     "execution_count": 41,
     "metadata": {},
     "output_type": "execute_result"
    }
   ],
   "execution_count": 41
  },
  {
   "metadata": {},
   "cell_type": "code",
   "outputs": [],
   "execution_count": null,
   "source": [
    "import geopandas as gpd\n",
    "import matplotlib.pyplot as plt\n",
    "\n",
    "gdf = gpd.read_file(\"G:/My Drive/Landsat_Grid.shp\")\n",
    "\n",
    "# Plot the LANDSAT Grid\n",
    "fig, ax = plt.subplots(figsize=(10, 6))\n",
    "gdf.plot(ax=ax, edgecolor=\"black\", facecolor=\"none\", linewidth=0.8)\n",
    "\n",
    "# Customize the plot\n",
    "ax.set_title(\"Vectorized LANDSAT Grid\", fontsize=14)\n",
    "ax.set_xlabel(\"Longitude\")\n",
    "ax.set_ylabel(\"Latitude\")\n",
    "plt.grid(True, linestyle=\"--\", linewidth=0.5)\n",
    "plt.show()\n"
   ],
   "id": "afc18c6dba894082"
  }
 ],
 "metadata": {
  "kernelspec": {
   "display_name": "Python 3",
   "language": "python",
   "name": "python3"
  },
  "language_info": {
   "codemirror_mode": {
    "name": "ipython",
    "version": 2
   },
   "file_extension": ".py",
   "mimetype": "text/x-python",
   "name": "python",
   "nbconvert_exporter": "python",
   "pygments_lexer": "ipython2",
   "version": "2.7.6"
  }
 },
 "nbformat": 4,
 "nbformat_minor": 5
}
