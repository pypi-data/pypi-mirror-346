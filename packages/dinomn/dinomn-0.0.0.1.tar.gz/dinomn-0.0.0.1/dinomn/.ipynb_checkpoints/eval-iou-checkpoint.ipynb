{
 "cells": [
  {
   "cell_type": "code",
   "execution_count": 13,
   "id": "f2357ece-2781-4047-bca0-e8b459c64e88",
   "metadata": {},
   "outputs": [],
   "source": [
    "import matplotlib.pyplot as plt\n",
    "import numpy as np\n",
    "import skimage\n",
    "import scipy\n",
    "import sklearn.metrics"
   ]
  },
  {
   "cell_type": "markdown",
   "id": "0591f675-1426-439b-a47b-608f0eed83fb",
   "metadata": {},
   "source": [
    "# IoU Analysis Example"
   ]
  },
  {
   "cell_type": "code",
   "execution_count": 1,
   "id": "ba3ddfc5-3bdd-4a9c-a852-5268e2b67ef7",
   "metadata": {},
   "outputs": [],
   "source": [
    "def compare_two_labels(label_model, label_gt, return_IoU_matrix, debug=False):\n",
    "    \n",
    "    # get number of detected nuclei\n",
    "    nb_nuclei_gt = np.max(label_gt)\n",
    "    nb_nuclei_model = np.max(label_model)\n",
    "    \n",
    "    # catch the case of an empty picture in model and gt\n",
    "    if nb_nuclei_gt == 0 and nb_nuclei_model == 0:\n",
    "        if(return_IoU_matrix):\n",
    "            return [0, 0, 1, np.empty(0)]     \n",
    "        else:\n",
    "            return [0, 0, 1]\n",
    "    \n",
    "    # catch the case of empty picture in model\n",
    "    if nb_nuclei_model == 0:\n",
    "        if(return_IoU_matrix):\n",
    "            return [0, nb_nuclei_gt, 0, np.empty(0)]     \n",
    "        else:\n",
    "            return [0, nb_nuclei_gt, 0]\n",
    "    \n",
    "    # catch the case of empty picture in gt\n",
    "    if nb_nuclei_gt == 0:\n",
    "        if(return_IoU_matrix):\n",
    "            return [nb_nuclei_model, 0, 0, np.empty(0)]     \n",
    "        else:\n",
    "            return [nb_nuclei_model, 0, 0]\n",
    "    \n",
    "    # build IoU matrix\n",
    "    IoUs = np.full((nb_nuclei_gt, nb_nuclei_model), -1.0, dtype = np.float32)\n",
    "\n",
    "    # calculate IoU for each nucleus index_gt in GT and nucleus index_pred in prediction    \n",
    "    # TODO improve runtime of this algorithm\n",
    "    for index_gt in range(1,nb_nuclei_gt+1):\n",
    "\n",
    "        nucleus_gt = label_gt == index_gt\n",
    "        number_gt = np.sum(nucleus_gt)\n",
    "\n",
    "        for index_model in range(1,nb_nuclei_model+1):\n",
    "            \n",
    "            if debug:\n",
    "                print(index_gt, \"/\", index_model)\n",
    "            \n",
    "            nucleus_model = label_model == index_model \n",
    "            number_model = np.sum(nucleus_model)\n",
    "            \n",
    "            same_and_1 = np.sum((nucleus_gt == nucleus_model) * nucleus_gt)\n",
    "            \n",
    "            IoUs[index_gt-1,index_model-1] = same_and_1 / (number_gt + number_model - same_and_1)\n",
    "    \n",
    "    # get matches and errors\n",
    "    detection_map = (IoUs > 0.5)\n",
    "    nb_matches = np.sum(detection_map)\n",
    "\n",
    "    detection_rate = IoUs * detection_map\n",
    "    \n",
    "    nb_overdetection = nb_nuclei_model - nb_matches\n",
    "    nb_underdetection = nb_nuclei_gt - nb_matches\n",
    "    \n",
    "    mean_IoU = np.mean(np.sum(detection_rate, axis = 1))\n",
    "    \n",
    "    if(return_IoU_matrix):\n",
    "        result = [nb_overdetection, nb_underdetection, mean_IoU, IoUs]\n",
    "    else:\n",
    "        result = [nb_overdetection, nb_underdetection, mean_IoU]\n",
    "    return result\n"
   ]
  },
  {
   "cell_type": "code",
   "execution_count": 2,
   "id": "4c2e5810-2cc3-4a2b-b28e-58648cab35f2",
   "metadata": {},
   "outputs": [],
   "source": [
    "def measures_at(threshold, IOU):\n",
    "    matches = IOU > threshold\n",
    "    \n",
    "    true_positives = np.sum(matches, axis=1) == 1   # Correct objects\n",
    "    false_positives = np.sum(matches, axis=0) == 0  # Extra objects\n",
    "    false_negatives = np.sum(matches, axis=1) == 0  # Missed objects\n",
    "    \n",
    "    assert np.all(np.less_equal(true_positives, 1))\n",
    "    assert np.all(np.less_equal(false_positives, 1))\n",
    "    assert np.all(np.less_equal(false_negatives, 1))\n",
    "    \n",
    "    TP, FP, FN = np.sum(true_positives), np.sum(false_positives), np.sum(false_negatives)\n",
    "    \n",
    "    f1 = 2*TP / (2*TP + FP + FN + 1e-9)\n",
    "\n",
    "    prec = TP / (TP + FP)\n",
    "\n",
    "    rec = TP / (TP + FN)\n",
    "\n",
    "    return f1, prec, rec, TP, FP, FN"
   ]
  },
  {
   "cell_type": "code",
   "execution_count": 4,
   "id": "3eee0d98-e26b-4590-b8b9-73ce957a4c21",
   "metadata": {},
   "outputs": [],
   "source": [
    "prob = np.load(\"/Users/jcaicedo/Documents/code/micronuclei-detection/20X_c0-DAPI_A1_Tile-190._probabilities.npy\")\n",
    "gt = skimage.io.imread(\"~/dataset_v2/20X_c0-DAPI_A1_Tile-190.phenotype_outlines.png\")"
   ]
  },
  {
   "cell_type": "code",
   "execution_count": 5,
   "id": "0f4d7667-750a-489d-94ef-c9ea414f97a0",
   "metadata": {},
   "outputs": [
    {
     "data": {
      "text/plain": [
       "(2, 2960, 2960)"
      ]
     },
     "execution_count": 5,
     "metadata": {},
     "output_type": "execute_result"
    }
   ],
   "source": [
    "prob.shape"
   ]
  },
  {
   "cell_type": "code",
   "execution_count": 6,
   "id": "46a9783b-16ad-401a-b5b7-cd7015abc6a4",
   "metadata": {},
   "outputs": [
    {
     "data": {
      "text/plain": [
       "<matplotlib.image.AxesImage at 0x13faa3a10>"
      ]
     },
     "execution_count": 6,
     "metadata": {},
     "output_type": "execute_result"
    },
    {
     "data": {
      "image/png": "[encoded data removed]",
      "text/plain": [
       "<Figure size 640x480 with 1 Axes>"
      ]
     },
     "metadata": {},
     "output_type": "display_data"
    }
   ],
   "source": [
    "plt.imshow(prob[0,:,:])"
   ]
  },
  {
   "cell_type": "code",
   "execution_count": 7,
   "id": "126215e2-96bd-4cd7-b31c-c2a71ec8ade5",
   "metadata": {},
   "outputs": [
    {
     "data": {
      "text/plain": [
       "<matplotlib.image.AxesImage at 0x13faa3650>"
      ]
     },
     "execution_count": 7,
     "metadata": {},
     "output_type": "execute_result"
    },
    {
     "data": {
      "image/png": "[encoded data removed]",
      "text/plain": [
       "<Figure size 640x480 with 1 Axes>"
      ]
     },
     "metadata": {},
     "output_type": "display_data"
    }
   ],
   "source": [
    "otl = gt[:,:,0] > 0\n",
    "gt = scipy.ndimage.binary_fill_holes(otl) ^ otl\n",
    "plt.imshow(gt)"
   ]
  },
  {
   "cell_type": "code",
   "execution_count": 8,
   "id": "32a9d822-baad-485f-8715-4079926414b2",
   "metadata": {},
   "outputs": [],
   "source": [
    "jac = sklearn.metrics.jaccard_score(gt.flatten(), prob[0,:,:].flatten() > 0.5)"
   ]
  },
  {
   "cell_type": "code",
   "execution_count": 9,
   "id": "c31bb59b-d48e-426f-b263-a2ba2e2d5ac7",
   "metadata": {},
   "outputs": [
    {
     "data": {
      "text/plain": [
       "array([False,  True])"
      ]
     },
     "execution_count": 9,
     "metadata": {},
     "output_type": "execute_result"
    }
   ],
   "source": [
    "pred = prob[0,:,:] > 0.5\n",
    "np.unique(pred)"
   ]
  },
  {
   "cell_type": "code",
   "execution_count": 10,
   "id": "a16d8a4f-e697-442d-a991-1dde6b4ee286",
   "metadata": {},
   "outputs": [
    {
     "data": {
      "text/plain": [
       "array([ 0,  1,  2,  3,  4,  5,  6,  7,  8,  9, 10, 11, 12, 13, 14, 15, 16,\n",
       "       17, 18, 19, 20, 21, 22, 23, 24, 25, 26, 27, 28, 29, 30, 31, 32, 33,\n",
       "       34, 35, 36, 37, 38, 39, 40, 41, 42, 43, 44, 45, 46, 47, 48, 49, 50,\n",
       "       51, 52, 53, 54, 55, 56, 57, 58, 59, 60, 61, 62, 63, 64, 65, 66, 67,\n",
       "       68, 69, 70, 71, 72], dtype=int32)"
      ]
     },
     "execution_count": 10,
     "metadata": {},
     "output_type": "execute_result"
    }
   ],
   "source": [
    "pi = skimage.morphology.label(pred)\n",
    "np.unique(pi)"
   ]
  },
  {
   "cell_type": "code",
   "execution_count": 11,
   "id": "1a637148-a280-464e-aaaf-62a624cd62c0",
   "metadata": {},
   "outputs": [
    {
     "data": {
      "text/plain": [
       "array([ 0,  1,  2,  3,  4,  5,  6,  7,  8,  9, 10, 11, 12, 13, 14, 15, 16,\n",
       "       17, 18, 19, 20, 21, 22, 23, 24, 25, 26, 27, 28, 29, 30, 31, 32, 33,\n",
       "       34, 35, 36, 37, 38, 39, 40, 41, 42, 43, 44, 45, 46, 47, 48, 49, 50,\n",
       "       51, 52, 53, 54, 55, 56, 57, 58, 59, 60, 61, 62, 63, 64, 65, 66, 67,\n",
       "       68, 69, 70, 71, 72, 73], dtype=int32)"
      ]
     },
     "execution_count": 11,
     "metadata": {},
     "output_type": "execute_result"
    }
   ],
   "source": [
    "gti = skimage.morphology.label(gt)\n",
    "np.unique(gti)"
   ]
  },
  {
   "cell_type": "code",
   "execution_count": 12,
   "id": "46c0bb83-3f27-40ff-846d-91f3c57fad39",
   "metadata": {
    "scrolled": true
   },
   "outputs": [],
   "source": [
    "nb_overdetection, nb_underdetection, mean_IoU, IoUs = compare_two_labels(pi, gti, True)"
   ]
  },
  {
   "cell_type": "code",
   "execution_count": 13,
   "id": "9bb074d2-c71f-47d2-9ae8-06e6defa86ce",
   "metadata": {},
   "outputs": [
    {
     "data": {
      "text/plain": [
       "(56, 57, 0.13851525)"
      ]
     },
     "execution_count": 13,
     "metadata": {},
     "output_type": "execute_result"
    }
   ],
   "source": [
    "nb_overdetection, nb_underdetection, mean_IoU"
   ]
  },
  {
   "cell_type": "code",
   "execution_count": 17,
   "id": "5535c888-6ed2-4008-a3b9-4713e0e6ecbf",
   "metadata": {},
   "outputs": [
    {
     "data": {
      "text/plain": [
       "<matplotlib.colorbar.Colorbar at 0x16e72ee70>"
      ]
     },
     "execution_count": 17,
     "metadata": {},
     "output_type": "execute_result"
    },
    {
     "data": {
      "image/png": "[encoded data removed]",
      "text/plain": [
       "<Figure size 640x480 with 2 Axes>"
      ]
     },
     "metadata": {},
     "output_type": "display_data"
    }
   ],
   "source": [
    "plt.imshow(IoUs)\n",
    "plt.colorbar()"
   ]
  },
  {
   "cell_type": "code",
   "execution_count": 18,
   "id": "dea082ad-06f7-4e5d-8af9-e77f40c0909a",
   "metadata": {},
   "outputs": [],
   "source": [
    "f1, prec, rec, TP, FP, FN = measures_at(0.1, IoUs)"
   ]
  },
  {
   "cell_type": "code",
   "execution_count": 19,
   "id": "4f8db814-2ba1-47b3-915d-826584b6d6ef",
   "metadata": {},
   "outputs": [
    {
     "data": {
      "text/plain": [
       "(0.5655172413754103, 0.5694444444444444, 0.5616438356164384, 41, 31, 32)"
      ]
     },
     "execution_count": 19,
     "metadata": {},
     "output_type": "execute_result"
    }
   ],
   "source": [
    "f1, prec, rec, TP, FP, FN"
   ]
  },
  {
   "cell_type": "markdown",
   "id": "10fc8d36-286f-4b4e-a24c-1cfe9d1dc529",
   "metadata": {},
   "source": [
    "# Save 18 Probabilities & IoUs"
   ]
  },
  {
   "cell_type": "code",
   "execution_count": 114,
   "id": "ad90749e-08c9-4981-a344-dc332e74f2ca",
   "metadata": {},
   "outputs": [],
   "source": [
    "import os\n",
    "import sys\n",
    "import time\n",
    "import torch\n",
    "import skimage\n",
    "import sklearn.metrics\n",
    "import wandb\n",
    "\n",
    "import numpy as np\n",
    "import matplotlib.pyplot as plt\n",
    "\n",
    "import mnds\n",
    "import mnmodel\n",
    "import evaluation"
   ]
  },
  {
   "cell_type": "code",
   "execution_count": 115,
   "id": "c4165d84-4fe0-4f6b-a5bf-83c33779f6a9",
   "metadata": {},
   "outputs": [],
   "source": [
    "# Hyperparameters\n",
    "CURRENT_PATH = os.getcwd()\n",
    "DIRECTORY = CURRENT_PATH + '/dataset_v2'\n",
    "OUTPUT_DIR = \"/model_output/output/\"\n",
    "SCALE_FACTOR = 1.0\n",
    "THRESHOLD = 0.5"
   ]
  },
  {
   "cell_type": "code",
   "execution_count": 116,
   "id": "60488672-e151-40ed-a9ee-8f757d6acc01",
   "metadata": {},
   "outputs": [
    {
     "name": "stdout",
     "output_type": "stream",
     "text": [
      "18\n",
      "C2-20X_c0-DAPI-GFP_B2_Tile-20._probabilities.npy\n"
     ]
    }
   ],
   "source": [
    "filelist = os.listdir(DIRECTORY + OUTPUT_DIR)\n",
    "files = [file for file in filelist if file.endswith('.npy')]\n",
    "print(len(files)) # 18 expected\n",
    "print(files[15])"
   ]
  },
  {
   "cell_type": "code",
   "execution_count": 117,
   "id": "1354d728-c652-4702-93c8-0ca39160c2e9",
   "metadata": {},
   "outputs": [],
   "source": [
    "prob = np.load(DIRECTORY + OUTPUT_DIR + files[15])\n",
    "mn_pred = prob[0,:,:] > THRESHOLD\n",
    "mn_gt = mnds.read_micronuclei_masks(DIRECTORY, file[15].split('.')[0], SCALE_FACTOR)\n",
    "\n",
    "pi = skimage.morphology.label(mn_pred)\n",
    "gti = skimage.morphology.label(mn_gt)\n",
    "nb_overdetection, nb_underdetection, mean_IoU, IoUs = compare_two_labels(pi, gti, True)"
   ]
  },
  {
   "cell_type": "code",
   "execution_count": 118,
   "id": "6073c61f-7bf1-4b96-bd3f-ad7f860e29ea",
   "metadata": {},
   "outputs": [
    {
     "data": {
      "text/plain": [
       "array([  0,   1,   2,   3,   4,   5,   6,   7,   8,   9,  10,  11,  12,\n",
       "        13,  14,  15,  16,  17,  18,  19,  20,  21,  22,  23,  24,  25,\n",
       "        26,  27,  28,  29,  30,  31,  32,  33,  34,  35,  36,  37,  38,\n",
       "        39,  40,  41,  42,  43,  44,  45,  46,  47,  48,  49,  50,  51,\n",
       "        52,  53,  54,  55,  56,  57,  58,  59,  60,  61,  62,  63,  64,\n",
       "        65,  66,  67,  68,  69,  70,  71,  72,  73,  74,  75,  76,  77,\n",
       "        78,  79,  80,  81,  82,  83,  84,  85,  86,  87,  88,  89,  90,\n",
       "        91,  92,  93,  94,  95,  96,  97,  98,  99, 100, 101, 102, 103,\n",
       "       104], dtype=int32)"
      ]
     },
     "execution_count": 118,
     "metadata": {},
     "output_type": "execute_result"
    }
   ],
   "source": [
    "np.unique(pi)"
   ]
  },
  {
   "cell_type": "code",
   "execution_count": 119,
   "id": "43d61fda-9fdf-4b57-b9f7-9ab1a97e57bc",
   "metadata": {},
   "outputs": [
    {
     "data": {
      "text/plain": [
       "array([ 0,  1,  2,  3,  4,  5,  6,  7,  8,  9, 10, 11, 12, 13, 14, 15, 16,\n",
       "       17, 18, 19, 20, 21, 22, 23, 24, 25, 26, 27, 28, 29, 30, 31, 32, 33,\n",
       "       34, 35, 36, 37, 38, 39, 40, 41, 42, 43, 44, 45, 46, 47, 48, 49, 50,\n",
       "       51, 52, 53, 54, 55, 56, 57, 58, 59, 60, 61, 62, 63, 64, 65, 66, 67,\n",
       "       68, 69, 70, 71, 72, 73, 74, 75, 76, 77, 78, 79, 80, 81, 82, 83, 84,\n",
       "       85, 86, 87], dtype=int32)"
      ]
     },
     "execution_count": 119,
     "metadata": {},
     "output_type": "execute_result"
    }
   ],
   "source": [
    "np.unique(gti)"
   ]
  },
  {
   "cell_type": "code",
   "execution_count": 120,
   "id": "b4cdbf8e-e07a-434f-8666-b3700fcba351",
   "metadata": {},
   "outputs": [
    {
     "name": "stdout",
     "output_type": "stream",
     "text": [
      "50 33 0.3840428\n"
     ]
    }
   ],
   "source": [
    "print(nb_overdetection, nb_underdetection, mean_IoU)"
   ]
  },
  {
   "cell_type": "code",
   "execution_count": 121,
   "id": "67fa5ca4-fafb-487c-9fb7-2dd5e2714b59",
   "metadata": {},
   "outputs": [
    {
     "name": "stdout",
     "output_type": "stream",
     "text": [
      "88 105\n",
      "(87, 104)\n"
     ]
    }
   ],
   "source": [
    "print(len(np.unique(gti)),len(np.unique(pi)))\n",
    "print(IoUs.shape)"
   ]
  },
  {
   "cell_type": "code",
   "execution_count": 122,
   "id": "4152083b-6d67-4a04-9015-314f51bfd219",
   "metadata": {},
   "outputs": [
    {
     "name": "stdout",
     "output_type": "stream",
     "text": [
      "<class 'numpy.ndarray'>\n",
      "[[0.         0.         0.         ... 0.         0.         0.        ]\n",
      " [0.4        0.         0.         ... 0.         0.         0.        ]\n",
      " [0.         0.4848485  0.         ... 0.         0.         0.        ]\n",
      " ...\n",
      " [0.         0.         0.         ... 0.         0.         0.        ]\n",
      " [0.         0.         0.         ... 0.         0.         0.        ]\n",
      " [0.         0.         0.         ... 0.61538464 0.         0.        ]]\n"
     ]
    }
   ],
   "source": [
    "print(type(IoUs))\n",
    "print(IoUs)"
   ]
  },
  {
   "cell_type": "code",
   "execution_count": 144,
   "id": "4775c42e-6357-4ed0-a771-124d06c284f3",
   "metadata": {},
   "outputs": [
    {
     "name": "stdout",
     "output_type": "stream",
     "text": [
      "0.8586387434510019 0.7884615384615384\n"
     ]
    },
    {
     "data": {
      "image/png": "[encoded data removed]",
      "text/plain": [
       "<Figure size 640x480 with 2 Axes>"
      ]
     },
     "metadata": {},
     "output_type": "display_data"
    }
   ],
   "source": [
    "plt.imshow(IoUs, cmap='nipy_spectral') # jet, turbo\n",
    "plt.colorbar()\n",
    "f1, prec, rec, TP, FP, FN = measures_at(0.1, IoUs)\n",
    "print(f1, prec)"
   ]
  },
  {
   "cell_type": "markdown",
   "id": "3d067a57-8f33-4df8-b204-132c6d4c88e9",
   "metadata": {},
   "source": [
    "## Calulate the area of original size divided by detected size"
   ]
  },
  {
   "cell_type": "code",
   "execution_count": 145,
   "id": "f4ac6e98-fd99-4993-b6a0-19b079b6ab7d",
   "metadata": {},
   "outputs": [
    {
     "data": {
      "text/plain": [
       "array([[False, False, False, ..., False, False, False],\n",
       "       [ True, False, False, ..., False, False, False],\n",
       "       [False,  True, False, ..., False, False, False],\n",
       "       ...,\n",
       "       [False, False, False, ..., False, False, False],\n",
       "       [False, False, False, ..., False, False, False],\n",
       "       [False, False, False, ...,  True, False, False]])"
      ]
     },
     "execution_count": 145,
     "metadata": {},
     "output_type": "execute_result"
    }
   ],
   "source": [
    "matches = IoUs > 0.1 # 0.1 threshold for intersection of union\n",
    "matches"
   ]
  },
  {
   "cell_type": "markdown",
   "id": "f388444d-cd83-4382-a5be-c1d865b680b0",
   "metadata": {},
   "source": [
    "- Get label correspondence"
   ]
  },
  {
   "cell_type": "markdown",
   "id": "73f6159a-e867-4113-81b4-05313c2d5af2",
   "metadata": {},
   "source": [
    "### Label should be IoU index + 1, label 0 is background which is excluded in IoU matrix"
   ]
  },
  {
   "cell_type": "code",
   "execution_count": 136,
   "id": "26442705-b1e2-4f80-9153-5bd411693115",
   "metadata": {},
   "outputs": [
    {
     "name": "stdout",
     "output_type": "stream",
     "text": [
      "2\n"
     ]
    }
   ],
   "source": [
    "x = np.array([[1,2,1],[3,4,4]])\n",
    "print(np.sum(x==4))"
   ]
  },
  {
   "cell_type": "code",
   "execution_count": 146,
   "id": "c1ec22ea-fee8-41f6-b717-d726df5801ff",
   "metadata": {},
   "outputs": [
    {
     "name": "stdout",
     "output_type": "stream",
     "text": [
      "88 105\n",
      "(87, 104)\n"
     ]
    }
   ],
   "source": [
    "print(len(np.unique(gti)),len(np.unique(pi)))\n",
    "print(matches.shape)"
   ]
  },
  {
   "cell_type": "code",
   "execution_count": 154,
   "id": "e886cb01-ce30-43a9-845d-4d42909cc984",
   "metadata": {},
   "outputs": [
    {
     "name": "stdout",
     "output_type": "stream",
     "text": [
      "82 82\n",
      "[1 2 3 4 5]\n",
      "[0 1 2 3 4]\n",
      "True True False\n"
     ]
    }
   ],
   "source": [
    "rows, cols = np.where(matches==True)\n",
    "print(len(rows), len(cols))\n",
    "print(rows[0:5])\n",
    "print(cols[0:5])\n",
    "print(matches[1,0], matches[2,1], matches[2,2])"
   ]
  },
  {
   "cell_type": "code",
   "execution_count": 155,
   "id": "3a4a6054-3eba-46e8-9817-76946ce8e735",
   "metadata": {},
   "outputs": [
    {
     "name": "stdout",
     "output_type": "stream",
     "text": [
      "(1, 0)\n",
      "Ground Truth 2: 1.9166666666666667 (original area/predicted area)\n",
      "(2, 1)\n",
      "Ground Truth 3: 0.53125 (original area/predicted area)\n",
      "(3, 2)\n",
      "Ground Truth 4: 0.9375 (original area/predicted area)\n",
      "(4, 3)\n",
      "Ground Truth 5: 1.375 (original area/predicted area)\n",
      "(5, 4)\n",
      "Ground Truth 6: 1.95 (original area/predicted area)\n",
      "(6, 5)\n",
      "Ground Truth 7: 1.7777777777777777 (original area/predicted area)\n",
      "(7, 6)\n",
      "Ground Truth 8: 2.475 (original area/predicted area)\n",
      "(8, 7)\n",
      "Ground Truth 9: 1.9375 (original area/predicted area)\n",
      "(9, 9)\n",
      "Ground Truth 10: 2.5 (original area/predicted area)\n",
      "(10, 10)\n",
      "Ground Truth 11: 2.142857142857143 (original area/predicted area)\n",
      "(11, 11)\n",
      "Ground Truth 12: 1.0714285714285714 (original area/predicted area)\n",
      "(12, 13)\n",
      "Ground Truth 13: 2.0357142857142856 (original area/predicted area)\n",
      "(13, 14)\n",
      "Ground Truth 14: 1.5681818181818181 (original area/predicted area)\n",
      "(14, 15)\n",
      "Ground Truth 15: 2.0625 (original area/predicted area)\n",
      "(16, 16)\n",
      "Ground Truth 17: 1.3303571428571428 (original area/predicted area)\n",
      "(17, 17)\n",
      "Ground Truth 18: 1.4166666666666667 (original area/predicted area)\n",
      "(18, 18)\n",
      "Ground Truth 19: 1.6071428571428572 (original area/predicted area)\n",
      "(19, 19)\n",
      "Ground Truth 20: 1.7142857142857142 (original area/predicted area)\n",
      "(20, 20)\n",
      "Ground Truth 21: 1.3636363636363635 (original area/predicted area)\n",
      "(21, 21)\n",
      "Ground Truth 22: 1.4166666666666667 (original area/predicted area)\n",
      "(22, 22)\n",
      "Ground Truth 23: 1.55 (original area/predicted area)\n",
      "(23, 23)\n",
      "Ground Truth 24: 5.0 (original area/predicted area)\n",
      "(24, 24)\n",
      "Ground Truth 25: 1.3125 (original area/predicted area)\n",
      "(25, 25)\n",
      "Ground Truth 26: 1.6071428571428572 (original area/predicted area)\n",
      "(26, 26)\n",
      "Ground Truth 27: 1.9642857142857142 (original area/predicted area)\n",
      "(27, 27)\n",
      "Ground Truth 28: 1.7083333333333333 (original area/predicted area)\n",
      "(28, 28)\n",
      "Ground Truth 29: 1.875 (original area/predicted area)\n",
      "(29, 29)\n",
      "Ground Truth 30: 1.4166666666666667 (original area/predicted area)\n",
      "(30, 32)\n",
      "Ground Truth 31: 1.35 (original area/predicted area)\n",
      "(31, 31)\n",
      "Ground Truth 32: 1.5714285714285714 (original area/predicted area)\n",
      "(32, 34)\n",
      "Ground Truth 33: 1.7833333333333334 (original area/predicted area)\n",
      "(33, 35)\n",
      "Ground Truth 34: 1.3 (original area/predicted area)\n",
      "(34, 36)\n",
      "Ground Truth 35: 1.25 (original area/predicted area)\n",
      "(35, 38)\n",
      "Ground Truth 36: 2.05 (original area/predicted area)\n",
      "(36, 39)\n",
      "Ground Truth 37: 1.6 (original area/predicted area)\n",
      "(37, 41)\n",
      "Ground Truth 38: 1.7083333333333333 (original area/predicted area)\n",
      "(38, 42)\n",
      "Ground Truth 39: 1.1071428571428572 (original area/predicted area)\n",
      "(41, 43)\n",
      "Ground Truth 42: 1.4861111111111112 (original area/predicted area)\n",
      "(42, 45)\n",
      "Ground Truth 43: 2.25 (original area/predicted area)\n",
      "(43, 47)\n",
      "Ground Truth 44: 1.90625 (original area/predicted area)\n",
      "(44, 48)\n",
      "Ground Truth 45: 2.125 (original area/predicted area)\n",
      "(45, 49)\n",
      "Ground Truth 46: 1.3080357142857142 (original area/predicted area)\n",
      "(46, 51)\n",
      "Ground Truth 47: 1.2954545454545454 (original area/predicted area)\n",
      "(47, 50)\n",
      "Ground Truth 48: 0.84375 (original area/predicted area)\n",
      "(48, 52)\n",
      "Ground Truth 49: 1.625 (original area/predicted area)\n",
      "(49, 53)\n",
      "Ground Truth 50: 1.625 (original area/predicted area)\n",
      "(50, 54)\n",
      "Ground Truth 51: 1.9642857142857142 (original area/predicted area)\n",
      "(51, 55)\n",
      "Ground Truth 52: 1.7083333333333333 (original area/predicted area)\n",
      "(52, 56)\n",
      "Ground Truth 53: 1.6956521739130435 (original area/predicted area)\n",
      "(53, 57)\n",
      "Ground Truth 54: 4.5 (original area/predicted area)\n",
      "(54, 58)\n",
      "Ground Truth 55: 0.7083333333333334 (original area/predicted area)\n",
      "(55, 59)\n",
      "Ground Truth 56: 1.875 (original area/predicted area)\n",
      "(56, 60)\n",
      "Ground Truth 57: 0.8333333333333334 (original area/predicted area)\n",
      "(57, 61)\n",
      "Ground Truth 58: 0.9583333333333334 (original area/predicted area)\n",
      "(58, 62)\n",
      "Ground Truth 59: 1.75 (original area/predicted area)\n",
      "(59, 63)\n",
      "Ground Truth 60: 3.5 (original area/predicted area)\n",
      "(60, 64)\n",
      "Ground Truth 61: 2.923076923076923 (original area/predicted area)\n",
      "(61, 66)\n",
      "Ground Truth 62: 1.1839285714285714 (original area/predicted area)\n",
      "(62, 67)\n",
      "Ground Truth 63: 1.72 (original area/predicted area)\n",
      "(64, 68)\n",
      "Ground Truth 65: 1.2817460317460319 (original area/predicted area)\n",
      "(65, 69)\n",
      "Ground Truth 66: 2.75 (original area/predicted area)\n",
      "(66, 70)\n",
      "Ground Truth 67: 6.0 (original area/predicted area)\n",
      "(67, 72)\n",
      "Ground Truth 68: 2.0833333333333335 (original area/predicted area)\n",
      "(68, 73)\n",
      "Ground Truth 69: 1.308641975308642 (original area/predicted area)\n",
      "(69, 74)\n",
      "Ground Truth 70: 2.0416666666666665 (original area/predicted area)\n",
      "(70, 75)\n",
      "Ground Truth 71: 2.4 (original area/predicted area)\n",
      "(71, 76)\n",
      "Ground Truth 72: 1.625 (original area/predicted area)\n",
      "(72, 78)\n",
      "Ground Truth 73: 1.8088235294117647 (original area/predicted area)\n",
      "(73, 79)\n",
      "Ground Truth 74: 1.9285714285714286 (original area/predicted area)\n",
      "(74, 80)\n",
      "Ground Truth 75: 2.4375 (original area/predicted area)\n",
      "(75, 81)\n",
      "Ground Truth 76: 1.6666666666666667 (original area/predicted area)\n",
      "(76, 82)\n",
      "Ground Truth 77: 1.4 (original area/predicted area)\n",
      "(77, 83)\n",
      "Ground Truth 78: 1.8928571428571428 (original area/predicted area)\n",
      "(78, 84)\n",
      "Ground Truth 79: 2.0833333333333335 (original area/predicted area)\n",
      "(79, 85)\n",
      "Ground Truth 80: 0.9895833333333334 (original area/predicted area)\n",
      "(80, 86)\n",
      "Ground Truth 81: 1.0 (original area/predicted area)\n",
      "(81, 87)\n",
      "Ground Truth 82: 1.3863636363636365 (original area/predicted area)\n",
      "(82, 96)\n",
      "Ground Truth 83: 1.6538461538461537 (original area/predicted area)\n",
      "(83, 97)\n",
      "Ground Truth 84: 1.625 (original area/predicted area)\n",
      "(84, 98)\n",
      "Ground Truth 85: 1.75 (original area/predicted area)\n",
      "(85, 100)\n",
      "Ground Truth 86: 1.3333333333333333 (original area/predicted area)\n",
      "(86, 101)\n",
      "Ground Truth 87: 1.625 (original area/predicted area)\n"
     ]
    }
   ],
   "source": [
    "# rows are ground truth index, cols are prediction index for the detected overlapping micronuclei that above 0.1 IoU\n",
    "# lable = index + 1 !!!\n",
    "# if not detected, then put 0\n",
    "\n",
    "for i in range(0, matches.shape[0]):\n",
    "    \n",
    "\n",
    "for coord in zip(rows, cols):\n",
    "    print(coord)\n",
    "    label_gt = coord[0] + 1\n",
    "    label_pred = coord[1] + 1\n",
    "    \n",
    "    area_gt = np.sum(gti == label_gt)\n",
    "    area_pred = np.sum(pi == label_pred)\n",
    "\n",
    "    print(f'Ground Truth {label_gt}: {area_gt/area_pred} (original area/predicted area)')"
   ]
  },
  {
   "cell_type": "code",
   "execution_count": 105,
   "id": "52b146e0-b576-40a6-a261-7313952b557a",
   "metadata": {},
   "outputs": [
    {
     "data": {
      "text/plain": [
       "<matplotlib.collections.PathCollection at 0x7fa6169f2180>"
      ]
     },
     "execution_count": 105,
     "metadata": {},
     "output_type": "execute_result"
    },
    {
     "data": {
      "image/png": "[encoded data removed]",
      "text/plain": [
       "<Figure size 640x480 with 2 Axes>"
      ]
     },
     "metadata": {},
     "output_type": "display_data"
    }
   ],
   "source": [
    "ys,xs = np.where(pi==2)\n",
    "fig, ax = plt.subplots(1,2)\n",
    "ax[0].imshow(mn_pred)\n",
    "ax[1].imshow(mn_pred)\n",
    "ax[1].scatter(ys, xs, color='red')"
   ]
  },
  {
   "cell_type": "code",
   "execution_count": 106,
   "id": "f6b4577d-8f86-44ad-87d3-972becf5c8d0",
   "metadata": {},
   "outputs": [
    {
     "data": {
      "text/plain": [
       "<matplotlib.collections.PathCollection at 0x7fa6178ab440>"
      ]
     },
     "execution_count": 106,
     "metadata": {},
     "output_type": "execute_result"
    },
    {
     "data": {
      "image/png": "[encoded data removed]",
      "text/plain": [
       "<Figure size 640x480 with 2 Axes>"
      ]
     },
     "metadata": {},
     "output_type": "display_data"
    }
   ],
   "source": [
    "ys,xs = np.where(gti==2)\n",
    "fig, ax = plt.subplots(1,2)\n",
    "ax[0].imshow(mn_gt)\n",
    "ax[1].imshow(mn_gt)\n",
    "ax[1].scatter(ys, xs, color='red')"
   ]
  },
  {
   "cell_type": "code",
   "execution_count": 72,
   "id": "4c5b7a20-d7b9-41d2-b505-f0b4ee8375d3",
   "metadata": {},
   "outputs": [
    {
     "data": {
      "text/plain": [
       "224"
      ]
     },
     "execution_count": 72,
     "metadata": {},
     "output_type": "execute_result"
    }
   ],
   "source": [
    "# ignore index 0 which is background\n",
    "for i in range(1, len(\n",
    "area = np.sum(pi==1)\n",
    "area"
   ]
  },
  {
   "cell_type": "code",
   "execution_count": null,
   "id": "52566367-a8bc-404b-9dbb-a510be12fc52",
   "metadata": {},
   "outputs": [],
   "source": [
    "for file in files:\n",
    "    imid = file.split('.')[0]\n",
    "    prob = np.load(DIRECTORY + OUTPUT_DIR + file)\n",
    "    mn_prob = prob[0,:,:] > THRESHOLD\n",
    "    mn_gt = mnds.read_micronuclei_masks(DIRECTORY, imid, SCALE_FACTOR)"
   ]
  }
 ],
 "metadata": {
  "kernelspec": {
   "display_name": "Python 3 (ipykernel)",
   "language": "python",
   "name": "python3"
  },
  "language_info": {
   "codemirror_mode": {
    "name": "ipython",
    "version": 3
   },
   "file_extension": ".py",
   "mimetype": "text/x-python",
   "name": "python",
   "nbconvert_exporter": "python",
   "pygments_lexer": "ipython3",
   "version": "3.12.4"
  }
 },
 "nbformat": 4,
 "nbformat_minor": 5
}
