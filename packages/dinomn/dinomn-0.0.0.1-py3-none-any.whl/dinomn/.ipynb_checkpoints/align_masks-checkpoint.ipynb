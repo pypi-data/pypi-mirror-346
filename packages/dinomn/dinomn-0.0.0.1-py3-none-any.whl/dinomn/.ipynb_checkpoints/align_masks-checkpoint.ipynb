{
 "cells": [
  {
   "cell_type": "code",
   "execution_count": 1,
   "id": "32e2e436-15b2-41fa-9033-fe8dd476dc16",
   "metadata": {},
   "outputs": [],
   "source": [
    "import numpy as np\n",
    "import matplotlib.pyplot as plt\n",
    "from cellpose import models\n",
    "from cellpose.io import imread\n",
    "import os\n",
    "import pandas as pd\n",
    "import skimage\n",
    "import scipy"
   ]
  },
  {
   "cell_type": "code",
   "execution_count": 2,
   "id": "0e4e3c8b-7503-431b-a8d3-a75458f7030f",
   "metadata": {},
   "outputs": [],
   "source": [
    "images_dir = \"/Users/jcaicedo/dataset_v2/\"\n",
    "out_dir = images_dir + \"experiments/2024-03-11/predictions/\"\n",
    "\n",
    "file_names = [x for x in os.listdir(images_dir) if x.endswith(\".phenotype.tif\")]\n",
    "micron_files = [f\"{images_dir}{x.replace('.tif','_outlines.png')}\" for x in file_names]\n",
    "nuclei_files = [out_dir + x.replace(\".phenotype.tif\",\".nuclei.tif\") for x in file_names]"
   ]
  },
  {
   "cell_type": "markdown",
   "id": "9465b131-e91a-4d1b-bfe7-0ecaec973c9e",
   "metadata": {},
   "source": [
    "# Fix nuclei masks"
   ]
  },
  {
   "cell_type": "code",
   "execution_count": 3,
   "id": "7a69e6ad-c458-4ac6-bcb1-e88a87cfdd70",
   "metadata": {},
   "outputs": [
    {
     "name": "stdout",
     "output_type": "stream",
     "text": [
      "20X_c0-DAPI_A1_Tile-170.nuclei.tif\n",
      "Without and with edges: 135(without) - 138(with) = -3(diff)\n",
      "With edges plus dilation: 138(edges) - 137(dilated) = 1(diff)\n",
      "Overlap: 3474\n",
      "C2-20X_c0-DAPI-GFP_B1_Tile-8.nuclei.tif\n"
     ]
    },
    {
     "name": "stderr",
     "output_type": "stream",
     "text": [
      "/var/folders/fn/bzmjp84j2fg9vqtzsncrc3hjtngyk6/T/ipykernel_56483/2722066832.py:34: UserWarning: /Users/jcaicedo/dataset_v2/experiments/2024-03-11/predictions/20X_c0-DAPI_A1_Tile-170.nuclei-clean.tif is a low contrast image\n",
      "  skimage.io.imsave(n.replace(\".nuclei.tif\",\".nuclei-clean.tif\"), clean_labels)\n",
      "/var/folders/fn/bzmjp84j2fg9vqtzsncrc3hjtngyk6/T/ipykernel_56483/2722066832.py:35: UserWarning: /Users/jcaicedo/dataset_v2/experiments/2024-03-11/predictions/20X_c0-DAPI_A1_Tile-170.extra-edge.tif is a boolean image: setting True to 255 and False to 0. To silence this warning, please convert the image using img_as_ubyte.\n",
      "  skimage.io.imsave(n.replace(\".nuclei.tif\",\".extra-edge.tif\"), dilated_edg)\n",
      "/var/folders/fn/bzmjp84j2fg9vqtzsncrc3hjtngyk6/T/ipykernel_56483/2722066832.py:35: UserWarning: /Users/jcaicedo/dataset_v2/experiments/2024-03-11/predictions/20X_c0-DAPI_A1_Tile-170.extra-edge.tif is a low contrast image\n",
      "  skimage.io.imsave(n.replace(\".nuclei.tif\",\".extra-edge.tif\"), dilated_edg)\n"
     ]
    },
    {
     "name": "stdout",
     "output_type": "stream",
     "text": [
      "Without and with edges: 65(without) - 65(with) = 0(diff)\n",
      "With edges plus dilation: 65(edges) - 63(dilated) = 2(diff)\n",
      "Overlap: 2244\n",
      "C2-20X_c0-DAPI-GFP_A2_Tile-5.nuclei.tif\n"
     ]
    },
    {
     "name": "stderr",
     "output_type": "stream",
     "text": [
      "/var/folders/fn/bzmjp84j2fg9vqtzsncrc3hjtngyk6/T/ipykernel_56483/2722066832.py:34: UserWarning: /Users/jcaicedo/dataset_v2/experiments/2024-03-11/predictions/C2-20X_c0-DAPI-GFP_B1_Tile-8.nuclei-clean.tif is a low contrast image\n",
      "  skimage.io.imsave(n.replace(\".nuclei.tif\",\".nuclei-clean.tif\"), clean_labels)\n",
      "/var/folders/fn/bzmjp84j2fg9vqtzsncrc3hjtngyk6/T/ipykernel_56483/2722066832.py:35: UserWarning: /Users/jcaicedo/dataset_v2/experiments/2024-03-11/predictions/C2-20X_c0-DAPI-GFP_B1_Tile-8.extra-edge.tif is a boolean image: setting True to 255 and False to 0. To silence this warning, please convert the image using img_as_ubyte.\n",
      "  skimage.io.imsave(n.replace(\".nuclei.tif\",\".extra-edge.tif\"), dilated_edg)\n",
      "/var/folders/fn/bzmjp84j2fg9vqtzsncrc3hjtngyk6/T/ipykernel_56483/2722066832.py:35: UserWarning: /Users/jcaicedo/dataset_v2/experiments/2024-03-11/predictions/C2-20X_c0-DAPI-GFP_B1_Tile-8.extra-edge.tif is a low contrast image\n",
      "  skimage.io.imsave(n.replace(\".nuclei.tif\",\".extra-edge.tif\"), dilated_edg)\n"
     ]
    },
    {
     "name": "stdout",
     "output_type": "stream",
     "text": [
      "Without and with edges: 81(without) - 84(with) = -3(diff)\n",
      "With edges plus dilation: 84(edges) - 84(dilated) = 0(diff)\n",
      "Overlap: 877\n",
      "C2-20X_c0-DAPI-GFP_A1_Tile-17.nuclei.tif\n"
     ]
    },
    {
     "name": "stderr",
     "output_type": "stream",
     "text": [
      "/var/folders/fn/bzmjp84j2fg9vqtzsncrc3hjtngyk6/T/ipykernel_56483/2722066832.py:34: UserWarning: /Users/jcaicedo/dataset_v2/experiments/2024-03-11/predictions/C2-20X_c0-DAPI-GFP_A2_Tile-5.nuclei-clean.tif is a low contrast image\n",
      "  skimage.io.imsave(n.replace(\".nuclei.tif\",\".nuclei-clean.tif\"), clean_labels)\n",
      "/var/folders/fn/bzmjp84j2fg9vqtzsncrc3hjtngyk6/T/ipykernel_56483/2722066832.py:35: UserWarning: /Users/jcaicedo/dataset_v2/experiments/2024-03-11/predictions/C2-20X_c0-DAPI-GFP_A2_Tile-5.extra-edge.tif is a boolean image: setting True to 255 and False to 0. To silence this warning, please convert the image using img_as_ubyte.\n",
      "  skimage.io.imsave(n.replace(\".nuclei.tif\",\".extra-edge.tif\"), dilated_edg)\n",
      "/var/folders/fn/bzmjp84j2fg9vqtzsncrc3hjtngyk6/T/ipykernel_56483/2722066832.py:35: UserWarning: /Users/jcaicedo/dataset_v2/experiments/2024-03-11/predictions/C2-20X_c0-DAPI-GFP_A2_Tile-5.extra-edge.tif is a low contrast image\n",
      "  skimage.io.imsave(n.replace(\".nuclei.tif\",\".extra-edge.tif\"), dilated_edg)\n"
     ]
    },
    {
     "name": "stdout",
     "output_type": "stream",
     "text": [
      "Without and with edges: 78(without) - 80(with) = -2(diff)\n",
      "With edges plus dilation: 80(edges) - 79(dilated) = 1(diff)\n",
      "Overlap: 1954\n",
      "20X_c0-DAPI_A1_Tile-190.nuclei.tif\n"
     ]
    },
    {
     "name": "stderr",
     "output_type": "stream",
     "text": [
      "/var/folders/fn/bzmjp84j2fg9vqtzsncrc3hjtngyk6/T/ipykernel_56483/2722066832.py:34: UserWarning: /Users/jcaicedo/dataset_v2/experiments/2024-03-11/predictions/C2-20X_c0-DAPI-GFP_A1_Tile-17.nuclei-clean.tif is a low contrast image\n",
      "  skimage.io.imsave(n.replace(\".nuclei.tif\",\".nuclei-clean.tif\"), clean_labels)\n",
      "/var/folders/fn/bzmjp84j2fg9vqtzsncrc3hjtngyk6/T/ipykernel_56483/2722066832.py:35: UserWarning: /Users/jcaicedo/dataset_v2/experiments/2024-03-11/predictions/C2-20X_c0-DAPI-GFP_A1_Tile-17.extra-edge.tif is a boolean image: setting True to 255 and False to 0. To silence this warning, please convert the image using img_as_ubyte.\n",
      "  skimage.io.imsave(n.replace(\".nuclei.tif\",\".extra-edge.tif\"), dilated_edg)\n",
      "/var/folders/fn/bzmjp84j2fg9vqtzsncrc3hjtngyk6/T/ipykernel_56483/2722066832.py:35: UserWarning: /Users/jcaicedo/dataset_v2/experiments/2024-03-11/predictions/C2-20X_c0-DAPI-GFP_A1_Tile-17.extra-edge.tif is a low contrast image\n",
      "  skimage.io.imsave(n.replace(\".nuclei.tif\",\".extra-edge.tif\"), dilated_edg)\n"
     ]
    },
    {
     "name": "stdout",
     "output_type": "stream",
     "text": [
      "Without and with edges: 74(without) - 76(with) = -2(diff)\n",
      "With edges plus dilation: 76(edges) - 69(dilated) = 7(diff)\n",
      "Overlap: 625\n",
      "20X_c0-DAPI_A1_Tile-110.nuclei.tif\n"
     ]
    },
    {
     "name": "stderr",
     "output_type": "stream",
     "text": [
      "/var/folders/fn/bzmjp84j2fg9vqtzsncrc3hjtngyk6/T/ipykernel_56483/2722066832.py:34: UserWarning: /Users/jcaicedo/dataset_v2/experiments/2024-03-11/predictions/20X_c0-DAPI_A1_Tile-190.nuclei-clean.tif is a low contrast image\n",
      "  skimage.io.imsave(n.replace(\".nuclei.tif\",\".nuclei-clean.tif\"), clean_labels)\n",
      "/var/folders/fn/bzmjp84j2fg9vqtzsncrc3hjtngyk6/T/ipykernel_56483/2722066832.py:35: UserWarning: /Users/jcaicedo/dataset_v2/experiments/2024-03-11/predictions/20X_c0-DAPI_A1_Tile-190.extra-edge.tif is a boolean image: setting True to 255 and False to 0. To silence this warning, please convert the image using img_as_ubyte.\n",
      "  skimage.io.imsave(n.replace(\".nuclei.tif\",\".extra-edge.tif\"), dilated_edg)\n",
      "/var/folders/fn/bzmjp84j2fg9vqtzsncrc3hjtngyk6/T/ipykernel_56483/2722066832.py:35: UserWarning: /Users/jcaicedo/dataset_v2/experiments/2024-03-11/predictions/20X_c0-DAPI_A1_Tile-190.extra-edge.tif is a low contrast image\n",
      "  skimage.io.imsave(n.replace(\".nuclei.tif\",\".extra-edge.tif\"), dilated_edg)\n"
     ]
    },
    {
     "name": "stdout",
     "output_type": "stream",
     "text": [
      "Without and with edges: 49(without) - 45(with) = 4(diff)\n",
      "With edges plus dilation: 45(edges) - 45(dilated) = 0(diff)\n",
      "Overlap: 1349\n",
      "C2-20X_c0-DAPI-GFP_B3_Tile-10.nuclei.tif\n"
     ]
    },
    {
     "name": "stderr",
     "output_type": "stream",
     "text": [
      "/var/folders/fn/bzmjp84j2fg9vqtzsncrc3hjtngyk6/T/ipykernel_56483/2722066832.py:34: UserWarning: /Users/jcaicedo/dataset_v2/experiments/2024-03-11/predictions/20X_c0-DAPI_A1_Tile-110.nuclei-clean.tif is a low contrast image\n",
      "  skimage.io.imsave(n.replace(\".nuclei.tif\",\".nuclei-clean.tif\"), clean_labels)\n",
      "/var/folders/fn/bzmjp84j2fg9vqtzsncrc3hjtngyk6/T/ipykernel_56483/2722066832.py:35: UserWarning: /Users/jcaicedo/dataset_v2/experiments/2024-03-11/predictions/20X_c0-DAPI_A1_Tile-110.extra-edge.tif is a boolean image: setting True to 255 and False to 0. To silence this warning, please convert the image using img_as_ubyte.\n",
      "  skimage.io.imsave(n.replace(\".nuclei.tif\",\".extra-edge.tif\"), dilated_edg)\n",
      "/var/folders/fn/bzmjp84j2fg9vqtzsncrc3hjtngyk6/T/ipykernel_56483/2722066832.py:35: UserWarning: /Users/jcaicedo/dataset_v2/experiments/2024-03-11/predictions/20X_c0-DAPI_A1_Tile-110.extra-edge.tif is a low contrast image\n",
      "  skimage.io.imsave(n.replace(\".nuclei.tif\",\".extra-edge.tif\"), dilated_edg)\n"
     ]
    },
    {
     "name": "stdout",
     "output_type": "stream",
     "text": [
      "Without and with edges: 133(without) - 138(with) = -5(diff)\n",
      "With edges plus dilation: 138(edges) - 134(dilated) = 4(diff)\n",
      "Overlap: 1738\n",
      "20X_c0-DAPI_A1_Tile-130.nuclei.tif\n"
     ]
    },
    {
     "name": "stderr",
     "output_type": "stream",
     "text": [
      "/var/folders/fn/bzmjp84j2fg9vqtzsncrc3hjtngyk6/T/ipykernel_56483/2722066832.py:34: UserWarning: /Users/jcaicedo/dataset_v2/experiments/2024-03-11/predictions/C2-20X_c0-DAPI-GFP_B3_Tile-10.nuclei-clean.tif is a low contrast image\n",
      "  skimage.io.imsave(n.replace(\".nuclei.tif\",\".nuclei-clean.tif\"), clean_labels)\n",
      "/var/folders/fn/bzmjp84j2fg9vqtzsncrc3hjtngyk6/T/ipykernel_56483/2722066832.py:35: UserWarning: /Users/jcaicedo/dataset_v2/experiments/2024-03-11/predictions/C2-20X_c0-DAPI-GFP_B3_Tile-10.extra-edge.tif is a boolean image: setting True to 255 and False to 0. To silence this warning, please convert the image using img_as_ubyte.\n",
      "  skimage.io.imsave(n.replace(\".nuclei.tif\",\".extra-edge.tif\"), dilated_edg)\n",
      "/var/folders/fn/bzmjp84j2fg9vqtzsncrc3hjtngyk6/T/ipykernel_56483/2722066832.py:35: UserWarning: /Users/jcaicedo/dataset_v2/experiments/2024-03-11/predictions/C2-20X_c0-DAPI-GFP_B3_Tile-10.extra-edge.tif is a low contrast image\n",
      "  skimage.io.imsave(n.replace(\".nuclei.tif\",\".extra-edge.tif\"), dilated_edg)\n"
     ]
    },
    {
     "name": "stdout",
     "output_type": "stream",
     "text": [
      "Without and with edges: 180(without) - 188(with) = -8(diff)\n",
      "With edges plus dilation: 188(edges) - 185(dilated) = 3(diff)\n",
      "Overlap: 2954\n",
      "C2-20X_c0-DAPI-GFP_A3_Tile-6.nuclei.tif\n"
     ]
    },
    {
     "name": "stderr",
     "output_type": "stream",
     "text": [
      "/var/folders/fn/bzmjp84j2fg9vqtzsncrc3hjtngyk6/T/ipykernel_56483/2722066832.py:34: UserWarning: /Users/jcaicedo/dataset_v2/experiments/2024-03-11/predictions/20X_c0-DAPI_A1_Tile-130.nuclei-clean.tif is a low contrast image\n",
      "  skimage.io.imsave(n.replace(\".nuclei.tif\",\".nuclei-clean.tif\"), clean_labels)\n",
      "/var/folders/fn/bzmjp84j2fg9vqtzsncrc3hjtngyk6/T/ipykernel_56483/2722066832.py:35: UserWarning: /Users/jcaicedo/dataset_v2/experiments/2024-03-11/predictions/20X_c0-DAPI_A1_Tile-130.extra-edge.tif is a boolean image: setting True to 255 and False to 0. To silence this warning, please convert the image using img_as_ubyte.\n",
      "  skimage.io.imsave(n.replace(\".nuclei.tif\",\".extra-edge.tif\"), dilated_edg)\n",
      "/var/folders/fn/bzmjp84j2fg9vqtzsncrc3hjtngyk6/T/ipykernel_56483/2722066832.py:35: UserWarning: /Users/jcaicedo/dataset_v2/experiments/2024-03-11/predictions/20X_c0-DAPI_A1_Tile-130.extra-edge.tif is a low contrast image\n",
      "  skimage.io.imsave(n.replace(\".nuclei.tif\",\".extra-edge.tif\"), dilated_edg)\n"
     ]
    },
    {
     "name": "stdout",
     "output_type": "stream",
     "text": [
      "Without and with edges: 96(without) - 97(with) = -1(diff)\n",
      "With edges plus dilation: 97(edges) - 95(dilated) = 2(diff)\n",
      "Overlap: 1632\n",
      "20X_c0-DAPI_A1_Tile-150.nuclei.tif\n"
     ]
    },
    {
     "name": "stderr",
     "output_type": "stream",
     "text": [
      "/var/folders/fn/bzmjp84j2fg9vqtzsncrc3hjtngyk6/T/ipykernel_56483/2722066832.py:34: UserWarning: /Users/jcaicedo/dataset_v2/experiments/2024-03-11/predictions/C2-20X_c0-DAPI-GFP_A3_Tile-6.nuclei-clean.tif is a low contrast image\n",
      "  skimage.io.imsave(n.replace(\".nuclei.tif\",\".nuclei-clean.tif\"), clean_labels)\n",
      "/var/folders/fn/bzmjp84j2fg9vqtzsncrc3hjtngyk6/T/ipykernel_56483/2722066832.py:35: UserWarning: /Users/jcaicedo/dataset_v2/experiments/2024-03-11/predictions/C2-20X_c0-DAPI-GFP_A3_Tile-6.extra-edge.tif is a boolean image: setting True to 255 and False to 0. To silence this warning, please convert the image using img_as_ubyte.\n",
      "  skimage.io.imsave(n.replace(\".nuclei.tif\",\".extra-edge.tif\"), dilated_edg)\n",
      "/var/folders/fn/bzmjp84j2fg9vqtzsncrc3hjtngyk6/T/ipykernel_56483/2722066832.py:35: UserWarning: /Users/jcaicedo/dataset_v2/experiments/2024-03-11/predictions/C2-20X_c0-DAPI-GFP_A3_Tile-6.extra-edge.tif is a low contrast image\n",
      "  skimage.io.imsave(n.replace(\".nuclei.tif\",\".extra-edge.tif\"), dilated_edg)\n"
     ]
    },
    {
     "name": "stdout",
     "output_type": "stream",
     "text": [
      "Without and with edges: 52(without) - 53(with) = -1(diff)\n",
      "With edges plus dilation: 53(edges) - 50(dilated) = 3(diff)\n",
      "Overlap: 1520\n",
      "20X_c0-DAPI_A1_Tile-30.nuclei.tif\n"
     ]
    },
    {
     "name": "stderr",
     "output_type": "stream",
     "text": [
      "/var/folders/fn/bzmjp84j2fg9vqtzsncrc3hjtngyk6/T/ipykernel_56483/2722066832.py:34: UserWarning: /Users/jcaicedo/dataset_v2/experiments/2024-03-11/predictions/20X_c0-DAPI_A1_Tile-150.nuclei-clean.tif is a low contrast image\n",
      "  skimage.io.imsave(n.replace(\".nuclei.tif\",\".nuclei-clean.tif\"), clean_labels)\n",
      "/var/folders/fn/bzmjp84j2fg9vqtzsncrc3hjtngyk6/T/ipykernel_56483/2722066832.py:35: UserWarning: /Users/jcaicedo/dataset_v2/experiments/2024-03-11/predictions/20X_c0-DAPI_A1_Tile-150.extra-edge.tif is a boolean image: setting True to 255 and False to 0. To silence this warning, please convert the image using img_as_ubyte.\n",
      "  skimage.io.imsave(n.replace(\".nuclei.tif\",\".extra-edge.tif\"), dilated_edg)\n",
      "/var/folders/fn/bzmjp84j2fg9vqtzsncrc3hjtngyk6/T/ipykernel_56483/2722066832.py:35: UserWarning: /Users/jcaicedo/dataset_v2/experiments/2024-03-11/predictions/20X_c0-DAPI_A1_Tile-150.extra-edge.tif is a low contrast image\n",
      "  skimage.io.imsave(n.replace(\".nuclei.tif\",\".extra-edge.tif\"), dilated_edg)\n"
     ]
    },
    {
     "name": "stdout",
     "output_type": "stream",
     "text": [
      "Without and with edges: 50(without) - 49(with) = 1(diff)\n",
      "With edges plus dilation: 49(edges) - 48(dilated) = 1(diff)\n",
      "Overlap: 1763\n",
      "20X_c0-DAPI_A1_Tile-50.nuclei.tif\n"
     ]
    },
    {
     "name": "stderr",
     "output_type": "stream",
     "text": [
      "/var/folders/fn/bzmjp84j2fg9vqtzsncrc3hjtngyk6/T/ipykernel_56483/2722066832.py:34: UserWarning: /Users/jcaicedo/dataset_v2/experiments/2024-03-11/predictions/20X_c0-DAPI_A1_Tile-30.nuclei-clean.tif is a low contrast image\n",
      "  skimage.io.imsave(n.replace(\".nuclei.tif\",\".nuclei-clean.tif\"), clean_labels)\n",
      "/var/folders/fn/bzmjp84j2fg9vqtzsncrc3hjtngyk6/T/ipykernel_56483/2722066832.py:35: UserWarning: /Users/jcaicedo/dataset_v2/experiments/2024-03-11/predictions/20X_c0-DAPI_A1_Tile-30.extra-edge.tif is a boolean image: setting True to 255 and False to 0. To silence this warning, please convert the image using img_as_ubyte.\n",
      "  skimage.io.imsave(n.replace(\".nuclei.tif\",\".extra-edge.tif\"), dilated_edg)\n",
      "/var/folders/fn/bzmjp84j2fg9vqtzsncrc3hjtngyk6/T/ipykernel_56483/2722066832.py:35: UserWarning: /Users/jcaicedo/dataset_v2/experiments/2024-03-11/predictions/20X_c0-DAPI_A1_Tile-30.extra-edge.tif is a low contrast image\n",
      "  skimage.io.imsave(n.replace(\".nuclei.tif\",\".extra-edge.tif\"), dilated_edg)\n"
     ]
    },
    {
     "name": "stdout",
     "output_type": "stream",
     "text": [
      "Without and with edges: 159(without) - 164(with) = -5(diff)\n",
      "With edges plus dilation: 164(edges) - 161(dilated) = 3(diff)\n",
      "Overlap: 1651\n",
      "20X_c0-DAPI_A1_Tile-70.nuclei.tif\n"
     ]
    },
    {
     "name": "stderr",
     "output_type": "stream",
     "text": [
      "/var/folders/fn/bzmjp84j2fg9vqtzsncrc3hjtngyk6/T/ipykernel_56483/2722066832.py:34: UserWarning: /Users/jcaicedo/dataset_v2/experiments/2024-03-11/predictions/20X_c0-DAPI_A1_Tile-50.nuclei-clean.tif is a low contrast image\n",
      "  skimage.io.imsave(n.replace(\".nuclei.tif\",\".nuclei-clean.tif\"), clean_labels)\n",
      "/var/folders/fn/bzmjp84j2fg9vqtzsncrc3hjtngyk6/T/ipykernel_56483/2722066832.py:35: UserWarning: /Users/jcaicedo/dataset_v2/experiments/2024-03-11/predictions/20X_c0-DAPI_A1_Tile-50.extra-edge.tif is a boolean image: setting True to 255 and False to 0. To silence this warning, please convert the image using img_as_ubyte.\n",
      "  skimage.io.imsave(n.replace(\".nuclei.tif\",\".extra-edge.tif\"), dilated_edg)\n",
      "/var/folders/fn/bzmjp84j2fg9vqtzsncrc3hjtngyk6/T/ipykernel_56483/2722066832.py:35: UserWarning: /Users/jcaicedo/dataset_v2/experiments/2024-03-11/predictions/20X_c0-DAPI_A1_Tile-50.extra-edge.tif is a low contrast image\n",
      "  skimage.io.imsave(n.replace(\".nuclei.tif\",\".extra-edge.tif\"), dilated_edg)\n"
     ]
    },
    {
     "name": "stdout",
     "output_type": "stream",
     "text": [
      "Without and with edges: 68(without) - 66(with) = 2(diff)\n",
      "With edges plus dilation: 66(edges) - 64(dilated) = 2(diff)\n",
      "Overlap: 3941\n",
      "C2-20X_c0-DAPI-GFP_B3_Tile-16.nuclei.tif\n"
     ]
    },
    {
     "name": "stderr",
     "output_type": "stream",
     "text": [
      "/var/folders/fn/bzmjp84j2fg9vqtzsncrc3hjtngyk6/T/ipykernel_56483/2722066832.py:34: UserWarning: /Users/jcaicedo/dataset_v2/experiments/2024-03-11/predictions/20X_c0-DAPI_A1_Tile-70.nuclei-clean.tif is a low contrast image\n",
      "  skimage.io.imsave(n.replace(\".nuclei.tif\",\".nuclei-clean.tif\"), clean_labels)\n",
      "/var/folders/fn/bzmjp84j2fg9vqtzsncrc3hjtngyk6/T/ipykernel_56483/2722066832.py:35: UserWarning: /Users/jcaicedo/dataset_v2/experiments/2024-03-11/predictions/20X_c0-DAPI_A1_Tile-70.extra-edge.tif is a boolean image: setting True to 255 and False to 0. To silence this warning, please convert the image using img_as_ubyte.\n",
      "  skimage.io.imsave(n.replace(\".nuclei.tif\",\".extra-edge.tif\"), dilated_edg)\n",
      "/var/folders/fn/bzmjp84j2fg9vqtzsncrc3hjtngyk6/T/ipykernel_56483/2722066832.py:35: UserWarning: /Users/jcaicedo/dataset_v2/experiments/2024-03-11/predictions/20X_c0-DAPI_A1_Tile-70.extra-edge.tif is a low contrast image\n",
      "  skimage.io.imsave(n.replace(\".nuclei.tif\",\".extra-edge.tif\"), dilated_edg)\n"
     ]
    },
    {
     "name": "stdout",
     "output_type": "stream",
     "text": [
      "Without and with edges: 101(without) - 101(with) = 0(diff)\n",
      "With edges plus dilation: 101(edges) - 96(dilated) = 5(diff)\n",
      "Overlap: 1175\n",
      "20X_c0-DAPI_A1_Tile-10.nuclei.tif\n"
     ]
    },
    {
     "name": "stderr",
     "output_type": "stream",
     "text": [
      "/var/folders/fn/bzmjp84j2fg9vqtzsncrc3hjtngyk6/T/ipykernel_56483/2722066832.py:34: UserWarning: /Users/jcaicedo/dataset_v2/experiments/2024-03-11/predictions/C2-20X_c0-DAPI-GFP_B3_Tile-16.nuclei-clean.tif is a low contrast image\n",
      "  skimage.io.imsave(n.replace(\".nuclei.tif\",\".nuclei-clean.tif\"), clean_labels)\n",
      "/var/folders/fn/bzmjp84j2fg9vqtzsncrc3hjtngyk6/T/ipykernel_56483/2722066832.py:35: UserWarning: /Users/jcaicedo/dataset_v2/experiments/2024-03-11/predictions/C2-20X_c0-DAPI-GFP_B3_Tile-16.extra-edge.tif is a boolean image: setting True to 255 and False to 0. To silence this warning, please convert the image using img_as_ubyte.\n",
      "  skimage.io.imsave(n.replace(\".nuclei.tif\",\".extra-edge.tif\"), dilated_edg)\n",
      "/var/folders/fn/bzmjp84j2fg9vqtzsncrc3hjtngyk6/T/ipykernel_56483/2722066832.py:35: UserWarning: /Users/jcaicedo/dataset_v2/experiments/2024-03-11/predictions/C2-20X_c0-DAPI-GFP_B3_Tile-16.extra-edge.tif is a low contrast image\n",
      "  skimage.io.imsave(n.replace(\".nuclei.tif\",\".extra-edge.tif\"), dilated_edg)\n"
     ]
    },
    {
     "name": "stdout",
     "output_type": "stream",
     "text": [
      "Without and with edges: 86(without) - 84(with) = 2(diff)\n",
      "With edges plus dilation: 84(edges) - 81(dilated) = 3(diff)\n",
      "Overlap: 3013\n",
      "20X_c0-DAPI_A1_Tile-90.nuclei.tif\n"
     ]
    },
    {
     "name": "stderr",
     "output_type": "stream",
     "text": [
      "/var/folders/fn/bzmjp84j2fg9vqtzsncrc3hjtngyk6/T/ipykernel_56483/2722066832.py:34: UserWarning: /Users/jcaicedo/dataset_v2/experiments/2024-03-11/predictions/20X_c0-DAPI_A1_Tile-10.nuclei-clean.tif is a low contrast image\n",
      "  skimage.io.imsave(n.replace(\".nuclei.tif\",\".nuclei-clean.tif\"), clean_labels)\n",
      "/var/folders/fn/bzmjp84j2fg9vqtzsncrc3hjtngyk6/T/ipykernel_56483/2722066832.py:35: UserWarning: /Users/jcaicedo/dataset_v2/experiments/2024-03-11/predictions/20X_c0-DAPI_A1_Tile-10.extra-edge.tif is a boolean image: setting True to 255 and False to 0. To silence this warning, please convert the image using img_as_ubyte.\n",
      "  skimage.io.imsave(n.replace(\".nuclei.tif\",\".extra-edge.tif\"), dilated_edg)\n",
      "/var/folders/fn/bzmjp84j2fg9vqtzsncrc3hjtngyk6/T/ipykernel_56483/2722066832.py:35: UserWarning: /Users/jcaicedo/dataset_v2/experiments/2024-03-11/predictions/20X_c0-DAPI_A1_Tile-10.extra-edge.tif is a low contrast image\n",
      "  skimage.io.imsave(n.replace(\".nuclei.tif\",\".extra-edge.tif\"), dilated_edg)\n"
     ]
    },
    {
     "name": "stdout",
     "output_type": "stream",
     "text": [
      "Without and with edges: 109(without) - 110(with) = -1(diff)\n",
      "With edges plus dilation: 110(edges) - 102(dilated) = 8(diff)\n",
      "Overlap: 2683\n",
      "C2-20X_c0-DAPI-GFP_B2_Tile-20.nuclei.tif\n"
     ]
    },
    {
     "name": "stderr",
     "output_type": "stream",
     "text": [
      "/var/folders/fn/bzmjp84j2fg9vqtzsncrc3hjtngyk6/T/ipykernel_56483/2722066832.py:34: UserWarning: /Users/jcaicedo/dataset_v2/experiments/2024-03-11/predictions/20X_c0-DAPI_A1_Tile-90.nuclei-clean.tif is a low contrast image\n",
      "  skimage.io.imsave(n.replace(\".nuclei.tif\",\".nuclei-clean.tif\"), clean_labels)\n",
      "/var/folders/fn/bzmjp84j2fg9vqtzsncrc3hjtngyk6/T/ipykernel_56483/2722066832.py:35: UserWarning: /Users/jcaicedo/dataset_v2/experiments/2024-03-11/predictions/20X_c0-DAPI_A1_Tile-90.extra-edge.tif is a boolean image: setting True to 255 and False to 0. To silence this warning, please convert the image using img_as_ubyte.\n",
      "  skimage.io.imsave(n.replace(\".nuclei.tif\",\".extra-edge.tif\"), dilated_edg)\n",
      "/var/folders/fn/bzmjp84j2fg9vqtzsncrc3hjtngyk6/T/ipykernel_56483/2722066832.py:35: UserWarning: /Users/jcaicedo/dataset_v2/experiments/2024-03-11/predictions/20X_c0-DAPI_A1_Tile-90.extra-edge.tif is a low contrast image\n",
      "  skimage.io.imsave(n.replace(\".nuclei.tif\",\".extra-edge.tif\"), dilated_edg)\n"
     ]
    },
    {
     "name": "stdout",
     "output_type": "stream",
     "text": [
      "Without and with edges: 86(without) - 88(with) = -2(diff)\n",
      "With edges plus dilation: 88(edges) - 88(dilated) = 0(diff)\n",
      "Overlap: 1447\n",
      "C2-20X_c0-DAPI-GFP_A1_Tile-5.nuclei.tif\n"
     ]
    },
    {
     "name": "stderr",
     "output_type": "stream",
     "text": [
      "/var/folders/fn/bzmjp84j2fg9vqtzsncrc3hjtngyk6/T/ipykernel_56483/2722066832.py:34: UserWarning: /Users/jcaicedo/dataset_v2/experiments/2024-03-11/predictions/C2-20X_c0-DAPI-GFP_B2_Tile-20.nuclei-clean.tif is a low contrast image\n",
      "  skimage.io.imsave(n.replace(\".nuclei.tif\",\".nuclei-clean.tif\"), clean_labels)\n",
      "/var/folders/fn/bzmjp84j2fg9vqtzsncrc3hjtngyk6/T/ipykernel_56483/2722066832.py:35: UserWarning: /Users/jcaicedo/dataset_v2/experiments/2024-03-11/predictions/C2-20X_c0-DAPI-GFP_B2_Tile-20.extra-edge.tif is a boolean image: setting True to 255 and False to 0. To silence this warning, please convert the image using img_as_ubyte.\n",
      "  skimage.io.imsave(n.replace(\".nuclei.tif\",\".extra-edge.tif\"), dilated_edg)\n",
      "/var/folders/fn/bzmjp84j2fg9vqtzsncrc3hjtngyk6/T/ipykernel_56483/2722066832.py:35: UserWarning: /Users/jcaicedo/dataset_v2/experiments/2024-03-11/predictions/C2-20X_c0-DAPI-GFP_B2_Tile-20.extra-edge.tif is a low contrast image\n",
      "  skimage.io.imsave(n.replace(\".nuclei.tif\",\".extra-edge.tif\"), dilated_edg)\n"
     ]
    },
    {
     "name": "stdout",
     "output_type": "stream",
     "text": [
      "Without and with edges: 83(without) - 84(with) = -1(diff)\n",
      "With edges plus dilation: 84(edges) - 81(dilated) = 3(diff)\n",
      "Overlap: 1226\n"
     ]
    },
    {
     "name": "stderr",
     "output_type": "stream",
     "text": [
      "/var/folders/fn/bzmjp84j2fg9vqtzsncrc3hjtngyk6/T/ipykernel_56483/2722066832.py:34: UserWarning: /Users/jcaicedo/dataset_v2/experiments/2024-03-11/predictions/C2-20X_c0-DAPI-GFP_A1_Tile-5.nuclei-clean.tif is a low contrast image\n",
      "  skimage.io.imsave(n.replace(\".nuclei.tif\",\".nuclei-clean.tif\"), clean_labels)\n",
      "/var/folders/fn/bzmjp84j2fg9vqtzsncrc3hjtngyk6/T/ipykernel_56483/2722066832.py:35: UserWarning: /Users/jcaicedo/dataset_v2/experiments/2024-03-11/predictions/C2-20X_c0-DAPI-GFP_A1_Tile-5.extra-edge.tif is a boolean image: setting True to 255 and False to 0. To silence this warning, please convert the image using img_as_ubyte.\n",
      "  skimage.io.imsave(n.replace(\".nuclei.tif\",\".extra-edge.tif\"), dilated_edg)\n",
      "/var/folders/fn/bzmjp84j2fg9vqtzsncrc3hjtngyk6/T/ipykernel_56483/2722066832.py:35: UserWarning: /Users/jcaicedo/dataset_v2/experiments/2024-03-11/predictions/C2-20X_c0-DAPI-GFP_A1_Tile-5.extra-edge.tif is a low contrast image\n",
      "  skimage.io.imsave(n.replace(\".nuclei.tif\",\".extra-edge.tif\"), dilated_edg)\n"
     ]
    }
   ],
   "source": [
    "total_overlap = 0\n",
    "for m, n in zip(micron_files, nuclei_files):\n",
    "    print(n.split(\"/\")[-1])\n",
    "    # Load micronuclei and nuclei masks\n",
    "    mic_masks = skimage.io.imread(m)\n",
    "    nuc_masks = skimage.io.imread(n)\n",
    "\n",
    "    # Prepare micronuclei masks\n",
    "    edge = mic_masks[:,:,0] > 0 # Use only the red channel\n",
    "    mask = scipy.ndimage.binary_fill_holes(edge) ^ edge\n",
    "    full_mic = mask + edge\n",
    "\n",
    "    # Dilate micronuclei to obtain extra edges\n",
    "    d = skimage.morphology.disk(2)\n",
    "    dilated_obj = skimage.morphology.dilation(full_mic, d)\n",
    "    dilated_edg = scipy.ndimage.binary_fill_holes(dilated_obj) ^ full_mic\n",
    "\n",
    "    # Count objects and report differences\n",
    "    obj = len(np.unique(skimage.morphology.label(mask)))\n",
    "    full_obj = len(np.unique(skimage.morphology.label(full_mic)))\n",
    "    dil_obj = len(np.unique(skimage.morphology.label(dilated_obj)))\n",
    "    print(f\"Without and with edges: {obj}(without) - {full_obj}(with) = {obj - full_obj}(diff)\")\n",
    "    print(f\"With edges plus dilation: {full_obj}(edges) - {dil_obj}(dilated) = {full_obj - dil_obj}(diff)\")\n",
    "\n",
    "    # Find overlaps and remove them\n",
    "    overlap = np.logical_and(full_mic, nuc_masks)\n",
    "    total_overlap += np.sum(overlap)\n",
    "    print(\"Overlap:\",np.sum(overlap))\n",
    "    clean_nuclei = (nuc_masks>0) ^ overlap\n",
    "    clean_labels = skimage.morphology.label(clean_nuclei)\n",
    "    clean_labels = np.asarray(clean_labels, dtype=\"uint16\")\n",
    "\n",
    "    # Save result\n",
    "    skimage.io.imsave(n.replace(\".nuclei.tif\",\".nuclei-clean.tif\"), clean_labels)\n",
    "    skimage.io.imsave(n.replace(\".nuclei.tif\",\".extra-edge.tif\"), dilated_edg)\n",
    "    "
   ]
  },
  {
   "cell_type": "code",
   "execution_count": 4,
   "id": "fbf60c77-f541-4399-9b91-f123d777d830",
   "metadata": {},
   "outputs": [
    {
     "name": "stdout",
     "output_type": "stream",
     "text": [
      "Total overlap in dataset: 35266\n"
     ]
    }
   ],
   "source": [
    "print(\"Total overlap in dataset:\",total_overlap)"
   ]
  },
  {
   "cell_type": "markdown",
   "id": "45004edc-056a-4f49-9179-425ff7e4c298",
   "metadata": {},
   "source": [
    "# Example"
   ]
  },
  {
   "cell_type": "code",
   "execution_count": 5,
   "id": "6e08cc9b-79b2-4900-86ea-9b05316f79cf",
   "metadata": {},
   "outputs": [
    {
     "data": {
      "text/plain": [
       "<matplotlib.image.AxesImage at 0x1109a8b30>"
      ]
     },
     "execution_count": 5,
     "metadata": {},
     "output_type": "execute_result"
    },
    {
     "data": {
      "image/png": "[encoded data removed]",
      "text/plain": [
       "<Figure size 640x480 with 1 Axes>"
      ]
     },
     "metadata": {},
     "output_type": "display_data"
    }
   ],
   "source": [
    "# Load micronuclei and nuclei masks\n",
    "mic_masks = skimage.io.imread(micron_files[0])\n",
    "nuc_masks = skimage.io.imread(nuclei_files[0])\n",
    "\n",
    "edge = mic_masks[:,:,0] > 0 # Use only the red channel\n",
    "mask = scipy.ndimage.binary_fill_holes(edge) ^ edge\n",
    "labels = skimage.morphology.label(mask)\n",
    "\n",
    "full_mic = mask + edge\n",
    "plt.imshow(full_mic[2000:2500,1000:1500], cmap=\"gray\")"
   ]
  },
  {
   "cell_type": "code",
   "execution_count": 6,
   "id": "8a89c9ba-c4bd-4548-9d0c-d6a821f90834",
   "metadata": {},
   "outputs": [
    {
     "data": {
      "text/plain": [
       "<matplotlib.image.AxesImage at 0x2a63ffbc0>"
      ]
     },
     "execution_count": 6,
     "metadata": {},
     "output_type": "execute_result"
    },
    {
     "data": {
      "image/png": "[encoded data removed]",
      "text/plain": [
       "<Figure size 640x480 with 1 Axes>"
      ]
     },
     "metadata": {},
     "output_type": "display_data"
    }
   ],
   "source": [
    "d = skimage.morphology.disk(2)\n",
    "dilated_obj = skimage.morphology.dilation(full_mic, d)\n",
    "dilated_edg = scipy.ndimage.binary_fill_holes(dilated_obj) ^ full_mic\n",
    "\n",
    "edg_mask = np.concatenate([255*edge[:,:,None], 255*dilated_edg[:,:,None], 255*mask[:,:,None]], axis=2)\n",
    "plt.imshow(edg_mask[2000:2500,1000:1500], cmap=\"gray\")"
   ]
  },
  {
   "cell_type": "code",
   "execution_count": 7,
   "id": "ec8641ec-e9c2-4bd7-bd39-b3c18872f69d",
   "metadata": {},
   "outputs": [
    {
     "name": "stderr",
     "output_type": "stream",
     "text": [
      "Clipping input data to the valid range for imshow with RGB data ([0..1] for floats or [0..255] for integers).\n"
     ]
    },
    {
     "data": {
      "text/plain": [
       "<matplotlib.image.AxesImage at 0x2a63633b0>"
      ]
     },
     "execution_count": 7,
     "metadata": {},
     "output_type": "execute_result"
    },
    {
     "data": {
      "image/png": "[encoded data removed]",
      "text/plain": [
       "<Figure size 640x480 with 1 Axes>"
      ]
     },
     "metadata": {},
     "output_type": "display_data"
    }
   ],
   "source": [
    "overlap = np.logical_and(dilated_obj, nuc_masks)\n",
    "view = np.concatenate([255*overlap[:,:,None], np.zeros_like(mask)[:,:,None], 255*nuc_masks[:,:,None]], axis=2)\n",
    "plt.imshow(view[2000:2500,1000:1500], cmap=\"gray\")"
   ]
  },
  {
   "cell_type": "code",
   "execution_count": 8,
   "id": "8001bcf1-8263-4371-8768-2a18dd323361",
   "metadata": {},
   "outputs": [
    {
     "data": {
      "text/plain": [
       "<matplotlib.image.AxesImage at 0x2a61ff1d0>"
      ]
     },
     "execution_count": 8,
     "metadata": {},
     "output_type": "execute_result"
    },
    {
     "data": {
      "image/png": "[encoded data removed]",
      "text/plain": [
       "<Figure size 640x480 with 1 Axes>"
      ]
     },
     "metadata": {},
     "output_type": "display_data"
    }
   ],
   "source": [
    "clean_nuclei = (nuc_masks>0) ^ overlap\n",
    "view = np.concatenate([1.*full_mic[:,:,None], 1*dilated_edg[:,:,None], 1.*clean_nuclei[:,:,None]], axis=2)\n",
    "plt.imshow(view[2000:2500,1000:1500])"
   ]
  },
  {
   "cell_type": "code",
   "execution_count": null,
   "id": "c8cabca1-ed14-48e9-9815-e5fafc1d3cdd",
   "metadata": {},
   "outputs": [],
   "source": []
  }
 ],
 "metadata": {
  "kernelspec": {
   "display_name": "Python 3 (ipykernel)",
   "language": "python",
   "name": "python3"
  },
  "language_info": {
   "codemirror_mode": {
    "name": "ipython",
    "version": 3
   },
   "file_extension": ".py",
   "mimetype": "text/x-python",
   "name": "python",
   "nbconvert_exporter": "python",
   "pygments_lexer": "ipython3",
   "version": "3.12.2"
  }
 },
 "nbformat": 4,
 "nbformat_minor": 5
}
