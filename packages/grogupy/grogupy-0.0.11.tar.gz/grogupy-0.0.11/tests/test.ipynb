{
 "cells": [
  {
   "cell_type": "markdown",
   "metadata": {},
   "source": [
    "## TODO\n",
    "\n",
    "- Physics stuff\n",
    "    - hamiltonian rotations should not matter\n",
    "    - dependency on how we choose the perpendicular directions\n",
    "    - using np.float32 and np.complex64?\n",
    "- Coding\n",
    "    - remove test folder\n",
    "    - convergence with high throughput tutorials\n",
    "    - add mesh and converge to batch\n",
    "    - More tests\n",
    "- Documenting\n",
    "    - changelog\n",
    "    - Use ReadThe Docs [addons](https://docs.readthedocs.io/en/stable/addons.html)\n"
   ]
  },
  {
   "cell_type": "code",
   "execution_count": 1,
   "metadata": {},
   "outputs": [
    {
     "name": "stderr",
     "output_type": "stream",
     "text": [
      "/Users/danielpozsar/Documents/studies/elte/phd/grogu/.venv/lib/python3.12/site-packages/grogupy/_tqdm.py:26: TqdmExperimentalWarning: Using `tqdm.autonotebook.tqdm` in notebook mode. Use `tqdm.tqdm` instead to force console mode (e.g. in jupyter console)\n",
      "  from tqdm.autonotebook import tqdm\n"
     ]
    }
   ],
   "source": [
    "import numpy as np\n",
    "\n",
    "import grogupy\n",
    "import grogupy.viz"
   ]
  },
  {
   "cell_type": "code",
   "execution_count": 2,
   "metadata": {},
   "outputs": [],
   "source": [
    "# infile = \"../benchmarks/Fe_colinear/Fe.fdf\"\n",
    "infile = \"../benchmarks/Cr3/Cr3.fdf\"\n",
    "# infile = \"../benchmarks/Fe3GeTe2/Fe3GeTe2.fdf\""
   ]
  },
  {
   "cell_type": "code",
   "execution_count": 3,
   "metadata": {},
   "outputs": [
    {
     "data": {
      "application/vnd.plotly.v1+json": {
       "config": {
        "plotlyServerURL": "https://plot.ly"
       },
       "data": [
        {
         "marker": {
          "color": {
           "bdata": "AAAAAAAA8D8=",
           "dtype": "f8"
          },
          "colorbar": {
           "title": {
            "text": "Weights of kpoints"
           },
           "x": 0.75
          },
          "colorscale": [
           [
            0,
            "#440154"
           ],
           [
            0.1111111111111111,
            "#482878"
           ],
           [
            0.2222222222222222,
            "#3e4989"
           ],
           [
            0.3333333333333333,
            "#31688e"
           ],
           [
            0.4444444444444444,
            "#26828e"
           ],
           [
            0.5555555555555556,
            "#1f9e89"
           ],
           [
            0.6666666666666666,
            "#35b779"
           ],
           [
            0.7777777777777778,
            "#6ece58"
           ],
           [
            0.8888888888888888,
            "#b5de2b"
           ],
           [
            1,
            "#fde725"
           ]
          ],
          "opacity": 1,
          "size": 5
         },
         "mode": "markers",
         "name": "Kpoints",
         "type": "scatter3d",
         "x": {
          "bdata": "AAAAAAAAAAA=",
          "dtype": "f8"
         },
         "y": {
          "bdata": "AAAAAAAAAAA=",
          "dtype": "f8"
         },
         "z": {
          "bdata": "AAAAAAAAAAA=",
          "dtype": "f8"
         }
        }
       ],
       "layout": {
        "autosize": false,
        "height": 500,
        "scene": {
         "aspectmode": "data",
         "xaxis": {
          "gridwidth": 1,
          "showgrid": true,
          "title": {
           "text": "X Axis"
          }
         },
         "yaxis": {
          "gridwidth": 1,
          "showgrid": true,
          "title": {
           "text": "Y Axis"
          }
         },
         "zaxis": {
          "gridwidth": 1,
          "showgrid": true,
          "title": {
           "text": "Z Axis"
          }
         }
        },
        "template": {
         "data": {
          "bar": [
           {
            "error_x": {
             "color": "#2a3f5f"
            },
            "error_y": {
             "color": "#2a3f5f"
            },
            "marker": {
             "line": {
              "color": "#E5ECF6",
              "width": 0.5
             },
             "pattern": {
              "fillmode": "overlay",
              "size": 10,
              "solidity": 0.2
             }
            },
            "type": "bar"
           }
          ],
          "barpolar": [
           {
            "marker": {
             "line": {
              "color": "#E5ECF6",
              "width": 0.5
             },
             "pattern": {
              "fillmode": "overlay",
              "size": 10,
              "solidity": 0.2
             }
            },
            "type": "barpolar"
           }
          ],
          "carpet": [
           {
            "aaxis": {
             "endlinecolor": "#2a3f5f",
             "gridcolor": "white",
             "linecolor": "white",
             "minorgridcolor": "white",
             "startlinecolor": "#2a3f5f"
            },
            "baxis": {
             "endlinecolor": "#2a3f5f",
             "gridcolor": "white",
             "linecolor": "white",
             "minorgridcolor": "white",
             "startlinecolor": "#2a3f5f"
            },
            "type": "carpet"
           }
          ],
          "choropleth": [
           {
            "colorbar": {
             "outlinewidth": 0,
             "ticks": ""
            },
            "type": "choropleth"
           }
          ],
          "contour": [
           {
            "colorbar": {
             "outlinewidth": 0,
             "ticks": ""
            },
            "colorscale": [
             [
              0,
              "#0d0887"
             ],
             [
              0.1111111111111111,
              "#46039f"
             ],
             [
              0.2222222222222222,
              "#7201a8"
             ],
             [
              0.3333333333333333,
              "#9c179e"
             ],
             [
              0.4444444444444444,
              "#bd3786"
             ],
             [
              0.5555555555555556,
              "#d8576b"
             ],
             [
              0.6666666666666666,
              "#ed7953"
             ],
             [
              0.7777777777777778,
              "#fb9f3a"
             ],
             [
              0.8888888888888888,
              "#fdca26"
             ],
             [
              1,
              "#f0f921"
             ]
            ],
            "type": "contour"
           }
          ],
          "contourcarpet": [
           {
            "colorbar": {
             "outlinewidth": 0,
             "ticks": ""
            },
            "type": "contourcarpet"
           }
          ],
          "heatmap": [
           {
            "colorbar": {
             "outlinewidth": 0,
             "ticks": ""
            },
            "colorscale": [
             [
              0,
              "#0d0887"
             ],
             [
              0.1111111111111111,
              "#46039f"
             ],
             [
              0.2222222222222222,
              "#7201a8"
             ],
             [
              0.3333333333333333,
              "#9c179e"
             ],
             [
              0.4444444444444444,
              "#bd3786"
             ],
             [
              0.5555555555555556,
              "#d8576b"
             ],
             [
              0.6666666666666666,
              "#ed7953"
             ],
             [
              0.7777777777777778,
              "#fb9f3a"
             ],
             [
              0.8888888888888888,
              "#fdca26"
             ],
             [
              1,
              "#f0f921"
             ]
            ],
            "type": "heatmap"
           }
          ],
          "histogram": [
           {
            "marker": {
             "pattern": {
              "fillmode": "overlay",
              "size": 10,
              "solidity": 0.2
             }
            },
            "type": "histogram"
           }
          ],
          "histogram2d": [
           {
            "colorbar": {
             "outlinewidth": 0,
             "ticks": ""
            },
            "colorscale": [
             [
              0,
              "#0d0887"
             ],
             [
              0.1111111111111111,
              "#46039f"
             ],
             [
              0.2222222222222222,
              "#7201a8"
             ],
             [
              0.3333333333333333,
              "#9c179e"
             ],
             [
              0.4444444444444444,
              "#bd3786"
             ],
             [
              0.5555555555555556,
              "#d8576b"
             ],
             [
              0.6666666666666666,
              "#ed7953"
             ],
             [
              0.7777777777777778,
              "#fb9f3a"
             ],
             [
              0.8888888888888888,
              "#fdca26"
             ],
             [
              1,
              "#f0f921"
             ]
            ],
            "type": "histogram2d"
           }
          ],
          "histogram2dcontour": [
           {
            "colorbar": {
             "outlinewidth": 0,
             "ticks": ""
            },
            "colorscale": [
             [
              0,
              "#0d0887"
             ],
             [
              0.1111111111111111,
              "#46039f"
             ],
             [
              0.2222222222222222,
              "#7201a8"
             ],
             [
              0.3333333333333333,
              "#9c179e"
             ],
             [
              0.4444444444444444,
              "#bd3786"
             ],
             [
              0.5555555555555556,
              "#d8576b"
             ],
             [
              0.6666666666666666,
              "#ed7953"
             ],
             [
              0.7777777777777778,
              "#fb9f3a"
             ],
             [
              0.8888888888888888,
              "#fdca26"
             ],
             [
              1,
              "#f0f921"
             ]
            ],
            "type": "histogram2dcontour"
           }
          ],
          "mesh3d": [
           {
            "colorbar": {
             "outlinewidth": 0,
             "ticks": ""
            },
            "type": "mesh3d"
           }
          ],
          "parcoords": [
           {
            "line": {
             "colorbar": {
              "outlinewidth": 0,
              "ticks": ""
             }
            },
            "type": "parcoords"
           }
          ],
          "pie": [
           {
            "automargin": true,
            "type": "pie"
           }
          ],
          "scatter": [
           {
            "fillpattern": {
             "fillmode": "overlay",
             "size": 10,
             "solidity": 0.2
            },
            "type": "scatter"
           }
          ],
          "scatter3d": [
           {
            "line": {
             "colorbar": {
              "outlinewidth": 0,
              "ticks": ""
             }
            },
            "marker": {
             "colorbar": {
              "outlinewidth": 0,
              "ticks": ""
             }
            },
            "type": "scatter3d"
           }
          ],
          "scattercarpet": [
           {
            "marker": {
             "colorbar": {
              "outlinewidth": 0,
              "ticks": ""
             }
            },
            "type": "scattercarpet"
           }
          ],
          "scattergeo": [
           {
            "marker": {
             "colorbar": {
              "outlinewidth": 0,
              "ticks": ""
             }
            },
            "type": "scattergeo"
           }
          ],
          "scattergl": [
           {
            "marker": {
             "colorbar": {
              "outlinewidth": 0,
              "ticks": ""
             }
            },
            "type": "scattergl"
           }
          ],
          "scattermap": [
           {
            "marker": {
             "colorbar": {
              "outlinewidth": 0,
              "ticks": ""
             }
            },
            "type": "scattermap"
           }
          ],
          "scattermapbox": [
           {
            "marker": {
             "colorbar": {
              "outlinewidth": 0,
              "ticks": ""
             }
            },
            "type": "scattermapbox"
           }
          ],
          "scatterpolar": [
           {
            "marker": {
             "colorbar": {
              "outlinewidth": 0,
              "ticks": ""
             }
            },
            "type": "scatterpolar"
           }
          ],
          "scatterpolargl": [
           {
            "marker": {
             "colorbar": {
              "outlinewidth": 0,
              "ticks": ""
             }
            },
            "type": "scatterpolargl"
           }
          ],
          "scatterternary": [
           {
            "marker": {
             "colorbar": {
              "outlinewidth": 0,
              "ticks": ""
             }
            },
            "type": "scatterternary"
           }
          ],
          "surface": [
           {
            "colorbar": {
             "outlinewidth": 0,
             "ticks": ""
            },
            "colorscale": [
             [
              0,
              "#0d0887"
             ],
             [
              0.1111111111111111,
              "#46039f"
             ],
             [
              0.2222222222222222,
              "#7201a8"
             ],
             [
              0.3333333333333333,
              "#9c179e"
             ],
             [
              0.4444444444444444,
              "#bd3786"
             ],
             [
              0.5555555555555556,
              "#d8576b"
             ],
             [
              0.6666666666666666,
              "#ed7953"
             ],
             [
              0.7777777777777778,
              "#fb9f3a"
             ],
             [
              0.8888888888888888,
              "#fdca26"
             ],
             [
              1,
              "#f0f921"
             ]
            ],
            "type": "surface"
           }
          ],
          "table": [
           {
            "cells": {
             "fill": {
              "color": "#EBF0F8"
             },
             "line": {
              "color": "white"
             }
            },
            "header": {
             "fill": {
              "color": "#C8D4E3"
             },
             "line": {
              "color": "white"
             }
            },
            "type": "table"
           }
          ]
         },
         "layout": {
          "annotationdefaults": {
           "arrowcolor": "#2a3f5f",
           "arrowhead": 0,
           "arrowwidth": 1
          },
          "autotypenumbers": "strict",
          "coloraxis": {
           "colorbar": {
            "outlinewidth": 0,
            "ticks": ""
           }
          },
          "colorscale": {
           "diverging": [
            [
             0,
             "#8e0152"
            ],
            [
             0.1,
             "#c51b7d"
            ],
            [
             0.2,
             "#de77ae"
            ],
            [
             0.3,
             "#f1b6da"
            ],
            [
             0.4,
             "#fde0ef"
            ],
            [
             0.5,
             "#f7f7f7"
            ],
            [
             0.6,
             "#e6f5d0"
            ],
            [
             0.7,
             "#b8e186"
            ],
            [
             0.8,
             "#7fbc41"
            ],
            [
             0.9,
             "#4d9221"
            ],
            [
             1,
             "#276419"
            ]
           ],
           "sequential": [
            [
             0,
             "#0d0887"
            ],
            [
             0.1111111111111111,
             "#46039f"
            ],
            [
             0.2222222222222222,
             "#7201a8"
            ],
            [
             0.3333333333333333,
             "#9c179e"
            ],
            [
             0.4444444444444444,
             "#bd3786"
            ],
            [
             0.5555555555555556,
             "#d8576b"
            ],
            [
             0.6666666666666666,
             "#ed7953"
            ],
            [
             0.7777777777777778,
             "#fb9f3a"
            ],
            [
             0.8888888888888888,
             "#fdca26"
            ],
            [
             1,
             "#f0f921"
            ]
           ],
           "sequentialminus": [
            [
             0,
             "#0d0887"
            ],
            [
             0.1111111111111111,
             "#46039f"
            ],
            [
             0.2222222222222222,
             "#7201a8"
            ],
            [
             0.3333333333333333,
             "#9c179e"
            ],
            [
             0.4444444444444444,
             "#bd3786"
            ],
            [
             0.5555555555555556,
             "#d8576b"
            ],
            [
             0.6666666666666666,
             "#ed7953"
            ],
            [
             0.7777777777777778,
             "#fb9f3a"
            ],
            [
             0.8888888888888888,
             "#fdca26"
            ],
            [
             1,
             "#f0f921"
            ]
           ]
          },
          "colorway": [
           "#636efa",
           "#EF553B",
           "#00cc96",
           "#ab63fa",
           "#FFA15A",
           "#19d3f3",
           "#FF6692",
           "#B6E880",
           "#FF97FF",
           "#FECB52"
          ],
          "font": {
           "color": "#2a3f5f"
          },
          "geo": {
           "bgcolor": "white",
           "lakecolor": "white",
           "landcolor": "#E5ECF6",
           "showlakes": true,
           "showland": true,
           "subunitcolor": "white"
          },
          "hoverlabel": {
           "align": "left"
          },
          "hovermode": "closest",
          "mapbox": {
           "style": "light"
          },
          "paper_bgcolor": "white",
          "plot_bgcolor": "#E5ECF6",
          "polar": {
           "angularaxis": {
            "gridcolor": "white",
            "linecolor": "white",
            "ticks": ""
           },
           "bgcolor": "#E5ECF6",
           "radialaxis": {
            "gridcolor": "white",
            "linecolor": "white",
            "ticks": ""
           }
          },
          "scene": {
           "xaxis": {
            "backgroundcolor": "#E5ECF6",
            "gridcolor": "white",
            "gridwidth": 2,
            "linecolor": "white",
            "showbackground": true,
            "ticks": "",
            "zerolinecolor": "white"
           },
           "yaxis": {
            "backgroundcolor": "#E5ECF6",
            "gridcolor": "white",
            "gridwidth": 2,
            "linecolor": "white",
            "showbackground": true,
            "ticks": "",
            "zerolinecolor": "white"
           },
           "zaxis": {
            "backgroundcolor": "#E5ECF6",
            "gridcolor": "white",
            "gridwidth": 2,
            "linecolor": "white",
            "showbackground": true,
            "ticks": "",
            "zerolinecolor": "white"
           }
          },
          "shapedefaults": {
           "line": {
            "color": "#2a3f5f"
           }
          },
          "ternary": {
           "aaxis": {
            "gridcolor": "white",
            "linecolor": "white",
            "ticks": ""
           },
           "baxis": {
            "gridcolor": "white",
            "linecolor": "white",
            "ticks": ""
           },
           "bgcolor": "#E5ECF6",
           "caxis": {
            "gridcolor": "white",
            "linecolor": "white",
            "ticks": ""
           }
          },
          "title": {
           "x": 0.05
          },
          "xaxis": {
           "automargin": true,
           "gridcolor": "white",
           "linecolor": "white",
           "ticks": "",
           "title": {
            "standoff": 15
           },
           "zerolinecolor": "white",
           "zerolinewidth": 2
          },
          "yaxis": {
           "automargin": true,
           "gridcolor": "white",
           "linecolor": "white",
           "ticks": "",
           "title": {
            "standoff": 15
           },
           "zerolinecolor": "white",
           "zerolinewidth": 2
          }
         }
        },
        "title": {
         "text": "Brillouin zone sampling"
        },
        "width": 800
       }
      }
     },
     "metadata": {},
     "output_type": "display_data"
    },
    {
     "data": {
      "text/plain": [
       "<grogupy.Kspace kset=[1 1 1], NK=1>"
      ]
     },
     "execution_count": 3,
     "metadata": {},
     "output_type": "execute_result"
    }
   ],
   "source": [
    "simulation_kspace = grogupy.Kspace([1, 1, 1])\n",
    "simulation_kspace.plot().show()\n",
    "simulation_kspace"
   ]
  },
  {
   "cell_type": "code",
   "execution_count": 4,
   "metadata": {},
   "outputs": [
    {
     "data": {
      "application/vnd.plotly.v1+json": {
       "config": {
        "plotlyServerURL": "https://plot.ly"
       },
       "data": [
        {
         "mode": "markers",
         "type": "scatter",
         "x": {
          "bdata": "5A44rCAmIMAiUodviCUgwCG8Qv13IiDAGy6Q/68ZIMBnKBCF4AYgwOUpq/Mhyh/A+x5m9ENeH8D3/JNyvsAewOIzokIl6h3AdsIFbgzWHMDU+6iew4MbwMiCa36q9hnAev/bKg42GMA4pl9Fk0wWwM8MX35DRxTA9Vqn/WM0EsDkw9hxQCIQwOn+LgEoPAzACg06wl5mCMAJZrqw2tQEwF6QyY/wkwHATExiM15V/b/0A2gOzzb4v+Jot+b3yPO/QHP8rZoC8L9AQOeApqzpv4C4tkGOaOS/BHueMB0X4L8ojmNjMy3Zv2gclMXhjdO/QOhHi+Yqzr8Q2JEACx/Hv7BJMoMdncG/IGWwMxmvur8gcrwA4Bq0vwAgyxc0Ja6/wHbwDbR+pr8A/p+YrbagvwASSJyfvJi/AJ2Sef88kr8AKBTqls2KvwDaV5pwooO/AJQk7tevfL8A8OuCned0vwCoM8XJZm6/AHgEwaIQZr8AEJUMfvpfvwDwxrqsJFe/AABOhH67UL8AgM4CcS1IvwCgLD/DdUG/AMB57Kw2Ob8AACwd9TQyvwCAV0a+TSq/AAAo1AcDI78AAMkiYoEbvwAAElPb6hO/AAAkL5zhDL8AAIJKN/gEvwAAuOi/f/6+AADE0Nk39r4AAMi7RTfwvgAA8N2Jt+e+AACYOhxh4b4AAHDjFIbZvgAAUG8ryNK+AAAg/BCzy74AAABSl3fEvgAAgK8oTr6+AACAnCB6tr4AAMDcy7KwvgAAAOSp2Ki+AACAiayBor4AAADdlpebvgAAAL4slJS+AAAAJn2yjr4AAABKb+KGvgAAAJbICoG+AAAA4K9Web4AAADYM8pyvgAAAFDPxWu+AAAA0C5vZL4AAAAwveZdvgAAALBkuVW+AAAAYFtLT74AAABgY01GvgAAAIDtYD++AAAAwFC6Nb4AAACAXYMtvgAAAIBokiO+AAAAAKYzGb4AAAAAOkQPvgAAAADOfgK+AAAAAEyQ9L0AAAAA+AblvQAAAAAgHdO9AAAAAAAlvb0AAAAAgKagvQAAAAAA0HW9AAAAAAAAKb0=",
          "dtype": "f8"
         },
         "y": {
          "bdata": "vxILjZs8kz/YCtG8dUC5P1w6xY/f084/LAMxAItU3D/GB4U/PmPmP1C8cQruFPA/1njPnUCa9T9p4bcEvZL7P7ndqnBD4wBAur5kpZr7A0C8qNNVyfEGQI+iw+ccpglAr/Fo0Tb8C0BUauyaOt0NQIdkr45sOQ9Ad7t6NYUEEEDazFPuJSYQQGHVzqpOBRBAsJWqlURRD0AxqdbrrTEOQGaWruCivwxADJ1jPqEPC0DKnXLheDUJQFCFj0hEQwdAzFg/Yb9IBUDvjUTZ81IDQL5YG/4qbAFA33Q03iQ4/z/484P3AtD7P6S/KVafpvg/Z04n7GC/9T+q94HAFxvzP5gZd5WduPA/iEPglMEq7T88yJ3Hr1vpP9KeNQa9++U/aBx48fsB4z/rMY52SGXgP348QdcwOdw/fN/v4Wg+2D9ayIwivMnUP/CFnsLOy9E/QpI6jv5szj9GYF0g3/nJP5X0PisEJ8Y/eSwf0Z3fwj8NQiBpJhHAP2Wr/FF1Vrs/Gw7VLdw+tz9Jvy4oPMKzP/pqBluKyrA/kBOAhj+JrD9usROdzj+oP0d63dsinKQ/ixWCeZuFoT9l5ZXXK86dP5lvAMv0XJk/t3k8CamYlT/FnOIh72aSP5TspRC2Yo8/QqHR+b/Jij8+PtAFqeKGPwIBiS4NkoM/Tyud1LzAgD9mndLVN7Z8P9rP8owvoXg/3tNuf2EmdT/sUXspKi5yPwJjlv4qSW8/AmOP0Zjxaj9NM6jbMDlnP50DGsz0B2Q/PkZ5zaJJYT9QlwQePtpdP5Nx6afpx1k/waKc7NZDVj+8gfaZWDlTP6JIua/tllA/uiZY3YObTD+70bkrhaJIP+sD23GILUU/LlcB8m0qQj/W3GZYmxM/P/M8sqsYfTo/NxeezQJ7Nj+IvV4CV/oyPy2rHqXD1S8/hQ/Jh6h9Kj/KPbNF1NQlPx/3Slg9xyE/bQpmWLWHHD+Jyttlc3gWPzctlKZLSBE/5Q2mf3rFCT8lCIu2am0CP5W+0x+q2Pg+844wIVeu7j53ZDPD1GXgPiipITf9i8o+5dDtoQYYpD4=",
          "dtype": "f8"
         }
        },
        {
         "mode": "markers",
         "name": "Occupied DFT eigs",
         "type": "scatter",
         "x": {
          "bdata": "piUcm5mYCMCAYce5LEr5vzQjeiE2K/m/TA/ggNhK978o2tEPVS72v0hi/uEZavO/gD/r0J8s779wPH2pRH7uv0ixs1M57u2/+EediJeq4r8wn8Rrh3Tiv0gK+fsgRuK/UPgqAUqG4b8Q2mC4pZvdv8BsxxZ6K9y/sIRB22Jl279gh0jyASbNvwDCBrjePoy/",
          "dtype": "f8"
         },
         "y": {
          "bdata": "AAAAAAAAAAAAAAAAAAAAAAAAAAAAAAAAAAAAAAAAAAAAAAAAAAAAAAAAAAAAAAAAAAAAAAAAAAAAAAAAAAAAAAAAAAAAAAAAAAAAAAAAAAAAAAAAAAAAAAAAAAAAAAAAAAAAAAAAAAAAAAAAAAAAAAAAAAAAAAAAAAAAAAAAAAAAAAAAAAAAAAAAAAAAAAAA",
          "dtype": "f8"
         }
        },
        {
         "mode": "markers",
         "name": "Unoccupied DFT eigs",
         "type": "scatter",
         "x": {
          "bdata": "AHjJgx2Uij+AcZH3gRbvP3Cz5Jb7Se8/op1okcwu+D+2Yj29a+P5P5sNhRHzE/o/Xh3X8SUtAEDasFwlDtcCQP5gv6sO3gJAajqvby9SA0A8+2dZOaQDQNwPsguKhwRA6nBb+E27BECVkjkkIt0EQDy3VM6sEwdAZM5o6PVIB0DjXMrGcTIJQHmjxux7UAlA6SN5ef1jCUDS9vHIBmsJQF7GkSoxmwlAHprD/2emCkCXbnpmNUgLQHSImSzXuwtAm3503aB5D0CnumGKW30PQEIjaxzQ6xBArNLMSd4BEUBs64bxw7oWQGBvKJ3EwxZAaiWdFvZLGUAAjIjeubYaQGdLb+JYuRpApiRvqRixHkDIYjgqebUeQHjInICJ5B5ADfAwL7ifIEAvs1sNgYYhQJrHSJPe5SNAVmArFRL+I0Cs7/QxvNsnQDg63zbw9CdAaNKeedZVKUBKLL7bmxcqQPCbiJ97mCtAuDoh8JefK0ASeVjJQ/AtQGgaNdvsgC5AwWXC7dgOMEDNEabmehMwQGOYdt6EJTBAlFqc769OMEBrv86wxVEwQK4k3NiqSTJA3ebwvX2OMkBZwMJRC5UyQKWmGzBhmjJAzK6DnFp9M0Cxo9TSmoUzQDF5wa+q0jRAkF9HNU/dNEDLJbgFCeA0QDcLg0sqrjVAs+gANXO3NUCTqUA1d/g2QAN94DLA+zZAUeqa4tTiO0DTAFJZHOg7QH1PtMQt7DtAbvFTyb7mPUDW8WeRUPA9QC1i8f7sED5A",
          "dtype": "f8"
         },
         "y": {
          "bdata": "AAAAAAAAAAAAAAAAAAAAAAAAAAAAAAAAAAAAAAAAAAAAAAAAAAAAAAAAAAAAAAAAAAAAAAAAAAAAAAAAAAAAAAAAAAAAAAAAAAAAAAAAAAAAAAAAAAAAAAAAAAAAAAAAAAAAAAAAAAAAAAAAAAAAAAAAAAAAAAAAAAAAAAAAAAAAAAAAAAAAAAAAAAAAAAAAAAAAAAAAAAAAAAAAAAAAAAAAAAAAAAAAAAAAAAAAAAAAAAAAAAAAAAAAAAAAAAAAAAAAAAAAAAAAAAAAAAAAAAAAAAAAAAAAAAAAAAAAAAAAAAAAAAAAAAAAAAAAAAAAAAAAAAAAAAAAAAAAAAAAAAAAAAAAAAAAAAAAAAAAAAAAAAAAAAAAAAAAAAAAAAAAAAAAAAAAAAAAAAAAAAAAAAAAAAAAAAAAAAAAAAAAAAAAAAAAAAAAAAAAAAAAAAAAAAAAAAAAAAAAAAAAAAAAAAAAAAAAAAAAAAAAAAAAAAAAAAAAAAAAAAAAAAAAAAAAAAAAAAAAAAAAAAAAAAAAAAAAAAAAAAAAAAAAAAAAAAAAAAAAAAAAAAAAAAAAAAAAAAAAAAAAAAAAAAAAAAAAAAAAAAAAAAAAAAAAAAAAAAAAAAAAAAAAAAAAAAAAAAAAAAAAAAAAAAAAAAAAAAAAAAAAAAAAAAAAAAAAAAAAAAAAAAAAAAAAAAAAAAAAAAAAAAAAAAAAAAAAAAAAAAAAAAAAAAAAAAAAAAAAAAAAAAAAAAAAAAAAAAAAAAAAAAAA",
          "dtype": "f8"
         }
        }
       ],
       "layout": {
        "autosize": false,
        "height": 500,
        "template": {
         "data": {
          "bar": [
           {
            "error_x": {
             "color": "#2a3f5f"
            },
            "error_y": {
             "color": "#2a3f5f"
            },
            "marker": {
             "line": {
              "color": "#E5ECF6",
              "width": 0.5
             },
             "pattern": {
              "fillmode": "overlay",
              "size": 10,
              "solidity": 0.2
             }
            },
            "type": "bar"
           }
          ],
          "barpolar": [
           {
            "marker": {
             "line": {
              "color": "#E5ECF6",
              "width": 0.5
             },
             "pattern": {
              "fillmode": "overlay",
              "size": 10,
              "solidity": 0.2
             }
            },
            "type": "barpolar"
           }
          ],
          "carpet": [
           {
            "aaxis": {
             "endlinecolor": "#2a3f5f",
             "gridcolor": "white",
             "linecolor": "white",
             "minorgridcolor": "white",
             "startlinecolor": "#2a3f5f"
            },
            "baxis": {
             "endlinecolor": "#2a3f5f",
             "gridcolor": "white",
             "linecolor": "white",
             "minorgridcolor": "white",
             "startlinecolor": "#2a3f5f"
            },
            "type": "carpet"
           }
          ],
          "choropleth": [
           {
            "colorbar": {
             "outlinewidth": 0,
             "ticks": ""
            },
            "type": "choropleth"
           }
          ],
          "contour": [
           {
            "colorbar": {
             "outlinewidth": 0,
             "ticks": ""
            },
            "colorscale": [
             [
              0,
              "#0d0887"
             ],
             [
              0.1111111111111111,
              "#46039f"
             ],
             [
              0.2222222222222222,
              "#7201a8"
             ],
             [
              0.3333333333333333,
              "#9c179e"
             ],
             [
              0.4444444444444444,
              "#bd3786"
             ],
             [
              0.5555555555555556,
              "#d8576b"
             ],
             [
              0.6666666666666666,
              "#ed7953"
             ],
             [
              0.7777777777777778,
              "#fb9f3a"
             ],
             [
              0.8888888888888888,
              "#fdca26"
             ],
             [
              1,
              "#f0f921"
             ]
            ],
            "type": "contour"
           }
          ],
          "contourcarpet": [
           {
            "colorbar": {
             "outlinewidth": 0,
             "ticks": ""
            },
            "type": "contourcarpet"
           }
          ],
          "heatmap": [
           {
            "colorbar": {
             "outlinewidth": 0,
             "ticks": ""
            },
            "colorscale": [
             [
              0,
              "#0d0887"
             ],
             [
              0.1111111111111111,
              "#46039f"
             ],
             [
              0.2222222222222222,
              "#7201a8"
             ],
             [
              0.3333333333333333,
              "#9c179e"
             ],
             [
              0.4444444444444444,
              "#bd3786"
             ],
             [
              0.5555555555555556,
              "#d8576b"
             ],
             [
              0.6666666666666666,
              "#ed7953"
             ],
             [
              0.7777777777777778,
              "#fb9f3a"
             ],
             [
              0.8888888888888888,
              "#fdca26"
             ],
             [
              1,
              "#f0f921"
             ]
            ],
            "type": "heatmap"
           }
          ],
          "histogram": [
           {
            "marker": {
             "pattern": {
              "fillmode": "overlay",
              "size": 10,
              "solidity": 0.2
             }
            },
            "type": "histogram"
           }
          ],
          "histogram2d": [
           {
            "colorbar": {
             "outlinewidth": 0,
             "ticks": ""
            },
            "colorscale": [
             [
              0,
              "#0d0887"
             ],
             [
              0.1111111111111111,
              "#46039f"
             ],
             [
              0.2222222222222222,
              "#7201a8"
             ],
             [
              0.3333333333333333,
              "#9c179e"
             ],
             [
              0.4444444444444444,
              "#bd3786"
             ],
             [
              0.5555555555555556,
              "#d8576b"
             ],
             [
              0.6666666666666666,
              "#ed7953"
             ],
             [
              0.7777777777777778,
              "#fb9f3a"
             ],
             [
              0.8888888888888888,
              "#fdca26"
             ],
             [
              1,
              "#f0f921"
             ]
            ],
            "type": "histogram2d"
           }
          ],
          "histogram2dcontour": [
           {
            "colorbar": {
             "outlinewidth": 0,
             "ticks": ""
            },
            "colorscale": [
             [
              0,
              "#0d0887"
             ],
             [
              0.1111111111111111,
              "#46039f"
             ],
             [
              0.2222222222222222,
              "#7201a8"
             ],
             [
              0.3333333333333333,
              "#9c179e"
             ],
             [
              0.4444444444444444,
              "#bd3786"
             ],
             [
              0.5555555555555556,
              "#d8576b"
             ],
             [
              0.6666666666666666,
              "#ed7953"
             ],
             [
              0.7777777777777778,
              "#fb9f3a"
             ],
             [
              0.8888888888888888,
              "#fdca26"
             ],
             [
              1,
              "#f0f921"
             ]
            ],
            "type": "histogram2dcontour"
           }
          ],
          "mesh3d": [
           {
            "colorbar": {
             "outlinewidth": 0,
             "ticks": ""
            },
            "type": "mesh3d"
           }
          ],
          "parcoords": [
           {
            "line": {
             "colorbar": {
              "outlinewidth": 0,
              "ticks": ""
             }
            },
            "type": "parcoords"
           }
          ],
          "pie": [
           {
            "automargin": true,
            "type": "pie"
           }
          ],
          "scatter": [
           {
            "fillpattern": {
             "fillmode": "overlay",
             "size": 10,
             "solidity": 0.2
            },
            "type": "scatter"
           }
          ],
          "scatter3d": [
           {
            "line": {
             "colorbar": {
              "outlinewidth": 0,
              "ticks": ""
             }
            },
            "marker": {
             "colorbar": {
              "outlinewidth": 0,
              "ticks": ""
             }
            },
            "type": "scatter3d"
           }
          ],
          "scattercarpet": [
           {
            "marker": {
             "colorbar": {
              "outlinewidth": 0,
              "ticks": ""
             }
            },
            "type": "scattercarpet"
           }
          ],
          "scattergeo": [
           {
            "marker": {
             "colorbar": {
              "outlinewidth": 0,
              "ticks": ""
             }
            },
            "type": "scattergeo"
           }
          ],
          "scattergl": [
           {
            "marker": {
             "colorbar": {
              "outlinewidth": 0,
              "ticks": ""
             }
            },
            "type": "scattergl"
           }
          ],
          "scattermap": [
           {
            "marker": {
             "colorbar": {
              "outlinewidth": 0,
              "ticks": ""
             }
            },
            "type": "scattermap"
           }
          ],
          "scattermapbox": [
           {
            "marker": {
             "colorbar": {
              "outlinewidth": 0,
              "ticks": ""
             }
            },
            "type": "scattermapbox"
           }
          ],
          "scatterpolar": [
           {
            "marker": {
             "colorbar": {
              "outlinewidth": 0,
              "ticks": ""
             }
            },
            "type": "scatterpolar"
           }
          ],
          "scatterpolargl": [
           {
            "marker": {
             "colorbar": {
              "outlinewidth": 0,
              "ticks": ""
             }
            },
            "type": "scatterpolargl"
           }
          ],
          "scatterternary": [
           {
            "marker": {
             "colorbar": {
              "outlinewidth": 0,
              "ticks": ""
             }
            },
            "type": "scatterternary"
           }
          ],
          "surface": [
           {
            "colorbar": {
             "outlinewidth": 0,
             "ticks": ""
            },
            "colorscale": [
             [
              0,
              "#0d0887"
             ],
             [
              0.1111111111111111,
              "#46039f"
             ],
             [
              0.2222222222222222,
              "#7201a8"
             ],
             [
              0.3333333333333333,
              "#9c179e"
             ],
             [
              0.4444444444444444,
              "#bd3786"
             ],
             [
              0.5555555555555556,
              "#d8576b"
             ],
             [
              0.6666666666666666,
              "#ed7953"
             ],
             [
              0.7777777777777778,
              "#fb9f3a"
             ],
             [
              0.8888888888888888,
              "#fdca26"
             ],
             [
              1,
              "#f0f921"
             ]
            ],
            "type": "surface"
           }
          ],
          "table": [
           {
            "cells": {
             "fill": {
              "color": "#EBF0F8"
             },
             "line": {
              "color": "white"
             }
            },
            "header": {
             "fill": {
              "color": "#C8D4E3"
             },
             "line": {
              "color": "white"
             }
            },
            "type": "table"
           }
          ]
         },
         "layout": {
          "annotationdefaults": {
           "arrowcolor": "#2a3f5f",
           "arrowhead": 0,
           "arrowwidth": 1
          },
          "autotypenumbers": "strict",
          "coloraxis": {
           "colorbar": {
            "outlinewidth": 0,
            "ticks": ""
           }
          },
          "colorscale": {
           "diverging": [
            [
             0,
             "#8e0152"
            ],
            [
             0.1,
             "#c51b7d"
            ],
            [
             0.2,
             "#de77ae"
            ],
            [
             0.3,
             "#f1b6da"
            ],
            [
             0.4,
             "#fde0ef"
            ],
            [
             0.5,
             "#f7f7f7"
            ],
            [
             0.6,
             "#e6f5d0"
            ],
            [
             0.7,
             "#b8e186"
            ],
            [
             0.8,
             "#7fbc41"
            ],
            [
             0.9,
             "#4d9221"
            ],
            [
             1,
             "#276419"
            ]
           ],
           "sequential": [
            [
             0,
             "#0d0887"
            ],
            [
             0.1111111111111111,
             "#46039f"
            ],
            [
             0.2222222222222222,
             "#7201a8"
            ],
            [
             0.3333333333333333,
             "#9c179e"
            ],
            [
             0.4444444444444444,
             "#bd3786"
            ],
            [
             0.5555555555555556,
             "#d8576b"
            ],
            [
             0.6666666666666666,
             "#ed7953"
            ],
            [
             0.7777777777777778,
             "#fb9f3a"
            ],
            [
             0.8888888888888888,
             "#fdca26"
            ],
            [
             1,
             "#f0f921"
            ]
           ],
           "sequentialminus": [
            [
             0,
             "#0d0887"
            ],
            [
             0.1111111111111111,
             "#46039f"
            ],
            [
             0.2222222222222222,
             "#7201a8"
            ],
            [
             0.3333333333333333,
             "#9c179e"
            ],
            [
             0.4444444444444444,
             "#bd3786"
            ],
            [
             0.5555555555555556,
             "#d8576b"
            ],
            [
             0.6666666666666666,
             "#ed7953"
            ],
            [
             0.7777777777777778,
             "#fb9f3a"
            ],
            [
             0.8888888888888888,
             "#fdca26"
            ],
            [
             1,
             "#f0f921"
            ]
           ]
          },
          "colorway": [
           "#636efa",
           "#EF553B",
           "#00cc96",
           "#ab63fa",
           "#FFA15A",
           "#19d3f3",
           "#FF6692",
           "#B6E880",
           "#FF97FF",
           "#FECB52"
          ],
          "font": {
           "color": "#2a3f5f"
          },
          "geo": {
           "bgcolor": "white",
           "lakecolor": "white",
           "landcolor": "#E5ECF6",
           "showlakes": true,
           "showland": true,
           "subunitcolor": "white"
          },
          "hoverlabel": {
           "align": "left"
          },
          "hovermode": "closest",
          "mapbox": {
           "style": "light"
          },
          "paper_bgcolor": "white",
          "plot_bgcolor": "#E5ECF6",
          "polar": {
           "angularaxis": {
            "gridcolor": "white",
            "linecolor": "white",
            "ticks": ""
           },
           "bgcolor": "#E5ECF6",
           "radialaxis": {
            "gridcolor": "white",
            "linecolor": "white",
            "ticks": ""
           }
          },
          "scene": {
           "xaxis": {
            "backgroundcolor": "#E5ECF6",
            "gridcolor": "white",
            "gridwidth": 2,
            "linecolor": "white",
            "showbackground": true,
            "ticks": "",
            "zerolinecolor": "white"
           },
           "yaxis": {
            "backgroundcolor": "#E5ECF6",
            "gridcolor": "white",
            "gridwidth": 2,
            "linecolor": "white",
            "showbackground": true,
            "ticks": "",
            "zerolinecolor": "white"
           },
           "zaxis": {
            "backgroundcolor": "#E5ECF6",
            "gridcolor": "white",
            "gridwidth": 2,
            "linecolor": "white",
            "showbackground": true,
            "ticks": "",
            "zerolinecolor": "white"
           }
          },
          "shapedefaults": {
           "line": {
            "color": "#2a3f5f"
           }
          },
          "ternary": {
           "aaxis": {
            "gridcolor": "white",
            "linecolor": "white",
            "ticks": ""
           },
           "baxis": {
            "gridcolor": "white",
            "linecolor": "white",
            "ticks": ""
           },
           "bgcolor": "#E5ECF6",
           "caxis": {
            "gridcolor": "white",
            "linecolor": "white",
            "ticks": ""
           }
          },
          "title": {
           "x": 0.05
          },
          "xaxis": {
           "automargin": true,
           "gridcolor": "white",
           "linecolor": "white",
           "ticks": "",
           "title": {
            "standoff": 15
           },
           "zerolinecolor": "white",
           "zerolinewidth": 2
          },
          "yaxis": {
           "automargin": true,
           "gridcolor": "white",
           "linecolor": "white",
           "ticks": "",
           "title": {
            "standoff": 15
           },
           "zerolinecolor": "white",
           "zerolinewidth": 2
          }
         }
        },
        "title": {
         "text": "Energy contour integral"
        },
        "width": 800,
        "xaxis": {
         "gridwidth": 1,
         "showgrid": true,
         "title": {
          "text": "Real axis [eV]"
         }
        },
        "yaxis": {
         "gridwidth": 1,
         "showgrid": true,
         "title": {
          "text": "Imaginary axis [eV]"
         }
        }
       }
      }
     },
     "metadata": {},
     "output_type": "display_data"
    },
    {
     "data": {
      "text/plain": [
       "<grogupy.Contour emin=-8.074511730000001, emax=0, eset=100, esetp=10000>"
      ]
     },
     "execution_count": 4,
     "metadata": {},
     "output_type": "execute_result"
    }
   ],
   "source": [
    "simulation_contour = grogupy.Contour(\n",
    "    eset=100,\n",
    "    esetp=10000,\n",
    "    emin=None,\n",
    "    emax=0,\n",
    "    emin_shift=-5,\n",
    "    emax_shift=0,\n",
    "    eigfile=infile,\n",
    ")\n",
    "simulation_contour.plot().show()\n",
    "simulation_contour"
   ]
  },
  {
   "cell_type": "code",
   "execution_count": 5,
   "metadata": {},
   "outputs": [
    {
     "data": {
      "application/vnd.jupyter.widget-view+json": {
       "model_id": "ae22d5af7c62462f83757c1062361c2a",
       "version_major": 2,
       "version_minor": 0
      },
      "text/plain": [
       "Setting up Hamiltonian:   0%|          | 0/3 [00:00<?, ?it/s]"
      ]
     },
     "metadata": {},
     "output_type": "display_data"
    }
   ],
   "source": [
    "simulation_hamiltonian = grogupy.Hamiltonian(\n",
    "    infile,\n",
    "    [0, 0, 1],\n",
    ")"
   ]
  },
  {
   "cell_type": "code",
   "execution_count": 6,
   "metadata": {},
   "outputs": [
    {
     "name": "stderr",
     "output_type": "stream",
     "text": [
      "/Users/danielpozsar/Documents/studies/elte/phd/grogu/.venv/lib/python3.12/site-packages/grogupy/physics/builder.py:229: UserWarning:\n",
      "\n",
      "Matlabmode is used, the exchange field reference directions were set to x,y,z!\n",
      "\n"
     ]
    }
   ],
   "source": [
    "xyz = np.array([[1, 0, 0], [0, 1, 0], [0, 0, 1]])\n",
    "\n",
    "simulation = grogupy.Builder(xyz, matlabmode=True)\n",
    "\n",
    "simulation.add_kspace(simulation_kspace)\n",
    "simulation.add_contour(simulation_contour)\n",
    "simulation.add_hamiltonian(simulation_hamiltonian)\n",
    "simulation.ref_xcf_orientations\n",
    "simulation.low_memory_mode = False"
   ]
  },
  {
   "cell_type": "code",
   "execution_count": 7,
   "metadata": {},
   "outputs": [
    {
     "data": {
      "application/vnd.jupyter.widget-view+json": {
       "model_id": "483bad51798642b6ab46637a9d542c2e",
       "version_major": 2,
       "version_minor": 0
      },
      "text/plain": [
       "Add magnetic entities:   0%|          | 0/3 [00:00<?, ?it/s]"
      ]
     },
     "metadata": {},
     "output_type": "display_data"
    },
    {
     "data": {
      "text/plain": [
       "[<grogupy.MagneticEntity tag=0Cr(l:2), SBS=20>,\n",
       " <grogupy.MagneticEntity tag=1Cr(l:2), SBS=20>,\n",
       " <grogupy.MagneticEntity tag=2Cr(l:2), SBS=20>]"
      ]
     },
     "execution_count": 7,
     "metadata": {},
     "output_type": "execute_result"
    }
   ],
   "source": [
    "magnetic_entities = [\n",
    "    dict(atom=0, l=2),\n",
    "    dict(atom=1, l=2),\n",
    "    dict(atom=2, l=2),\n",
    "]\n",
    "simulation.add_magnetic_entities(magnetic_entities)\n",
    "simulation.magnetic_entities"
   ]
  },
  {
   "cell_type": "code",
   "execution_count": 8,
   "metadata": {},
   "outputs": [
    {
     "data": {
      "application/vnd.jupyter.widget-view+json": {
       "model_id": "2206d4e6753047a2b002f5fe336c6b9e",
       "version_major": 2,
       "version_minor": 0
      },
      "text/plain": [
       "Add pairs:   0%|          | 0/4 [00:00<?, ?it/s]"
      ]
     },
     "metadata": {},
     "output_type": "display_data"
    }
   ],
   "source": [
    "pairs = [\n",
    "    dict(ai=0, aj=0, Ruc=np.array([1, 0, 0])),\n",
    "    dict(ai=0, aj=1, Ruc=np.array([0, 0, 0])),\n",
    "    dict(ai=1, aj=2, Ruc=np.array([0, 0, 0])),\n",
    "    dict(ai=2, aj=0, Ruc=np.array([0, 0, 0])),\n",
    "]\n",
    "simulation.add_pairs(pairs)\n",
    "simulation.pairs\n",
    "simulation.low_memory_mode = True"
   ]
  },
  {
   "cell_type": "code",
   "execution_count": 9,
   "metadata": {},
   "outputs": [
    {
     "data": {
      "application/vnd.jupyter.widget-view+json": {
       "model_id": "3fbe51e9dfd1470cbc63855df5c19bfb",
       "version_major": 2,
       "version_minor": 0
      },
      "text/plain": [
       "Extracting exchange field:   0%|          | 0/5 [00:00<?, ?it/s]"
      ]
     },
     "metadata": {},
     "output_type": "display_data"
    },
    {
     "data": {
      "application/vnd.jupyter.widget-view+json": {
       "model_id": "822200f5f5994b979dcf9f87beba76bf",
       "version_major": 2,
       "version_minor": 0
      },
      "text/plain": [
       "Rotating Exchange field:   0%|          | 0/3 [00:00<?, ?it/s]"
      ]
     },
     "metadata": {},
     "output_type": "display_data"
    },
    {
     "data": {
      "application/vnd.jupyter.widget-view+json": {
       "model_id": "d3244ae7c6ca48be9c1661d599a38de9",
       "version_major": 2,
       "version_minor": 0
      },
      "text/plain": [
       "Setup magnetic entities for rotated hamiltonian:   0%|          | 0/3 [00:00<?, ?it/s]"
      ]
     },
     "metadata": {},
     "output_type": "display_data"
    },
    {
     "data": {
      "application/vnd.jupyter.widget-view+json": {
       "model_id": "9c4fb540789a420b9468826c82ff5162",
       "version_major": 2,
       "version_minor": 0
      },
      "text/plain": [
       "Setup pairs for rotated hamiltonian:   0%|          | 0/4 [00:00<?, ?it/s]"
      ]
     },
     "metadata": {},
     "output_type": "display_data"
    },
    {
     "data": {
      "application/vnd.jupyter.widget-view+json": {
       "model_id": "7ecce620f0c243bdbb639a47dda8b382",
       "version_major": 2,
       "version_minor": 0
      },
      "text/plain": [
       "Rotation 1, parallel over k on CPU0:   0%|          | 0/1 [00:00<?, ?it/s]"
      ]
     },
     "metadata": {},
     "output_type": "display_data"
    },
    {
     "data": {
      "application/vnd.jupyter.widget-view+json": {
       "model_id": "ae5a49c4f8a846a08411b0925f20e5d9",
       "version_major": 2,
       "version_minor": 0
      },
      "text/plain": [
       "Extracting exchange field:   0%|          | 0/5 [00:00<?, ?it/s]"
      ]
     },
     "metadata": {},
     "output_type": "display_data"
    },
    {
     "data": {
      "application/vnd.jupyter.widget-view+json": {
       "model_id": "2cb35e9837274b50a04d6256f000eb85",
       "version_major": 2,
       "version_minor": 0
      },
      "text/plain": [
       "Setup perturbations for rotated hamiltonian:   0%|          | 0/3 [00:00<?, ?it/s]"
      ]
     },
     "metadata": {},
     "output_type": "display_data"
    },
    {
     "data": {
      "application/vnd.jupyter.widget-view+json": {
       "model_id": "c2c654a35575432582a9d86dfb4843f3",
       "version_major": 2,
       "version_minor": 0
      },
      "text/plain": [
       "Extracting exchange field:   0%|          | 0/5 [00:00<?, ?it/s]"
      ]
     },
     "metadata": {},
     "output_type": "display_data"
    },
    {
     "data": {
      "application/vnd.jupyter.widget-view+json": {
       "model_id": "30454fda2af94bd0bc49ddd9d1529662",
       "version_major": 2,
       "version_minor": 0
      },
      "text/plain": [
       "Setup perturbations for rotated hamiltonian:   0%|          | 0/3 [00:00<?, ?it/s]"
      ]
     },
     "metadata": {},
     "output_type": "display_data"
    },
    {
     "data": {
      "application/vnd.jupyter.widget-view+json": {
       "model_id": "968a643065714d49a078d500936ae46a",
       "version_major": 2,
       "version_minor": 0
      },
      "text/plain": [
       "Extracting exchange field:   0%|          | 0/5 [00:00<?, ?it/s]"
      ]
     },
     "metadata": {},
     "output_type": "display_data"
    },
    {
     "data": {
      "application/vnd.jupyter.widget-view+json": {
       "model_id": "261469eb852e430c91ec38429f216597",
       "version_major": 2,
       "version_minor": 0
      },
      "text/plain": [
       "Setup perturbations for rotated hamiltonian:   0%|          | 0/3 [00:00<?, ?it/s]"
      ]
     },
     "metadata": {},
     "output_type": "display_data"
    },
    {
     "data": {
      "application/vnd.jupyter.widget-view+json": {
       "model_id": "2788c67ed3fc45e5be95fefbbcb5c158",
       "version_major": 2,
       "version_minor": 0
      },
      "text/plain": [
       "Extracting exchange field:   0%|          | 0/5 [00:00<?, ?it/s]"
      ]
     },
     "metadata": {},
     "output_type": "display_data"
    },
    {
     "data": {
      "application/vnd.jupyter.widget-view+json": {
       "model_id": "0d5fba79edad4fdeb73a828cccd9ba17",
       "version_major": 2,
       "version_minor": 0
      },
      "text/plain": [
       "Rotating Exchange field:   0%|          | 0/3 [00:00<?, ?it/s]"
      ]
     },
     "metadata": {},
     "output_type": "display_data"
    },
    {
     "data": {
      "application/vnd.jupyter.widget-view+json": {
       "model_id": "7760ccb83be9435b8951ec316b435e3f",
       "version_major": 2,
       "version_minor": 0
      },
      "text/plain": [
       "Extracting exchange field:   0%|          | 0/5 [00:00<?, ?it/s]"
      ]
     },
     "metadata": {},
     "output_type": "display_data"
    },
    {
     "data": {
      "application/vnd.jupyter.widget-view+json": {
       "model_id": "1b3ce770d3224c0c96c6d153df735d56",
       "version_major": 2,
       "version_minor": 0
      },
      "text/plain": [
       "Rotating Exchange field:   0%|          | 0/3 [00:00<?, ?it/s]"
      ]
     },
     "metadata": {},
     "output_type": "display_data"
    },
    {
     "data": {
      "application/vnd.jupyter.widget-view+json": {
       "model_id": "0d7eb4b6d35e43f88385e891c26c5555",
       "version_major": 2,
       "version_minor": 0
      },
      "text/plain": [
       "Setup magnetic entities for rotated hamiltonian:   0%|          | 0/3 [00:00<?, ?it/s]"
      ]
     },
     "metadata": {},
     "output_type": "display_data"
    },
    {
     "data": {
      "application/vnd.jupyter.widget-view+json": {
       "model_id": "ab5f77a0076f4b44889e0e2aed7e8638",
       "version_major": 2,
       "version_minor": 0
      },
      "text/plain": [
       "Setup pairs for rotated hamiltonian:   0%|          | 0/4 [00:00<?, ?it/s]"
      ]
     },
     "metadata": {},
     "output_type": "display_data"
    },
    {
     "data": {
      "application/vnd.jupyter.widget-view+json": {
       "model_id": "7835d76d05dc4451b1a7361fe4853433",
       "version_major": 2,
       "version_minor": 0
      },
      "text/plain": [
       "Rotation 2, parallel over k on CPU0:   0%|          | 0/1 [00:00<?, ?it/s]"
      ]
     },
     "metadata": {},
     "output_type": "display_data"
    },
    {
     "data": {
      "application/vnd.jupyter.widget-view+json": {
       "model_id": "bb31021af86d4ea39a76dbde31274e18",
       "version_major": 2,
       "version_minor": 0
      },
      "text/plain": [
       "Extracting exchange field:   0%|          | 0/5 [00:00<?, ?it/s]"
      ]
     },
     "metadata": {},
     "output_type": "display_data"
    },
    {
     "data": {
      "application/vnd.jupyter.widget-view+json": {
       "model_id": "19312577935d4a1792ca74fe375a9d9c",
       "version_major": 2,
       "version_minor": 0
      },
      "text/plain": [
       "Setup perturbations for rotated hamiltonian:   0%|          | 0/3 [00:00<?, ?it/s]"
      ]
     },
     "metadata": {},
     "output_type": "display_data"
    },
    {
     "data": {
      "application/vnd.jupyter.widget-view+json": {
       "model_id": "de2d4cfe25404e728aa9f404c915d635",
       "version_major": 2,
       "version_minor": 0
      },
      "text/plain": [
       "Extracting exchange field:   0%|          | 0/5 [00:00<?, ?it/s]"
      ]
     },
     "metadata": {},
     "output_type": "display_data"
    },
    {
     "data": {
      "application/vnd.jupyter.widget-view+json": {
       "model_id": "84975cbb31e9430d83a3b6936c4f71b1",
       "version_major": 2,
       "version_minor": 0
      },
      "text/plain": [
       "Setup perturbations for rotated hamiltonian:   0%|          | 0/3 [00:00<?, ?it/s]"
      ]
     },
     "metadata": {},
     "output_type": "display_data"
    },
    {
     "data": {
      "application/vnd.jupyter.widget-view+json": {
       "model_id": "83696aea1e8c43e283797b4bf827468a",
       "version_major": 2,
       "version_minor": 0
      },
      "text/plain": [
       "Extracting exchange field:   0%|          | 0/5 [00:00<?, ?it/s]"
      ]
     },
     "metadata": {},
     "output_type": "display_data"
    },
    {
     "data": {
      "application/vnd.jupyter.widget-view+json": {
       "model_id": "019e026da5a1473396babd5c363133d5",
       "version_major": 2,
       "version_minor": 0
      },
      "text/plain": [
       "Setup perturbations for rotated hamiltonian:   0%|          | 0/3 [00:00<?, ?it/s]"
      ]
     },
     "metadata": {},
     "output_type": "display_data"
    },
    {
     "data": {
      "application/vnd.jupyter.widget-view+json": {
       "model_id": "3e472569e61a430dbe1396895ab88661",
       "version_major": 2,
       "version_minor": 0
      },
      "text/plain": [
       "Extracting exchange field:   0%|          | 0/5 [00:00<?, ?it/s]"
      ]
     },
     "metadata": {},
     "output_type": "display_data"
    },
    {
     "data": {
      "application/vnd.jupyter.widget-view+json": {
       "model_id": "01439faf9b8a481cb2e16f0a18272a3d",
       "version_major": 2,
       "version_minor": 0
      },
      "text/plain": [
       "Rotating Exchange field:   0%|          | 0/3 [00:00<?, ?it/s]"
      ]
     },
     "metadata": {},
     "output_type": "display_data"
    },
    {
     "data": {
      "application/vnd.jupyter.widget-view+json": {
       "model_id": "ed86ea2d3426420ab336c4660360e095",
       "version_major": 2,
       "version_minor": 0
      },
      "text/plain": [
       "Extracting exchange field:   0%|          | 0/5 [00:00<?, ?it/s]"
      ]
     },
     "metadata": {},
     "output_type": "display_data"
    },
    {
     "data": {
      "application/vnd.jupyter.widget-view+json": {
       "model_id": "ebe98411a49143f68cd34ba3d694236c",
       "version_major": 2,
       "version_minor": 0
      },
      "text/plain": [
       "Rotating Exchange field:   0%|          | 0/3 [00:00<?, ?it/s]"
      ]
     },
     "metadata": {},
     "output_type": "display_data"
    },
    {
     "data": {
      "application/vnd.jupyter.widget-view+json": {
       "model_id": "0b7c1b398672429f8034d3e846065b77",
       "version_major": 2,
       "version_minor": 0
      },
      "text/plain": [
       "Setup magnetic entities for rotated hamiltonian:   0%|          | 0/3 [00:00<?, ?it/s]"
      ]
     },
     "metadata": {},
     "output_type": "display_data"
    },
    {
     "data": {
      "application/vnd.jupyter.widget-view+json": {
       "model_id": "5485e5c415194e97ac5cb463984921eb",
       "version_major": 2,
       "version_minor": 0
      },
      "text/plain": [
       "Setup pairs for rotated hamiltonian:   0%|          | 0/4 [00:00<?, ?it/s]"
      ]
     },
     "metadata": {},
     "output_type": "display_data"
    },
    {
     "data": {
      "application/vnd.jupyter.widget-view+json": {
       "model_id": "b287840d0eb248d89a081e1254e7379e",
       "version_major": 2,
       "version_minor": 0
      },
      "text/plain": [
       "Rotation 3, parallel over k on CPU0:   0%|          | 0/1 [00:00<?, ?it/s]"
      ]
     },
     "metadata": {},
     "output_type": "display_data"
    },
    {
     "data": {
      "application/vnd.jupyter.widget-view+json": {
       "model_id": "35a22006d4d04a31ae41695d6d0582ee",
       "version_major": 2,
       "version_minor": 0
      },
      "text/plain": [
       "Extracting exchange field:   0%|          | 0/5 [00:00<?, ?it/s]"
      ]
     },
     "metadata": {},
     "output_type": "display_data"
    },
    {
     "data": {
      "application/vnd.jupyter.widget-view+json": {
       "model_id": "052a0c97397c4719908f5856e3a869e5",
       "version_major": 2,
       "version_minor": 0
      },
      "text/plain": [
       "Setup perturbations for rotated hamiltonian:   0%|          | 0/3 [00:00<?, ?it/s]"
      ]
     },
     "metadata": {},
     "output_type": "display_data"
    },
    {
     "data": {
      "application/vnd.jupyter.widget-view+json": {
       "model_id": "5744ff649d1a4206a8caf2c3a2c83337",
       "version_major": 2,
       "version_minor": 0
      },
      "text/plain": [
       "Extracting exchange field:   0%|          | 0/5 [00:00<?, ?it/s]"
      ]
     },
     "metadata": {},
     "output_type": "display_data"
    },
    {
     "data": {
      "application/vnd.jupyter.widget-view+json": {
       "model_id": "ebd2f38ab0694fe7a43eac205a5fb95e",
       "version_major": 2,
       "version_minor": 0
      },
      "text/plain": [
       "Setup perturbations for rotated hamiltonian:   0%|          | 0/3 [00:00<?, ?it/s]"
      ]
     },
     "metadata": {},
     "output_type": "display_data"
    },
    {
     "data": {
      "application/vnd.jupyter.widget-view+json": {
       "model_id": "f158e894ff9847849b7e5c0894ee8f90",
       "version_major": 2,
       "version_minor": 0
      },
      "text/plain": [
       "Extracting exchange field:   0%|          | 0/5 [00:00<?, ?it/s]"
      ]
     },
     "metadata": {},
     "output_type": "display_data"
    },
    {
     "data": {
      "application/vnd.jupyter.widget-view+json": {
       "model_id": "cd4c42db146b4e8e800dea87667212b5",
       "version_major": 2,
       "version_minor": 0
      },
      "text/plain": [
       "Setup perturbations for rotated hamiltonian:   0%|          | 0/3 [00:00<?, ?it/s]"
      ]
     },
     "metadata": {},
     "output_type": "display_data"
    },
    {
     "data": {
      "application/vnd.jupyter.widget-view+json": {
       "model_id": "2dc27c5e8eb743e4aee3301e5b96f8a2",
       "version_major": 2,
       "version_minor": 0
      },
      "text/plain": [
       "Extracting exchange field:   0%|          | 0/5 [00:00<?, ?it/s]"
      ]
     },
     "metadata": {},
     "output_type": "display_data"
    },
    {
     "data": {
      "application/vnd.jupyter.widget-view+json": {
       "model_id": "2bd4869697d54ba7b60b68f287b616c6",
       "version_major": 2,
       "version_minor": 0
      },
      "text/plain": [
       "Rotating Exchange field:   0%|          | 0/3 [00:00<?, ?it/s]"
      ]
     },
     "metadata": {},
     "output_type": "display_data"
    }
   ],
   "source": [
    "simulation.solve()"
   ]
  },
  {
   "cell_type": "code",
   "execution_count": 10,
   "metadata": {},
   "outputs": [
    {
     "name": "stdout",
     "output_type": "stream",
     "text": [
      "# ================================================================================\n",
      "# grogupy version: 0.0.11\n",
      "# Input file: ../benchmarks/Cr3/Cr3.fdf\n",
      "# Spin mode: SPIN-ORBIT\n",
      "# Number of orbitals: 90\n",
      "# ================================================================================\n",
      "# SLURM job ID: Could not be determined.\n",
      "# Architecture: CPU\n",
      "# Number of nodes in the parallel cluster: 1\n",
      "# Parallelization is over: K\n",
      "# Solver used for Greens function calculation: Sequential\n",
      "# Maximum number of Greens function samples per batch: 10000\n",
      "# Solver used for Exchange tensor: grogupy\n",
      "# Solver used for Anisotropy tensor: grogupy\n",
      "# ================================================================================\n",
      "# Cell [Ang]:\n",
      "# 1.442498074906033700e+01 -2.498479955557547072e+01 0.000000000000000000e+00\n",
      "# 1.442498074906033700e+01 2.498479955557547072e+01 0.000000000000000000e+00\n",
      "# 0.000000000000000000e+00 0.000000000000000000e+00 2.884996149812067401e+01\n",
      "# ================================================================================\n",
      "# DFT axis: [0 0 1]\n",
      "# Quantization axis and perpendicular rotation directions:\n",
      "# [1 0 0] --> [array([0, 1, 0]), array([0, 0, 1]), array([0.        , 0.70710678, 0.70710678])]\n",
      "# [0 1 0] --> [array([1, 0, 0]), array([0, 0, 1]), array([0.70710678, 0.        , 0.70710678])]\n",
      "# [0 0 1] --> [array([1, 0, 0]), array([0, 1, 0]), array([0.70710678, 0.70710678, 0.        ])]\n",
      "# ================================================================================\n",
      "# Parameters for the Brillouin zone sampling:\n",
      "# Number of k points: 1\n",
      "# K points in each directions: [1 1 1]\n",
      "# Parameters for the contour integral:\n",
      "# Eset: 100\n",
      "# Esetp: 10000\n",
      "# Ebot: -8.074511730000001        WARNING: This was automatically determined!\n",
      "# Etop: 0\n",
      "# ================================================================================\n",
      "# \n",
      "================================================================================\n",
      "cell Angstrom\n",
      "1.442498074906033700e+01 -2.498479955557547072e+01 0.000000000000000000e+00\n",
      "1.442498074906033700e+01 2.498479955557547072e+01 0.000000000000000000e+00\n",
      "0.000000000000000000e+00 0.000000000000000000e+00 2.884996149812067401e+01\n",
      "================================================================================\n",
      "atoms Angstrom\n",
      "name\tx\ty\tz\tSx\tSy\tSz\t# Q\n",
      "0Cr(l:2) 0.0 -1.4424980749060339 0.0 -1.1382265866336597e-12 -1.511320394498882e-12 5.3324805164117155 # 6.000000053627466\n",
      "1Cr(l:2) 0.0 1.4424980749060339 0.0 -4.1734441751070037e-13 1.1434426732941116e-12 5.3324805141618485 # 6.000000060529188\n",
      "2Cr(l:2) 2.4984799555575465 0.0 0.0 1.5328357268162278e-12 3.5438638755929483e-13 5.332480995312197 # 5.999999885843348\n",
      "================================================================================\n",
      "notation\n",
      "double-counting True\n",
      "spin-normalized True\n",
      "exchange-factor 0.5\n",
      "on-site-factor 1\n",
      "================================================================================\n",
      "exchange meV\n",
      "--------------------------------------------------------------------------------\n",
      "0Cr(l:2) 0Cr(l:2) 1 0 0 # distance [Ang]: 28.849961498120678\n",
      "isotropic -9292.872135993322\n",
      "DMI -1.1987676137663848e-13 1.0137459719328919e-13 2.3182275326813495e-13 # Dx Dy Dz\n",
      "symmetric-anisotropy -103.03544990737464 205.80736822528343 0.08367808090695397 0.0038377651213362734 0.0038351865412320106 # Sxx Syy Sxy Sxz Syz\n",
      "--------------------------------------------------------------------------------\n",
      "0Cr(l:2) 1Cr(l:2) 0 0 0 # distance [Ang]: 2.8849961498120678\n",
      "isotropic 148.44855662923715\n",
      "DMI 0.0005591999335647628 0.0001316776033598389 -14.267560379343774 # Dx Dy Dz\n",
      "symmetric-anisotropy 0.7325281367504033 -1.4654309229183866 -14.267560384234928 -0.00013167776501782965 0.0005591999626010932 # Sxx Syy Sxy Sxz Syz\n",
      "--------------------------------------------------------------------------------\n",
      "1Cr(l:2) 2Cr(l:2) 0 0 0 # distance [Ang]: 2.8849961498120673\n",
      "isotropic 148.46881446442308\n",
      "DMI 0.00023854267300175782 0.0004523026956474658 -14.267391824334853 # Dx Dy Dz\n",
      "symmetric-anisotropy 0.8478008711378209 -1.5519484322306312 -14.305502837808461 0.0009950550369329178 0.0016857321072557825 # Sxx Syy Sxy Sxz Syz\n",
      "--------------------------------------------------------------------------------\n",
      "2Cr(l:2) 0Cr(l:2) 0 0 0 # distance [Ang]: 2.8849961498120673\n",
      "isotropic 148.46881147213242\n",
      "DMI 0.00023854269187231265 0.0004523024295916885 -14.267393257914554 # Dx Dy Dz\n",
      "symmetric-anisotropy 0.8478039572329976 -1.5519546037146768 -14.22928227688855 -0.0018996598357938273 -0.0012086466115878718 # Sxx Syy Sxy Sxz Syz\n",
      "--------------------------------------------------------------------------------\n",
      "================================================================================\n",
      "on-site meV\n",
      "--------------------------------------------------------------------------------\n",
      "0Cr(l:2)\n",
      "-0.11606723966681165 -0.15156010043446133 0.0 0.04295975204476887 0.0014454952835529777 0.0014443747096970494 # Kxx Kyy Kzz Kxy Kxz Kyz\n",
      "--------------------------------------------------------------------------------\n",
      "1Cr(l:2)\n",
      "-0.11606723949128539 -0.15156009693681471 0.0 -0.04295972255424774 -0.001445494782953416 -0.0014443748665993186 # Kxx Kyy Kzz Kxy Kxz Kyz\n",
      "--------------------------------------------------------------------------------\n",
      "2Cr(l:2)\n",
      "-0.16926432614736142 -0.09827964523348441 0.0 2.3635343682215648e-08 -7.81236186853107e-10 -2.071676163950542e-10 # Kxx Kyy Kzz Kxy Kxz Kyz\n",
      "--------------------------------------------------------------------------------\n",
      "================================================================================\n",
      "\n"
     ]
    }
   ],
   "source": [
    "print(simulation.to_magnopy())"
   ]
  },
  {
   "cell_type": "code",
   "execution_count": 11,
   "metadata": {},
   "outputs": [
    {
     "data": {
      "text/plain": [
       "array([[ 2.22044605e-16, -1.00000000e+00,  0.00000000e+00],\n",
       "       [ 1.00000000e+00,  2.22044605e-16,  0.00000000e+00],\n",
       "       [ 0.00000000e+00,  0.00000000e+00,  1.00000000e+00]])"
      ]
     },
     "execution_count": 11,
     "metadata": {},
     "output_type": "execute_result"
    }
   ],
   "source": [
    "from scipy.spatial.transform import Rotation as R\n",
    "import numpy as np\n",
    "\n",
    "r = R.from_rotvec(np.pi / 2 * np.array([0, 0, 1]))\n",
    "r.as_matrix()"
   ]
  },
  {
   "cell_type": "code",
   "execution_count": 12,
   "metadata": {},
   "outputs": [],
   "source": [
    "grogupy.save(simulation, \"test_builder.pkl\", compress=0)\n",
    "grogupy.save(simulation.contour, \"test_contour.pkl\", compress=0)\n",
    "grogupy.save(simulation.kspace, \"test_kspace.pkl\", compress=0)\n",
    "grogupy.save(simulation.hamiltonian, \"test_hamiltonian.pkl\", compress=0)\n",
    "grogupy.save(simulation.pairs[0], \"test_pair.pkl\", compress=0)\n",
    "grogupy.save(simulation.magnetic_entities[0], \"test_magnetic_entity.pkl\", compress=0)\n",
    "grogupy.save(simulation.times, \"test_default_timer.pkl\", compress=0)"
   ]
  },
  {
   "cell_type": "code",
   "execution_count": 13,
   "metadata": {},
   "outputs": [
    {
     "data": {
      "text/plain": [
       "[<grogupy.MagneticEntity tag=0Cr(l:2), SBS=20>,\n",
       " <grogupy.MagneticEntity tag=1Cr(l:2), SBS=20>,\n",
       " <grogupy.MagneticEntity tag=2Cr(l:2), SBS=20>]"
      ]
     },
     "execution_count": 13,
     "metadata": {},
     "output_type": "execute_result"
    }
   ],
   "source": [
    "simulation.magnetic_entities"
   ]
  },
  {
   "cell_type": "code",
   "execution_count": 14,
   "metadata": {},
   "outputs": [
    {
     "data": {
      "text/plain": [
       "[<grogupy.Pair tag1=0Cr(l:2), tag2=0Cr(l:2), Ruc=[1 0 0]>,\n",
       " <grogupy.Pair tag1=0Cr(l:2), tag2=1Cr(l:2), Ruc=[0 0 0]>,\n",
       " <grogupy.Pair tag1=1Cr(l:2), tag2=2Cr(l:2), Ruc=[0 0 0]>,\n",
       " <grogupy.Pair tag1=2Cr(l:2), tag2=0Cr(l:2), Ruc=[0 0 0]>]"
      ]
     },
     "execution_count": 14,
     "metadata": {},
     "output_type": "execute_result"
    }
   ],
   "source": [
    "simulation.pairs"
   ]
  },
  {
   "cell_type": "code",
   "execution_count": 15,
   "metadata": {},
   "outputs": [
    {
     "data": {
      "application/vnd.jupyter.widget-view+json": {
       "model_id": "f53a7652b2d945bc8cc21adcbc91e8eb",
       "version_major": 2,
       "version_minor": 0
      },
      "text/plain": [
       "Extracting exchange field:   0%|          | 0/5 [00:00<?, ?it/s]"
      ]
     },
     "metadata": {},
     "output_type": "display_data"
    },
    {
     "data": {
      "application/vnd.jupyter.widget-view+json": {
       "model_id": "7b354a3094794ad6a84475010a411c88",
       "version_major": 2,
       "version_minor": 0
      },
      "text/plain": [
       "Rotating Exchange field:   0%|          | 0/3 [00:00<?, ?it/s]"
      ]
     },
     "metadata": {},
     "output_type": "display_data"
    },
    {
     "data": {
      "application/vnd.jupyter.widget-view+json": {
       "model_id": "9000fc6a99a542f587104f63a1dc8e63",
       "version_major": 2,
       "version_minor": 0
      },
      "text/plain": [
       "Extracting exchange field:   0%|          | 0/5 [00:00<?, ?it/s]"
      ]
     },
     "metadata": {},
     "output_type": "display_data"
    },
    {
     "data": {
      "application/vnd.jupyter.widget-view+json": {
       "model_id": "aec1243cd4e14726a977dc285b3cf684",
       "version_major": 2,
       "version_minor": 0
      },
      "text/plain": [
       "Rotating Exchange field:   0%|          | 0/3 [00:00<?, ?it/s]"
      ]
     },
     "metadata": {},
     "output_type": "display_data"
    },
    {
     "data": {
      "application/vnd.jupyter.widget-view+json": {
       "model_id": "e16275beba93418598ef10d90ce81875",
       "version_major": 2,
       "version_minor": 0
      },
      "text/plain": [
       "Extracting exchange field:   0%|          | 0/5 [00:00<?, ?it/s]"
      ]
     },
     "metadata": {},
     "output_type": "display_data"
    },
    {
     "data": {
      "application/vnd.jupyter.widget-view+json": {
       "model_id": "49444e1381c844a5b6c7b4b22bd03172",
       "version_major": 2,
       "version_minor": 0
      },
      "text/plain": [
       "Rotating Exchange field:   0%|          | 0/3 [00:00<?, ?it/s]"
      ]
     },
     "metadata": {},
     "output_type": "display_data"
    },
    {
     "name": "stdout",
     "output_type": "stream",
     "text": [
      "0.0017872881461659133\n"
     ]
    },
    {
     "data": {
      "text/plain": [
       "False"
      ]
     },
     "execution_count": 15,
     "metadata": {},
     "output_type": "execute_result"
    }
   ],
   "source": [
    "h = simulation.hamiltonian.copy()\n",
    "h_orig = h.copy()\n",
    "\n",
    "h.rotate([0, 1, 0])\n",
    "h.rotate([1, 0, 0])\n",
    "h_orig.rotate([1, 0, 0])\n",
    "\n",
    "print(abs(h.H - h_orig.H).max())\n",
    "np.allclose(h.H, h_orig.H)"
   ]
  },
  {
   "cell_type": "code",
   "execution_count": 16,
   "metadata": {},
   "outputs": [
    {
     "data": {
      "application/vnd.jupyter.widget-view+json": {
       "model_id": "75f3c1c0bf3540ac9dcaf029b0646d40",
       "version_major": 2,
       "version_minor": 0
      },
      "text/plain": [
       "Extracting exchange field:   0%|          | 0/5 [00:00<?, ?it/s]"
      ]
     },
     "metadata": {},
     "output_type": "display_data"
    },
    {
     "data": {
      "application/vnd.jupyter.widget-view+json": {
       "model_id": "0a6b7e98a7ac464190d163a0dbf36902",
       "version_major": 2,
       "version_minor": 0
      },
      "text/plain": [
       "Rotating Exchange field:   0%|          | 0/3 [00:00<?, ?it/s]"
      ]
     },
     "metadata": {},
     "output_type": "display_data"
    },
    {
     "data": {
      "application/vnd.jupyter.widget-view+json": {
       "model_id": "63da184a06424b93a6fde9e6942c4f23",
       "version_major": 2,
       "version_minor": 0
      },
      "text/plain": [
       "Extracting exchange field:   0%|          | 0/5 [00:00<?, ?it/s]"
      ]
     },
     "metadata": {},
     "output_type": "display_data"
    },
    {
     "data": {
      "application/vnd.jupyter.widget-view+json": {
       "model_id": "20df077f567e4317bd8fa48c595e5285",
       "version_major": 2,
       "version_minor": 0
      },
      "text/plain": [
       "Rotating Exchange field:   0%|          | 0/3 [00:00<?, ?it/s]"
      ]
     },
     "metadata": {},
     "output_type": "display_data"
    },
    {
     "data": {
      "application/vnd.jupyter.widget-view+json": {
       "model_id": "f954fb66b6a448cfa9d98b6284f0e9a9",
       "version_major": 2,
       "version_minor": 0
      },
      "text/plain": [
       "Extracting exchange field:   0%|          | 0/5 [00:00<?, ?it/s]"
      ]
     },
     "metadata": {},
     "output_type": "display_data"
    },
    {
     "data": {
      "application/vnd.jupyter.widget-view+json": {
       "model_id": "04493854ac5747df9af14523527eb2e9",
       "version_major": 2,
       "version_minor": 0
      },
      "text/plain": [
       "Rotating Exchange field:   0%|          | 0/3 [00:00<?, ?it/s]"
      ]
     },
     "metadata": {},
     "output_type": "display_data"
    },
    {
     "data": {
      "application/vnd.jupyter.widget-view+json": {
       "model_id": "23920b0b564c4100b67cb10da50d1e88",
       "version_major": 2,
       "version_minor": 0
      },
      "text/plain": [
       "Extracting exchange field:   0%|          | 0/5 [00:00<?, ?it/s]"
      ]
     },
     "metadata": {},
     "output_type": "display_data"
    },
    {
     "data": {
      "application/vnd.jupyter.widget-view+json": {
       "model_id": "092e777a9c3f42919e87691504ad6c63",
       "version_major": 2,
       "version_minor": 0
      },
      "text/plain": [
       "Rotating Exchange field:   0%|          | 0/3 [00:00<?, ?it/s]"
      ]
     },
     "metadata": {},
     "output_type": "display_data"
    },
    {
     "name": "stdout",
     "output_type": "stream",
     "text": [
      "2.8731357570865868e-18\n"
     ]
    },
    {
     "data": {
      "text/plain": [
       "True"
      ]
     },
     "execution_count": 16,
     "metadata": {},
     "output_type": "execute_result"
    }
   ],
   "source": [
    "h = simulation.hamiltonian.copy()\n",
    "\n",
    "h.rotate([0, 1, 0])\n",
    "h.rotate([1, 0, 0])\n",
    "h.rotate([0, 1, 0])\n",
    "h.rotate([0, 0, 1])\n",
    "\n",
    "print(abs(h.H - simulation.hamiltonian.H).max())\n",
    "np.allclose(h.H, simulation.hamiltonian.H)"
   ]
  },
  {
   "cell_type": "code",
   "execution_count": 17,
   "metadata": {},
   "outputs": [
    {
     "data": {
      "text/plain": [
       "192"
      ]
     },
     "execution_count": 17,
     "metadata": {},
     "output_type": "execute_result"
    }
   ],
   "source": [
    "import sys\n",
    "\n",
    "sys.getsizeof(np.ones(10, dtype=np.complex64))"
   ]
  },
  {
   "cell_type": "code",
   "execution_count": 18,
   "metadata": {},
   "outputs": [
    {
     "data": {
      "text/plain": [
       "272"
      ]
     },
     "execution_count": 18,
     "metadata": {},
     "output_type": "execute_result"
    }
   ],
   "source": [
    "sys.getsizeof(np.ones(10, dtype=np.complex128))"
   ]
  },
  {
   "cell_type": "code",
   "execution_count": 31,
   "metadata": {},
   "outputs": [],
   "source": [
    "results = [\"CrI3_kset_1_1_1_eset_10_Fit.pkl\", \n",
    "           \"CrI3_kset_1_1_2_eset_10_Fit.pkl\", \n",
    "           \"CrI3_kset_2_2_1_eset_10_Fit.pkl\", \n",
    "           \"CrI3_kset_3_3_1_eset_10_Fit.pkl\", \n",
    "           \"CrI3_kset_2_2_1_eset_10_Fit.pkl\", \n",
    "           \"CrI3_kset_3_3_2_eset_10_Fit.pkl\"]"
   ]
  },
  {
   "cell_type": "code",
   "execution_count": 32,
   "metadata": {},
   "outputs": [
    {
     "name": "stdout",
     "output_type": "stream",
     "text": [
      "<grogupy.Contour emin=-18.28197461, emax=0, eset=10, esetp=600>\n",
      "<grogupy.Contour emin=-18.28197461, emax=0, eset=10, esetp=600>\n",
      "<grogupy.Contour emin=-18.28197461, emax=0, eset=10, esetp=600>\n",
      "<grogupy.Contour emin=-18.28197461, emax=0, eset=10, esetp=600>\n",
      "<grogupy.Contour emin=-18.28197461, emax=0, eset=10, esetp=600>\n",
      "<grogupy.Contour emin=-18.28197461, emax=0, eset=10, esetp=600>\n"
     ]
    }
   ],
   "source": [
    "from grogupy.io import load_Builder\n",
    "builders = []\n",
    "for r in results:\n",
    "    builders.append(load_Builder(r))\n",
    "for b in builders:\n",
    "    print(b.contour)"
   ]
  },
  {
   "cell_type": "code",
   "execution_count": 33,
   "metadata": {},
   "outputs": [
    {
     "data": {
      "text/plain": [
       "False"
      ]
     },
     "execution_count": 33,
     "metadata": {},
     "output_type": "execute_result"
    }
   ],
   "source": [
    "b.contour == builders[0].contour"
   ]
  },
  {
   "cell_type": "code",
   "execution_count": 34,
   "metadata": {},
   "outputs": [
    {
     "data": {
      "text/plain": [
       "array([ True,  True,  True,  True,  True,  True,  True,  True,  True,\n",
       "        True])"
      ]
     },
     "execution_count": 34,
     "metadata": {},
     "output_type": "execute_result"
    }
   ],
   "source": [
    "b.contour.weights == builders[0].contour.weights"
   ]
  },
  {
   "cell_type": "code",
   "execution_count": null,
   "metadata": {},
   "outputs": [],
   "source": []
  }
 ],
 "metadata": {
  "kernelspec": {
   "display_name": ".venv",
   "language": "python",
   "name": "python3"
  },
  "language_info": {
   "codemirror_mode": {
    "name": "ipython",
    "version": 3
   },
   "file_extension": ".py",
   "mimetype": "text/x-python",
   "name": "python",
   "nbconvert_exporter": "python",
   "pygments_lexer": "ipython3",
   "version": "3.12.10"
  }
 },
 "nbformat": 4,
 "nbformat_minor": 2
}
