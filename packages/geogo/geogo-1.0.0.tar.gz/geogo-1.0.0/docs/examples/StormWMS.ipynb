{
 "cells": [
  {
   "cell_type": "markdown",
   "id": "0",
   "metadata": {},
   "source": [
    "## Storm WMS Analysis "
   ]
  },
  {
   "cell_type": "markdown",
   "id": "1",
   "metadata": {},
   "source": [
    "[![Open In Colab](https://colab.research.google.com/assets/colab-badge.svg)](https://colab.research.google.com/github/jlhammel/geogo/blob/main/docs/examples/StormWMS.ipynb)"
   ]
  },
  {
   "cell_type": "markdown",
   "id": "2",
   "metadata": {},
   "source": [
    "add_time_wms_layer allows you to use WMS data from NASA GIBS to analyse things such as precipitation, vegetation indices and population at the time of a hurricane. You can also change the date of the WMS layer by using the date widget at the top right of the map. "
   ]
  },
  {
   "cell_type": "code",
   "execution_count": null,
   "id": "3",
   "metadata": {},
   "outputs": [],
   "source": [
    "import geogo"
   ]
  },
  {
   "cell_type": "markdown",
   "id": "4",
   "metadata": {},
   "source": [
    "Air Temperature:"
   ]
  },
  {
   "cell_type": "code",
   "execution_count": null,
   "id": "5",
   "metadata": {},
   "outputs": [],
   "source": [
    "m = geogo.Map()\n",
    "m.add_time_wms_layer(\n",
    "    layers=\"MODIS_Aqua_L3_Land_Surface_Temp_Daily_Day\", time=\"2024-09-25\", name=\"NASA\"\n",
    ")\n",
    "m"
   ]
  },
  {
   "cell_type": "code",
   "execution_count": null,
   "id": "6",
   "metadata": {},
   "outputs": [],
   "source": [
    "m = geogo.Map()\n",
    "m.add_time_wms_layer(\n",
    "    layers=\"AIRS_L2_Temperature_500hPa_Day\", time=\"2024-09-25\", name=\"NASA\"\n",
    ")\n",
    "m.add_tropycal_storm((\"helene\", 2024))\n",
    "m"
   ]
  },
  {
   "cell_type": "markdown",
   "id": "7",
   "metadata": {},
   "source": [
    "Precipitation:"
   ]
  },
  {
   "cell_type": "code",
   "execution_count": null,
   "id": "8",
   "metadata": {},
   "outputs": [],
   "source": [
    "url = \"https://github.com/opengeos/datasets/releases/download/us/us_states.zip\""
   ]
  },
  {
   "cell_type": "markdown",
   "id": "9",
   "metadata": {},
   "source": [
    "custom_legend allows the user to input their own legend for the NASA GIBS data."
   ]
  },
  {
   "cell_type": "code",
   "execution_count": null,
   "id": "10",
   "metadata": {},
   "outputs": [],
   "source": [
    "m = geogo.Map()\n",
    "custom_legend = {\n",
    "    \"0.0 - 0.2\": \"#edf8fb\",\n",
    "    \"0.2 - 0.5\": \"#b2e2e2\",\n",
    "    \"0.5 - 1.0\": \"#66c2a4\",\n",
    "    \"1.0 - 2.0\": \"#2ca25f\",\n",
    "    \"2.0 - 5.0\": \"006d2c\",\n",
    "    \"5.0 - 10.0\": \"#fd8d3c\",\n",
    "    \">10\": \"#bd0026\",\n",
    "}\n",
    "m.add_shp(\n",
    "    url,\n",
    "    zoom_to_layer=False,\n",
    "    name=\"U.S. States\",\n",
    "    style={\"color\": \"black\", \"fillOpacity\": 0},\n",
    "    hover_style={},\n",
    ")\n",
    "m.add_storm_wg()\n",
    "m.add_time_wms_layer(\n",
    "    layers=\"AMSRU2_Surface_Precipitation_Day\",\n",
    "    time=\"2024-09-25\",\n",
    "    name=\"NASA\",\n",
    "    custom_legend=custom_legend,\n",
    ")\n",
    "m"
   ]
  },
  {
   "cell_type": "markdown",
   "id": "11",
   "metadata": {},
   "source": [
    "Vegetation Indices"
   ]
  },
  {
   "cell_type": "code",
   "execution_count": null,
   "id": "12",
   "metadata": {},
   "outputs": [],
   "source": [
    "m = geogo.Map()\n",
    "custom_legend = {\n",
    "    \"Bare soil / snow\": \"#f7fcb9\",\n",
    "    \"Sparse Vegetation\": \"#addd8e\",\n",
    "    \"Moderate Vegetation\": \"#41ab5d\",\n",
    "    \"Dense vegetation\": \"#238b45\",\n",
    "    \"Very Dense Vegetation\": \"#005a32\",\n",
    "}\n",
    "m.add_time_wms_layer(\n",
    "    layers=\"MODIS_Aqua_L3_EVI_16Day\",\n",
    "    time=\"2024-10-20\",\n",
    "    name=\"NASA\",\n",
    "    custom_legend=custom_legend,\n",
    ")\n",
    "m.add_shp(\n",
    "    url,\n",
    "    zoom_to_layer=False,\n",
    "    name=\"U.S. States\",\n",
    "    style={\"color\": \"black\", \"fillOpacity\": 0},\n",
    "    hover_style={},\n",
    ")\n",
    "m.add_storm_wg()\n",
    "m"
   ]
  }
 ],
 "metadata": {
  "kernelspec": {
   "display_name": "class",
   "language": "python",
   "name": "python3"
  },
  "language_info": {
   "codemirror_mode": {
    "name": "ipython",
    "version": 3
   },
   "file_extension": ".py",
   "mimetype": "text/x-python",
   "name": "python",
   "nbconvert_exporter": "python",
   "pygments_lexer": "ipython3",
   "version": "3.12.9"
  }
 },
 "nbformat": 4,
 "nbformat_minor": 5
}
