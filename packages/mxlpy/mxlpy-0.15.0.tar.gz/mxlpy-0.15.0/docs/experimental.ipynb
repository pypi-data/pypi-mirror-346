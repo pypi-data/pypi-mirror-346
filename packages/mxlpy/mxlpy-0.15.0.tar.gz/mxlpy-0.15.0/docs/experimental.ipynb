{
 "cells": [
  {
   "cell_type": "markdown",
   "metadata": {},
   "source": [
    "# Experimental features\n",
    "\n",
    "Experimental features for mxlpy.\n",
    "\n",
    "All APIs shown should be considered unstable and may change without notice."
   ]
  },
  {
   "cell_type": "code",
   "execution_count": null,
   "metadata": {},
   "outputs": [],
   "source": [
    "from example_models import get_linear_chain_1v, get_linear_chain_2v\n",
    "from mxlpy.experimental import model_diff"
   ]
  },
  {
   "cell_type": "markdown",
   "metadata": {},
   "source": [
    "## Diffs\n",
    "\n",
    "`mxlpy` can generate diffs between two models to quickly analyse differences between all model elements.  "
   ]
  },
  {
   "cell_type": "code",
   "execution_count": null,
   "metadata": {},
   "outputs": [],
   "source": [
    "print(\n",
    "    model_diff(\n",
    "        get_linear_chain_2v(),\n",
    "        get_linear_chain_1v(),\n",
    "    )\n",
    ")"
   ]
  },
  {
   "cell_type": "code",
   "execution_count": null,
   "metadata": {},
   "outputs": [],
   "source": [
    "print(\n",
    "    model_diff(\n",
    "        get_linear_chain_2v(),\n",
    "        get_linear_chain_2v().scale_parameter(\"k3\", 2.0),\n",
    "    )\n",
    ")"
   ]
  },
  {
   "cell_type": "code",
   "execution_count": null,
   "metadata": {},
   "outputs": [],
   "source": []
  }
 ],
 "metadata": {
  "kernelspec": {
   "display_name": ".venv",
   "language": "python",
   "name": "python3"
  },
  "language_info": {
   "codemirror_mode": {
    "name": "ipython",
    "version": 3
   },
   "file_extension": ".py",
   "mimetype": "text/x-python",
   "name": "python",
   "nbconvert_exporter": "python",
   "pygments_lexer": "ipython3",
   "version": "3.12.8"
  }
 },
 "nbformat": 4,
 "nbformat_minor": 2
}
