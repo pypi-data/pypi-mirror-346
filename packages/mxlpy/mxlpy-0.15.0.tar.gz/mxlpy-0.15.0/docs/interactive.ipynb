{
 "cells": [
  {
   "cell_type": "code",
   "execution_count": null,
   "id": "19a8415f",
   "metadata": {},
   "outputs": [],
   "source": [
    "import matplotlib.pyplot as plt\n",
    "from ipywidgets import FloatSlider, interact\n",
    "\n",
    "from mxlpy import Model, Simulator, fns, plot\n",
    "from mxlpy.types import unwrap\n",
    "\n",
    "\n",
    "def simulate_and_plot(model: Model, beta: float, gamma: float) -> None:\n",
    "    res = unwrap(\n",
    "        Simulator(model)\n",
    "        .update_parameters({\"beta\": beta, \"gamma\": gamma})\n",
    "        .simulate(100)\n",
    "        .get_result()\n",
    "    )\n",
    "\n",
    "    _, (ax1, ax2) = plot.two_axes(figsize=(7.5, 3.5))\n",
    "    _ = plot.lines(res.variables, ax=ax1)\n",
    "    _ = plot.lines(res.fluxes, ax=ax2)\n",
    "    ax1.set(xlabel=\"Time / a.u.\", ylabel=\"Relative Population\")\n",
    "    ax2.set(xlabel=\"Time / a.u.\", ylabel=\"Rate of change\")\n",
    "    plt.show()\n",
    "\n",
    "\n",
    "def sir() -> Model:\n",
    "    return (\n",
    "        Model()\n",
    "        .add_variables({\"s\": 0.9, \"i\": 0.1, \"r\": 0.0})\n",
    "        .add_parameters({\"beta\": 0.2, \"gamma\": 0.1})\n",
    "        .add_reaction(\n",
    "            \"infection\",\n",
    "            fns.mass_action_2s,\n",
    "            args=[\"s\", \"i\", \"beta\"],\n",
    "            stoichiometry={\"s\": -1, \"i\": 1},\n",
    "        )\n",
    "        .add_reaction(\n",
    "            \"recovery\",\n",
    "            fns.mass_action_1s,\n",
    "            args=[\"i\", \"gamma\"],\n",
    "            stoichiometry={\"i\": -1, \"r\": 1},\n",
    "        )\n",
    "    )\n",
    "\n",
    "\n",
    "def wrapper(beta: float, gamma: float) -> None:\n",
    "    return simulate_and_plot(sir(), beta, gamma)\n",
    "\n",
    "\n",
    "_ = interact(\n",
    "    wrapper,\n",
    "    beta=FloatSlider(0.2, min=0, max=1, continuous_update=False),\n",
    "    gamma=FloatSlider(0.1, min=0.0, max=1.0, continuous_update=False),\n",
    ")"
   ]
  },
  {
   "cell_type": "code",
   "execution_count": null,
   "id": "650681c5",
   "metadata": {},
   "outputs": [],
   "source": []
  }
 ],
 "metadata": {
  "kernelspec": {
   "display_name": ".venv",
   "language": "python",
   "name": "python3"
  },
  "language_info": {
   "codemirror_mode": {
    "name": "ipython",
    "version": 3
   },
   "file_extension": ".py",
   "mimetype": "text/x-python",
   "name": "python",
   "nbconvert_exporter": "python",
   "pygments_lexer": "ipython3",
   "version": "3.12.8"
  }
 },
 "nbformat": 4,
 "nbformat_minor": 5
}
