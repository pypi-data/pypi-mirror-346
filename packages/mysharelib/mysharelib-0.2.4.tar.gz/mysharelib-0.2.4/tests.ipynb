{
 "cells": [
  {
   "cell_type": "code",
   "execution_count": 1,
   "id": "ca4306ec",
   "metadata": {},
   "outputs": [],
   "source": [
    "import akshare as ak\n",
    "from mysharelib import MyShareData\n",
    "\n",
    "yf_data = MyShareData.from_source('yahoo')\n",
    "ak_data = MyShareData.from_source('akshare')"
   ]
  },
  {
   "cell_type": "code",
   "execution_count": 2,
   "id": "6ac77de1",
   "metadata": {},
   "outputs": [
    {
     "name": "stdout",
     "output_type": "stream",
     "text": [
      "{'symbol': '000001', 'market': 'SZ', 'name': '平安银行', 'current_price': 11.03, 'open_price': 11.01, 'high_price': 11.04, 'low_price': 10.97, 'pe_ratio': 0.0, 'pb_ratio': 0.0, 'market_cap': 214047277723.94, 'timestamp': datetime.datetime(2025, 5, 8, 8, 45, 24, 526525), 'source': 'akshare'}\n"
     ]
    }
   ],
   "source": [
    "from mysharelib.ak_data import get_stock_spot\n",
    "price = get_stock_spot('000001.SZ')\n",
    "print(price)"
   ]
  },
  {
   "cell_type": "code",
   "execution_count": 3,
   "id": "3732858e",
   "metadata": {},
   "outputs": [
    {
     "data": {
      "text/plain": [
       "11.03"
      ]
     },
     "execution_count": 3,
     "metadata": {},
     "output_type": "execute_result"
    }
   ],
   "source": [
    "price['current_price']"
   ]
  },
  {
   "cell_type": "code",
   "execution_count": 6,
   "id": "57dabbb1",
   "metadata": {},
   "outputs": [
    {
     "data": {
      "text/html": [
       "<div>\n",
       "<style scoped>\n",
       "    .dataframe tbody tr th:only-of-type {\n",
       "        vertical-align: middle;\n",
       "    }\n",
       "\n",
       "    .dataframe tbody tr th {\n",
       "        vertical-align: top;\n",
       "    }\n",
       "\n",
       "    .dataframe thead th {\n",
       "        text-align: right;\n",
       "    }\n",
       "</style>\n",
       "<table border=\"1\" class=\"dataframe\">\n",
       "  <thead>\n",
       "    <tr style=\"text-align: right;\">\n",
       "      <th></th>\n",
       "      <th>日期</th>\n",
       "      <th>股票代码</th>\n",
       "      <th>开盘</th>\n",
       "      <th>收盘</th>\n",
       "      <th>最高</th>\n",
       "      <th>最低</th>\n",
       "      <th>成交量</th>\n",
       "      <th>成交额</th>\n",
       "      <th>振幅</th>\n",
       "      <th>涨跌幅</th>\n",
       "      <th>涨跌额</th>\n",
       "      <th>换手率</th>\n",
       "    </tr>\n",
       "  </thead>\n",
       "  <tbody>\n",
       "    <tr>\n",
       "      <th>0</th>\n",
       "      <td>2025-04-01</td>\n",
       "      <td>600325</td>\n",
       "      <td>5.33</td>\n",
       "      <td>5.37</td>\n",
       "      <td>5.38</td>\n",
       "      <td>5.32</td>\n",
       "      <td>168477</td>\n",
       "      <td>90254138.0</td>\n",
       "      <td>1.13</td>\n",
       "      <td>0.75</td>\n",
       "      <td>0.04</td>\n",
       "      <td>0.66</td>\n",
       "    </tr>\n",
       "    <tr>\n",
       "      <th>1</th>\n",
       "      <td>2025-04-02</td>\n",
       "      <td>600325</td>\n",
       "      <td>5.36</td>\n",
       "      <td>5.33</td>\n",
       "      <td>5.38</td>\n",
       "      <td>5.32</td>\n",
       "      <td>177776</td>\n",
       "      <td>95088458.0</td>\n",
       "      <td>1.12</td>\n",
       "      <td>-0.74</td>\n",
       "      <td>-0.04</td>\n",
       "      <td>0.69</td>\n",
       "    </tr>\n",
       "    <tr>\n",
       "      <th>2</th>\n",
       "      <td>2025-04-03</td>\n",
       "      <td>600325</td>\n",
       "      <td>5.30</td>\n",
       "      <td>5.36</td>\n",
       "      <td>5.43</td>\n",
       "      <td>5.29</td>\n",
       "      <td>263771</td>\n",
       "      <td>141826154.0</td>\n",
       "      <td>2.63</td>\n",
       "      <td>0.56</td>\n",
       "      <td>0.03</td>\n",
       "      <td>1.03</td>\n",
       "    </tr>\n",
       "  </tbody>\n",
       "</table>\n",
       "</div>"
      ],
      "text/plain": [
       "           日期    股票代码    开盘    收盘    最高    最低     成交量          成交额    振幅  \\\n",
       "0  2025-04-01  600325  5.33  5.37  5.38  5.32  168477   90254138.0  1.13   \n",
       "1  2025-04-02  600325  5.36  5.33  5.38  5.32  177776   95088458.0  1.12   \n",
       "2  2025-04-03  600325  5.30  5.36  5.43  5.29  263771  141826154.0  2.63   \n",
       "\n",
       "    涨跌幅   涨跌额   换手率  \n",
       "0  0.75  0.04  0.66  \n",
       "1 -0.74 -0.04  0.69  \n",
       "2  0.56  0.03  1.03  "
      ]
     },
     "execution_count": 6,
     "metadata": {},
     "output_type": "execute_result"
    }
   ],
   "source": [
    "df_stock = ak.stock_zh_a_hist(\n",
    "    symbol=\"600325\",\n",
    "    start_date=\"20250401\",\n",
    "    end_date=\"20250404\",\n",
    "    period=\"daily\",\n",
    "    adjust=\"\"\n",
    ")    \n",
    "df_stock"
   ]
  },
  {
   "cell_type": "code",
   "execution_count": 7,
   "id": "64c28148",
   "metadata": {},
   "outputs": [
    {
     "name": "stdout",
     "output_type": "stream",
     "text": [
      "           日期    开盘    收盘    最高    最低     成交量       成交额     振幅   涨跌幅   涨跌额  \\\n",
      "0  2025-04-01  0.75  0.88  0.88  0.75  110125   86802.0  14.29 -3.30 -0.03   \n",
      "1  2025-04-02  0.95  0.96  1.06  0.95  142500  144675.0  12.50  9.09  0.08   \n",
      "\n",
      "    换手率  \n",
      "0  0.03  \n",
      "1  0.03  \n"
     ]
    }
   ],
   "source": [
    "stock_hk_hist_df = ak.stock_hk_hist(symbol=\"01027\", period=\"daily\", start_date=\"20250401\", end_date=\"20250404\", adjust=\"\")\n",
    "print(stock_hk_hist_df)"
   ]
  },
  {
   "cell_type": "code",
   "execution_count": 8,
   "id": "b052069f",
   "metadata": {},
   "outputs": [
    {
     "data": {
      "text/plain": [
       "{'日期': datetime.date(2025, 4, 2),\n",
       " '开盘': 0.95,\n",
       " '收盘': 0.96,\n",
       " '最高': 1.06,\n",
       " '最低': 0.95,\n",
       " '成交量': 142500,\n",
       " '成交额': 144675.0,\n",
       " '振幅': 12.5,\n",
       " '涨跌幅': 9.09,\n",
       " '涨跌额': 0.08,\n",
       " '换手率': 0.03}"
      ]
     },
     "execution_count": 8,
     "metadata": {},
     "output_type": "execute_result"
    }
   ],
   "source": [
    "spot_data = stock_hk_hist_df.iloc[-1].to_dict()\n",
    "spot_data"
   ]
  },
  {
   "cell_type": "code",
   "execution_count": 12,
   "id": "9b0de5bf",
   "metadata": {},
   "outputs": [
    {
     "data": {
      "text/plain": [
       "0.95"
      ]
     },
     "execution_count": 12,
     "metadata": {},
     "output_type": "execute_result"
    }
   ],
   "source": [
    "spot_data.get('最低', 0.0)"
   ]
  },
  {
   "cell_type": "code",
   "execution_count": 6,
   "id": "25501436",
   "metadata": {},
   "outputs": [
    {
     "ename": "DataSourceError",
     "evalue": "Error fetching stock prices from AKShare: If using all scalar values, you must pass an index",
     "output_type": "error",
     "traceback": [
      "\u001b[31m---------------------------------------------------------------------------\u001b[39m",
      "\u001b[31mValueError\u001b[39m                                Traceback (most recent call last)",
      "\u001b[36mFile \u001b[39m\u001b[32mf:\\src\\sg\\myshare-lib\\mysharelib\\akshare_data.py:52\u001b[39m, in \u001b[36mAKShareData.get_stock_prices\u001b[39m\u001b[34m(self, symbols, market)\u001b[39m\n\u001b[32m     51\u001b[39m symbol, symbol_f, market = normalize_symbol(symbol)\n\u001b[32m---> \u001b[39m\u001b[32m52\u001b[39m data = \u001b[43mget_stock_spot\u001b[49m\u001b[43m(\u001b[49m\u001b[43msymbol\u001b[49m\u001b[43m)\u001b[49m\n\u001b[32m     53\u001b[39m prices[symbol] = data[\u001b[33m'\u001b[39m\u001b[33mcurrent_price\u001b[39m\u001b[33m'\u001b[39m]\n",
      "\u001b[36mFile \u001b[39m\u001b[32mf:\\src\\sg\\myshare-lib\\mysharelib\\ak_data.py:137\u001b[39m, in \u001b[36mget_stock_spot\u001b[39m\u001b[34m(symbol, market)\u001b[39m\n\u001b[32m    122\u001b[39m     \u001b[38;5;28;01mreturn\u001b[39;00m {\n\u001b[32m    123\u001b[39m         \u001b[33m\"\u001b[39m\u001b[33msymbol\u001b[39m\u001b[33m\"\u001b[39m: cached.symbol,\n\u001b[32m    124\u001b[39m         \u001b[33m\"\u001b[39m\u001b[33mmarket\u001b[39m\u001b[33m\"\u001b[39m: cached.market,\n\u001b[32m   (...)\u001b[39m\u001b[32m    134\u001b[39m         \u001b[33m\"\u001b[39m\u001b[33msource\u001b[39m\u001b[33m\"\u001b[39m: \u001b[33m\"\u001b[39m\u001b[33mcache\u001b[39m\u001b[33m\"\u001b[39m\n\u001b[32m    135\u001b[39m     }\n\u001b[32m--> \u001b[39m\u001b[32m137\u001b[39m spot_dict = \u001b[43mget_stock_spot_dc\u001b[49m\u001b[43m(\u001b[49m\u001b[43msymbol\u001b[49m\u001b[43m)\u001b[49m\n\u001b[32m    138\u001b[39m spot = StockSpot(\n\u001b[32m    139\u001b[39m                 symbol=symbol,\n\u001b[32m    140\u001b[39m                 market=market,\n\u001b[32m   (...)\u001b[39m\u001b[32m    149\u001b[39m                 timestamp=datetime.now()\n\u001b[32m    150\u001b[39m )\n",
      "\u001b[36mFile \u001b[39m\u001b[32mf:\\src\\sg\\myshare-lib\\mysharelib\\ak_eastmoney.py:51\u001b[39m, in \u001b[36mget_stock_spot_dc\u001b[39m\u001b[34m(symbol)\u001b[39m\n\u001b[32m     49\u001b[39m spot_data = df.iloc[-\u001b[32m1\u001b[39m].to_dict()\n\u001b[32m---> \u001b[39m\u001b[32m51\u001b[39m stock_info_df = \u001b[43mak\u001b[49m\u001b[43m.\u001b[49m\u001b[43mstock_individual_info_em\u001b[49m\u001b[43m(\u001b[49m\u001b[43msymbol\u001b[49m\u001b[43m)\u001b[49m\n\u001b[32m     53\u001b[39m \u001b[38;5;66;03m# 检查返回的数据是否有效\u001b[39;00m\n",
      "\u001b[36mFile \u001b[39m\u001b[32mf:\\src\\sg\\myshare-lib\\.venv\\Lib\\site-packages\\akshare\\stock\\stock_info_em.py:42\u001b[39m, in \u001b[36mstock_individual_info_em\u001b[39m\u001b[34m(symbol, timeout)\u001b[39m\n\u001b[32m     41\u001b[39m data_json = r.json()\n\u001b[32m---> \u001b[39m\u001b[32m42\u001b[39m temp_df = \u001b[43mpd\u001b[49m\u001b[43m.\u001b[49m\u001b[43mDataFrame\u001b[49m\u001b[43m(\u001b[49m\u001b[43mdata_json\u001b[49m\u001b[43m)\u001b[49m\n\u001b[32m     43\u001b[39m temp_df.reset_index(inplace=\u001b[38;5;28;01mTrue\u001b[39;00m)\n",
      "\u001b[36mFile \u001b[39m\u001b[32mf:\\src\\sg\\myshare-lib\\.venv\\Lib\\site-packages\\pandas\\core\\frame.py:778\u001b[39m, in \u001b[36mDataFrame.__init__\u001b[39m\u001b[34m(self, data, index, columns, dtype, copy)\u001b[39m\n\u001b[32m    776\u001b[39m \u001b[38;5;28;01melif\u001b[39;00m \u001b[38;5;28misinstance\u001b[39m(data, \u001b[38;5;28mdict\u001b[39m):\n\u001b[32m    777\u001b[39m     \u001b[38;5;66;03m# GH#38939 de facto copy defaults to False only in non-dict cases\u001b[39;00m\n\u001b[32m--> \u001b[39m\u001b[32m778\u001b[39m     mgr = \u001b[43mdict_to_mgr\u001b[49m\u001b[43m(\u001b[49m\u001b[43mdata\u001b[49m\u001b[43m,\u001b[49m\u001b[43m \u001b[49m\u001b[43mindex\u001b[49m\u001b[43m,\u001b[49m\u001b[43m \u001b[49m\u001b[43mcolumns\u001b[49m\u001b[43m,\u001b[49m\u001b[43m \u001b[49m\u001b[43mdtype\u001b[49m\u001b[43m=\u001b[49m\u001b[43mdtype\u001b[49m\u001b[43m,\u001b[49m\u001b[43m \u001b[49m\u001b[43mcopy\u001b[49m\u001b[43m=\u001b[49m\u001b[43mcopy\u001b[49m\u001b[43m,\u001b[49m\u001b[43m \u001b[49m\u001b[43mtyp\u001b[49m\u001b[43m=\u001b[49m\u001b[43mmanager\u001b[49m\u001b[43m)\u001b[49m\n\u001b[32m    779\u001b[39m \u001b[38;5;28;01melif\u001b[39;00m \u001b[38;5;28misinstance\u001b[39m(data, ma.MaskedArray):\n",
      "\u001b[36mFile \u001b[39m\u001b[32mf:\\src\\sg\\myshare-lib\\.venv\\Lib\\site-packages\\pandas\\core\\internals\\construction.py:503\u001b[39m, in \u001b[36mdict_to_mgr\u001b[39m\u001b[34m(data, index, columns, dtype, typ, copy)\u001b[39m\n\u001b[32m    501\u001b[39m         arrays = [x.copy() \u001b[38;5;28;01mif\u001b[39;00m \u001b[38;5;28mhasattr\u001b[39m(x, \u001b[33m\"\u001b[39m\u001b[33mdtype\u001b[39m\u001b[33m\"\u001b[39m) \u001b[38;5;28;01melse\u001b[39;00m x \u001b[38;5;28;01mfor\u001b[39;00m x \u001b[38;5;129;01min\u001b[39;00m arrays]\n\u001b[32m--> \u001b[39m\u001b[32m503\u001b[39m \u001b[38;5;28;01mreturn\u001b[39;00m \u001b[43marrays_to_mgr\u001b[49m\u001b[43m(\u001b[49m\u001b[43marrays\u001b[49m\u001b[43m,\u001b[49m\u001b[43m \u001b[49m\u001b[43mcolumns\u001b[49m\u001b[43m,\u001b[49m\u001b[43m \u001b[49m\u001b[43mindex\u001b[49m\u001b[43m,\u001b[49m\u001b[43m \u001b[49m\u001b[43mdtype\u001b[49m\u001b[43m=\u001b[49m\u001b[43mdtype\u001b[49m\u001b[43m,\u001b[49m\u001b[43m \u001b[49m\u001b[43mtyp\u001b[49m\u001b[43m=\u001b[49m\u001b[43mtyp\u001b[49m\u001b[43m,\u001b[49m\u001b[43m \u001b[49m\u001b[43mconsolidate\u001b[49m\u001b[43m=\u001b[49m\u001b[43mcopy\u001b[49m\u001b[43m)\u001b[49m\n",
      "\u001b[36mFile \u001b[39m\u001b[32mf:\\src\\sg\\myshare-lib\\.venv\\Lib\\site-packages\\pandas\\core\\internals\\construction.py:114\u001b[39m, in \u001b[36marrays_to_mgr\u001b[39m\u001b[34m(arrays, columns, index, dtype, verify_integrity, typ, consolidate)\u001b[39m\n\u001b[32m    113\u001b[39m \u001b[38;5;28;01mif\u001b[39;00m index \u001b[38;5;129;01mis\u001b[39;00m \u001b[38;5;28;01mNone\u001b[39;00m:\n\u001b[32m--> \u001b[39m\u001b[32m114\u001b[39m     index = \u001b[43m_extract_index\u001b[49m\u001b[43m(\u001b[49m\u001b[43marrays\u001b[49m\u001b[43m)\u001b[49m\n\u001b[32m    115\u001b[39m \u001b[38;5;28;01melse\u001b[39;00m:\n",
      "\u001b[36mFile \u001b[39m\u001b[32mf:\\src\\sg\\myshare-lib\\.venv\\Lib\\site-packages\\pandas\\core\\internals\\construction.py:667\u001b[39m, in \u001b[36m_extract_index\u001b[39m\u001b[34m(data)\u001b[39m\n\u001b[32m    666\u001b[39m \u001b[38;5;28;01mif\u001b[39;00m \u001b[38;5;129;01mnot\u001b[39;00m indexes \u001b[38;5;129;01mand\u001b[39;00m \u001b[38;5;129;01mnot\u001b[39;00m raw_lengths:\n\u001b[32m--> \u001b[39m\u001b[32m667\u001b[39m     \u001b[38;5;28;01mraise\u001b[39;00m \u001b[38;5;167;01mValueError\u001b[39;00m(\u001b[33m\"\u001b[39m\u001b[33mIf using all scalar values, you must pass an index\u001b[39m\u001b[33m\"\u001b[39m)\n\u001b[32m    669\u001b[39m \u001b[38;5;28;01mif\u001b[39;00m have_series:\n",
      "\u001b[31mValueError\u001b[39m: If using all scalar values, you must pass an index",
      "\nDuring handling of the above exception, another exception occurred:\n",
      "\u001b[31mDataSourceError\u001b[39m                           Traceback (most recent call last)",
      "\u001b[36mCell\u001b[39m\u001b[36m \u001b[39m\u001b[32mIn[6]\u001b[39m\u001b[32m, line 2\u001b[39m\n\u001b[32m      1\u001b[39m symbols = [\u001b[33m'\u001b[39m\u001b[33m0144.HK\u001b[39m\u001b[33m'\u001b[39m, \u001b[33m'\u001b[39m\u001b[33m0386.HK\u001b[39m\u001b[33m'\u001b[39m, \u001b[33m'\u001b[39m\u001b[33m0939.HK\u001b[39m\u001b[33m'\u001b[39m, \u001b[33m'\u001b[39m\u001b[33m0998.HK\u001b[39m\u001b[33m'\u001b[39m, \u001b[33m'\u001b[39m\u001b[33m1288.HK\u001b[39m\u001b[33m'\u001b[39m, \u001b[33m'\u001b[39m\u001b[33m1339.HK\u001b[39m\u001b[33m'\u001b[39m, \u001b[33m'\u001b[39m\u001b[33m1398.HK\u001b[39m\u001b[33m'\u001b[39m, \u001b[33m'\u001b[39m\u001b[33m2800.HK\u001b[39m\u001b[33m'\u001b[39m, \u001b[33m'\u001b[39m\u001b[33m2880.HK\u001b[39m\u001b[33m'\u001b[39m, \u001b[33m'\u001b[39m\u001b[33m3988.HK\u001b[39m\u001b[33m'\u001b[39m, \u001b[33m'\u001b[39m\u001b[33m6823.HK\u001b[39m\u001b[33m'\u001b[39m]\n\u001b[32m----> \u001b[39m\u001b[32m2\u001b[39m prices = \u001b[43mak_data\u001b[49m\u001b[43m.\u001b[49m\u001b[43mget_stock_prices\u001b[49m\u001b[43m(\u001b[49m\u001b[43msymbols\u001b[49m\u001b[43m)\u001b[49m\n\u001b[32m      3\u001b[39m prices\n",
      "\u001b[36mFile \u001b[39m\u001b[32mf:\\src\\sg\\myshare-lib\\mysharelib\\akshare_data.py:57\u001b[39m, in \u001b[36mAKShareData.get_stock_prices\u001b[39m\u001b[34m(self, symbols, market)\u001b[39m\n\u001b[32m     55\u001b[39m     \u001b[38;5;28;01mreturn\u001b[39;00m prices\n\u001b[32m     56\u001b[39m \u001b[38;5;28;01mexcept\u001b[39;00m \u001b[38;5;167;01mException\u001b[39;00m \u001b[38;5;28;01mas\u001b[39;00m e:\n\u001b[32m---> \u001b[39m\u001b[32m57\u001b[39m     \u001b[38;5;28;01mraise\u001b[39;00m DataSourceError(\u001b[33mf\u001b[39m\u001b[33m\"\u001b[39m\u001b[33mError fetching stock prices from AKShare: \u001b[39m\u001b[38;5;132;01m{\u001b[39;00m\u001b[38;5;28mstr\u001b[39m(e)\u001b[38;5;132;01m}\u001b[39;00m\u001b[33m\"\u001b[39m)\n",
      "\u001b[31mDataSourceError\u001b[39m: Error fetching stock prices from AKShare: If using all scalar values, you must pass an index"
     ]
    }
   ],
   "source": [
    "symbols = ['0144.HK', '0386.HK', '0939.HK', '0998.HK', '1288.HK', '1339.HK', '1398.HK', '2800.HK', '2880.HK', '3988.HK', '6823.HK']\n",
    "prices = ak_data.get_stock_prices(symbols)\n",
    "prices"
   ]
  },
  {
   "cell_type": "code",
   "execution_count": 3,
   "id": "0225cd59",
   "metadata": {},
   "outputs": [
    {
     "data": {
      "application/vnd.jupyter.widget-view+json": {
       "model_id": "3073932d47354e70ad764a7454b2544c",
       "version_major": 2,
       "version_minor": 0
      },
      "text/plain": [
       "  0%|          | 0/44 [00:00<?, ?it/s]"
      ]
     },
     "metadata": {},
     "output_type": "display_data"
    },
    {
     "name": "stdout",
     "output_type": "stream",
     "text": [
      "        序号     代码             名称    最新价    涨跌额    涨跌幅     今开     最高     最低  \\\n",
      "0        1  00328  ALCO HOLDINGS   0.34  0.135  65.85   0.23   0.38   0.23   \n",
      "1        2  08029         帝国金融集团   0.72  0.235  48.45   0.60   0.83   0.60   \n",
      "2        3  01333            博雷顿  25.85  7.850  43.61  29.00  32.50  23.50   \n",
      "3        4  03678           弘业期货   3.63  1.060  41.25   2.95   4.46   2.95   \n",
      "4        5  00352             富阳   0.10  0.027  36.99   0.10   0.10   0.10   \n",
      "...    ...    ...            ...    ...    ...    ...    ...    ...    ...   \n",
      "4470  4471  00102           凯升控股    NaN    NaN    NaN    NaN    NaN    NaN   \n",
      "4471  4472  00065         弘海高新资源    NaN    NaN    NaN    NaN    NaN    NaN   \n",
      "4472  4473  00059           天誉置业    NaN    NaN    NaN    NaN    NaN    NaN   \n",
      "4473  4474  00009           金奥国际    NaN    NaN    NaN    NaN    NaN    NaN   \n",
      "4474  4475  00007         智富资源投资    NaN    NaN    NaN    NaN    NaN    NaN   \n",
      "\n",
      "          昨收          成交量           成交额  \n",
      "0      0.205   15030000.0  5.012600e+06  \n",
      "1      0.485    4337250.0  3.266070e+06  \n",
      "2     18.000    7726832.0  2.070108e+08  \n",
      "3      2.570  501834208.0  1.894399e+09  \n",
      "4      0.073     100000.0  1.000000e+04  \n",
      "...      ...          ...           ...  \n",
      "4470   0.047          NaN           NaN  \n",
      "4471   0.475          NaN           NaN  \n",
      "4472   0.010          NaN           NaN  \n",
      "4473   0.013          NaN           NaN  \n",
      "4474   0.032          NaN           NaN  \n",
      "\n",
      "[4475 rows x 12 columns]\n"
     ]
    }
   ],
   "source": [
    "stock_hk_spot_em_df = ak.stock_hk_spot_em()\n",
    "print(stock_hk_spot_em_df)"
   ]
  },
  {
   "cell_type": "code",
   "execution_count": 8,
   "id": "4a8d1e3a",
   "metadata": {},
   "outputs": [
    {
     "name": "stdout",
     "output_type": "stream",
     "text": [
      "           日期    开盘    收盘    最高    最低    成交量      成交额     振幅    涨跌幅   涨跌额  \\\n",
      "0  2025-04-01  0.80  0.80  0.80  0.80   4000   3200.0   0.00   6.67  0.05   \n",
      "1  2025-04-02  0.80  0.78  0.80  0.78      0      0.0   2.50  -2.50 -0.02   \n",
      "2  2025-04-03  0.78  0.70  0.78  0.70  88000  64800.0  10.26 -10.26 -0.08   \n",
      "\n",
      "    换手率  \n",
      "0  0.00  \n",
      "1  0.00  \n",
      "2  0.04  \n"
     ]
    }
   ],
   "source": [
    "stock_hk_hist_df = ak.stock_hk_hist(symbol=\"00387\", period=\"daily\", start_date=\"20250401\", end_date=\"20250404\", adjust=\"\")\n",
    "print(stock_hk_hist_df)"
   ]
  },
  {
   "cell_type": "code",
   "execution_count": 3,
   "id": "c07d6ca6",
   "metadata": {},
   "outputs": [
    {
     "data": {
      "text/plain": [
       "[{'symbol': '0205',\n",
       "  'market': 'HK',\n",
       "  'date': datetime.datetime(2025, 4, 22, 0, 0),\n",
       "  'open': 0.149,\n",
       "  'close': 0.149,\n",
       "  'high': 0.149,\n",
       "  'low': 0.149,\n",
       "  'volume': 10000.0,\n",
       "  'source': 'akshare'},\n",
       " {'symbol': '0205',\n",
       "  'market': 'HK',\n",
       "  'date': datetime.datetime(2025, 4, 23, 0, 0),\n",
       "  'open': 0.152,\n",
       "  'close': 0.149,\n",
       "  'high': 0.152,\n",
       "  'low': 0.149,\n",
       "  'volume': 20000.0,\n",
       "  'source': 'akshare'},\n",
       " {'symbol': '0205',\n",
       "  'market': 'HK',\n",
       "  'date': datetime.datetime(2025, 4, 24, 0, 0),\n",
       "  'open': 0.149,\n",
       "  'close': 0.149,\n",
       "  'high': 0.152,\n",
       "  'low': 0.149,\n",
       "  'volume': 70000.0,\n",
       "  'source': 'akshare'},\n",
       " {'symbol': '0205',\n",
       "  'market': 'HK',\n",
       "  'date': datetime.datetime(2025, 4, 25, 0, 0),\n",
       "  'open': 0.149,\n",
       "  'close': 0.149,\n",
       "  'high': 0.149,\n",
       "  'low': 0.149,\n",
       "  'volume': 50.0,\n",
       "  'source': 'akshare'}]"
      ]
     },
     "execution_count": 3,
     "metadata": {},
     "output_type": "execute_result"
    }
   ],
   "source": [
    "result = ak_data.get_stock_history('0205', '20250421', '20250425')\n",
    "result"
   ]
  },
  {
   "cell_type": "code",
   "execution_count": 3,
   "id": "a0cb9414",
   "metadata": {},
   "outputs": [
    {
     "data": {
      "text/plain": [
       "7.2266"
      ]
     },
     "execution_count": 3,
     "metadata": {},
     "output_type": "execute_result"
    }
   ],
   "source": [
    "ak_data.get_exchange_rate('USD/CNY')"
   ]
  },
  {
   "cell_type": "code",
   "execution_count": 4,
   "id": "a3c3acd9",
   "metadata": {},
   "outputs": [
    {
     "data": {
      "text/plain": [
       "{'USD/CNY': 7.2266,\n",
       " 'EUR/CNY': 8.1966,\n",
       " '100JPY/CNY': 5.0489,\n",
       " 'HKD/CNY': 0.93203,\n",
       " 'GBP/CNY': 9.6449,\n",
       " 'AUD/CNY': 4.6876,\n",
       " 'NZD/CNY': 4.3358,\n",
       " 'SGD/CNY': 5.5954,\n",
       " 'CHF/CNY': 8.7539,\n",
       " 'CAD/CNY': 5.2392,\n",
       " 'CNY/MOP': 1.1051,\n",
       " 'CNY/MYR': 0.5833,\n",
       " 'CNY/RUB': 10.7896,\n",
       " 'CNY/ZAR': 2.5225,\n",
       " 'CNY/KRW': 193.16,\n",
       " 'CNY/AED': 0.50823,\n",
       " 'CNY/SAR': 0.51912,\n",
       " 'CNY/HUF': 49.373,\n",
       " 'CNY/PLN': 0.52179,\n",
       " 'CNY/DKK': 0.9103,\n",
       " 'CNY/SEK': 1.3273,\n",
       " 'CNY/NOK': 1.4246,\n",
       " 'CNY/TRY': 5.34643,\n",
       " 'CNY/MXN': 2.722,\n",
       " 'CNY/THB': 4.5338}"
      ]
     },
     "execution_count": 4,
     "metadata": {},
     "output_type": "execute_result"
    }
   ],
   "source": [
    "from mysharelib.ak_data import get_exchange_rates\n",
    "rate = get_exchange_rates()\n",
    "rate"
   ]
  },
  {
   "cell_type": "code",
   "execution_count": 5,
   "id": "76cc7f97",
   "metadata": {},
   "outputs": [
    {
     "data": {
      "text/plain": [
       "{'USD/CNY': 7.2264,\n",
       " 'EUR/CNY': 8.1971,\n",
       " '100JPY/CNY': 5.0495,\n",
       " 'HKD/CNY': 0.932,\n",
       " 'GBP/CNY': 9.6455,\n",
       " 'AUD/CNY': 4.6877,\n",
       " 'NZD/CNY': 4.3362,\n",
       " 'SGD/CNY': 5.5956,\n",
       " 'CHF/CNY': 8.755,\n",
       " 'CAD/CNY': 5.2393,\n",
       " 'CNY/MOP': 1.1051,\n",
       " 'CNY/MYR': 0.5833,\n",
       " 'CNY/RUB': 10.7896,\n",
       " 'CNY/ZAR': 2.5225,\n",
       " 'CNY/KRW': 193.16,\n",
       " 'CNY/AED': 0.50825,\n",
       " 'CNY/SAR': 0.51912,\n",
       " 'CNY/HUF': 49.373,\n",
       " 'CNY/PLN': 0.52179,\n",
       " 'CNY/DKK': 0.9103,\n",
       " 'CNY/SEK': 1.3273,\n",
       " 'CNY/NOK': 1.4246,\n",
       " 'CNY/TRY': 5.34643,\n",
       " 'CNY/MXN': 2.722,\n",
       " 'CNY/THB': 4.5338}"
      ]
     },
     "execution_count": 5,
     "metadata": {},
     "output_type": "execute_result"
    }
   ],
   "source": [
    "import akshare as ak\n",
    "df = ak.fx_spot_quote()\n",
    "rates = dict(zip(df['货币对'], df['买报价']))\n",
    "rates"
   ]
  },
  {
   "cell_type": "code",
   "execution_count": 6,
   "id": "664abc5a",
   "metadata": {},
   "outputs": [
    {
     "name": "stdout",
     "output_type": "stream",
     "text": [
      "SGD/CNY=5.5954, USD/CNY=7.2266, AUD/CNY=4.6876 HKD/CNY=0.93203\n"
     ]
    }
   ],
   "source": [
    "sgd = ak_data.get_exchange_rate(\"SGD/CNY\")\n",
    "usd = ak_data.get_exchange_rate(\"USD/CNY\")\n",
    "aud = ak_data.get_exchange_rate(\"AUD/CNY\")\n",
    "hkd = ak_data.get_exchange_rate(\"HKD/CNY\")\n",
    "print(f\"SGD/CNY={sgd}, USD/CNY={usd}, AUD/CNY={aud} HKD/CNY={hkd}\")"
   ]
  },
  {
   "cell_type": "code",
   "execution_count": 7,
   "id": "21294e17",
   "metadata": {},
   "outputs": [
    {
     "name": "stdout",
     "output_type": "stream",
     "text": [
      "        货币对        买报价        卖报价\n",
      "0   AUD/USD    0.64862    0.64863\n",
      "1   EUR/JPY  162.34100  162.34500\n",
      "2   EUR/USD    1.13429    1.13429\n",
      "3   GBP/USD    1.33477    1.33477\n",
      "4   USD/CAD    1.37926    1.37933\n",
      "5   USD/CHF    0.82538    0.82541\n",
      "6   USD/HKD    7.75351    7.75356\n",
      "7   USD/JPY  143.12600  143.12600\n",
      "8   USD/SGD    1.29155    1.29156\n",
      "9   NZD/USD    0.60005    0.60005\n",
      "10  EUR/GBP    0.84982    0.84982\n",
      "11  USD/MOP    7.98600    7.98660\n",
      "12  HKD/MOP    1.03000    1.03100\n"
     ]
    }
   ],
   "source": [
    "fx_pair_quote_df = ak.fx_pair_quote()\n",
    "print(fx_pair_quote_df)"
   ]
  }
 ],
 "metadata": {
  "kernelspec": {
   "display_name": ".venv",
   "language": "python",
   "name": "python3"
  },
  "language_info": {
   "codemirror_mode": {
    "name": "ipython",
    "version": 3
   },
   "file_extension": ".py",
   "mimetype": "text/x-python",
   "name": "python",
   "nbconvert_exporter": "python",
   "pygments_lexer": "ipython3",
   "version": "3.12.10"
  }
 },
 "nbformat": 4,
 "nbformat_minor": 5
}
