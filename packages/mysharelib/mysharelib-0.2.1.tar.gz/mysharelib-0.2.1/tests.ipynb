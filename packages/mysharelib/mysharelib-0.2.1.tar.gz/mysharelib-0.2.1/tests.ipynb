{
 "cells": [
  {
   "cell_type": "code",
   "execution_count": 1,
   "id": "ca4306ec",
   "metadata": {},
   "outputs": [],
   "source": [
    "from mysharelib import MyShareData\n",
    "\n",
    "yf_data = MyShareData.from_source('yahoo')\n",
    "ak_data = MyShareData.from_source('akshare')"
   ]
  },
  {
   "cell_type": "code",
   "execution_count": 2,
   "id": "c07d6ca6",
   "metadata": {},
   "outputs": [],
   "source": [
    "result = ak_data.get_stock_history('000001', '20250421', '20250425')"
   ]
  },
  {
   "cell_type": "code",
   "execution_count": 3,
   "id": "a0cb9414",
   "metadata": {},
   "outputs": [
    {
     "data": {
      "text/plain": [
       "7.2266"
      ]
     },
     "execution_count": 3,
     "metadata": {},
     "output_type": "execute_result"
    }
   ],
   "source": [
    "ak_data.get_exchange_rate('USD/CNY')"
   ]
  },
  {
   "cell_type": "code",
   "execution_count": 4,
   "id": "a3c3acd9",
   "metadata": {},
   "outputs": [
    {
     "data": {
      "text/plain": [
       "{'USD/CNY': 7.2266,\n",
       " 'EUR/CNY': 8.1966,\n",
       " '100JPY/CNY': 5.0489,\n",
       " 'HKD/CNY': 0.93203,\n",
       " 'GBP/CNY': 9.6449,\n",
       " 'AUD/CNY': 4.6876,\n",
       " 'NZD/CNY': 4.3358,\n",
       " 'SGD/CNY': 5.5954,\n",
       " 'CHF/CNY': 8.7539,\n",
       " 'CAD/CNY': 5.2392,\n",
       " 'CNY/MOP': 1.1051,\n",
       " 'CNY/MYR': 0.5833,\n",
       " 'CNY/RUB': 10.7896,\n",
       " 'CNY/ZAR': 2.5225,\n",
       " 'CNY/KRW': 193.16,\n",
       " 'CNY/AED': 0.50823,\n",
       " 'CNY/SAR': 0.51912,\n",
       " 'CNY/HUF': 49.373,\n",
       " 'CNY/PLN': 0.52179,\n",
       " 'CNY/DKK': 0.9103,\n",
       " 'CNY/SEK': 1.3273,\n",
       " 'CNY/NOK': 1.4246,\n",
       " 'CNY/TRY': 5.34643,\n",
       " 'CNY/MXN': 2.722,\n",
       " 'CNY/THB': 4.5338}"
      ]
     },
     "execution_count": 4,
     "metadata": {},
     "output_type": "execute_result"
    }
   ],
   "source": [
    "from mysharelib.ak_data import get_exchange_rates\n",
    "rate = get_exchange_rates()\n",
    "rate"
   ]
  },
  {
   "cell_type": "code",
   "execution_count": 5,
   "id": "76cc7f97",
   "metadata": {},
   "outputs": [
    {
     "data": {
      "text/plain": [
       "{'USD/CNY': 7.2264,\n",
       " 'EUR/CNY': 8.1971,\n",
       " '100JPY/CNY': 5.0495,\n",
       " 'HKD/CNY': 0.932,\n",
       " 'GBP/CNY': 9.6455,\n",
       " 'AUD/CNY': 4.6877,\n",
       " 'NZD/CNY': 4.3362,\n",
       " 'SGD/CNY': 5.5956,\n",
       " 'CHF/CNY': 8.755,\n",
       " 'CAD/CNY': 5.2393,\n",
       " 'CNY/MOP': 1.1051,\n",
       " 'CNY/MYR': 0.5833,\n",
       " 'CNY/RUB': 10.7896,\n",
       " 'CNY/ZAR': 2.5225,\n",
       " 'CNY/KRW': 193.16,\n",
       " 'CNY/AED': 0.50825,\n",
       " 'CNY/SAR': 0.51912,\n",
       " 'CNY/HUF': 49.373,\n",
       " 'CNY/PLN': 0.52179,\n",
       " 'CNY/DKK': 0.9103,\n",
       " 'CNY/SEK': 1.3273,\n",
       " 'CNY/NOK': 1.4246,\n",
       " 'CNY/TRY': 5.34643,\n",
       " 'CNY/MXN': 2.722,\n",
       " 'CNY/THB': 4.5338}"
      ]
     },
     "execution_count": 5,
     "metadata": {},
     "output_type": "execute_result"
    }
   ],
   "source": [
    "import akshare as ak\n",
    "df = ak.fx_spot_quote()\n",
    "rates = dict(zip(df['货币对'], df['买报价']))\n",
    "rates"
   ]
  },
  {
   "cell_type": "code",
   "execution_count": 6,
   "id": "664abc5a",
   "metadata": {},
   "outputs": [
    {
     "name": "stdout",
     "output_type": "stream",
     "text": [
      "SGD/CNY=5.5954, USD/CNY=7.2266, AUD/CNY=4.6876 HKD/CNY=0.93203\n"
     ]
    }
   ],
   "source": [
    "sgd = ak_data.get_exchange_rate(\"SGD/CNY\")\n",
    "usd = ak_data.get_exchange_rate(\"USD/CNY\")\n",
    "aud = ak_data.get_exchange_rate(\"AUD/CNY\")\n",
    "hkd = ak_data.get_exchange_rate(\"HKD/CNY\")\n",
    "print(f\"SGD/CNY={sgd}, USD/CNY={usd}, AUD/CNY={aud} HKD/CNY={hkd}\")"
   ]
  },
  {
   "cell_type": "code",
   "execution_count": 7,
   "id": "21294e17",
   "metadata": {},
   "outputs": [
    {
     "name": "stdout",
     "output_type": "stream",
     "text": [
      "        货币对        买报价        卖报价\n",
      "0   AUD/USD    0.64862    0.64863\n",
      "1   EUR/JPY  162.34100  162.34500\n",
      "2   EUR/USD    1.13429    1.13429\n",
      "3   GBP/USD    1.33477    1.33477\n",
      "4   USD/CAD    1.37926    1.37933\n",
      "5   USD/CHF    0.82538    0.82541\n",
      "6   USD/HKD    7.75351    7.75356\n",
      "7   USD/JPY  143.12600  143.12600\n",
      "8   USD/SGD    1.29155    1.29156\n",
      "9   NZD/USD    0.60005    0.60005\n",
      "10  EUR/GBP    0.84982    0.84982\n",
      "11  USD/MOP    7.98600    7.98660\n",
      "12  HKD/MOP    1.03000    1.03100\n"
     ]
    }
   ],
   "source": [
    "fx_pair_quote_df = ak.fx_pair_quote()\n",
    "print(fx_pair_quote_df)"
   ]
  }
 ],
 "metadata": {
  "kernelspec": {
   "display_name": ".venv",
   "language": "python",
   "name": "python3"
  },
  "language_info": {
   "codemirror_mode": {
    "name": "ipython",
    "version": 3
   },
   "file_extension": ".py",
   "mimetype": "text/x-python",
   "name": "python",
   "nbconvert_exporter": "python",
   "pygments_lexer": "ipython3",
   "version": "3.12.10"
  }
 },
 "nbformat": 4,
 "nbformat_minor": 5
}
