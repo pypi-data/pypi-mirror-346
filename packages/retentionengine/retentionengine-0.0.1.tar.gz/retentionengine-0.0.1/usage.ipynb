{
 "cells": [
  {
   "cell_type": "code",
   "id": "initial_id",
   "metadata": {
    "collapsed": true,
    "ExecuteTime": {
     "end_time": "2025-05-05T23:45:48.721890Z",
     "start_time": "2025-05-05T23:45:34.721988Z"
    }
   },
   "source": [
    "from transformers import AutoModelForCausalLM, AutoTokenizer\n",
    "from retentionengine import RetentionEngine\n",
    "from thelethe.titans import AtlasConfig"
   ],
   "outputs": [],
   "execution_count": 1
  },
  {
   "metadata": {
    "ExecuteTime": {
     "end_time": "2025-05-05T23:49:38.482121Z",
     "start_time": "2025-05-05T23:45:48.934067Z"
    }
   },
   "cell_type": "code",
   "source": [
    "# Load Gemma3 4b model and tokenizer\n",
    "basemodel_name = \"google/gemma-3-4b-it\"\n",
    "tokenizer = AutoTokenizer.from_pretrained(basemodel_name)\n",
    "basemodel = AutoModelForCausalLM.from_pretrained(basemodel_name)"
   ],
   "id": "f20a5a772cb31cca",
   "outputs": [
    {
     "data": {
      "text/plain": [
       "Loading checkpoint shards:   0%|          | 0/2 [00:00<?, ?it/s]"
      ],
      "application/vnd.jupyter.widget-view+json": {
       "version_major": 2,
       "version_minor": 0,
       "model_id": "3a050b1425904902a1b68dacdd9ea273"
      }
     },
     "metadata": {},
     "output_type": "display_data"
    }
   ],
   "execution_count": 2
  },
  {
   "metadata": {
    "ExecuteTime": {
     "end_time": "2025-05-05T23:49:41.245398Z",
     "start_time": "2025-05-05T23:49:40.391974Z"
    }
   },
   "cell_type": "code",
   "source": [
    "# Load adapter config\n",
    "adapter_name = \"retentionlabs/atlas-g-4b\"\n",
    "config = AtlasConfig.from_pretrained(adapter_name)"
   ],
   "id": "8cffd1cce5dca9e8",
   "outputs": [],
   "execution_count": 3
  },
  {
   "metadata": {
    "ExecuteTime": {
     "end_time": "2025-05-05T23:51:21.139546Z",
     "start_time": "2025-05-05T23:49:41.338680Z"
    }
   },
   "cell_type": "code",
   "source": [
    "# Convert the transformer to a retentive model\n",
    "model = RetentionEngine(basemodel, config)\n",
    "model.to(\"cuda\")"
   ],
   "id": "b7b7570bec8dd2eb",
   "outputs": [
    {
     "data": {
      "text/plain": [
       "RetentionEngine(\n",
       "  (module): PreTrainedTitansModel(\n",
       "    (model): Gemma3ForConditionalGeneration(\n",
       "      (vision_tower): SiglipVisionModel(\n",
       "        (vision_model): SiglipVisionTransformer(\n",
       "          (embeddings): SiglipVisionEmbeddings(\n",
       "            (patch_embedding): Conv2d(3, 1152, kernel_size=(14, 14), stride=(14, 14), padding=valid)\n",
       "            (position_embedding): Embedding(4096, 1152)\n",
       "          )\n",
       "          (encoder): SiglipEncoder(\n",
       "            (layers): ModuleList(\n",
       "              (0-26): 27 x SiglipEncoderLayer(\n",
       "                (layer_norm1): LayerNorm((1152,), eps=1e-06, elementwise_affine=True)\n",
       "                (self_attn): SiglipAttention(\n",
       "                  (k_proj): Linear(in_features=1152, out_features=1152, bias=True)\n",
       "                  (v_proj): Linear(in_features=1152, out_features=1152, bias=True)\n",
       "                  (q_proj): Linear(in_features=1152, out_features=1152, bias=True)\n",
       "                  (out_proj): Linear(in_features=1152, out_features=1152, bias=True)\n",
       "                )\n",
       "                (layer_norm2): LayerNorm((1152,), eps=1e-06, elementwise_affine=True)\n",
       "                (mlp): SiglipMLP(\n",
       "                  (activation_fn): PytorchGELUTanh()\n",
       "                  (fc1): Linear(in_features=1152, out_features=4304, bias=True)\n",
       "                  (fc2): Linear(in_features=4304, out_features=1152, bias=True)\n",
       "                )\n",
       "              )\n",
       "            )\n",
       "          )\n",
       "          (post_layernorm): LayerNorm((1152,), eps=1e-06, elementwise_affine=True)\n",
       "        )\n",
       "      )\n",
       "      (multi_modal_projector): Gemma3MultiModalProjector(\n",
       "        (mm_soft_emb_norm): Gemma3RMSNorm((1152,), eps=1e-06)\n",
       "        (avg_pool): AvgPool2d(kernel_size=4, stride=4, padding=0)\n",
       "      )\n",
       "      (language_model): Gemma3ForCausalLM(\n",
       "        (model): Gemma3TextModel(\n",
       "          (embed_tokens): Gemma3TextScaledWordEmbedding(262208, 2560, padding_idx=0)\n",
       "          (layers): ModuleList(\n",
       "            (0-33): 34 x Gemma3DecoderLayer(\n",
       "              (self_attn): Gemma3Attention(\n",
       "                (q_proj): Linear(in_features=2560, out_features=2048, bias=False)\n",
       "                (k_proj): Linear(in_features=2560, out_features=1024, bias=False)\n",
       "                (v_proj): Linear(in_features=2560, out_features=1024, bias=False)\n",
       "                (o_proj): Linear(in_features=2048, out_features=2560, bias=False)\n",
       "                (q_norm): Gemma3RMSNorm((256,), eps=1e-06)\n",
       "                (k_norm): Gemma3RMSNorm((256,), eps=1e-06)\n",
       "              )\n",
       "              (mlp): Gemma3MLP(\n",
       "                (gate_proj): Linear(in_features=2560, out_features=10240, bias=False)\n",
       "                (up_proj): Linear(in_features=2560, out_features=10240, bias=False)\n",
       "                (down_proj): Linear(in_features=10240, out_features=2560, bias=False)\n",
       "                (act_fn): PytorchGELUTanh()\n",
       "              )\n",
       "              (input_layernorm): Gemma3RMSNorm((2560,), eps=1e-06)\n",
       "              (post_attention_layernorm): Gemma3RMSNorm((2560,), eps=1e-06)\n",
       "              (pre_feedforward_layernorm): Gemma3RMSNorm((2560,), eps=1e-06)\n",
       "              (post_feedforward_layernorm): Gemma3RMSNorm((2560,), eps=1e-06)\n",
       "            )\n",
       "          )\n",
       "          (norm): Gemma3RMSNorm((2560,), eps=1e-06)\n",
       "          (rotary_emb): Gemma3RotaryEmbedding()\n",
       "          (rotary_emb_local): Gemma3RotaryEmbedding()\n",
       "        )\n",
       "        (lm_head): Linear(in_features=2560, out_features=262208, bias=False)\n",
       "      )\n",
       "    )\n",
       "  )\n",
       ")"
      ]
     },
     "execution_count": 4,
     "metadata": {},
     "output_type": "execute_result"
    }
   ],
   "execution_count": 4
  },
  {
   "metadata": {
    "ExecuteTime": {
     "end_time": "2025-05-05T23:51:22.939002Z",
     "start_time": "2025-05-05T23:51:22.920126Z"
    }
   },
   "cell_type": "code",
   "source": [
    "# Adapt the memory adapter to the model\n",
    "model.adapt()"
   ],
   "id": "a0866b3eb21fab87",
   "outputs": [],
   "execution_count": 5
  },
  {
   "metadata": {
    "ExecuteTime": {
     "end_time": "2025-05-05T23:59:31.043830Z",
     "start_time": "2025-05-05T23:51:23.185341Z"
    }
   },
   "cell_type": "code",
   "source": [
    "# Save the full model\n",
    "import os\n",
    "os.mkdir(\"pretrained\")\n",
    "model.save_pretrained(\"pretrained/gemma-3-4b-retentive\")"
   ],
   "id": "4dec00ff9c274e3c",
   "outputs": [],
   "execution_count": 6
  }
 ],
 "metadata": {
  "kernelspec": {
   "display_name": "Python 3",
   "language": "python",
   "name": "python3"
  },
  "language_info": {
   "codemirror_mode": {
    "name": "ipython",
    "version": 2
   },
   "file_extension": ".py",
   "mimetype": "text/x-python",
   "name": "python",
   "nbconvert_exporter": "python",
   "pygments_lexer": "ipython2",
   "version": "2.7.6"
  }
 },
 "nbformat": 4,
 "nbformat_minor": 5
}
