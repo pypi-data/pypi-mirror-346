{
 "cells": [
  {
   "cell_type": "code",
   "execution_count": 2,
   "id": "51af17c8",
   "metadata": {},
   "outputs": [],
   "source": [
    "from config import read_experiment_config"
   ]
  },
  {
   "cell_type": "code",
   "execution_count": 14,
   "id": "7a946b89",
   "metadata": {},
   "outputs": [
    {
     "name": "stdout",
     "output_type": "stream",
     "text": [
      "CONFIG:\n",
      "{'type': 'consent', 'main_text': 'ready?', 'checkbox_text': 'I am ready', 'button_text': 'Begin1', 'button_color': '#28a745'}\n",
      "{'type': 'video', 'video_filename': 'FB.mp4'}\n",
      "{'type': 'question', 'prompt': 'Pick a fruit:', 'options': ['Apple', 'Banana'], 'colors': ['red', 'yellow'], 'image': 'p.jpeg'}\n",
      "{'type': 'question', 'prompt': 'Pick a car:', 'options': ['Tesla', 'Ford'], 'colors': ['blue', 'gray'], 'image': 'p.jpeg'}\n",
      "{'type': 'question', 'prompt': 'Pick a city:', 'options': ['Padova', 'Bari'], 'colors': ['navy', 'olive'], 'image': 'p.jpeg'}\n",
      "{'type': 'popup', 'question': 'How do you feel?', 'options': ['Happy', 'Neutral', 'Sad'], 'colors': ['green', 'gray', 'red']}\n",
      "{'type': 'video', 'video_filename': 'FB.mp4'}\n",
      "{'type': 'question', 'prompt': 'Pick a fruit:', 'options': ['Apple', 'Banana'], 'colors': ['red', 'yellow'], 'image': 'p.jpeg'}\n",
      "{'type': 'question', 'prompt': 'Pick a car:', 'options': ['Tesla', 'Ford'], 'colors': ['blue', 'gray'], 'image': 'p.jpeg'}\n",
      "{'type': 'question', 'prompt': 'Pick a city:', 'options': ['Padova', 'Bari'], 'colors': ['navy', 'olive'], 'image': 'p.jpeg'}\n",
      "{'type': 'popup', 'question': 'How do you feel?', 'options': ['Happy', 'Neutral', 'Sad'], 'colors': ['green', 'gray', 'red']}\n",
      "{'type': 'consent', 'main_text': 'Please read carefully before starting... test1', 'checkbox_text': 'I agree to participate. test1', 'button_text': 'Begin1', 'button_color': '#28a745'}\n",
      "{'type': 'video', 'video_filename': 'FB.mp4'}\n",
      "{'type': 'question', 'prompt': 'Pick a fruit:', 'options': ['Apple', 'Banana'], 'colors': ['red', 'yellow'], 'image': 'p.jpeg'}\n",
      "{'type': 'question', 'prompt': 'Pick a car:', 'options': ['Tesla', 'Ford'], 'colors': ['blue', 'gray'], 'image': 'p.jpeg'}\n",
      "{'type': 'question', 'prompt': 'Pick a city:', 'options': ['Padova', 'Bari'], 'colors': ['navy', 'olive'], 'image': 'p.jpeg'}\n",
      "{'type': 'popup', 'question': 'How do you feel?', 'options': ['Happy', 'Neutral', 'Sad'], 'colors': ['green', 'gray', 'red']}\n",
      "{'type': 'consent', 'main_text': 'Tired', 'checkbox_text': 'I am not!!!', 'button_text': 'Begin1', 'button_color': '#28a745'}\n",
      "{'type': 'video', 'video_filename': 'FB.mp4'}\n",
      "{'type': 'question', 'prompt': 'Pick a fruit:', 'options': ['Apple', 'Banana'], 'colors': ['red', 'yellow'], 'image': 'p.jpeg'}\n",
      "{'type': 'question', 'prompt': 'Pick a car:', 'options': ['Tesla', 'Ford'], 'colors': ['blue', 'gray'], 'image': 'p.jpeg'}\n",
      "{'type': 'question', 'prompt': 'Pick a city:', 'options': ['Padova', 'Bari'], 'colors': ['navy', 'olive'], 'image': 'p.jpeg'}\n",
      "{'type': 'popup', 'question': 'How do you feel?', 'options': ['Happy', 'Neutral', 'Sad'], 'colors': ['green', 'gray', 'red']}\n",
      "{'type': 'end'}\n",
      "{'message': 'You’ve completed the experiment. Please call the researcher.'}\n",
      "{'background': '#eeeeee'}\n",
      "{'text_color': '#333333'}\n",
      "\n",
      "SELECTED ORDER: ['3', '1', '2', '4']\n"
     ]
    }
   ],
   "source": [
    "config, order = read_experiment_config(\"config.yml\")\n",
    "print(\"CONFIG:\")\n",
    "for item in config:\n",
    "    print(item)\n",
    "\n",
    "print(\"\\nSELECTED ORDER:\", order)"
   ]
  },
  {
   "cell_type": "markdown",
   "id": "f566dcfb",
   "metadata": {},
   "source": [
    "\n",
    "config = [\n",
    "    {\n",
    "        \"type\": \"consent\",\n",
    "        \"main_text\": \"Please read carefully before starting... test1\",\n",
    "        \"checkbox_text\": [\n",
    "        \"I agree to participate. test1\",\n",
    "        \"I am over 18 years old.\",\n",
    "        \"I understand the privacy policy.\"\n",
    "        ],\n",
    "        \"button_text\": \"Begin1\",\n",
    "        \"button_color\": \"#28a745\"\n",
    "    },\n",
    "    {\n",
    "        \"type\": \"dob\",\n",
    "        \"prompt\": \"Please select your date of birth:\"\n",
    "    },\n",
    "    {\n",
    "    \"type\": \"dropdown\",\n",
    "    \"prompt\": \"What is your country of residence?\",\n",
    "    \"options\": [\"Italy\", \"Germany\", \"France\", \"Other\"]\n",
    "    },\n",
    "    {\n",
    "        \"type\": \"video\",\n",
    "        \"video_filename\": \"FB.mp4\"\n",
    "    },\n",
    "    {\n",
    "        \"type\": \"question\",\n",
    "        \"prompt\": \"Pick a fruit:\",\n",
    "        \"options\": [\"Apple\", \"Banana\"],\n",
    "        \"colors\": [\"red\", \"yellow\"],\n",
    "        \"image\": \"p.jpeg\"\n",
    "    },\n",
    "    {\n",
    "        \"type\": \"question\",\n",
    "        \"prompt\": \"Pick a car:\",\n",
    "        \"options\": [\"Tesla\", \"Ford\"],\n",
    "        \"colors\": [\"blue\", \"gray\"],\n",
    "        \"image\": \"p.jpeg\"\n",
    "    },\n",
    "    {\n",
    "        \"type\": \"question\",\n",
    "        \"prompt\": \"Pick a city:\",\n",
    "        \"options\": [\"Padova\", \"Bari\"],\n",
    "        \"colors\": [\"navy\", \"olive\"],\n",
    "        \"image\": \"p.jpeg\"\n",
    "    },\n",
    "    {\n",
    "        \"type\": \"popup\",\n",
    "        \"question\": \"How do you feel?\",\n",
    "        \"options\": [\"Happy\", \"Neutral\", \"Sad\"],\n",
    "        \"colors\": [\"green\", \"gray\", \"red\"]\n",
    "    },\n",
    "    {\n",
    "        \"type\": \"end\",\n",
    "        \"message\": \"You’ve completed the experiment. Please call the researcher!\",\n",
    "        \"background\": \"#eeeeee\",\n",
    "        \"text_color\": \"#333333\"}\n",
    "    ]\n",
    " \n"
   ]
  }
 ],
 "metadata": {
  "kernelspec": {
   "display_name": "JTBrix",
   "language": "python",
   "name": "python3"
  },
  "language_info": {
   "codemirror_mode": {
    "name": "ipython",
    "version": 3
   },
   "file_extension": ".py",
   "mimetype": "text/x-python",
   "name": "python",
   "nbconvert_exporter": "python",
   "pygments_lexer": "ipython3",
   "version": "3.12.9"
  }
 },
 "nbformat": 4,
 "nbformat_minor": 5
}
