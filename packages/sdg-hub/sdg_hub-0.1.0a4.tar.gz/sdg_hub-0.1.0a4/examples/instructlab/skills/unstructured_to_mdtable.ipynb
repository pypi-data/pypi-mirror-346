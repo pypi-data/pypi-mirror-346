{
 "cells": [
  {
   "cell_type": "code",
   "execution_count": 1,
   "metadata": {},
   "outputs": [],
   "source": [
    "%load_ext autoreload\n",
    "%autoreload 2"
   ]
  },
  {
   "cell_type": "markdown",
   "metadata": {},
   "source": [
    "## Teaching a Language Model the Skill: Unstructured Text → Markdown Table\n",
    "\n",
    "Company X receives large volumes of user feedback through support emails, in-app surveys, and app store reviews. These messages often contain valuable product insights, but the content is unstructured and difficult to analyze at scale.\n",
    "\n",
    "To streamline internal workflows, an AI team at Company X wants to teach a language model how to convert raw user feedback into structured markdown tables. These tables summarize key topics, user sentiment, and issues in a format that’s easy to scan, report, or push into dashboards and tracking systems.\n",
    "\n",
    "We can do this using InstructLab!\n",
    "\n",
    "#### 🧾 Example Input and Output\n",
    "\n",
    "📥 Input (Unstructured Feedback)\n",
    "```\n",
    "Hey team — I’ve been using the new update for about a week now.\n",
    "\n",
    "Couple of things:\n",
    "- The dark mode is awesome, great job!\n",
    "- But the loading time after login feels slower than before. Not a deal breaker but noticeable.\n",
    "- I also noticed that the calendar widget doesn’t update properly if I change time zones.\n",
    "\n",
    "Overall, I love where this is going. Just needs a few tweaks.\n",
    "```\n",
    "📤 Output (Markdown Table)\n",
    "\n",
    "| Feature           | Feedback                                                               | Sentiment |\n",
    "|------------------|------------------------------------------------------------------------|-----------|\n",
    "| Dark Mode        | Works well, user is satisfied.                                          | Positive  |\n",
    "| Login Performance| Loading time after login is slower than previous version.               | Negative  |\n",
    "| Calendar Widget  | Doesn't update correctly when time zones change.                        | Negative  |\n",
    "| Overall          | User is happy with the direction of the product, but suggests tweaks.   | Positive  |"
   ]
  },
  {
   "cell_type": "markdown",
   "metadata": {},
   "source": [
    "## 🧑‍🏫 Step 1: Serving Teacher Model\n",
    "\n",
    "This demo expects an openai compatible endpoint. You can use your favorite inference server like vLLM, HFInferenceServer, LlamaStack, etc. For more details on how to setup an inference server using vLLM, please refer to the [README](README.md).\n",
    "\n",
    "For this demo we will use meta-llama/Llama-3.3-70B-Instruct as our teacher model.\n",
    "\n",
    "#### Let's test the connection"
   ]
  },
  {
   "cell_type": "code",
   "execution_count": 2,
   "metadata": {},
   "outputs": [
    {
     "name": "stdout",
     "output_type": "stream",
     "text": [
      "Connection successful! meta-llama/Llama-3.3-70B-Instruct: Hello. How can I help you today?\n"
     ]
    }
   ],
   "source": [
    "from openai import OpenAI\n",
    "\n",
    "openai_api_key = \"EMPTY\"\n",
    "openai_api_base = \"http://0.0.0.0:8000/v1\"\n",
    "\n",
    "\n",
    "client = OpenAI(\n",
    "    api_key=openai_api_key,\n",
    "    base_url=openai_api_base,\n",
    ")\n",
    "\n",
    "models = client.models.list()\n",
    "teacher_model = models.data[0].id\n",
    "\n",
    "# Test the connection with a simple completion\n",
    "response = client.chat.completions.create(\n",
    "    model=teacher_model,\n",
    "    messages=[{\"role\": \"user\", \"content\": \"Hello!\"}],\n",
    "    temperature=0.0,\n",
    "    max_tokens=10\n",
    ")\n",
    "completion = response.choices[0].message.content\n",
    "\n",
    "print(f\"Connection successful! {teacher_model}: {completion}\")"
   ]
  },
  {
   "cell_type": "markdown",
   "metadata": {},
   "source": [
    "## ✍️ Step 2: Provide Custom Examples\n",
    "\n",
    "As outlined in the LAB paper, the first step is to provide a small number of **seed examples** (typically 5) to bootstrap the skill. These examples are passed into the generation pipeline as input and are stored in a `.jsonl` file.\n",
    "\n",
    "For this demo, we’ll use the pre-populated seed file located at: [mdtable_seeds.jsonl](examples/instructlab/skills/sample_data/mdtable_seeds.jsonl)\n",
    "\n",
    "Lets open the file and explore a row: "
   ]
  },
  {
   "cell_type": "code",
   "execution_count": null,
   "metadata": {},
   "outputs": [],
   "source": [
    "from datasets import load_dataset\n",
    "\n",
    "# Load the seed dataset\n",
    "seed_data = load_dataset(\"json\", data_files=\"sample_data/unstructured_to_mdtable_seeds.jsonl\", split=\"train\")\n",
    "\n",
    "# Display the first example\n",
    "seed_data[0]"
   ]
  },
  {
   "cell_type": "markdown",
   "metadata": {},
   "source": [
    "#### Expected Output\n",
    "\n",
    "```\n",
    "{'task_description': 'Convert the following unstructured user feedback into a structured markdown table.',\n",
    " 'seed_question': \"Been using the new dashboard for a few days. It's way faster than the previous one, really appreciate the snappy filters. But export to CSV seems broken — nothing happens when I click it. Also, dark mode resets every time I log in.\\n\\nI would like to convert the above feedback into a markdown table with columns for Feature, Feedback and Sentiment.\",\n",
    " 'seed_response': \"| Feature           | Feedback                                                           | Sentiment |\\n|------------------|--------------------------------------------------------------------|-----------|\\n| Dashboard        | Much faster than previous version, filters are responsive.         | Positive  |\\n| Export to CSV    | Clicking the export button doesn't trigger a download.             | Negative  |\\n| Dark Mode        | Resets to light mode on login.                                     | Negative  |\"}\n",
    " ```"
   ]
  },
  {
   "cell_type": "markdown",
   "metadata": {},
   "source": [
    "## 🚀 Step 3: Generate Synthetic Data\n",
    "\n",
    "Now that we have our seed data ready, we can use LAB’s Skill Data Generator to create **high-quality synthetic training examples** for our custom skill.\n",
    "\n",
    "This step leverages a predefined **flow configuration** that encodes how seed examples are expanded — by generating new contexts, questions, and responses, and filtering them for quality.\n",
    "\n",
    "In this demo, we'll use the `synth_grounded_skills.yaml` flow, which follows LAB's grounded generation pattern (context → question → response)."
   ]
  },
  {
   "cell_type": "code",
   "execution_count": 4,
   "metadata": {},
   "outputs": [],
   "source": [
    "from sdg_hub.flow import Flow\n",
    "from sdg_hub.pipeline import Pipeline\n",
    "from sdg_hub.sdg import SDG\n",
    "\n",
    "# Path to the skill generation flow configuration\n",
    "flow_path = \"flows/synth_skills.yaml\"\n",
    "\n",
    "# Load the flow\n",
    "flow = Flow(client).get_flow_from_file(flow_path)\n",
    "\n",
    "# Initialize the synthetic data generator\n",
    "generator = SDG(\n",
    "    [Pipeline(flow)],\n",
    ")"
   ]
  },
  {
   "cell_type": "markdown",
   "metadata": {},
   "source": [
    "At this point, the generator is ready to run the full pipeline — including context generation, question/response generation, evaluation, and filtering — to produce a synthetic dataset that can be used for fine-tuning or skill bootstrapping.\n",
    "\n",
    "In the next step, we’ll run this pipeline and inspect the generated outputs.\n",
    "\n",
    "> ⚠️ Note: This would take a variable amount of time depending on the hardware used."
   ]
  },
  {
   "cell_type": "code",
   "execution_count": null,
   "metadata": {},
   "outputs": [],
   "source": [
    "generated_data = generator.generate(seed_data)"
   ]
  },
  {
   "cell_type": "markdown",
   "metadata": {},
   "source": [
    "## 🔍 Step 4: Explore and Validate the Synthetically Generated Data\n",
    "\n",
    "Once the skill generation pipeline has been executed, the output is a set of **synthetically generated examples** — new context-question-response triples that follow the same structure as the seed data but are expanded and refined by the teacher model.\n",
    "\n",
    "Below is an example of one generated entry:"
   ]
  },
  {
   "cell_type": "code",
   "execution_count": null,
   "metadata": {},
   "outputs": [
    {
     "data": {
      "text/plain": [
       "{'task_description': 'Convert the following unstructured user feedback into a structured markdown table.',\n",
       " 'seed_question': 'Really love the new calendar UI. The drag-and-drop is intuitive. One issue: reminders don’t always sync between desktop and mobile. Also noticed tooltips sometimes cover buttons.\\n\\nPlease convert the above feedback into a markdown table with columns for Feature, Feedback and Sentiment.',\n",
       " 'seed_response': '| Feature           | Feedback                                                             | Sentiment |\\n|------------------|----------------------------------------------------------------------|-----------|\\n| Calendar UI      | Drag-and-drop is intuitive and easy to use.                         | Positive  |\\n| Reminders Sync   | Inconsistent between desktop and mobile devices.                   | Negative  |\\n| Tooltips         | Occasionally block button access.                                   | Negative  |',\n",
       " 'question': 'The customer service representative I spoke to was very helpful and resolved my issue quickly. However, the wait time to speak to someone was over an hour, which is unacceptable. I also noticed that the website has a lot of useful resources and tutorials, but the search function could be improved.\\n\\nPlease convert the above feedback into a markdown table with columns for Feature, Feedback, and Sentiment.',\n",
       " 'response': '| Feature           | Feedback                                                             | Sentiment |\\n|------------------|----------------------------------------------------------------------|-----------|\\n| Customer Service | Representative was very helpful and resolved issue quickly.         | Positive  |\\n| Wait Time        | Excessive wait time of over an hour to speak to someone.            | Negative  |\\n| Website Resources| Many useful resources and tutorials available.                      | Positive  |\\n| Search Function  | Could be improved for better user experience.                       | Negative  |'}"
      ]
     },
     "execution_count": 6,
     "metadata": {},
     "output_type": "execute_result"
    }
   ],
   "source": [
    "import random \n",
    "\n",
    "rand_idx = random.choice(range(len(generated_data)))\n",
    "generated_data[rand_idx]"
   ]
  },
  {
   "cell_type": "markdown",
   "metadata": {},
   "source": [
    "#### Expected Output\n",
    "\n",
    "```\n",
    "{'task_description': 'Convert the following unstructured user feedback into a structured markdown table.',\n",
    " 'seed_question': 'Really love the new calendar UI. The drag-and-drop is intuitive. One issue: reminders don’t always sync between desktop and mobile. Also noticed tooltips sometimes cover buttons.\\n\\nPlease convert the above feedback into a markdown table with columns for Feature, Feedback and Sentiment.',\n",
    " 'seed_response': '| Feature           | Feedback                                                             | Sentiment |\\n|------------------|----------------------------------------------------------------------|-----------|\\n| Calendar UI      | Drag-and-drop is intuitive and easy to use.                         | Positive  |\\n| Reminders Sync   | Inconsistent between desktop and mobile devices.                   | Negative  |\\n| Tooltips         | Occasionally block button access.                                   | Negative  |',\n",
    " 'question': 'The customer service representative I spoke to was very helpful and resolved my issue quickly. However, the wait time to speak to someone was over an hour, which is unacceptable. I also noticed that the website has a lot of useful resources and tutorials, but the search function could be improved.\\n\\nPlease convert the above feedback into a markdown table with columns for Feature, Feedback, and Sentiment.',\n",
    " 'response': '| Feature           | Feedback                                                             | Sentiment |\\n|------------------|----------------------------------------------------------------------|-----------|\\n| Customer Service | Representative was very helpful and resolved issue quickly.         | Positive  |\\n| Wait Time        | Excessive wait time of over an hour to speak to someone.            | Negative  |\\n| Website Resources| Many useful resources and tutorials available.                      | Positive  |\\n| Search Function  | Could be improved for better user experience.                       | Negative  |'}\n",
    " ```\n",
    "\n",
    " Note: Since the generated data is random, the output will be different."
   ]
  },
  {
   "cell_type": "code",
   "execution_count": null,
   "metadata": {},
   "outputs": [],
   "source": [
    "print(generated_data[rand_idx]['question']), print(generated_data[rand_idx]['response'])"
   ]
  },
  {
   "cell_type": "markdown",
   "metadata": {},
   "source": [
    "#### Expected Output\n",
    "\n",
    "```\n",
    "The customer service representative I spoke to was very helpful and resolved my issue quickly. However, the wait time to speak to someone was over an hour, which is unacceptable. I also noticed that the website has a lot of useful resources and tutorials, but the search function could be improved.\n",
    "\n",
    "Please convert the above feedback into a markdown table with columns for Feature, Feedback, and Sentiment.\n",
    "\n",
    "\n",
    "| Feature           | Feedback                                                             | Sentiment |\n",
    "|------------------|----------------------------------------------------------------------|-----------|\n",
    "| Customer Service | Representative was very helpful and resolved issue quickly.         | Positive  |\n",
    "| Wait Time        | Excessive wait time of over an hour to speak to someone.            | Negative  |\n",
    "| Website Resources| Many useful resources and tutorials available.                      | Positive  |\n",
    "| Search Function  | Could be improved for better user experience.                       | Negative  |\n",
    "\n",
    "```"
   ]
  },
  {
   "cell_type": "markdown",
   "metadata": {},
   "source": [
    "## 🏁 Conclusion\n",
    "\n",
    "In this notebook, we demonstrated how to teach a custom skill to a language model using the InstructLab Skill Data Generator (SDG). Starting from a small set of seed examples, we walked through the full synthetic data generation pipeline — including context creation, question generation, response synthesis, evaluation, and filtering.\n",
    "\n",
    "We explored a real-world use case: **transforming unstructured user feedback into structured markdown tables**, and showed how the LAB framework can automate the generation of high-quality, instructional training data at scale.\n",
    "\n",
    "This approach is especially powerful for procedural or domain-specific tasks where labeled data is scarce but consistent task logic can be modeled. With just a few carefully curated seed examples, you can unlock scalable skill creation and push new capabilities into LLMs with minimal manual effort.\n",
    "\n",
    "You’re now ready to use these synthetic examples for Fine-tuning small models! \n",
    "\n",
    "Next steps? \n",
    "\n",
    "* Try changing the parameters of the flow to see how the generated data changes (e.g. change the `num_samples` or try generating with different temperature)\n",
    "* Try adapting this pipeline to your own task, domain, or format — whether it’s triaging support tickets, extracting structured data, or following domain-specific workflows. The skills are yours to create."
   ]
  }
 ],
 "metadata": {
  "kernelspec": {
   "display_name": "lab",
   "language": "python",
   "name": "python3"
  },
  "language_info": {
   "codemirror_mode": {
    "name": "ipython",
    "version": 3
   },
   "file_extension": ".py",
   "mimetype": "text/x-python",
   "name": "python",
   "nbconvert_exporter": "python",
   "pygments_lexer": "ipython3",
   "version": "3.11.12"
  }
 },
 "nbformat": 4,
 "nbformat_minor": 2
}
