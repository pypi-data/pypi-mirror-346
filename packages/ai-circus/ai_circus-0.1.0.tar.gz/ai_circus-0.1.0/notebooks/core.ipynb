{
    "cells": [
        {
            "cell_type": "code",
            "execution_count": 1,
            "id": "4f08fa4f",
            "metadata": {},
            "outputs": [
                {
                    "name": "stdout",
                    "output_type": "stream",
                    "text": [
                        "\u001b[32m2025-05-07 19:30:41\u001b[0m | \u001b[1mINFO    \u001b[0m | \u001b[36m3291202147.py:7\u001b[0m | \u001b[1mStarting the script...\u001b[0m\n"
                    ]
                }
            ],
            "source": [
                "%load_ext autoreload\n",
                "%autoreload 2\n",
                "\n",
                "from ai_circus.core import logger\n",
                "\n",
                "log = logger.init(level=\"INFO\")\n",
                "log.info(\"Starting the script...\")"
            ]
        },
        {
            "cell_type": "code",
            "execution_count": 2,
            "id": "d6e14ddb",
            "metadata": {},
            "outputs": [
                {
                    "name": "stdout",
                    "output_type": "stream",
                    "text": [
                        "\u001b[32m2025-05-07 19:30:41\u001b[0m | \u001b[1mINFO    \u001b[0m | \u001b[36m3815160652.py:3\u001b[0m | \u001b[1mInfo\u001b[0m\n",
                        "\u001b[32m2025-05-07 19:30:41\u001b[0m | \u001b[33m\u001b[1mWARNING \u001b[0m | \u001b[36m3815160652.py:4\u001b[0m | \u001b[33m\u001b[1mWarning\u001b[0m\n",
                        "\u001b[32m2025-05-07 19:30:41\u001b[0m | \u001b[31m\u001b[1mERROR   \u001b[0m | \u001b[36m3815160652.py:5\u001b[0m | \u001b[31m\u001b[1mError\u001b[0m\n",
                        "\u001b[32m2025-05-07 19:30:41\u001b[0m | \u001b[41m\u001b[1mCRITICAL\u001b[0m | \u001b[36m3815160652.py:6\u001b[0m | \u001b[41m\u001b[1mCritical\u001b[0m\n"
                    ]
                }
            ],
            "source": [
                "def show_logs():\n",
                "    log.debug(\"Debug\")\n",
                "    log.info(\"Info\")\n",
                "    log.warning(\"Warning\")\n",
                "    log.error(\"Error\")\n",
                "    log.critical(\"Critical\")\n",
                "\n",
                "\n",
                "show_logs()"
            ]
        },
        {
            "cell_type": "code",
            "execution_count": 3,
            "id": "dfdd8085",
            "metadata": {},
            "outputs": [
                {
                    "name": "stdout",
                    "output_type": "stream",
                    "text": [
                        "\u001b[32m2025-05-07 19:30:44\u001b[0m | \u001b[1mINFO    \u001b[0m | \u001b[36minfo.py:56\u001b[0m | \u001b[1mMACHINE                  Intel(R) Core(TM) i5-8265U CPU @ 1.60GHz (8 cores, 15 GB RAM)\u001b[0m\n",
                        "\u001b[32m2025-05-07 19:30:44\u001b[0m | \u001b[1mINFO    \u001b[0m | \u001b[36minfo.py:69\u001b[0m | \u001b[1mGPU                      PyTorch not installed\u001b[0m\n",
                        "\u001b[32m2025-05-07 19:30:44\u001b[0m | \u001b[1mINFO    \u001b[0m | \u001b[36minfo.py:33\u001b[0m | \u001b[1mOS                       Linux-6.11.0-25-generic-x86_64-with-glibc2.39\u001b[0m\n",
                        "\u001b[32m2025-05-07 19:30:44\u001b[0m | \u001b[1mINFO    \u001b[0m | \u001b[36minfo.py:43\u001b[0m | \u001b[1mENV                      /home/angel/PROJECTS/ai-circus/.venv\u001b[0m\n",
                        "\u001b[32m2025-05-07 19:30:44\u001b[0m | \u001b[1mINFO    \u001b[0m | \u001b[36minfo.py:44\u001b[0m | \u001b[1mPYTHON                   3.13.3\u001b[0m\n",
                        "\u001b[32m2025-05-07 19:30:44\u001b[0m | \u001b[1mINFO    \u001b[0m | \u001b[36minfo.py:48\u001b[0m | \u001b[1m - httpx                 0.28.1\u001b[0m\n",
                        "\u001b[32m2025-05-07 19:30:44\u001b[0m | \u001b[1mINFO    \u001b[0m | \u001b[36minfo.py:85\u001b[0m | \u001b[1mEXECUTION PATH           /home/angel/PROJECTS/ai-circus/notebooks\u001b[0m\n",
                        "\u001b[32m2025-05-07 19:30:44\u001b[0m | \u001b[1mINFO    \u001b[0m | \u001b[36minfo.py:86\u001b[0m | \u001b[1mEXECUTION DATE           Wed May  7 19:30:44 2025\u001b[0m\n"
                    ]
                }
            ],
            "source": [
                "from ai_circus.core.info import info_system\n",
                "\n",
                "info_system()"
            ]
        }
    ],
    "metadata": {
        "kernelspec": {
            "display_name": ".venv",
            "language": "python",
            "name": "python3"
        },
        "language_info": {
            "codemirror_mode": {
                "name": "ipython",
                "version": 3
            },
            "file_extension": ".py",
            "mimetype": "text/x-python",
            "name": "python",
            "nbconvert_exporter": "python",
            "pygments_lexer": "ipython3",
            "version": "3.13.3"
        }
    },
    "nbformat": 4,
    "nbformat_minor": 5
}
