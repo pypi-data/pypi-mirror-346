{
 "cells": [
  {
   "cell_type": "markdown",
   "metadata": {},
   "source": [
    "(tutorials)=\n",
    "\n",
    "# About these tutorials\n",
    "\n",
    "The tutorials in this section are automatically executed with every change of\n",
    "the code to make sure that they are always up-to-date. As a result, they are\n",
    "designed to require only a relatively small amount of computation time; when\n",
    "using `jaxoplanet` for real problems you will probably find that your run\n",
    "times are longer.\n",
    "\n",
    "To execute a tutorial on your own, you can click on the buttons at the top right\n",
    "or this page to launch the notebook using [Binder](https://mybinder.org),\n",
    "[Colab](https://colab.research.google.com), or download the `.ipynb` file\n",
    "directly.\n",
    "\n",
    "## Extra dependencies\n",
    "\n",
    "Most of these tutorials use the probabilistic programming library `NumPyro` to make \n",
    "inference based on real or synthetic datasets. Hence, you will need the following extra packages:\n",
    "- [NumPyro](https://num.pyro.ai/en/stable/getting_started.html) : a lightweight probabilistic programming library.\n",
    "- [NumPyro-ext](https://github.com/dfm/numpyro-ext) : a package that extends NumPyro with a set of helper functions, custom distributions and other utilities.\n",
    "- [corner](https://corner.readthedocs.io/en/latest/) : a package to visualize multidimensional samples using a scatterplot matrix.\n",
    "- [Arviz](https://python.arviz.org/en/stable/) : a package for exploratory analysis of Bayesian models\n",
    "\n",
    "In addition, the [Lightkurve](https://docs.lightkurve.org/) may be required to download real datasets from the Kepler and TESS missions.\n",
    "\n",
    "For reference, here is the version of the packages used to generate these tutorials:"
   ]
  },
  {
   "cell_type": "code",
   "execution_count": null,
   "metadata": {},
   "outputs": [],
   "source": [
    "import jax\n",
    "import arviz\n",
    "import numpy\n",
    "import corner\n",
    "import numpyro\n",
    "import jaxoplanet\n",
    "import numpyro_ext\n",
    "\n",
    "print(f\"jaxoplanet.__version__ = {jaxoplanet.__version__}\")\n",
    "print(f\"numpy.__version__ = {numpy.__version__}\")\n",
    "print(f\"numpyro.__version__ = {numpyro.__version__}\")\n",
    "print(f\"numpyro_ext.__version__ = {numpyro_ext.__version__}\")\n",
    "print(f\"jax.__version__ = {jax.__version__}\")\n",
    "print(f\"corner.__version__ = {corner.__version__}\")\n",
    "print(f\"arviz.__version__ = {arviz.__version__}\")"
   ]
  }
 ],
 "metadata": {
  "kernelspec": {
   "display_name": "jaxoplanet",
   "language": "python",
   "name": "python3"
  },
  "language_info": {
   "codemirror_mode": {
    "name": "ipython",
    "version": 3
   },
   "file_extension": ".py",
   "mimetype": "text/x-python",
   "name": "python",
   "nbconvert_exporter": "python",
   "pygments_lexer": "ipython3",
   "version": "3.11.9"
  }
 },
 "nbformat": 4,
 "nbformat_minor": 2
}
