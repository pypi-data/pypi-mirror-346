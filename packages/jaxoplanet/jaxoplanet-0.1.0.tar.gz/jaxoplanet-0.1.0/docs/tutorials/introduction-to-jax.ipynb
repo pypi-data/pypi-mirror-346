{
 "cells": [
  {
   "cell_type": "markdown",
   "metadata": {},
   "source": [
    "# A brief introduction to JAX\n",
    "\n",
    "Google JAX is a high-performance, open-source numerical computing library with a NumPy-like API that is notable for the following features.\n",
    "- **XLA compilation:** JAX allows certain Python functions to be compiled more efficiently using XLA.\n",
    "- **Hardware acceleration:** In addition to the CPU, JAX seamlessly integrates with GPUs and TPUs.\n",
    "- **Differentiable Programming:** JAX comes with high-performance automatic differentiation.\n",
    "\n",
    "This tutorial is meant to give you a brief introduction to JAX and is structured as follows.\n",
    "\n",
    "- [An accelerated NumPy](#an-accelerated-numpy)\n",
    "- [Useful higher-order functions](#useful-higher-order-functions)\n",
    "- [PyTrees](#pytrees)\n"
   ]
  },
  {
   "cell_type": "markdown",
   "metadata": {},
   "source": [
    "(an-accelerated-numpy)=\n",
    "## An accelerated NumPy\n",
    "\n",
    "A major appeal of JAX is that its API is largely based on the highly prevalent scientific computing library NumPy.\n",
    "As a consequence, many programs would run just as well in JAX if we replaced `np` with `jnp`.\n",
    "Let's look at a few lines of code written in JAX, to illustrate this:\n"
   ]
  },
  {
   "cell_type": "code",
   "execution_count": null,
   "metadata": {},
   "outputs": [],
   "source": [
    "from typing import Union\n",
    "\n",
    "import jax\n",
    "import jax.numpy as jnp\n",
    "import numpy as np\n",
    "\n",
    "x = jnp.linspace(0, 5, 11)\n",
    "x"
   ]
  },
  {
   "cell_type": "code",
   "execution_count": null,
   "metadata": {},
   "outputs": [],
   "source": [
    "unit_circle_arr = jnp.sin(x) ** 2 + jnp.cos(x) ** 2\n",
    "print(jnp.round(jnp.mean(unit_circle_arr), 7))"
   ]
  },
  {
   "cell_type": "markdown",
   "metadata": {},
   "source": [
    "Apart from the standard float size of 32 bits, this looks like good old NumPy!\n"
   ]
  },
  {
   "cell_type": "markdown",
   "metadata": {},
   "source": [
    "### Purely functional programming and the difference between JAX and NumPy\n",
    "\n",
    "To understand the nuances between NumPy and JAX, it is important to note that many of the benefits of plain JAX only really manifest themselves when code is written in a **purely functional** paradigm,\n",
    "i.e. programs that are constructed by applying and composing pure functions.\n",
    "\n",
    "#### Pure functions\n",
    "\n",
    "A function is said to be \"pure\" if its **return value is determined solely by its input parameters** and it has **no side effects**.\n",
    "A side effect is any effect of a function that isn't returned in its output.\n",
    "Modifying an object passed to the function is an example of a side effect.\n",
    "Pure functions have distinct properties that are conducive to advanced optimisations,\n",
    "which is, of course, in line with JAX's primary goal of improving performance.\n",
    "\n",
    "#### Array modifications\n",
    "Let's look at a case NumPy's impure implementation leads to differing behavior between JAX and NumPy:\n"
   ]
  },
  {
   "cell_type": "code",
   "execution_count": null,
   "metadata": {},
   "outputs": [],
   "source": [
    "def sort_array(arr: Union[np.ndarray, jax.Array], library_name: str = \"\") -> None:\n",
    "    return_arr = arr.sort()\n",
    "    print(f\"{library_name:>5s}:  arr = {arr}, return_arr = {return_arr}\")\n",
    "\n",
    "\n",
    "sort_array(np.array([2, 1, 0]), library_name=\"numpy\")\n",
    "sort_array(jnp.array([2, 1, 0]), library_name=\"jax\")"
   ]
  },
  {
   "cell_type": "markdown",
   "metadata": {},
   "source": [
    "We notice that while `arr.sort()` changes the array in place in the case of NumPy, JAX returns a sorted copy of the array, leaving the original unchanged.\n",
    "\n",
    "One of the most common cases where the difference in API between JAX and NumPy becomes noticeable is when an array is modified in place using indices.\n",
    "The JAX counterpart to `array[index] = value` is `array.at[index].set(value)`.\n",
    "But unlike in NumPy, JAX creates and returns a new array with the corresponding modifications made:"
   ]
  },
  {
   "cell_type": "code",
   "execution_count": null,
   "metadata": {},
   "outputs": [],
   "source": [
    "x_old = jnp.zeros(1)\n",
    "\n",
    "# The NumPy equivalent x_old[0] = 1 would throw a TypeError\n",
    "x_new = x_old.at[0].set(1)\n",
    "\n",
    "print(f\"x_new = {x_new}, while x_old = {x_old} remains unchanged.\")"
   ]
  },
  {
   "cell_type": "markdown",
   "metadata": {},
   "source": [
    "> **Remark**: JAX computations are often compiled before being run using `jax.jit()`, which we will introduce below.\n",
    "> If we don’t use the old array after modifying it in place using indexed update operators,\n",
    "> the compiler can recognise that it can in fact compile to an in-place modify,\n",
    "> ultimately resulting in a more memory efficient code than would be expected from examining the above behaviour.\n",
    "\n",
    "#### Random number generation\n",
    "\n",
    "Another violation of the principle of pure functions would be for a function to depend indirectly on the state of a global pseudorandom number generator (PRNG). \n",
    "For this reason, the approach to pseudorandom number generation in JAX differs slightly from that in NumPy:"
   ]
  },
  {
   "cell_type": "code",
   "execution_count": null,
   "metadata": {},
   "outputs": [],
   "source": [
    "# To generate random numbers you need a PRNG key\n",
    "key = jax.random.PRNGKey(seed=42)\n",
    "print(f\"Initial key = {key}\")\n",
    "\n",
    "# You can split this key into a `subkey` when needed\n",
    "key, subkey = jax.random.split(key)\n",
    "print(f\"Key after split = {key}\")\n",
    "print(f\"Subkey = {subkey}\")\n",
    "\n",
    "# Generate an array of random numbers\n",
    "random_jnp = jax.random.uniform(key=subkey, shape=(5,))"
   ]
  },
  {
   "cell_type": "markdown",
   "metadata": {},
   "source": [
    "#### Out-of-bounds indexing\n",
    "Raising an error from code running on an accelerator can be difficult or impossible. Therefore, in situations where NumPy would throw index errors, JAX does not.\n",
    "For example, when accessing an index out of bounds, JAX will confine the index to the bounds of the array:"
   ]
  },
  {
   "cell_type": "code",
   "execution_count": null,
   "metadata": {},
   "outputs": [],
   "source": [
    "print(jnp.arange(10.0)[11])\n",
    "\n",
    "# Or if you want a specific value when the index is outside the limits, e.g. NaN\n",
    "print(jnp.arange(10.0).at[11].get(mode=\"fill\", fill_value=jnp.nan))"
   ]
  },
  {
   "cell_type": "markdown",
   "metadata": {},
   "source": [
    "(useful-higher-order-functions)=\n",
    "## Useful higher-order functions\n",
    "\n",
    "JAX comes with a number of higher-order functions that take a function as an input and transform it into a different function.\n",
    "These functions are useful when writing numeric code and often lead to performance gains.\n",
    "\n",
    "In the following, we will introduce the following higher-order functions\n",
    "\n",
    "- `jit()`, for compiling your Python code, boosting performance in many cases.\n",
    "- `grad()`, for computing gradients of functions with respect to their inputs.\n",
    "- `vmap()`, for automatic vectorization or batching.\n"
   ]
  },
  {
   "cell_type": "markdown",
   "metadata": {},
   "source": [
    "### Just In Time Compilation with `jax.jit()`\n",
    "\n",
    "`jax.jit()` provides Just In Time (JIT) compilation of pure Python functions into an intermediate language called **JAX expression (jaxpr)**.\n",
    "It does so by tracing a function to determine its effect on inputs of a specific shape and type.\n",
    "\n",
    "#### jaxpr, XLA and traicing\n",
    "\n",
    "jaxpr serves as the interface between the high-level functional programming constructs of JAX and the low-level optimisations and execution strategies provided by XLA.\n",
    "**XLA**, or Accelerated Linear Algebra, is a very fast compiler that forms the basis of what makes JAX uniquely powerful and easy to use on various hardware platforms. More precisely, XLA is a graph-based, just-in-time compiler for linear algebra operations. It significantly increases execution speed and reduces memory usage through a variety of optimisations, notably the fusion of low-level operations.\n",
    "\n",
    "We can examine the jaxpr translation of a python function using `jax.make_jaxpr()`.\n",
    "Although reading jaxpr provides a deeper understanding of JAX as a framework,\n",
    "understanding it is not a prerequisite for using JAX, and a thorough introduction to jaxpr would be beyond the scope of this introductory tutorial.\n",
    "What is very useful to know, however, is that JAX builds the jaxpr of a Python function using a process called **tracing**:\n",
    "During tracing, JAX encapsulates each argument with a tracer object,\n",
    "which allows JAX operations to be recorded as the function is called within regular Python.\n",
    "These recorded operations are then used by JAX to reconstruct the function,\n",
    "resulting in the jaxpr translation of the function.\n",
    "\n",
    "Let's compile the following function, to illustrate how the tracing works:\n"
   ]
  },
  {
   "cell_type": "code",
   "execution_count": null,
   "metadata": {},
   "outputs": [],
   "source": [
    "@jax.jit\n",
    "def add_one(x: jax.Array) -> jax.Array:\n",
    "    print(\"I'm being traced!\")\n",
    "    y = x + 1\n",
    "    return y\n",
    "\n",
    "\n",
    "print(\"First call\")\n",
    "print(\"Result:\", add_one(jnp.array([0.0])))\n",
    "\n",
    "print(\"\\nSubsequent call with array of the same shape\")\n",
    "print(\"Result:\", add_one(jnp.array([0.0])))\n",
    "\n",
    "print(\"\\nSubsequent call with array of different shape\")\n",
    "print(\"Result:\", add_one(jnp.array([1.0, 2.0, 3.0])))"
   ]
  },
  {
   "cell_type": "markdown",
   "metadata": {},
   "source": [
    "Note that JAX was able to compile this function successfully, despite the presence of an impurity introduced by the print statement.\n",
    "However, it's important to realise that the behaviour of the compiled function differs from that of the original Python function, as it no longer executes the print statement.\n",
    "Note also that the function will be retraced if the shape of the input array is changed.\n",
    "\n",
    "Lets look at the speed-up we can achieve, when compiling a function that requires a little more advanced computation executed multiple times:\n"
   ]
  },
  {
   "cell_type": "code",
   "execution_count": null,
   "metadata": {},
   "outputs": [],
   "source": [
    "def selu(x: jax.Array, alpha: float = 1.1, lmbda: float = 1.05) -> jax.Array:\n",
    "    return lmbda * jnp.where(x > 0, x, alpha * jnp.exp(x) - alpha)\n",
    "\n",
    "\n",
    "x = jnp.arange(0, 10, 10)\n",
    "\n",
    "# Without jit compilation\n",
    "%timeit -n 2000 selu(x).block_until_ready()\n",
    "\n",
    "# With jit compilation\n",
    "selu_jit = jax.jit(selu)\n",
    "%timeit -n 2000 selu_jit(x).block_until_ready()"
   ]
  },
  {
   "cell_type": "markdown",
   "metadata": {},
   "source": [
    "Naturally, we aim to convert as many computations as possible into jaxpr format to take advantage of the optimisation capabilities of the XLA compiler.\n",
    "However, it's important to note that converting a function to jaxpr will typically only save time if the function is computationally intensive or if it needs to be executed multiple times.\n",
    "Otherwise, the compilation overhead may outweigh the performance benefits.\n"
   ]
  },
  {
   "cell_type": "code",
   "execution_count": null,
   "metadata": {},
   "outputs": [],
   "source": [
    "# Compilation time\n",
    "%timeit -n 1 -r 1 selu_jit = jax.jit(selu)"
   ]
  },
  {
   "cell_type": "markdown",
   "metadata": {},
   "source": [
    "There are many more elaborate examples that could be used to illustrate the efficiency gains achieved by using JAX.\n",
    "However, to keep the execution time of this notebook to a minimum, we will not explore this further and encourage the curious reader to do so themselves.\n"
   ]
  },
  {
   "cell_type": "markdown",
   "metadata": {},
   "source": [
    "#### Limitations\n",
    "\n",
    "Not all JAX code can be JIT compiled, as it requires array shapes to be static and known at compile time.\n",
    "Let's look at an example where `jax.jit` fails:\n"
   ]
  },
  {
   "cell_type": "code",
   "execution_count": null,
   "metadata": {},
   "outputs": [],
   "source": [
    "@jax.jit\n",
    "def naive_relu(x: float) -> float:\n",
    "    if x > 0:\n",
    "        return x\n",
    "    else:\n",
    "        return 0\n",
    "\n",
    "\n",
    "try:\n",
    "    naive_relu(10)\n",
    "except Exception as ex:\n",
    "    print(f\"{type(ex).__name__}\")"
   ]
  },
  {
   "cell_type": "markdown",
   "metadata": {},
   "source": [
    "The problem here is that we are trying to condition on the value of an input to the function being jitted.\n",
    "However, the tracer object used to translate the function into jaxpr is abstract and has no concrete value. As a result, the `ConcretizationTypeError` is thrown.\n",
    "Note that in the above case we could use `jax.numpy.where(x > 0, x, 0)` instead.\n"
   ]
  },
  {
   "cell_type": "markdown",
   "metadata": {},
   "source": [
    "### Automatic differentiation with `jax.grad()`\n",
    "\n",
    "Given a scalar function $f(x)$, it's gradient, $(\\nabla f)$, is defined as\n",
    "\n",
    "$$\n",
    "(\\nabla f) (x)_i = \\frac{\\partial f}{\\partial x_i}(x).\n",
    "$$\n",
    "\n",
    "`jax.grad(f)` is the function that computes the gradient of a scalar function f written in Python, corresponding to $\\nabla f$ in the expression above. The autodiff engine in JAX is very similar to that of autograd.\n",
    "\n",
    "Let's look at an example:"
   ]
  },
  {
   "cell_type": "code",
   "execution_count": null,
   "metadata": {},
   "outputs": [],
   "source": [
    "def sum_squared_error(x: jax.Array, y: jax.Array):\n",
    "    return jnp.sum(x * y)\n",
    "\n",
    "\n",
    "x = jnp.array([0.0, 1.0, 2.0, 3.0])\n",
    "y = jnp.zeros(4)\n",
    "\n",
    "# Gradient with respect to 0th argument\n",
    "print(\"df/dx = y =\", jax.grad(sum_squared_error)(x, y))\n",
    "\n",
    "# Gradient with respect to 1st argument\n",
    "print(\"df/dy = x =\", jax.grad(sum_squared_error, argnums=1)(x, y))"
   ]
  },
  {
   "cell_type": "markdown",
   "metadata": {},
   "source": [
    "A nice feature of JAX's `jax.grad` is that we can compose it as often as we like. Accordingly, we can easily calculate higher derivatives:\n"
   ]
  },
  {
   "cell_type": "code",
   "execution_count": null,
   "metadata": {},
   "outputs": [],
   "source": [
    "def some_polynomial(x: float) -> float:\n",
    "    return x**2 + 1\n",
    "\n",
    "\n",
    "# Second derivative\n",
    "print(f\"f''(x) = {jax.grad(jax.grad(some_polynomial))(0.0)}\")"
   ]
  },
  {
   "cell_type": "markdown",
   "metadata": {},
   "source": [
    "### Automatic Vectorization with `jax.vmap()`\n",
    "\n",
    "Automatic vectorisation means that a function is applied to multiple inputs across one or more array axes simultaneously,\n",
    "effectively parallelizing operations along the stack dimensions, which can significantly improve performance.\n",
    "JAX allows us to vectorise functions using `jax.vmap()`.\n",
    "The keyword `in_axes` can be used to specify the axes along which the function should be applied.\n",
    "If `in_axes= None`, then all axes will be vectorized.\n",
    "\n",
    "Let's look at the example of a one-dimensional convolution, where we calculate the local mean of an array using a window size of 3.\n",
    "We start with a simple one-dimensional implementation:\n"
   ]
  },
  {
   "cell_type": "code",
   "execution_count": null,
   "metadata": {},
   "outputs": [],
   "source": [
    "def convolve(x: jax.Array, weights: jax.Array) -> jax.Array:\n",
    "    output = []\n",
    "    for i in range(1, len(x) - 1):\n",
    "        output.append(jnp.dot(x[i - 1 : i + 2], weights))\n",
    "    return jnp.array(output)\n",
    "\n",
    "\n",
    "x = jnp.array([-1.0, 0.0, 1.0, 0, -1.0])\n",
    "weights = jnp.array([1.0, 1.0, 1.0]) / 3\n",
    "\n",
    "convolve(x, weights)"
   ]
  },
  {
   "cell_type": "markdown",
   "metadata": {},
   "source": [
    "Now let's say we have a multi-column array and we want to calculate this local average for each column:"
   ]
  },
  {
   "cell_type": "code",
   "execution_count": null,
   "metadata": {},
   "outputs": [],
   "source": [
    "x_batch = jnp.stack([jnp.zeros_like(x), x, jnp.ones_like(x)]).T\n",
    "print(x_batch)"
   ]
  },
  {
   "cell_type": "markdown",
   "metadata": {},
   "source": [
    "`jax.vmap` allows us to apply `convolve()` to each column of `x_batch`:\n"
   ]
  },
  {
   "cell_type": "code",
   "execution_count": null,
   "metadata": {},
   "outputs": [],
   "source": [
    "# As we convolve a single set of weights with a batch of column vectors,\n",
    "# we set in_axes=(1, None)\n",
    "convolve_column_wise = jax.vmap(convolve, in_axes=(1, None), out_axes=1)\n",
    "print(convolve_column_wise(x_batch, weights))"
   ]
  },
  {
   "cell_type": "markdown",
   "metadata": {},
   "source": [
    "#### A brief comment on parallel execution in JAX with `jax.pmap()`\n",
    "\n",
    "JAX supports single-program, multiple-data (SPMD) parallelism, a technique where the same function is executed in parallel on different devices processing different input data.\n",
    "JAX supports SPMD through `pmap()`, which is semantically similar to `vmap()` because both transformations map a function over array axes.\n",
    "However, unlike `vmap()`, `pmap()` replicates the function and executes each replica in parallel on its own XLA device.\n"
   ]
  },
  {
   "cell_type": "markdown",
   "metadata": {},
   "source": [
    "(pytrees)=\n",
    "## PyTrees\n",
    "\n",
    "PyTrees are a foundational concept within JAX, enabling seamless handling of nested data structures\n",
    "such as dictionaries, lists, or tuples, in a way that is compatible with the higher-order functions introduced above.\n",
    "\n",
    "A PyTree is \"a tree-like structure built out of container-like Python objects.\n",
    "Classes are considered container-like if they are in the PyTree registry\".\n",
    "By default, the PyTree registry includes the classes `list`, `tuple`, and `dict`.\n",
    "Furthermore, any object not in the registry, such as numbers or arrays, is considered a **leaf**.\n",
    "In addition to its leaves, a PyTree can contain other PyTrees, forming a nested structure.\n",
    "\n",
    "<div class=\"alert alert-block alert-info\">\n",
    "ⓘ The <b>Equinox library</b> provides the functionality to register custom classes as PyTrees by inheritance from <code>equinox.Module</code>. \n",
    "This facilitates seamless integration of custom structures into the PyTree ecosystem,\n",
    "enhancing the flexibility and extensibility of PyTree-based operations.\n",
    "</div>\n",
    "\n",
    "Let's take a short stroll through the woods:\n"
   ]
  },
  {
   "cell_type": "code",
   "execution_count": null,
   "metadata": {},
   "outputs": [],
   "source": [
    "example_trees = [{\"a\": 0, \"b\": (1, 2)}, jnp.array([3, 4, 5]), [\"a\", object()]]\n",
    "for pytree in example_trees:\n",
    "    leaves = jax.tree_util.tree_leaves(pytree)\n",
    "    print(f\"{repr(pytree):<45} has {len(leaves)} leaves: {leaves}\")"
   ]
  },
  {
   "cell_type": "markdown",
   "metadata": {},
   "source": [
    "### Example: Model parameters\n",
    "\n",
    "In the following, we will optimise a linear model using gradient descent to illustrate how PyTrees can be used.\n",
    "\n",
    "We will start by generating some data:"
   ]
  },
  {
   "cell_type": "code",
   "execution_count": null,
   "metadata": {},
   "outputs": [],
   "source": [
    "import matplotlib.pyplot as plt\n",
    "\n",
    "%config InlineBackend.figure_format = 'svg'\n",
    "\n",
    "N = 50\n",
    "x = jnp.linspace(-1, 1, N)\n",
    "noise = 0.3 * jax.random.normal(key=jax.random.PRNGKey(0), shape=(N,))\n",
    "y = 2 * x + 10 + noise\n",
    "\n",
    "data = {\"x\": x, \"y\": y}\n",
    "\n",
    "fig, ax = plt.subplots(figsize=(8, 4))\n",
    "ax.scatter(data[\"x\"], data[\"y\"], marker=\".\", color=\"black\")\n",
    "ax.set(xlabel=\"x\", ylabel=\"y\")"
   ]
  },
  {
   "cell_type": "markdown",
   "metadata": {},
   "source": [
    "Next, we define the linear model, the loss function, and a function that performs gradient descent:"
   ]
  },
  {
   "cell_type": "code",
   "execution_count": null,
   "metadata": {},
   "outputs": [],
   "source": [
    "def linear_model(params: dict, x: jax.Array) -> jax.Array:\n",
    "    return params[\"slope\"] * x + params[\"offset\"]\n",
    "\n",
    "\n",
    "def mse_loss(params: dict, data: dict) -> jax.Array:\n",
    "    prediction = linear_model(params, data[\"x\"])\n",
    "    return jnp.mean((data[\"y\"] - prediction) ** 2)\n",
    "\n",
    "\n",
    "@jax.jit\n",
    "def gradient_descent_step(params: dict, data: dict, lr: float = 0.1) -> dict:\n",
    "    grads = jax.grad(mse_loss, argnums=0)(params, data)\n",
    "    return {key: params[key] - lr * grads[key] for key in params}\n",
    "\n",
    "\n",
    "def gradient_descent(\n",
    "    initial_params: dict, data: dict, lr: float = 0.1, num_steps: int = 50\n",
    ") -> dict:\n",
    "    \"\"\"Performs multiple steps of gradient descent.\"\"\"\n",
    "    params = initial_params.copy()\n",
    "\n",
    "    for _ in range(num_steps):\n",
    "        params = gradient_descent_step(params, data, lr)\n",
    "\n",
    "    return params"
   ]
  },
  {
   "cell_type": "markdown",
   "metadata": {},
   "source": [
    "Note that we pass the model parameters, `params`, as a dictionary, but retain the ability to compute gradients with respect to this argument.\n",
    "\n",
    "Now, we can perform 50 steps of gradient descent and inspect the result:"
   ]
  },
  {
   "cell_type": "code",
   "execution_count": null,
   "metadata": {},
   "outputs": [],
   "source": [
    "initial_params = {\"slope\": jnp.array([1.0]), \"offset\": jnp.array([0.0])}\n",
    "\n",
    "params = gradient_descent(initial_params, data, lr=0.1, num_steps=50)\n",
    "\n",
    "fig, ax = plt.subplots(figsize=(8, 4))\n",
    "ax.scatter(data[\"x\"], data[\"y\"], marker=\".\", color=\"black\", label=\"Data\")\n",
    "ax.plot(\n",
    "    data[\"x\"],\n",
    "    linear_model(params, data[\"x\"]),\n",
    "    ls=\"dashed\",\n",
    "    color=\"orange\",\n",
    "    label=\"Optimised model\",\n",
    ")\n",
    "ax.set(xlabel=\"x\", ylabel=\"y\")\n",
    "ax.legend(loc=\"upper left\", frameon=False)\n",
    "\n",
    "print(f\"slope: {params['slope'][0]:<.2f}, offset: {params['offset'][0]:<.2f}\")"
   ]
  },
  {
   "cell_type": "markdown",
   "metadata": {},
   "source": [
    "Although a model with only two scalar parameters does not necessitate the usage of a dictionary,\n",
    "it is not hard to imagine a more complex model with many parameters of various shapes where it\n",
    "is very convenient to apply transformations across the entire structure while maintaining the nested hierarchy.\n"
   ]
  },
  {
   "cell_type": "markdown",
   "metadata": {},
   "source": [
    "## Sources and Further Resources\n",
    "\n",
    "The above tutorial is largely based on [JAX's comprehensive documentation](https://jax.readthedocs.io/en/latest/index.html). For those eager to delve deeper into the intricacies of JAX, we highly recommend exploring this further, as it offers detailed explanations, examples, and advanced techniques to enrich your understanding and mastery of JAX's capabilities.\n"
   ]
  }
 ],
 "metadata": {
  "kernelspec": {
   "display_name": "Python 3 (ipykernel)",
   "language": "python",
   "name": "python3"
  },
  "language_info": {
   "codemirror_mode": {
    "name": "ipython",
    "version": 3
   },
   "file_extension": ".py",
   "mimetype": "text/x-python",
   "name": "python",
   "nbconvert_exporter": "python",
   "pygments_lexer": "ipython3",
   "version": "3.9.14"
  }
 },
 "nbformat": 4,
 "nbformat_minor": 4
}
