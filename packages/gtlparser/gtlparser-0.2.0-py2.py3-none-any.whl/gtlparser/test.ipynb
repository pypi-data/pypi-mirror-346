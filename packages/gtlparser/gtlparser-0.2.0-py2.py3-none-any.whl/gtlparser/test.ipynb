{
 "cells": [
  {
   "cell_type": "code",
   "execution_count": null,
   "metadata": {},
   "outputs": [],
   "source": [
    "import gtlparser\n",
    "import gtl2geojson\n",
    "\n",
    "# from gtlparser import foliumap"
   ]
  },
  {
   "cell_type": "code",
   "execution_count": null,
   "metadata": {},
   "outputs": [],
   "source": [
    "in_json = \"https://raw.githubusercontent.com/GGweelplay/gtlparser/main/docs/examples/example_timeline.json\"\n",
    "point_features = gtl2geojson.parse_visitPoint(in_json, flag_allField=1)\n",
    "line_features = gtl2geojson.parse_timelinePath(in_json)"
   ]
  },
  {
   "cell_type": "code",
   "execution_count": null,
   "metadata": {},
   "outputs": [],
   "source": [
    "point_features"
   ]
  },
  {
   "cell_type": "code",
   "execution_count": null,
   "metadata": {},
   "outputs": [],
   "source": [
    "Map1 = gtlparser.Map(center=(0, 0), zoom=2, scroll_wheel_zoom=True)\n",
    "\n",
    "Map1.add_geojson(\n",
    "    data=\"https://raw.githubusercontent.com/GGweelplay/gtlparser/main/docs/examples/example_point.geojson\"\n",
    ")\n",
    "Map1.add_layer_control()\n",
    "Map1"
   ]
  },
  {
   "cell_type": "code",
   "execution_count": null,
   "metadata": {},
   "outputs": [],
   "source": [
    "Map2 = gtlparser.Map(center=(0, 0), zoom=2, scroll_wheel_zoom=True)\n",
    "\n",
    "Map2.add_geojson(\n",
    "    data=\"https://raw.githubusercontent.com/GGweelplay/gtlparser/main/docs/examples/example_line.geojson\"\n",
    ")\n",
    "Map2.add_layer_control()\n",
    "Map2"
   ]
  },
  {
   "cell_type": "code",
   "execution_count": null,
   "metadata": {},
   "outputs": [],
   "source": [
    "in_json = \"C:/Users/tiger/OneDrive/PhD/Spring_2025/GEOG510/Timeline.json\"\n",
    "gtlparser.parse_visitPoint(in_json, flag_allField=1)"
   ]
  },
  {
   "cell_type": "code",
   "execution_count": null,
   "metadata": {},
   "outputs": [],
   "source": [
    "test_map = foliumap.Map()"
   ]
  },
  {
   "cell_type": "code",
   "execution_count": null,
   "metadata": {},
   "outputs": [],
   "source": [
    "test_map.add_layer_control()"
   ]
  },
  {
   "cell_type": "code",
   "execution_count": null,
   "metadata": {},
   "outputs": [],
   "source": [
    "# test_point = gpd.read_file(r\"C:\\Users\\tiger\\OneDrive\\PhD\\Spring_2024\\GEOG517\\Final_Project\\GeoJSON\\point_2023_Dec.geojson\")\n",
    "# test_polygon = gpd.read_file(\n",
    "#     \"https://github.com/opengeos/datasets/releases/download/world/countries.geojson\"\n",
    "# )\n",
    "test_map.add_vector(\n",
    "    \"https://github.com/opengeos/datasets/releases/download/world/countries.geojson\"\n",
    ")"
   ]
  },
  {
   "cell_type": "code",
   "execution_count": null,
   "metadata": {},
   "outputs": [],
   "source": [
    "test_map.add_basemap(basemap=\"Cartodb Positron\")\n",
    "test_map.add_basemap(basemap=\"OpenStreetMap\")"
   ]
  },
  {
   "cell_type": "code",
   "execution_count": null,
   "metadata": {},
   "outputs": [],
   "source": [
    "test_map"
   ]
  },
  {
   "cell_type": "code",
   "execution_count": null,
   "metadata": {},
   "outputs": [],
   "source": [
    "import gtlparser"
   ]
  },
  {
   "cell_type": "code",
   "execution_count": null,
   "metadata": {},
   "outputs": [],
   "source": [
    "import os\n",
    "import ipyleaflet\n",
    "import ipywidgets as widgets"
   ]
  },
  {
   "cell_type": "code",
   "execution_count": null,
   "metadata": {},
   "outputs": [],
   "source": [
    "options = [\n",
    "    \"OpenStreetMap.Mapnik\",\n",
    "    \"OpenTopoMap\",\n",
    "    \"Esri.WorldImagery\",\n",
    "    \"CartoDB.DarkMatter\",\n",
    "]\n",
    "toggle = widgets.ToggleButton(\n",
    "    value=True,\n",
    "    button_style=\"\",\n",
    "    tooltip=\"Click me\",\n",
    "    icon=\"map\",\n",
    ")\n",
    "toggle.layout = widgets.Layout(width=\"38px\", height=\"38px\")\n",
    "dropdown = widgets.Dropdown(\n",
    "    options=options,\n",
    "    value=options[0],\n",
    "    description=\"Basemap: \",\n",
    "    style={\"description_width\": \"initial\"},\n",
    ")\n",
    "dropdown.layout = widgets.Layout(width=\"250px\", height=\"38px\")\n",
    "\n",
    "button = widgets.Button(\n",
    "    icon=\"times\",\n",
    ")\n",
    "button.layout = widgets.Layout(width=\"38px\", height=\"38px\")\n",
    "\n",
    "hbox = widgets.HBox([toggle, dropdown, button])"
   ]
  },
  {
   "cell_type": "code",
   "execution_count": null,
   "metadata": {},
   "outputs": [],
   "source": [
    "control = ipyleaflet.WidgetControl(widget=hbox, position=\"topright\")"
   ]
  },
  {
   "cell_type": "code",
   "execution_count": null,
   "metadata": {},
   "outputs": [],
   "source": [
    "cool_map = gtlparser.Map()\n",
    "cool_map.add_basemap_gui(position=\"topright\")\n",
    "cool_map.add_layer_control()\n",
    "cool_map.add_search_control(position=\"topleft\")\n",
    "cool_map"
   ]
  },
  {
   "cell_type": "code",
   "execution_count": null,
   "metadata": {},
   "outputs": [],
   "source": [
    "map2 = gtlparser.Map()\n",
    "map2.add_WMS_layer(\n",
    "    url=\"https://services.terrascope.be/wms/v2?\",\n",
    "    layers=\"WORLDCOVER_2021_MAP\",\n",
    "    name=\"WORLDCOVER_2021_MAP\",\n",
    ")\n",
    "map2.add_legend(title=\"NLCD Land Cover Type\", builtin_legend=\"NLCD\")\n",
    "map2"
   ]
  },
  {
   "cell_type": "code",
   "execution_count": null,
   "metadata": {},
   "outputs": [],
   "source": [
    "import leafmap\n",
    "\n",
    "m = leafmap.Map()\n",
    "\n",
    "wms_url = \"https://services.terrascope.be/wms/v2?\"\n",
    "layer_name = \"WORLDCOVER_2021_MAP\"\n",
    "\n",
    "m.add_wms_layer(\n",
    "    url=wms_url,\n",
    "    layers=layer_name,\n",
    "    name=\"ESA World Cover 2021\",\n",
    "    format=\"image/png\",\n",
    "    transparent=True,\n",
    "    shown=True,\n",
    "    version=\"1.3.0\",\n",
    ")\n",
    "\n",
    "m.add_legend(builtin_legend=\"ESA_WorldCover\")\n",
    "m"
   ]
  },
  {
   "cell_type": "code",
   "execution_count": null,
   "metadata": {},
   "outputs": [],
   "source": [
    "import leafmap\n",
    "import geopandas as gpd\n",
    "import pandas as pd  # geopandas relies on pandas\n",
    "\n",
    "geojson_url = \"https://github.com/opengeos/datasets/releases/download/places/wa_building_centroids.geojson\"\n",
    "\n",
    "gdf = gpd.read_file(geojson_url)\n",
    "\n",
    "gdf\n",
    "gdf[\"longitude\"] = gdf.geometry.x\n",
    "gdf[\"latitude\"] = gdf.geometry.y\n",
    "\n",
    "\n",
    "map3 = leafmap.Map()\n",
    "# map3.add_basemap('HYBRID')\n",
    "\n",
    "# map3.add_marker_cluster(\n",
    "#     gdf,                  # Your GeoDataFrame\n",
    "#     x=\"longitude\",        # Column name for longitude\n",
    "#     y=\"latitude\",         # Column name for latitude\n",
    "# )\n",
    "map3"
   ]
  },
  {
   "cell_type": "code",
   "execution_count": null,
   "metadata": {},
   "outputs": [],
   "source": [
    "map3_2 = leafmap.Map()\n",
    "map3_2.add_circle_markers_from_xy(\n",
    "    gdf,  # Your GeoDataFrame\n",
    "    x=\"longitude\",  # Column name for longitude\n",
    "    y=\"latitude\",  # Column name for latitude\n",
    "    radius=5,  # Radius of the circles\n",
    "    color=\"red\",  # Outline color\n",
    "    fill_color=\"yellow\",  # Fill color\n",
    "    fill_opacity=0.8,  # Fill opacity\n",
    "    marker_cluster=True,  # Enable marker clustering\n",
    ")\n",
    "map3_2"
   ]
  },
  {
   "cell_type": "code",
   "execution_count": null,
   "metadata": {},
   "outputs": [],
   "source": [
    "import leafmap\n",
    "\n",
    "geojson_url = \"https://github.com/opengeos/datasets/releases/download/places/wa_overture_buildings.geojson\"\n",
    "\n",
    "map4_1 = leafmap.Map()\n",
    "\n",
    "map4_1.add_basemap(\"HYBRID\")\n",
    "\n",
    "geojson_style = {\n",
    "    \"color\": \"red\",\n",
    "    \"weight\": 2,\n",
    "    \"fillOpacity\": 0,\n",
    "}\n",
    "\n",
    "m.add_geojson(\n",
    "    geojson_url,\n",
    "    style=geojson_style,\n",
    "    layer_name=\"Washington Buildings\",  # A name for the layer in the layer control\n",
    ")\n",
    "\n",
    "m"
   ]
  },
  {
   "cell_type": "code",
   "execution_count": null,
   "metadata": {},
   "outputs": [],
   "source": [
    "geojson_url = \"https://github.com/opengeos/datasets/releases/download/places/las_vegas_roads.geojson\"\n",
    "\n",
    "map4_2 = leafmap.Map()\n",
    "\n",
    "geojson_style = {\n",
    "    \"color\": \"red\",\n",
    "    \"weight\": 2,\n",
    "}\n",
    "\n",
    "map4_2.add_geojson(\n",
    "    geojson_url,\n",
    "    style=geojson_style,\n",
    "    layer_name=\"Las Vegas Roads\",  # A name for the layer in the layer control\n",
    ")\n",
    "\n",
    "map4_2"
   ]
  },
  {
   "cell_type": "code",
   "execution_count": null,
   "metadata": {},
   "outputs": [],
   "source": [
    "import leafmap\n",
    "\n",
    "map4_3_data = (\n",
    "    \"https://github.com/opengeos/datasets/releases/download/us/us_counties.geojson\"\n",
    ")\n",
    "\n",
    "map4_3 = leafmap.Map(center=(40, -98), zoom=4)\n",
    "\n",
    "map4_3.add_data(\n",
    "    map4_3_data,\n",
    "    layer_name=\"US County Area (Census)\",\n",
    "    column=\"CENSUSAREA\",\n",
    "    scheme=\"EqualInterval\",\n",
    "    cmap=\"Blues\",\n",
    "    legend=True,\n",
    "    legend_title=\"Census Area (sq mi)\",\n",
    ")\n",
    "\n",
    "map4_3"
   ]
  },
  {
   "cell_type": "code",
   "execution_count": null,
   "metadata": {},
   "outputs": [],
   "source": [
    "pre_event_url = (\n",
    "    \"https://github.com/opengeos/datasets/releases/download/raster/Libya-2023-07-01.tif\"\n",
    ")\n",
    "post_event_url = (\n",
    "    \"https://github.com/opengeos/datasets/releases/download/raster/Libya-2023-09-13.tif\"\n",
    ")\n",
    "\n",
    "map5 = leafmap.Map()\n",
    "\n",
    "leafmap.split_map(left_layer=pre_event_url, right_layer=post_event_url)\n",
    "\n",
    "map5"
   ]
  },
  {
   "cell_type": "code",
   "execution_count": null,
   "metadata": {},
   "outputs": [],
   "source": [
    "cool_map = gtlparser.Map()\n",
    "cool_map.add_basemap(basemap=\"OpenStreetMap\")\n",
    "cool_map.add_google_maps()"
   ]
  },
  {
   "cell_type": "code",
   "execution_count": null,
   "metadata": {},
   "outputs": [],
   "source": [
    "cool_map.add_vector(\n",
    "    \"https://github.com/opengeos/datasets/releases/download/world/countries.geojson\"\n",
    ")\n",
    "\n",
    "\n",
    "# if zoom_to_layer:\n",
    "#             bounds = gdf.total_bounds\n",
    "#             self.fit_bounds([[bounds[1], bounds[0]], [bounds[3], bounds[2]]])"
   ]
  },
  {
   "cell_type": "code",
   "execution_count": null,
   "metadata": {},
   "outputs": [],
   "source": [
    "cool_map.add_raster(\n",
    "    \"https://github.com/opengeos/data/releases/download/raster/Libya-2023-07-01.tif\"\n",
    ")"
   ]
  },
  {
   "cell_type": "code",
   "execution_count": null,
   "metadata": {},
   "outputs": [],
   "source": [
    "cool_map"
   ]
  },
  {
   "cell_type": "code",
   "execution_count": null,
   "metadata": {},
   "outputs": [],
   "source": [
    "m = foliumap.Map(height=600, center=[39.4948, -108.5492])\n",
    "# url = \"https://github.com/opengeos/data/releases/download/raster/Libya-2023-07-01.tif\"\n",
    "# url2 = \"https://github.com/opengeos/data/releases/download/raster/Libya-2023-09-13.tif\"\n",
    "m.add_split_map()\n",
    "m"
   ]
  },
  {
   "cell_type": "code",
   "execution_count": null,
   "metadata": {},
   "outputs": [],
   "source": [
    "import gtlparser\n",
    "import geopandas as gpd\n",
    "import gtl2geojson"
   ]
  },
  {
   "cell_type": "code",
   "execution_count": null,
   "metadata": {},
   "outputs": [],
   "source": [
    "gpd.read_file(\n",
    "    \"https://raw.githubusercontent.com/GGweelplay/gtlparser/main/docs/examples/example_point.geojson\"\n",
    ")"
   ]
  },
  {
   "cell_type": "code",
   "execution_count": null,
   "metadata": {},
   "outputs": [],
   "source": [
    "Map1 = gtlparser.Map(center=(0, 0), zoom=2, scroll_wheel_zoom=True)\n",
    "\n",
    "Map1.add_geojson(\n",
    "    data=\"https://raw.githubusercontent.com/GGweelplay/gtlparser/main/docs/examples/example_point.geojson\"\n",
    ")\n",
    "Map1.add_layer_control()\n",
    "Map1"
   ]
  },
  {
   "cell_type": "code",
   "execution_count": null,
   "metadata": {},
   "outputs": [],
   "source": [
    "Map2 = ipyleaflet.Map(center=(0, 0), zoom=2)\n",
    "gdf = gpd.read_file(\"line_timeline_path.geojson\")\n",
    "gdf\n",
    "geojson = gdf.__geo_interface__\n",
    "\n",
    "layer = ipyleaflet.GeoJSON(data=geojson)\n",
    "Map2.add(layer)\n",
    "Map2.add_layer_control()\n",
    "Map2.add_widget()"
   ]
  }
 ],
 "metadata": {
  "kernelspec": {
   "display_name": "Python 3",
   "language": "python",
   "name": "python3"
  },
  "language_info": {
   "codemirror_mode": {
    "name": "ipython",
    "version": 3
   },
   "file_extension": ".py",
   "mimetype": "text/x-python",
   "name": "python",
   "nbconvert_exporter": "python",
   "pygments_lexer": "ipython3",
   "version": "3.12.0"
  }
 },
 "nbformat": 4,
 "nbformat_minor": 2
}
