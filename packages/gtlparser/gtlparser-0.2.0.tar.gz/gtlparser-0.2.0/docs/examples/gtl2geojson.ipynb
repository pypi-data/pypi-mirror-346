{
 "cells": [
  {
   "cell_type": "markdown",
   "id": "0",
   "metadata": {},
   "source": [
    "# Read Google Timeline data From JSON and Convert it to GeoJSON file"
   ]
  },
  {
   "cell_type": "markdown",
   "id": "1",
   "metadata": {},
   "source": [
    "[![Open In Colab](https://colab.research.google.com/assets/colab-badge.svg)](https://colab.research.google.com/github/GGweelplay/gtlparser/blob/main/docs/examples/gtl2geojson.ipynb)"
   ]
  },
  {
   "cell_type": "code",
   "execution_count": null,
   "id": "2",
   "metadata": {
    "vscode": {
     "languageId": "plaintext"
    }
   },
   "outputs": [],
   "source": [
    "import gtlparser\n",
    "from gtlparser import gtl2geojson"
   ]
  },
  {
   "cell_type": "code",
   "execution_count": null,
   "id": "3",
   "metadata": {
    "vscode": {
     "languageId": "plaintext"
    }
   },
   "outputs": [],
   "source": [
    "in_json = \"https://raw.githubusercontent.com/GGweelplay/gtlparser/main/docs/examples/example_timeline.json\""
   ]
  },
  {
   "cell_type": "code",
   "execution_count": null,
   "id": "4",
   "metadata": {
    "vscode": {
     "languageId": "plaintext"
    }
   },
   "outputs": [],
   "source": [
    "point_features = gtl2geojson.parse_visitPoint(in_json, flag_allField=1)\n",
    "line_features = gtl2geojson.parse_timelinePath(in_json)"
   ]
  },
  {
   "cell_type": "code",
   "execution_count": null,
   "id": "5",
   "metadata": {
    "vscode": {
     "languageId": "plaintext"
    }
   },
   "outputs": [],
   "source": [
    "gtl2geojson.create_geojson_file(\".\", \"visit_points\", point_features, flag_point=True)\n",
    "gtl2geojson.create_geojson_file(\".\", \"timeline_path\", line_features, flag_point=False)"
   ]
  },
  {
   "cell_type": "code",
   "execution_count": null,
   "id": "6",
   "metadata": {
    "vscode": {
     "languageId": "plaintext"
    }
   },
   "outputs": [],
   "source": [
    "Map1 = gtlparser.Map(center=(0, 0), zoom=2, scroll_wheel_zoom=True)\n",
    "\n",
    "Map1.add_geojson(\n",
    "    data=\"https://raw.githubusercontent.com/GGweelplay/gtlparser/main/docs/examples/example_point.geojson\"\n",
    ")\n",
    "Map1.add_layer_control()\n",
    "Map1"
   ]
  },
  {
   "cell_type": "code",
   "execution_count": null,
   "id": "7",
   "metadata": {
    "vscode": {
     "languageId": "plaintext"
    }
   },
   "outputs": [],
   "source": [
    "Map2 = gtlparser.Map(center=(0, 0), zoom=2, scroll_wheel_zoom=True)\n",
    "\n",
    "Map2.add_geojson(\n",
    "    data=\"https://raw.githubusercontent.com/GGweelplay/gtlparser/main/docs/examples/example_line.geojson\"\n",
    ")\n",
    "Map2.add_layer_control()\n",
    "Map2"
   ]
  }
 ],
 "metadata": {
  "language_info": {
   "name": "python"
  }
 },
 "nbformat": 4,
 "nbformat_minor": 5
}
