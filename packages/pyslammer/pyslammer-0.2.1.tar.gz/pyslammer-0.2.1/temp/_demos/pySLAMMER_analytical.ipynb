{
 "cells": [
  {
   "cell_type": "markdown",
   "metadata": {},
   "source": [
    "# PySLAMMER comparison with analytical"
   ]
  },
  {
   "cell_type": "code",
   "execution_count": 1,
   "metadata": {},
   "outputs": [
    {
     "ename": "FileNotFoundError",
     "evalue": "[Errno 2] No such file or directory: 'D:/Users/donal/Documents/Python/SlidingBlock/Records/harmonic_solutions.csv'",
     "output_type": "error",
     "traceback": [
      "\u001b[0;31m---------------------------------------------------------------------------\u001b[0m",
      "\u001b[0;31mFileNotFoundError\u001b[0m                         Traceback (most recent call last)",
      "Cell \u001b[0;32mIn[1], line 9\u001b[0m\n\u001b[1;32m      6\u001b[0m G_EARTH \u001b[38;5;241m=\u001b[39m \u001b[38;5;241m9.80665\u001b[39m\n\u001b[1;32m      8\u001b[0m \u001b[38;5;66;03m# Open the harmonic solutions file and read the data. User to modify the file path as needed.\u001b[39;00m\n\u001b[0;32m----> 9\u001b[0m file \u001b[38;5;241m=\u001b[39m \u001b[38;5;28;43mopen\u001b[39;49m\u001b[43m(\u001b[49m\u001b[38;5;124;43m'\u001b[39;49m\u001b[38;5;124;43mD:/Users/donal/Documents/Python/SlidingBlock/Records/harmonic_solutions.csv\u001b[39;49m\u001b[38;5;124;43m'\u001b[39;49m\u001b[43m)\u001b[49m\n\u001b[1;32m     10\u001b[0m \u001b[38;5;28;01mif\u001b[39;00m file \u001b[38;5;129;01mis\u001b[39;00m \u001b[38;5;28;01mNone\u001b[39;00m:\n\u001b[1;32m     11\u001b[0m     exit()\n",
      "File \u001b[0;32m~/GitHub/pyslammer/.venv/lib/python3.12/site-packages/IPython/core/interactiveshell.py:324\u001b[0m, in \u001b[0;36m_modified_open\u001b[0;34m(file, *args, **kwargs)\u001b[0m\n\u001b[1;32m    317\u001b[0m \u001b[38;5;28;01mif\u001b[39;00m file \u001b[38;5;129;01min\u001b[39;00m {\u001b[38;5;241m0\u001b[39m, \u001b[38;5;241m1\u001b[39m, \u001b[38;5;241m2\u001b[39m}:\n\u001b[1;32m    318\u001b[0m     \u001b[38;5;28;01mraise\u001b[39;00m \u001b[38;5;167;01mValueError\u001b[39;00m(\n\u001b[1;32m    319\u001b[0m         \u001b[38;5;124mf\u001b[39m\u001b[38;5;124m\"\u001b[39m\u001b[38;5;124mIPython won\u001b[39m\u001b[38;5;124m'\u001b[39m\u001b[38;5;124mt let you open fd=\u001b[39m\u001b[38;5;132;01m{\u001b[39;00mfile\u001b[38;5;132;01m}\u001b[39;00m\u001b[38;5;124m by default \u001b[39m\u001b[38;5;124m\"\u001b[39m\n\u001b[1;32m    320\u001b[0m         \u001b[38;5;124m\"\u001b[39m\u001b[38;5;124mas it is likely to crash IPython. If you know what you are doing, \u001b[39m\u001b[38;5;124m\"\u001b[39m\n\u001b[1;32m    321\u001b[0m         \u001b[38;5;124m\"\u001b[39m\u001b[38;5;124myou can use builtins\u001b[39m\u001b[38;5;124m'\u001b[39m\u001b[38;5;124m open.\u001b[39m\u001b[38;5;124m\"\u001b[39m\n\u001b[1;32m    322\u001b[0m     )\n\u001b[0;32m--> 324\u001b[0m \u001b[38;5;28;01mreturn\u001b[39;00m \u001b[43mio_open\u001b[49m\u001b[43m(\u001b[49m\u001b[43mfile\u001b[49m\u001b[43m,\u001b[49m\u001b[43m \u001b[49m\u001b[38;5;241;43m*\u001b[39;49m\u001b[43margs\u001b[49m\u001b[43m,\u001b[49m\u001b[43m \u001b[49m\u001b[38;5;241;43m*\u001b[39;49m\u001b[38;5;241;43m*\u001b[39;49m\u001b[43mkwargs\u001b[49m\u001b[43m)\u001b[49m\n",
      "\u001b[0;31mFileNotFoundError\u001b[0m: [Errno 2] No such file or directory: 'D:/Users/donal/Documents/Python/SlidingBlock/Records/harmonic_solutions.csv'"
     ]
    }
   ],
   "source": [
    "import csv\n",
    "import numpy as np\n",
    "from matplotlib import pyplot as plt\n",
    "from pyslammer.rigid_analysis import RigidAnalysis\n",
    "\n",
    "G_EARTH = 9.80665\n",
    "\n",
    "# Open the harmonic solutions file and read the data. User to modify the file path as needed.\n",
    "file = open('D:/Users/donal/Documents/Python/SlidingBlock/Records/harmonic_solutions.csv')\n",
    "if file is None:\n",
    "    exit()\n",
    "reader = csv.reader(file)\n",
    "freq = []\n",
    "k_y = []\n",
    "analytical_displacement = []\n",
    "for row in reader:\n",
    "    if '#' in row[0]:\n",
    "        continue\n",
    "    freq.append(float(row[0]))\n",
    "    k_y.append(float(row[1]))\n",
    "    analytical_displacement.append(float(row[2]))\n",
    "file.close()\n",
    "\n",
    "# Calculate the displacement for each frequency and ky value.\n",
    "disp = []\n",
    "error = []\n",
    "for i in range(len(freq)):\n",
    "    # Create time and acceleration arrays using each frequency and ky value\n",
    "    # for one half of the period.\n",
    "    dt = 0.001\n",
    "    time = np.arange(0, 1/(freq[i]), dt)\n",
    "    accel = np.sin(freq[i]*2*np.pi*time)\n",
    "    time_history = np.vstack((time, accel))\n",
    "\n",
    "    # Calculate the displacement using the desired method and append the total\n",
    "    # displacement to the disp list. User to modify the next three lines as\n",
    "    # needed to test the desired method.\n",
    "    data = RigidAnalysis(accel, dt, k_y[i])\n",
    "    disp.append(data.block_disp[-1])\n",
    "\n",
    "    # Calculate the percent error between the analytical solution and the calculated.\n",
    "    error.append(abs(analytical_displacement[i] - data.block_disp[-1]) * 100)\n",
    "\n",
    "# Create a data array to hold frequency and error data (dimension 1) sorted by frequency \n",
    "# tested (dimension 1) and ky value (dimension 2).\n",
    "data = np.ndarray(shape=(2, 11, 6))\n",
    "ky_analyzed = [0.1, 0.2, 0.4, 0.6, 0.8, 1]\n",
    "ky_idx = [0] * len(ky_analyzed)\n",
    "\n",
    "i = 0\n",
    "for i in range(len(freq)):\n",
    "    # Find the index of the ky value in the ky_analyzed list to save frequency and error \n",
    "    # data in the correct location in the data array based on ky.\n",
    "    idx = ky_analyzed.index(float(k_y[i]))\n",
    "    data[0][ky_idx[idx]][idx] = float(freq[i])\n",
    "    data[1][ky_idx[idx]][idx] = float(error[i])\n",
    "    ky_idx[idx] += 1\n",
    "    i += 1\n",
    "\n",
    "# Plot the error vs frequency data for each ky value.\n",
    "fig, ax = plt.subplots()\n",
    "for j in range(len(ky_analyzed)):\n",
    "    ax.plot(data[0, :, j], data[1, :, j], label='ky = ' + str(ky_analyzed[j]))\n",
    "ax.set_xlabel('Frequency (Hz)')\n",
    "ax.set_ylabel('Error (%)')\n",
    "ax.set_xscale('log')\n",
    "ax.legend()\n",
    "plt.show()"
   ]
  },
  {
   "cell_type": "code",
   "execution_count": null,
   "metadata": {},
   "outputs": [],
   "source": []
  }
 ],
 "metadata": {
  "kernelspec": {
   "display_name": ".venv",
   "language": "python",
   "name": "python3"
  },
  "language_info": {
   "codemirror_mode": {
    "name": "ipython",
    "version": 3
   },
   "file_extension": ".py",
   "mimetype": "text/x-python",
   "name": "python",
   "nbconvert_exporter": "python",
   "pygments_lexer": "ipython3",
   "version": "3.12.0"
  }
 },
 "nbformat": 4,
 "nbformat_minor": 2
}
