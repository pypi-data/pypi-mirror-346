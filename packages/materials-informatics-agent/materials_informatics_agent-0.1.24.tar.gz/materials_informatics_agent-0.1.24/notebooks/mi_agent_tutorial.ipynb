{
  "cells": [
    {
      "cell_type": "markdown",
      "metadata": {
        "id": "tJCaoaH8aDK2"
      },
      "source": [
        "# **MI-Agent: A Google Colab Tutorial**\n",
        "**A Fully Autonomous Agent for Materials Informatics**\n",
        "### **Purpose of This Tutorial**\n",
        "This tutorial demonstrates how to use [**MI-Agent**](https://github.com/hasan-sayeed/mi_agent), an autonomous agentic system designed to accelerate a wide range of materials informatics tasks. With just a problem description and relevant CSV files, MI-Agent can:\n",
        "\n",
        "- Interpret the scientific problem and understand the data context\n",
        "- Load and (if needed) merge structured datasets\n",
        "- Automatically select the appropriate target and feature columns\n",
        "- Perform exploratory data analysis (EDA) and generate visualizations\n",
        "- Run multiple machine learning models, select the top 5 performers, tune their hyperparameters, and identify the best final model\n",
        "- Save all generated code, plots, and intermediate outputs\n",
        "- Produce a detailed technical report of the full process\n",
        "- Log every decision and execution step to LangSmith for traceability\n",
        "\n",
        "By following this tutorial, you'll learn how to set up MI-Agent in Google Colab, describe your materials problem, and execute a complete, automated analysis pipeline with minimal effort.\n",
        "\n",
        "\n",
        "> This kind of automation offers a powerful **starting point for materials informatics engineers**—helping them **move 10x faster**, explore ideas more effectively, and potentially increase productivity by an order of magnitude.\n",
        "\n",
        "\n",
        "\n",
        "\n"
      ]
    },
    {
      "cell_type": "markdown",
      "metadata": {
        "id": "Yi3G7TwdZeti"
      },
      "source": [
        "## **Step 1. Install Required Packages**\n",
        "\n",
        "Installs the `materials-informatics-agent` package and `wkhtmltopdf` (used for PDF report generation). Output is suppressed for a cleaner notebook experience."
      ]
    },
    {
      "cell_type": "code",
      "execution_count": 1,
      "metadata": {
        "id": "-IFQnAtiORz8"
      },
      "outputs": [],
      "source": [
        "!pip install materials-informatics-agent -q > /dev/null 2>&1\n",
        "!apt-get update -qq > /dev/null 2>&1 \\\n",
        " && apt-get install -y -qq wkhtmltopdf > /dev/null 2>&1"
      ]
    },
    {
      "cell_type": "markdown",
      "metadata": {
        "id": "3AzdAbuUzUFs"
      },
      "source": [
        "## **Step 2. Mount Google Drive**\n",
        "Allows the notebook to read your problem file and data, and write results to your Google Drive."
      ]
    },
    {
      "cell_type": "code",
      "execution_count": null,
      "metadata": {
        "id": "KYMMzr8DOUiL"
      },
      "outputs": [],
      "source": [
        "from google.colab import drive\n",
        "drive.mount('/content/drive')"
      ]
    },
    {
      "cell_type": "markdown",
      "metadata": {
        "id": "iLSsPUyIzmT9"
      },
      "source": [
        "## **Step 3. Set Your API Keys**\n",
        "MI-Agent requires two API keys:\n",
        "\n",
        "- `OPENAI_API_KEY` – for accessing the language model (e.g., GPT-4)\n",
        "- `LANGCHAIN_API_KEY` – for logging execution traces to LangSmith\n",
        "\n",
        "Choose one of the following methods:\n",
        "### **Option A: Set Environment Variables Directly**\n",
        "Replace the placeholders with your actual keys. These are required for LLM generation and step-by-step tracing via LangSmith."
      ]
    },
    {
      "cell_type": "code",
      "execution_count": null,
      "metadata": {
        "id": "ay4KFqJsHmE_"
      },
      "outputs": [],
      "source": [
        "%env OPENAI_API_KEY=sk-...\n",
        "%env LANGCHAIN_API_KEY=lsv2_..."
      ]
    },
    {
      "cell_type": "markdown",
      "metadata": {
        "id": "-POCPd2L0CLZ"
      },
      "source": [
        "### **Option B: Use the Colab Secrets Sidebar**\n",
        "1. In the left Secrets tab, add two secrets with exact names:\n",
        "\n",
        "- `OPENAI_API_KEY`\n",
        "\n",
        "- `LANGCHAIN_API_KEY`\n",
        "\n",
        "2. Then run the following to inject them into your environment:"
      ]
    },
    {
      "cell_type": "code",
      "execution_count": 4,
      "metadata": {
        "id": "qC1yq46TQ03s"
      },
      "outputs": [],
      "source": [
        "from google.colab import userdata\n",
        "import os\n",
        "\n",
        "# list whatever secrets you’ve added in the UI\n",
        "for key in (\"OPENAI_API_KEY\", \"LANGCHAIN_API_KEY\"):\n",
        "    val = userdata.get(key)       # grabs the secret by name\n",
        "    if val is not None:\n",
        "        os.environ[key] = val     # inject into the process env\n"
      ]
    },
    {
      "cell_type": "markdown",
      "metadata": {
        "id": "91GV5xR-0VOD"
      },
      "source": [
        "This makes your API keys available to MI-Agent without hardcoding them into the notebook."
      ]
    },
    {
      "cell_type": "markdown",
      "metadata": {
        "id": "Z_GwEL1E0ZLQ"
      },
      "source": [
        "## **Step 4. Set File Paths**\n",
        "Update these paths to match the location of your problem description and desired output folder."
      ]
    },
    {
      "cell_type": "code",
      "execution_count": 5,
      "metadata": {
        "id": "F5hDdIa_H1Sz"
      },
      "outputs": [],
      "source": [
        "PROBLEM_FILE = \"/content/drive/MyDrive/mi_agent/sample_problem.txt\"\n",
        "OUTPUT_DIR   = \"/content/drive/MyDrive/mi_agent/output\""
      ]
    },
    {
      "cell_type": "markdown",
      "metadata": {
        "id": "8h741hJL0kuX"
      },
      "source": [
        "## **Step 5. Write a Problem File**\n",
        "Create a `.txt` file describing the **materials science problem** you want to analyze. Clearly explain the context and list the full paths to the CSV files that contain your data.\n",
        "\n",
        "Example:"
      ]
    },
    {
      "cell_type": "markdown",
      "metadata": {
        "id": "vt_ivLKM_Ruy"
      },
      "source": [
        "> A company that manufactures metal components for marine environments wants to speed up the process of developing corrosion-resistant alloys. They often test different metal alloys by immersing them in saltwater and measuring how much they corrode over time.\n",
        ">\n",
        "> You are provided with two CSV files:\n",
        "1. /content/drive/MyDrive/mi_agent/data/alloy_composition.csv\n",
        "2. /content/drive/MyDrive/mi_agent/data/corrosion_test_results.csv"
      ]
    },
    {
      "cell_type": "markdown",
      "metadata": {
        "id": "3MQDOkQ8_blP"
      },
      "source": [
        "⚠️ Always provide the full path to your data files as seen from within Colab (starting with /content/drive/...)."
      ]
    },
    {
      "cell_type": "markdown",
      "metadata": {
        "id": "mlzHe02I_hCz"
      },
      "source": [
        "## **Step 6. Run MI-Agent**\n",
        "Once started, **MI-Agent** will:\n",
        "\n",
        "- Parse your problem and load the listed CSV file(s)\n",
        "\n",
        "- Merge datasets if needed\n",
        "\n",
        "- Identify the appropriate target and features automatically\n",
        "\n",
        "- Generate and run EDA code, including plots and summaries\n",
        "\n",
        "- Save all EDA code (\\*.py) and images (\\*.png) to the output directory\n",
        "\n",
        "- Train a variety of machine learning models, select the top 5 based on performance, perform hyperparameter tuning, and pick the final best model\n",
        "\n",
        "- Write and save a detailed technical summary of the full analysis (in PDF format) in the output directory\n",
        "\n",
        "- Log all reasoning steps and intermediate outputs to LangSmith\n",
        "\n",
        "Run the following to start the pipeline:"
      ]
    },
    {
      "cell_type": "code",
      "execution_count": null,
      "metadata": {
        "collapsed": true,
        "id": "3PakQbGaIZPF"
      },
      "outputs": [],
      "source": [
        "!mi_agent \\\n",
        "  --problem-file \"$PROBLEM_FILE\" \\\n",
        "  --output-dir   \"$OUTPUT_DIR\" \\\n",
        "  --model        \"gpt-4.1-mini\""
      ]
    },
    {
      "cell_type": "markdown",
      "metadata": {
        "id": "tfEA5XxUAFtH"
      },
      "source": [
        "## **Step 7. Explore the Output**\n",
        "Navigate to your OUTPUT_DIR in Google Drive. You’ll find:\n",
        "\n",
        "Python scripts for the EDAs performed\n",
        "\n",
        "Visualizations generated during analysis\n",
        "\n",
        "A 5-page PDF of a technical summary of the entire workflow\n",
        "\n",
        "You can trace the steps and reasonings in your LangSmith dashboard\n",
        "\n",
        "From here, you can review, share, or build upon the automated analysis **MI-Agent** has performed!"
      ]
    },
    {
      "cell_type": "markdown",
      "metadata": {
        "id": "eib0QPYfaqFv"
      },
      "source": [
        "# **Beyond This Tutorial**\n",
        "This tutorial demonstrates a **proof of concept** of what's possible with an agentic system for materials informatics. While **MI-Agent** is designed to work out-of-the-box for many common scenarios, your real-world problems might be more complex, involve additional constraints, or require custom features.\n",
        "\n",
        "Have something bigger in mind? Want **MI-Agent** to handle simulation data, text inputs, custom featurization, or integrate with your own models?\n",
        "\n",
        "> **We'd love to hear from you.**\n",
        ">\n",
        "> Submit a feature request, share feedback, or get in touch to help shape the future of agentic systems in materials science.\n",
        "- Open a [GitHub issue](https://github.com/hasan-sayeed/mi_agent)\n",
        "- Or reach out directly at hasan.sayeed@utah.edu\n",
        "\n"
      ]
    }
  ],
  "metadata": {
    "colab": {
      "provenance": []
    },
    "kernelspec": {
      "display_name": "Python 3",
      "name": "python3"
    },
    "language_info": {
      "name": "python"
    }
  },
  "nbformat": 4,
  "nbformat_minor": 0
}
