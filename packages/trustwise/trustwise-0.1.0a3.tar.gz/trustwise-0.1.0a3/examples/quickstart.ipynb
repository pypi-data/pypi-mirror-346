{
 "cells": [
  {
   "cell_type": "markdown",
   "metadata": {},
   "source": [
    "# Trustwise SDK Guide\n",
    "\n",
    "This notebook provides a step-by-step guide to using the Trustwise SDK for evaluating AI-generated content with Trustwise's Safety and Alignment metrics."
   ]
  },
  {
   "cell_type": "markdown",
   "metadata": {},
   "source": [
    "## 1. Installation and Setup\n",
    "\n",
    "First, let's install the Trustwise SDK and set up our environment."
   ]
  },
  {
   "cell_type": "code",
   "execution_count": null,
   "metadata": {},
   "outputs": [],
   "source": [
    "!pip install trustwise"
   ]
  },
  {
   "cell_type": "markdown",
   "metadata": {},
   "source": [
    "#### Load Env vars\n",
    "\n",
    "Load env vars from `.env`"
   ]
  },
  {
   "cell_type": "code",
   "execution_count": 4,
   "metadata": {},
   "outputs": [],
   "source": [
    "import os\n",
    "from dotenv import load_dotenv\n",
    "\n",
    "# Load environment variables from .env file\n",
    "load_dotenv()\n",
    "\n",
    "# Access environment variables\n",
    "api_key = os.environ.get(\"TW_API_KEY\")\n",
    "assert api_key is not None, \"TW_API_KEY is not set\""
   ]
  },
  {
   "cell_type": "markdown",
   "metadata": {},
   "source": [
    "## 2. Basic Setup\n",
    "\n",
    "Let's initialize the SDK with your API key and create a basic configuration."
   ]
  },
  {
   "cell_type": "code",
   "execution_count": 5,
   "metadata": {},
   "outputs": [
    {
     "ename": "ImportError",
     "evalue": "cannot import name 'TrustwiseClientProtocol' from 'trustwise.sdk.client' (/Users/mk/work/github/trustwise/src/trustwise/sdk/client.py)",
     "output_type": "error",
     "traceback": [
      "\u001b[31m---------------------------------------------------------------------------\u001b[39m",
      "\u001b[31mImportError\u001b[39m                               Traceback (most recent call last)",
      "\u001b[36mCell\u001b[39m\u001b[36m \u001b[39m\u001b[32mIn[5]\u001b[39m\u001b[32m, line 2\u001b[39m\n\u001b[32m      1\u001b[39m \u001b[38;5;28;01mimport\u001b[39;00m\u001b[38;5;250m \u001b[39m\u001b[34;01mos\u001b[39;00m\n\u001b[32m----> \u001b[39m\u001b[32m2\u001b[39m \u001b[38;5;28;01mfrom\u001b[39;00m\u001b[38;5;250m \u001b[39m\u001b[34;01mtrustwise\u001b[39;00m\u001b[34;01m.\u001b[39;00m\u001b[34;01msdk\u001b[39;00m\u001b[38;5;250m \u001b[39m\u001b[38;5;28;01mimport\u001b[39;00m TrustwiseSDK\n\u001b[32m      3\u001b[39m \u001b[38;5;28;01mfrom\u001b[39;00m\u001b[38;5;250m \u001b[39m\u001b[34;01mtrustwise\u001b[39;00m\u001b[34;01m.\u001b[39;00m\u001b[34;01msdk\u001b[39;00m\u001b[34;01m.\u001b[39;00m\u001b[34;01mconfig\u001b[39;00m\u001b[38;5;250m \u001b[39m\u001b[38;5;28;01mimport\u001b[39;00m TrustwiseConfig\n\u001b[32m      5\u001b[39m \u001b[38;5;66;03m# Initialize the SDK\u001b[39;00m\n",
      "\u001b[36mFile \u001b[39m\u001b[32m~/work/github/trustwise/src/trustwise/sdk/__init__.py:1\u001b[39m\n\u001b[32m----> \u001b[39m\u001b[32m1\u001b[39m \u001b[38;5;28;01mfrom\u001b[39;00m\u001b[38;5;250m \u001b[39m\u001b[34;01m.\u001b[39;00m\u001b[34;01msdk\u001b[39;00m\u001b[38;5;250m \u001b[39m\u001b[38;5;28;01mimport\u001b[39;00m TrustwiseSDK\n\u001b[32m      3\u001b[39m __all__ = [\u001b[33m\"\u001b[39m\u001b[33mTrustwiseSDK\u001b[39m\u001b[33m\"\u001b[39m]\n",
      "\u001b[36mFile \u001b[39m\u001b[32m~/work/github/trustwise/src/trustwise/sdk/sdk.py:6\u001b[39m\n\u001b[32m      4\u001b[39m \u001b[38;5;28;01mfrom\u001b[39;00m\u001b[38;5;250m \u001b[39m\u001b[34;01mtrustwise\u001b[39;00m\u001b[34;01m.\u001b[39;00m\u001b[34;01msdk\u001b[39;00m\u001b[34;01m.\u001b[39;00m\u001b[34;01mconfig\u001b[39;00m\u001b[38;5;250m \u001b[39m\u001b[38;5;28;01mimport\u001b[39;00m TrustwiseConfig\n\u001b[32m      5\u001b[39m \u001b[38;5;28;01mfrom\u001b[39;00m\u001b[38;5;250m \u001b[39m\u001b[34;01mtrustwise\u001b[39;00m\u001b[34;01m.\u001b[39;00m\u001b[34;01msdk\u001b[39;00m\u001b[34;01m.\u001b[39;00m\u001b[34;01mfeatures\u001b[39;00m\u001b[38;5;250m \u001b[39m\u001b[38;5;28;01mimport\u001b[39;00m get_beta_features, is_beta_feature\n\u001b[32m----> \u001b[39m\u001b[32m6\u001b[39m \u001b[38;5;28;01mfrom\u001b[39;00m\u001b[38;5;250m \u001b[39m\u001b[34;01mtrustwise\u001b[39;00m\u001b[34;01m.\u001b[39;00m\u001b[34;01msdk\u001b[39;00m\u001b[34;01m.\u001b[39;00m\u001b[34;01mguardrails\u001b[39;00m\u001b[34;01m.\u001b[39;00m\u001b[34;01mguardrail\u001b[39;00m\u001b[38;5;250m \u001b[39m\u001b[38;5;28;01mimport\u001b[39;00m Guardrail\n\u001b[32m      7\u001b[39m \u001b[38;5;28;01mfrom\u001b[39;00m\u001b[38;5;250m \u001b[39m\u001b[34;01mtrustwise\u001b[39;00m\u001b[34;01m.\u001b[39;00m\u001b[34;01msdk\u001b[39;00m\u001b[34;01m.\u001b[39;00m\u001b[34;01mmetrics\u001b[39;00m\u001b[34;01m.\u001b[39;00m\u001b[34;01malignment\u001b[39;00m\u001b[38;5;250m \u001b[39m\u001b[38;5;28;01mimport\u001b[39;00m AlignmentMetrics\n\u001b[32m      8\u001b[39m \u001b[38;5;28;01mfrom\u001b[39;00m\u001b[38;5;250m \u001b[39m\u001b[34;01mtrustwise\u001b[39;00m\u001b[34;01m.\u001b[39;00m\u001b[34;01msdk\u001b[39;00m\u001b[34;01m.\u001b[39;00m\u001b[34;01mmetrics\u001b[39;00m\u001b[34;01m.\u001b[39;00m\u001b[34;01mperformance\u001b[39;00m\u001b[38;5;250m \u001b[39m\u001b[38;5;28;01mimport\u001b[39;00m PerformanceMetrics\n",
      "\u001b[36mFile \u001b[39m\u001b[32m~/work/github/trustwise/src/trustwise/sdk/guardrails/__init__.py:1\u001b[39m\n\u001b[32m----> \u001b[39m\u001b[32m1\u001b[39m \u001b[38;5;28;01mfrom\u001b[39;00m\u001b[38;5;250m \u001b[39m\u001b[34;01mtrustwise\u001b[39;00m\u001b[34;01m.\u001b[39;00m\u001b[34;01msdk\u001b[39;00m\u001b[34;01m.\u001b[39;00m\u001b[34;01mguardrails\u001b[39;00m\u001b[34;01m.\u001b[39;00m\u001b[34;01mguardrail\u001b[39;00m\u001b[38;5;250m \u001b[39m\u001b[38;5;28;01mimport\u001b[39;00m Guardrail, TrustwiseClientProtocol\n\u001b[32m      3\u001b[39m __all__ = [\u001b[33m\"\u001b[39m\u001b[33mGuardrail\u001b[39m\u001b[33m\"\u001b[39m, \u001b[33m\"\u001b[39m\u001b[33mTrustwiseClientProtocol\u001b[39m\u001b[33m\"\u001b[39m] \n",
      "\u001b[36mFile \u001b[39m\u001b[32m~/work/github/trustwise/src/trustwise/sdk/guardrails/guardrail.py:7\u001b[39m\n\u001b[32m      4\u001b[39m \u001b[38;5;28;01mimport\u001b[39;00m\u001b[38;5;250m \u001b[39m\u001b[34;01mwarnings\u001b[39;00m\n\u001b[32m      6\u001b[39m \u001b[38;5;28;01mfrom\u001b[39;00m\u001b[38;5;250m \u001b[39m\u001b[34;01mtrustwise\u001b[39;00m\u001b[34;01m.\u001b[39;00m\u001b[34;01msdk\u001b[39;00m\u001b[34;01m.\u001b[39;00m\u001b[34;01mfeatures\u001b[39;00m\u001b[38;5;250m \u001b[39m\u001b[38;5;28;01mimport\u001b[39;00m is_beta_feature\n\u001b[32m----> \u001b[39m\u001b[32m7\u001b[39m \u001b[38;5;28;01mfrom\u001b[39;00m\u001b[38;5;250m \u001b[39m\u001b[34;01mtrustwise\u001b[39;00m\u001b[34;01m.\u001b[39;00m\u001b[34;01msdk\u001b[39;00m\u001b[34;01m.\u001b[39;00m\u001b[34;01mclient\u001b[39;00m\u001b[38;5;250m \u001b[39m\u001b[38;5;28;01mimport\u001b[39;00m TrustwiseClientProtocol\n\u001b[32m     10\u001b[39m \u001b[38;5;28;01mclass\u001b[39;00m\u001b[38;5;250m \u001b[39m\u001b[34;01mTrustwiseClientProtocol\u001b[39;00m(Protocol):\n\u001b[32m     11\u001b[39m \u001b[38;5;250m    \u001b[39m\u001b[33;03m\"\"\"Protocol for Trustwise client interface.\"\"\"\u001b[39;00m\n",
      "\u001b[31mImportError\u001b[39m: cannot import name 'TrustwiseClientProtocol' from 'trustwise.sdk.client' (/Users/mk/work/github/trustwise/src/trustwise/sdk/client.py)"
     ]
    }
   ],
   "source": [
    "import os\n",
    "from trustwise.sdk import TrustwiseSDK\n",
    "from trustwise.sdk.config import TrustwiseConfig\n",
    "\n",
    "# Initialize the SDK\n",
    "config = TrustwiseConfig(api_key=os.environ[\"TW_API_KEY\"], base_url=\"https://api.trustwise.ai\")\n",
    "# config = TrustwiseConfig())\n",
    "trustwise = TrustwiseSDK(config)"
   ]
  },
  {
   "cell_type": "code",
   "execution_count": null,
   "metadata": {},
   "outputs": [],
   "source": []
  },
  {
   "cell_type": "code",
   "execution_count": null,
   "metadata": {},
   "outputs": [],
   "source": []
  },
  {
   "cell_type": "code",
   "execution_count": null,
   "metadata": {},
   "outputs": [],
   "source": []
  },
  {
   "cell_type": "code",
   "execution_count": null,
   "metadata": {},
   "outputs": [],
   "source": []
  },
  {
   "cell_type": "code",
   "execution_count": null,
   "metadata": {},
   "outputs": [],
   "source": []
  },
  {
   "cell_type": "code",
   "execution_count": null,
   "metadata": {},
   "outputs": [],
   "source": []
  },
  {
   "cell_type": "code",
   "execution_count": null,
   "metadata": {},
   "outputs": [],
   "source": []
  },
  {
   "cell_type": "code",
   "execution_count": null,
   "metadata": {},
   "outputs": [],
   "source": []
  },
  {
   "cell_type": "code",
   "execution_count": null,
   "metadata": {},
   "outputs": [],
   "source": []
  },
  {
   "cell_type": "markdown",
   "metadata": {},
   "source": [
    "## 3. Safety Metrics\n",
    "\n",
    "Let's explore some of the safety metrics available in the SDK."
   ]
  },
  {
   "cell_type": "code",
   "execution_count": 17,
   "metadata": {},
   "outputs": [
    {
     "name": "stdout",
     "output_type": "stream",
     "text": [
      "Faithfulness score: 99.971924\n",
      "PII detection result: {'identified_pii': [{'interval': [45, 57], 'string': '123-456-7890', 'category': 'phone number'}]}\n"
     ]
    }
   ],
   "source": [
    "# RAG SECTION\n",
    "# Context -> Qdrant\n",
    "# Response -> LLM\n",
    "# Query -> User\n",
    "\n",
    "# Example context for evaluation\n",
    "context = [{\n",
    "    \"node_text\": \"Paris is the capital of France.\",\n",
    "    \"node_score\": 0.95,\n",
    "    \"node_id\": \"doc:idx:1\"\n",
    "}]\n",
    "\n",
    "# Metrics calls post RAG\n",
    "\n",
    "# Evaluate faithfulness\n",
    "result = trustwise.safety.faithfulness.evaluate(\n",
    "    query=\"What is the capital of France?\",\n",
    "    response=\"The capital of France is Paris.\",\n",
    "    context=context\n",
    ")\n",
    "print(f\"Faithfulness score: {result['score']}\")\n",
    "\n",
    "# Evaluate PII detection\n",
    "pii_result = trustwise.safety.pii.evaluate(\n",
    "    text=\"My email is john@example.com and my phone is 123-456-7890\",\n",
    "    allowlist=[\"john@example.com\"]  # Allow specific PII\n",
    ")\n",
    "print(f\"PII detection result: {pii_result}\")\n",
    "\n",
    "# # Feedback:\n",
    "# 1. Getting query, context, response is not intuitive, do we need a helper function?\n",
    "# 2. Context schema - is it only qdrant or it supports other formats?\n",
    "# 3. End-end RAG example using the SDK? Example with context, query, response, etc.\n"
   ]
  },
  {
   "cell_type": "markdown",
   "metadata": {},
   "source": [
    "## 4. Alignment Metrics\n",
    "\n",
    "Now let's look at some alignment metrics to evaluate the quality of responses."
   ]
  },
  {
   "cell_type": "code",
   "execution_count": 18,
   "metadata": {},
   "outputs": [
    {
     "name": "stdout",
     "output_type": "stream",
     "text": [
      "Clarity score: 73.84502\n",
      "Tone result: {'labels': ['neutral', 'happiness', 'realization'], 'scores': [89.106514, 6.6293826, 3.538071]}\n"
     ]
    }
   ],
   "source": [
    "# Evaluate clarity\n",
    "clarity_result = trustwise.alignment.v1.clarity.evaluate(\n",
    "    query=\"What is the capital of France?\",\n",
    "    response=\"The capital of France is Paris.\"\n",
    ")\n",
    "print(f\"Clarity score: {clarity_result['score']}\")\n",
    "\n",
    "# Evaluate tone\n",
    "tone_result = trustwise.alignment.v1.tone.evaluate(\n",
    "    response=\"The capital of France is Paris.\"\n",
    ")\n",
    "print(f\"Tone result: {tone_result}\")"
   ]
  },
  {
   "cell_type": "markdown",
   "metadata": {},
   "source": [
    "## 5. Guardrails (Beta)\n",
    "\n",
    "Let's create a guardrail to enforce multiple metrics at once."
   ]
  },
  {
   "cell_type": "code",
   "execution_count": 4,
   "metadata": {},
   "outputs": [
    {
     "name": "stdout",
     "output_type": "stream",
     "text": [
      "Guardrail Evaluation:\n",
      "Passed all checks: False\n",
      "Response blocked: True\n",
      " - faithfulness: False (score: 99.971924)\n"
     ]
    }
   ],
   "source": [
    "# Create a multi-metric guardrail\n",
    "guardrail = trustwise.guardrails(\n",
    "    thresholds={\n",
    "        \"faithfulness\": 100,\n",
    "        \"answer_relevancy\": 0.7,\n",
    "        \"clarity\": 0.7\n",
    "    },\n",
    "    block_on_failure=True\n",
    ")\n",
    "\n",
    "# Evaluate with multiple metrics\n",
    "evaluation = guardrail.evaluate_response(\n",
    "    query=\"What is the capital of France?\",\n",
    "    response=\"The capital of France is Paris.\",\n",
    "    context=context\n",
    ")\n",
    "\n",
    "print(\"Guardrail Evaluation:\")\n",
    "print(f\"Passed all checks: {evaluation['passed']}\")\n",
    "print(f\"Response blocked: {evaluation['blocked']}\")\n",
    "for metric, result in evaluation['results'].items():\n",
    "    print(f\" - {metric}: {result['passed']} (score: {result['result'].get('score')})\")"
   ]
  },
  {
   "cell_type": "markdown",
   "metadata": {},
   "source": [
    "## 6. API Versioning\n",
    "\n",
    "The SDK supports versioning for different metrics. Let's see how to work with versions."
   ]
  },
  {
   "cell_type": "code",
   "execution_count": 6,
   "metadata": {},
   "outputs": [
    {
     "name": "stdout",
     "output_type": "stream",
     "text": [
      "Default versions: {'safety': ['v3'], 'alignment': ['v1']}\n",
      "Safety version: v3\n",
      "Scores identical: True\n"
     ]
    }
   ],
   "source": [
    "# Get current versions\n",
    "versions = trustwise.get_versions()\n",
    "print(f\"Default versions: {versions}\")\n",
    "\n",
    "# Set default version\n",
    "trustwise.safety.set_version(\"v3\")\n",
    "print(f\"Safety version: {trustwise.safety.version}\")\n",
    "\n",
    "# Using different version access methods\n",
    "result1 = trustwise.safety.v3.faithfulness.evaluate(\n",
    "    query=\"What is the capital of France?\",\n",
    "    response=\"The capital of France is Paris.\",\n",
    "    context=context\n",
    ")\n",
    "result2 = trustwise.safety.faithfulness.evaluate(\n",
    "    query=\"What is the capital of France?\",\n",
    "    response=\"The capital of France is Paris.\",\n",
    "    context=context\n",
    ")  # Uses default v3\n",
    "print(f\"Scores identical: {result1['score'] == result2['score']}\")\n"
   ]
  },
  {
   "cell_type": "markdown",
   "metadata": {},
   "source": [
    "## 7. Next Steps\n",
    "\n",
    "Now that you've completed this quickstart guide, you can:\n",
    "\n",
    "1. Explore more safety metrics like answer relevancy and context relevancy\n",
    "2. Try additional alignment metrics like helpfulness and formality\n",
    "3. Create custom guardrails with different threshold combinations\n",
    "4. Experiment with different API versions\n",
    "\n",
    "For more detailed information, refer to the [Trustwise SDK documentation](https://supreme-happiness-lrmyw2m.pages.github.io/)."
   ]
  }
 ],
 "metadata": {
  "kernelspec": {
   "display_name": "py311",
   "language": "python",
   "name": "python3"
  },
  "language_info": {
   "codemirror_mode": {
    "name": "ipython",
    "version": 3
   },
   "file_extension": ".py",
   "mimetype": "text/x-python",
   "name": "python",
   "nbconvert_exporter": "python",
   "pygments_lexer": "ipython3",
   "version": "3.11.11"
  }
 },
 "nbformat": 4,
 "nbformat_minor": 4
}
