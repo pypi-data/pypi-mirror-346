{
 "cells": [
  {
   "cell_type": "markdown",
   "metadata": {},
   "source": [
    "# Trustwise SDK Guide\n",
    "\n",
    "This notebook provides a step-by-step guide to using the Trustwise SDK for evaluating AI-generated content with Trustwise's Safety and Alignment metrics."
   ]
  },
  {
   "cell_type": "markdown",
   "metadata": {},
   "source": [
    "## 1. Installation and Setup\n",
    "\n",
    "First, let's install the Trustwise SDK and set up our environment."
   ]
  },
  {
   "cell_type": "code",
   "execution_count": 3,
   "metadata": {},
   "outputs": [
    {
     "name": "stdout",
     "output_type": "stream",
     "text": [
      "Requirement already satisfied: trustwise==0.1.0a3 in /opt/miniconda3/envs/testpy11/lib/python3.11/site-packages (0.1.0a3)\n",
      "Requirement already satisfied: pydantic>=2.11.0 in /opt/miniconda3/envs/testpy11/lib/python3.11/site-packages (from trustwise==0.1.0a3) (2.11.4)\n",
      "Requirement already satisfied: python-dotenv>=1.0.0 in /opt/miniconda3/envs/testpy11/lib/python3.11/site-packages (from trustwise==0.1.0a3) (1.0.1)\n",
      "Requirement already satisfied: requests>=2.31.0 in /opt/miniconda3/envs/testpy11/lib/python3.11/site-packages (from trustwise==0.1.0a3) (2.32.3)\n",
      "Requirement already satisfied: urllib3>=2.4.0 in /opt/miniconda3/envs/testpy11/lib/python3.11/site-packages (from trustwise==0.1.0a3) (2.4.0)\n",
      "Requirement already satisfied: annotated-types>=0.6.0 in /opt/miniconda3/envs/testpy11/lib/python3.11/site-packages (from pydantic>=2.11.0->trustwise==0.1.0a3) (0.7.0)\n",
      "Requirement already satisfied: pydantic-core==2.33.2 in /opt/miniconda3/envs/testpy11/lib/python3.11/site-packages (from pydantic>=2.11.0->trustwise==0.1.0a3) (2.33.2)\n",
      "Requirement already satisfied: typing-extensions>=4.12.2 in /opt/miniconda3/envs/testpy11/lib/python3.11/site-packages (from pydantic>=2.11.0->trustwise==0.1.0a3) (4.13.2)\n",
      "Requirement already satisfied: typing-inspection>=0.4.0 in /opt/miniconda3/envs/testpy11/lib/python3.11/site-packages (from pydantic>=2.11.0->trustwise==0.1.0a3) (0.4.0)\n",
      "Requirement already satisfied: charset-normalizer<4,>=2 in /opt/miniconda3/envs/testpy11/lib/python3.11/site-packages (from requests>=2.31.0->trustwise==0.1.0a3) (3.4.1)\n",
      "Requirement already satisfied: idna<4,>=2.5 in /opt/miniconda3/envs/testpy11/lib/python3.11/site-packages (from requests>=2.31.0->trustwise==0.1.0a3) (3.10)\n",
      "Requirement already satisfied: certifi>=2017.4.17 in /opt/miniconda3/envs/testpy11/lib/python3.11/site-packages (from requests>=2.31.0->trustwise==0.1.0a3) (2024.12.14)\n"
     ]
    }
   ],
   "source": [
    "!pip install trustwise==0.1.0a3"
   ]
  },
  {
   "cell_type": "markdown",
   "metadata": {},
   "source": [
    "#### Load Env vars\n",
    "\n",
    "Load env vars from `.env`"
   ]
  },
  {
   "cell_type": "code",
   "execution_count": 1,
   "metadata": {},
   "outputs": [],
   "source": [
    "import os\n",
    "from dotenv import load_dotenv\n",
    "\n",
    "# Load environment variables from .env file\n",
    "load_dotenv()\n",
    "\n",
    "# Access environment variables\n",
    "api_key = os.environ.get(\"TW_API_KEY\")\n",
    "assert api_key is not None, \"TW_API_KEY is not set\""
   ]
  },
  {
   "cell_type": "markdown",
   "metadata": {},
   "source": [
    "## 2. Basic Setup\n",
    "\n",
    "Let's initialize the SDK with your API key and create a basic configuration."
   ]
  },
  {
   "cell_type": "code",
   "execution_count": 2,
   "metadata": {},
   "outputs": [],
   "source": [
    "import os\n",
    "from trustwise.sdk import TrustwiseSDK\n",
    "from trustwise.sdk.config import TrustwiseConfig\n",
    "\n",
    "# Initialize the SDK\n",
    "config = TrustwiseConfig(api_key=os.environ[\"TW_API_KEY\"], base_url=\"https://api.trustwise.ai\")\n",
    "# config = TrustwiseConfig())\n",
    "trustwise = TrustwiseSDK(config)"
   ]
  },
  {
   "cell_type": "markdown",
   "metadata": {},
   "source": [
    "## 3. Safety Metrics\n",
    "\n",
    "Let's explore some of the safety metrics available in the SDK."
   ]
  },
  {
   "cell_type": "code",
   "execution_count": 3,
   "metadata": {},
   "outputs": [
    {
     "name": "stdout",
     "output_type": "stream",
     "text": [
      "Faithfulness score: 99.971924\n",
      "Faithfulness json: {\"score\":99.971924,\"facts\":[{\"statement\":\"The capital of France is Paris.\",\"label\":\"Safe\",\"prob\":0.9997192,\"sentence_span\":[0,30]}]}\n",
      "PII detection result: identified_pii=[PIIEntity(interval=[45, 57], string='123-456-7890', category='blocklist')]\n",
      "PII detection json: {\"identified_pii\":[{\"interval\":[45,57],\"string\":\"123-456-7890\",\"category\":\"blocklist\"}]}\n"
     ]
    }
   ],
   "source": [
    "# RAG SECTION\n",
    "# Context -> Qdrant\n",
    "# Response -> LLM\n",
    "# Query -> User\n",
    "\n",
    "# Example context for evaluation\n",
    "context = [{\n",
    "    \"node_text\": \"Paris is the capital of France.\",\n",
    "    \"node_score\": 0.95,\n",
    "    \"node_id\": \"doc:idx:1\"\n",
    "}]\n",
    "\n",
    "# Metrics calls post RAG\n",
    "\n",
    "# Evaluate faithfulness\n",
    "result = trustwise.safety.faithfulness.evaluate(\n",
    "    query=\"What is the capital of France?\",\n",
    "    response=\"The capital of France is Paris.\",\n",
    "    context=context\n",
    ")\n",
    "print(f\"Faithfulness score: {result.score}\")\n",
    "print(f\"Faithfulness json: {result.to_json()}\")\n",
    "\n",
    "# Evaluate PII detection\n",
    "pii_result = trustwise.safety.pii.evaluate(\n",
    "    text=\"My email is john@example.com and my phone is 123-456-7890\",\n",
    "    allowlist=[\"john@example.com\"],  # Allow specific PII\n",
    "    blocklist=[\"123-456-7890\"]  # Block specific PII\n",
    ")\n",
    "print(f\"PII detection result: {pii_result}\")\n",
    "print(f\"PII detection json: {pii_result.to_json()}\")\n",
    "\n",
    "# # Feedback:\n",
    "# 1. Getting query, context, response is not intuitive, do we need a helper function?\n",
    "# 2. Context schema - is it only qdrant or it supports other formats?\n",
    "# 3. End-end RAG example using the SDK? Example with context, query, response, etc.\n"
   ]
  },
  {
   "cell_type": "markdown",
   "metadata": {},
   "source": [
    "## 4. Alignment Metrics\n",
    "\n",
    "Now let's look at some alignment metrics to evaluate the quality of responses."
   ]
  },
  {
   "cell_type": "code",
   "execution_count": 4,
   "metadata": {},
   "outputs": [
    {
     "name": "stdout",
     "output_type": "stream",
     "text": [
      "Clarity score: 73.84502\n",
      "Clarity json: {\"score\":73.84502}\n",
      "Tone result: labels=['neutral', 'happiness', 'realization'] scores=[89.106514, 6.6293826, 3.538071]\n",
      "Tone json: {\"labels\":[\"neutral\",\"happiness\",\"realization\"],\"scores\":[89.106514,6.6293826,3.538071]}\n"
     ]
    }
   ],
   "source": [
    "# Evaluate clarity\n",
    "clarity_result = trustwise.alignment.v1.clarity.evaluate(\n",
    "    query=\"What is the capital of France?\",\n",
    "    response=\"The capital of France is Paris.\"\n",
    ")\n",
    "print(f\"Clarity score: {clarity_result.score}\")\n",
    "print(f\"Clarity json: {clarity_result.to_json()}\")\n",
    "\n",
    "# Evaluate tone\n",
    "tone_result = trustwise.alignment.v1.tone.evaluate(\n",
    "    response=\"The capital of France is Paris.\"\n",
    ")\n",
    "print(f\"Tone result: {tone_result}\")\n",
    "print(f\"Tone json: {tone_result.to_json()}\")"
   ]
  },
  {
   "cell_type": "markdown",
   "metadata": {},
   "source": [
    "## 5. Guardrails (Beta)\n",
    "\n",
    "Let's create a guardrail to enforce multiple metrics at once."
   ]
  },
  {
   "cell_type": "code",
   "execution_count": 8,
   "metadata": {},
   "outputs": [
    {
     "name": "stdout",
     "output_type": "stream",
     "text": [
      "Guardrail Evaluation:\n",
      "Passed all checks: False\n",
      "Response blocked: True\n",
      "passed=False blocked=True results={'faithfulness': {'passed': False, 'result': FaithfulnessResponse(score=99.971924, facts=[Fact(statement='The capital of France is Paris.', label='Safe', prob=0.9997192, sentence_span=[0, 30])])}}\n",
      "{\"passed\": false, \"blocked\": true, \"results\": {\"faithfulness\": {\"passed\": false, \"result\": {\"score\": 99.971924, \"facts\": [{\"statement\": \"The capital of France is Paris.\", \"label\": \"Safe\", \"prob\": 0.9997192, \"sentence_span\": [0, 30]}]}}}}\n",
      "faithfulness {'passed': False, 'result': FaithfulnessResponse(score=99.971924, facts=[Fact(statement='The capital of France is Paris.', label='Safe', prob=0.9997192, sentence_span=[0, 30])])}\n",
      " - faithfulness: False (score: 99.971924)\n"
     ]
    }
   ],
   "source": [
    "# Create a multi-metric guardrail\n",
    "guardrail = trustwise.guardrails(\n",
    "    thresholds={\n",
    "        \"faithfulness\": 100,\n",
    "        \"answer_relevancy\": 0.7,\n",
    "        \"clarity\": 0.7\n",
    "    },\n",
    "    block_on_failure=True\n",
    ")\n",
    "\n",
    "# Evaluate with multiple metrics\n",
    "evaluation = guardrail.evaluate_response(\n",
    "    query=\"What is the capital of France?\",\n",
    "    response=\"The capital of France is Paris.\",\n",
    "    context=context\n",
    ")\n",
    "\n",
    "print(\"Guardrail Evaluation:\")\n",
    "print(f\"Passed all checks: {evaluation.passed}\")\n",
    "print(f\"Response blocked: {evaluation.blocked}\")\n",
    "print(evaluation)\n",
    "print(evaluation.to_json())\n",
    "for metric, result in evaluation.results.items():\n",
    "    print(metric, result)\n",
    "    score = result['result'].score if hasattr(result['result'], 'score') else result['result'].get('score')\n",
    "    print(f\" - {metric}: {result['passed']} (score: {score})\")"
   ]
  },
  {
   "cell_type": "markdown",
   "metadata": {},
   "source": [
    "## 6. API Versioning\n",
    "\n",
    "The SDK supports versioning for different metrics. Let's see how to work with versions."
   ]
  },
  {
   "cell_type": "code",
   "execution_count": 10,
   "metadata": {},
   "outputs": [
    {
     "name": "stdout",
     "output_type": "stream",
     "text": [
      "Default versions: {'safety': ['v3'], 'alignment': ['v1'], 'performance': ['v1']}\n",
      "Safety version: v3\n",
      "Scores identical: True\n"
     ]
    }
   ],
   "source": [
    "# Get current versions\n",
    "versions = trustwise.get_versions()\n",
    "print(f\"Default versions: {versions}\")\n",
    "\n",
    "# Set default version\n",
    "trustwise.safety.set_version(\"v3\")\n",
    "print(f\"Safety version: {trustwise.safety.version}\")\n",
    "\n",
    "# Using different version access methods\n",
    "result1 = trustwise.safety.v3.faithfulness.evaluate(\n",
    "    query=\"What is the capital of France?\",\n",
    "    response=\"The capital of France is Paris.\",\n",
    "    context=context\n",
    ")\n",
    "result2 = trustwise.safety.faithfulness.evaluate(\n",
    "    query=\"What is the capital of France?\",\n",
    "    response=\"The capital of France is Paris.\",\n",
    "    context=context\n",
    ")  # Uses default v3\n",
    "print(f\"Scores identical: {result1.score == result2.score}\")\n"
   ]
  },
  {
   "cell_type": "markdown",
   "metadata": {},
   "source": [
    "## 7. Next Steps\n",
    "\n",
    "Now that you've completed this quickstart guide, you can:\n",
    "\n",
    "1. Explore more safety metrics like answer relevancy and context relevancy\n",
    "2. Try additional alignment metrics like helpfulness and formality\n",
    "3. Create custom guardrails with different threshold combinations\n",
    "4. Experiment with different API versions\n",
    "\n",
    "For more detailed information, refer to the [Trustwise SDK documentation](https://supreme-happiness-lrmyw2m.pages.github.io/)."
   ]
  }
 ],
 "metadata": {
  "kernelspec": {
   "display_name": "py311",
   "language": "python",
   "name": "python3"
  },
  "language_info": {
   "codemirror_mode": {
    "name": "ipython",
    "version": 3
   },
   "file_extension": ".py",
   "mimetype": "text/x-python",
   "name": "python",
   "nbconvert_exporter": "python",
   "pygments_lexer": "ipython3",
   "version": "3.11.11"
  }
 },
 "nbformat": 4,
 "nbformat_minor": 4
}
