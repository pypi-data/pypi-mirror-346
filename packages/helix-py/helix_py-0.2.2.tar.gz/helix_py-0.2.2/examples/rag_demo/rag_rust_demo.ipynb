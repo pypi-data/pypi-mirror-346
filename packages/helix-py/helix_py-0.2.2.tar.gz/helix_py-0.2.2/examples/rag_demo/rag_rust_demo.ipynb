{
 "cells": [
  {
   "cell_type": "code",
   "execution_count": 1,
   "id": "10223a34-ab6c-4194-8c1d-bf94b9da9aa6",
   "metadata": {},
   "outputs": [
    {
     "name": "stdout",
     "output_type": "stream",
     "text": [
      "\n",
      "\u001b[1m[\u001b[0m\u001b[34;49mnotice\u001b[0m\u001b[1;39;49m]\u001b[0m\u001b[39;49m A new release of pip is available: \u001b[0m\u001b[31;49m25.0.1\u001b[0m\u001b[39;49m -> \u001b[0m\u001b[32;49m25.1.1\u001b[0m\n",
      "\u001b[1m[\u001b[0m\u001b[34;49mnotice\u001b[0m\u001b[1;39;49m]\u001b[0m\u001b[39;49m To update, run: \u001b[0m\u001b[32;49mpip install --upgrade pip\u001b[0m\n"
     ]
    }
   ],
   "source": [
    "!pip install -q chonkie docling model2vec rich torch transformers tqdm requests helix-py"
   ]
  },
  {
   "cell_type": "code",
   "execution_count": 2,
   "id": "82062cc2-2bd0-4a9d-bd7e-77cd354ddad1",
   "metadata": {},
   "outputs": [
    {
     "name": "stderr",
     "output_type": "stream",
     "text": [
      "/Users/ln/dev/helix-py/venv/lib/python3.13/site-packages/tqdm/auto.py:21: TqdmWarning: IProgress not found. Please update jupyter and ipywidgets. See https://ipywidgets.readthedocs.io/en/stable/user_install.html\n",
      "  from .autonotebook import tqdm as notebook_tqdm\n"
     ]
    }
   ],
   "source": [
    "from chonkie import RecursiveChunker, RecursiveRules, RecursiveLevel\n",
    "from docling.document_converter import DocumentConverter\n",
    "from transformers import AutoTokenizer, AutoModel\n",
    "from rich.console import Console\n",
    "from rich.text import Text\n",
    "from typing import List, Tuple\n",
    "import numpy as np\n",
    "import os\n",
    "import torch\n",
    "from tqdm import tqdm\n",
    "import requests\n",
    "\n",
    "import helix\n",
    "from helix.client import Query\n",
    "from helix.types import Payload"
   ]
  },
  {
   "cell_type": "code",
   "execution_count": 3,
   "id": "43f77118-41f0-4b42-b26e-e26996f1e066",
   "metadata": {},
   "outputs": [],
   "source": [
    "console = Console()\n",
    "\n",
    "# A wrapper to pretty print\n",
    "def rprint(text: str, console: Console=console, width: int = 80) -> None:\n",
    "  richtext = Text(text)\n",
    "  console.print(richtext.wrap(console, width=width))"
   ]
  },
  {
   "cell_type": "code",
   "execution_count": 4,
   "id": "35a7b215-dbd0-4851-aba8-b973efd1d62b",
   "metadata": {},
   "outputs": [],
   "source": [
    "tokenizer = AutoTokenizer.from_pretrained(\"microsoft/codebert-base\")\n",
    "model = AutoModel.from_pretrained(\"microsoft/codebert-base\")"
   ]
  },
  {
   "cell_type": "code",
   "execution_count": 5,
   "id": "f657dfb9-353f-40c3-818b-293f0ad6c21d",
   "metadata": {},
   "outputs": [],
   "source": [
    "rust_docs_endpoints = [\n",
    "    (1, \"Getting Started\", \"https://doc.rust-lang.org/book/ch01-00-getting-started.html\"),\n",
    "    (1, \"Installation\", \"https://doc.rust-lang.org/book/ch01-01-installation.html\"),\n",
    "    (1, \"Hello, World!\", \"https://doc.rust-lang.org/book/ch01-02-hello-world.html\"),\n",
    "    (1, \"Hello, Cargo!\", \"https://doc.rust-lang.org/book/ch01-03-hello-cargo.html\"),\n",
    "    (2, \"Guessing Game Tutorial\", \"https://doc.rust-lang.org/book/ch02-00-guessing-game-tutorial.html\"),\n",
    "    (3, \"Common Programming Concepts\", \"https://doc.rust-lang.org/book/ch03-00-common-programming-concepts.html\"),\n",
    "    (3, \"Variables and Mutability\", \"https://doc.rust-lang.org/book/ch03-01-variables-and-mutability.html\"),\n",
    "    (3, \"Data Types\", \"https://doc.rust-lang.org/book/ch03-02-data-types.html\"),\n",
    "    (3, \"How Functions Work\", \"https://doc.rust-lang.org/book/ch03-03-how-functions-work.html\"),\n",
    "    (3, \"Comments\", \"https://doc.rust-lang.org/book/ch03-04-comments.html\"),\n",
    "    (3, \"Control Flow\", \"https://doc.rust-lang.org/book/ch03-05-control-flow.html\"),\n",
    "    (4, \"Understanding Ownership\", \"https://doc.rust-lang.org/book/ch04-00-understanding-ownership.html\"),\n",
    "    (4, \"What is Ownership?\", \"https://doc.rust-lang.org/book/ch04-01-what-is-ownership.html\"),\n",
    "    (4, \"References and Borrowing\", \"https://doc.rust-lang.org/book/ch04-02-references-and-borrowing.html\"),\n",
    "    (4, \"Slices\", \"https://doc.rust-lang.org/book/ch04-03-slices.html\"),\n",
    "    (5, \"Structs\", \"https://doc.rust-lang.org/book/ch05-00-structs.html\"),\n",
    "    (5, \"Defining Structs\", \"https://doc.rust-lang.org/book/ch05-01-defining-structs.html\"),\n",
    "    (5, \"Example Structs\", \"https://doc.rust-lang.org/book/ch05-02-example-structs.html\"),\n",
    "    (5, \"Method Syntax\", \"https://doc.rust-lang.org/book/ch05-03-method-syntax.html\"),\n",
    "    (6, \"Enums\", \"https://doc.rust-lang.org/book/ch06-00-enums.html\"),\n",
    "    (6, \"Defining an Enum\", \"https://doc.rust-lang.org/book/ch06-01-defining-an-enum.html\"),\n",
    "    (6, \"Match\", \"https://doc.rust-lang.org/book/ch06-02-match.html\"),\n",
    "    (6, \"If Let\", \"https://doc.rust-lang.org/book/ch06-03-if-let.html\"),\n",
    "    (7, \"Managing Growing Projects with Packages, Crates, and Modules\", \"https://doc.rust-lang.org/book/ch07-00-managing-growing-projects-with-packages-crates-and-modules.html\"),\n",
    "    (7, \"Packages and Crates\", \"https://doc.rust-lang.org/book/ch07-01-packages-and-crates.html\"),\n",
    "    (7, \"Defining Modules to Control Scope and Privacy\", \"https://doc.rust-lang.org/book/ch07-02-defining-modules-to-control-scope-and-privacy.html\"),\n",
    "    (7, \"Paths for Referring to an Item in the Module Tree\", \"https://doc.rust-lang.org/book/ch07-03-paths-for-referring-to-an-item-in-the-module-tree.html\"),\n",
    "    (8, \"Common Collections\", \"https://doc.rust-lang.org/book/ch08-00-common-collections.html\"),\n",
    "    (8, \"Vectors\", \"https://doc.rust-lang.org/book/ch08-01-vectors.html\"),\n",
    "    (8, \"Strings\", \"https://doc.rust-lang.org/book/ch08-02-strings.html\"),\n",
    "    (8, \"Hash Maps\", \"https://doc.rust-lang.org/book/ch08-03-hash-maps.html\"),\n",
    "    (9, \"Error Handling\", \"https://doc.rust-lang.org/book/ch09-00-error-handling.html\"),\n",
    "    (9, \"Unrecoverable Errors with Panic\", \"https://doc.rust-lang.org/book/ch09-01-unrecoverable-errors-with-panic.html\"),\n",
    "    (9, \"Recoverable Errors with Result\", \"https://doc.rust-lang.org/book/ch09-02-recoverable-errors-with-result.html\"),\n",
    "    (9, \"To Panic or Not to Panic\", \"https://doc.rust-lang.org/book/ch09-03-to-panic-or-not-to-panic.html\"),\n",
    "    (10, \"Generics\", \"https://doc.rust-lang.org/book/ch10-00-generics.html\"),\n",
    "    (10, \"Syntax\", \"https://doc.rust-lang.org/book/ch10-01-syntax.html\"),\n",
    "    (10, \"Traits\", \"https://doc.rust-lang.org/book/ch10-02-traits.html\"),\n",
    "    (10, \"Lifetime Syntax\", \"https://doc.rust-lang.org/book/ch10-03-lifetime-syntax.html\"),\n",
    "    (11, \"Testing\", \"https://doc.rust-lang.org/book/ch11-00-testing.html\"),\n",
    "    (11, \"Writing Tests\", \"https://doc.rust-lang.org/book/ch11-01-writing-tests.html\"),\n",
    "    (11, \"Running Tests\", \"https://doc.rust-lang.org/book/ch11-02-running-tests.html\"),\n",
    "    (11, \"Test Organization\", \"https://doc.rust-lang.org/book/ch11-03-test-organization.html\"),\n",
    "    (12, \"An I/O Project\", \"https://doc.rust-lang.org/book/ch12-00-an-io-project.html\"),\n",
    "    (12, \"Accepting Command Line Arguments\", \"https://doc.rust-lang.org/book/ch12-01-accepting-command-line-arguments.html\"),\n",
    "    (12, \"Reading a File\", \"https://doc.rust-lang.org/book/ch12-02-reading-a-file.html\"),\n",
    "    (12, \"Improving Error Handling and Modularity\", \"https://doc.rust-lang.org/book/ch12-03-improving-error-handling-and-modularity.html\"),\n",
    "    (12, \"Testing the Library's Functionality\", \"https://doc.rust-lang.org/book/ch12-04-testing-the-librarys-functionality.html\"),\n",
    "    (12, \"Working with Environment Variables\", \"https://doc.rust-lang.org/book/ch12-05-working-with-environment-variables.html\"),\n",
    "    (12, \"Writing to stderr Instead of stdout\", \"https://doc.rust-lang.org/book/ch12-06-writing-to-stderr-instead-of-stdout.html\"),\n",
    "    (13, \"Functional Features\", \"https://doc.rust-lang.org/book/ch13-00-functional-features.html\"),\n",
    "    (13, \"Closures\", \"https://doc.rust-lang.org/book/ch13-01-closures.html\"),\n",
    "    (13, \"Iterators\", \"https://doc.rust-lang.org/book/ch13-02-iterators.html\"),\n",
    "    (13, \"Improving Our I/O Project\", \"https://doc.rust-lang.org/book/ch13-03-improving-our-io-project.html\"),\n",
    "    (14, \"More About Cargo\", \"https://doc.rust-lang.org/book/ch14-00-more-about-cargo.html\"),\n",
    "    (14, \"Release Profiles\", \"https://doc.rust-lang.org/book/ch14-01-release-profiles.html\"),\n",
    "    (14, \"Publishing to Crates.io\", \"https://doc.rust-lang.org/book/ch14-02-publishing-to-crates-io.html\"),\n",
    "    (14, \"Cargo Workspaces\", \"https://doc.rust-lang.org/book/ch14-03-cargo-workspaces.html\"),\n",
    "    (14, \"Installing Binaries\", \"https://doc.rust-lang.org/book/ch14-04-installing-binaries.html\"),\n",
    "    (14, \"Extending Cargo\", \"https://doc.rust-lang.org/book/ch14-05-extending-cargo.html\"),\n",
    "    (15, \"Smart Pointers\", \"https://doc.rust-lang.org/book/ch15-00-smart-pointers.html\"),\n",
    "    (15, \"Box\", \"https://doc.rust-lang.org/book/ch15-01-box.html\"),\n",
    "    (15, \"Deref\", \"https://doc.rust-lang.org/book/ch15-02-deref.html\"),\n",
    "    (15, \"Drop\", \"https://doc.rust-lang.org/book/ch15-03-drop.html\"),\n",
    "    (15, \"Rc\", \"https://doc.rust-lang.org/book/ch15-04-rc.html\"),\n",
    "    (15, \"Interior Mutability\", \"https://doc.rust-lang.org/book/ch15-05-interior-mutability.html\"),\n",
    "    (15, \"Reference Cycles\", \"https://doc.rust-lang.org/book/ch15-06-reference-cycles.html\"),\n",
    "    (16, \"Concurrency\", \"https://doc.rust-lang.org/book/ch16-00-concurrency.html\"),\n",
    "    (16, \"Threads\", \"https://doc.rust-lang.org/book/ch16-01-threads.html\"),\n",
    "    (16, \"Message Passing\", \"https://doc.rust-lang.org/book/ch16-02-message-passing.html\"),\n",
    "    (16, \"Shared State\", \"https://doc.rust-lang.org/book/ch16-03-shared-state.html\"),\n",
    "    (16, \"Extensible Concurrency: Sync and Send\", \"https://doc.rust-lang.org/book/ch16-04-extensible-concurrency-sync-and-send.html\"),\n",
    "    (17, \"Object-Oriented Programming\", \"https://doc.rust-lang.org/book/ch17-00-oop.html\"),\n",
    "    (17, \"What is OO?\", \"https://doc.rust-lang.org/book/ch17-01-what-is-oo.html\"),\n",
    "    (17, \"Trait Objects\", \"https://doc.rust-lang.org/book/ch17-02-trait-objects.html\"),\n",
    "    (17, \"OO Design Patterns\", \"https://doc.rust-lang.org/book/ch17-03-oo-design-patterns.html\"),\n",
    "    (18, \"Patterns\", \"https://doc.rust-lang.org/book/ch18-00-patterns.html\"),\n",
    "    (18, \"All the Places for Patterns\", \"https://doc.rust-lang.org/book/ch18-01-all-the-places-for-patterns.html\"),\n",
    "    (18, \"Refutability\", \"https://doc.rust-lang.org/book/ch18-02-refutability.html\"),\n",
    "    (18, \"Pattern Syntax\", \"https://doc.rust-lang.org/book/ch18-03-pattern-syntax.html\"),\n",
    "    (19, \"Advanced Patterns\", \"https://doc.rust-lang.org/book/ch19-00-patterns.html\"),\n",
    "    (19, \"All the Places for Patterns\", \"https://doc.rust-lang.org/book/ch19-01-all-the-places-for-patterns.html\"),\n",
    "    (19, \"Refutability\", \"https://doc.rust-lang.org/book/ch19-02-refutability.html\"),\n",
    "    (19, \"Pattern Syntax\", \"https://doc.rust-lang.org/book/ch19-03-pattern-syntax.html\"),\n",
    "    (20, \"Advanced Features\", \"https://doc.rust-lang.org/book/ch20-00-advanced-features.html\"),\n",
    "    (20, \"Unsafe Rust\", \"https://doc.rust-lang.org/book/ch20-01-unsafe-rust.html\"),\n",
    "    (20, \"Advanced Traits\", \"https://doc.rust-lang.org/book/ch20-02-advanced-traits.html\"),\n",
    "    (20, \"Advanced Types\", \"https://doc.rust-lang.org/book/ch20-03-advanced-types.html\"),\n",
    "    (20, \"Advanced Functions and Closures\", \"https://doc.rust-lang.org/book/ch20-04-advanced-functions-and-closures.html\"),\n",
    "    (20, \"Macros\", \"https://doc.rust-lang.org/book/ch20-05-macros.html\"),\n",
    "]"
   ]
  },
  {
   "cell_type": "code",
   "execution_count": 6,
   "id": "22bdad91-4c74-492f-a06e-800bd5f0f668",
   "metadata": {},
   "outputs": [],
   "source": [
    "converter = DocumentConverter()\n",
    "results = [(ch, sch, converter.convert(doc)) for ch, sch, doc in rust_docs_endpoints]\n",
    "text_results = [(ch, sch, res.document.export_to_markdown()) for ch, sch, res in results]"
   ]
  },
  {
   "cell_type": "code",
   "execution_count": 7,
   "id": "02b59d77-c543-420d-ad83-0d9a191e58d5",
   "metadata": {},
   "outputs": [],
   "source": [
    "rules = RecursiveRules(\n",
    "    levels=[\n",
    "        RecursiveLevel(delimiters=['######', '#####', '####', '###', '##', '#']),\n",
    "        RecursiveLevel(delimiters=['\\n\\n', '\\n', '\\r\\n', '\\r']),\n",
    "        RecursiveLevel(delimiters='.?!;:'),\n",
    "        RecursiveLevel()\n",
    "    ]\n",
    ")\n",
    "chunker = RecursiveChunker(rules=rules, chunk_size=250)"
   ]
  },
  {
   "cell_type": "code",
   "execution_count": 8,
   "id": "00660bea-d877-476a-9b67-2772b2c5d5d1",
   "metadata": {},
   "outputs": [
    {
     "name": "stdout",
     "output_type": "stream",
     "text": [
      "Total number of lists of chunks: 90\n"
     ]
    },
    {
     "data": {
      "text/html": [
       "<pre style=\"white-space:pre;overflow-x:auto;line-height:normal;font-family:Menlo,'DejaVu Sans Mono',consolas,'Courier New',monospace\"># The Rust Programming Language\n",
       "\n",
       "# Getting Started\n",
       "\n",
       "Let’s start your Rust journey! There’s a lot to learn, but every journey starts\n",
       "somewhere. In this chapter, we’ll discuss:\n",
       "\n",
       "- Installing Rust on Linux, macOS, and Windows\n",
       "- Writing a program that prints Hello, world!\n",
       "- Using cargo, Rust’s package manager and build system\n",
       "</pre>\n"
      ],
      "text/plain": [
       "# The Rust Programming Language\n",
       "\n",
       "# Getting Started\n",
       "\n",
       "Let’s start your Rust journey! There’s a lot to learn, but every journey starts\n",
       "somewhere. In this chapter, we’ll discuss:\n",
       "\n",
       "- Installing Rust on Linux, macOS, and Windows\n",
       "- Writing a program that prints Hello, world!\n",
       "- Using cargo, Rust’s package manager and build system\n"
      ]
     },
     "metadata": {},
     "output_type": "display_data"
    },
    {
     "name": "stdout",
     "output_type": "stream",
     "text": [
      "-------------------------------------------------------------------------------- \n",
      "\n",
      "\n"
     ]
    },
    {
     "data": {
      "text/html": [
       "<pre style=\"white-space:pre;overflow-x:auto;line-height:normal;font-family:Menlo,'DejaVu Sans Mono',consolas,'Courier New',monospace\"># The Rust Programming Language\n",
       "\n",
       "## Installation\n",
       "\n",
       "The first step is to install Rust. We’ll download Rust through rustup, a\n",
       "command line tool for managing Rust versions and associated tools. You’ll need\n",
       "an internet connection for the download.\n",
       "\n",
       "Note: If you prefer not to use rustup for some reason, please see the\n",
       "Other Rust Installation Methods page for more options.\n",
       "\n",
       "The following steps install the latest stable version of the Rust compiler.\n",
       "Rust’s stability guarantees ensure that all the examples in the book that\n",
       "compile will continue to compile with newer Rust versions. The output might\n",
       "differ slightly between versions because Rust often improves error messages and\n",
       "warnings. In other words, any newer, stable version of Rust you install using\n",
       "these steps should work as expected with the content of this book.\n",
       "\n",
       "#\n",
       "</pre>\n"
      ],
      "text/plain": [
       "# The Rust Programming Language\n",
       "\n",
       "## Installation\n",
       "\n",
       "The first step is to install Rust. We’ll download Rust through rustup, a\n",
       "command line tool for managing Rust versions and associated tools. You’ll need\n",
       "an internet connection for the download.\n",
       "\n",
       "Note: If you prefer not to use rustup for some reason, please see the\n",
       "Other Rust Installation Methods page for more options.\n",
       "\n",
       "The following steps install the latest stable version of the Rust compiler.\n",
       "Rust’s stability guarantees ensure that all the examples in the book that\n",
       "compile will continue to compile with newer Rust versions. The output might\n",
       "differ slightly between versions because Rust often improves error messages and\n",
       "warnings. In other words, any newer, stable version of Rust you install using\n",
       "these steps should work as expected with the content of this book.\n",
       "\n",
       "#\n"
      ]
     },
     "metadata": {},
     "output_type": "display_data"
    },
    {
     "name": "stdout",
     "output_type": "stream",
     "text": [
      "-------------------------------------------------------------------------------- \n",
      "\n",
      "\n"
     ]
    },
    {
     "data": {
      "text/html": [
       "<pre style=\"white-space:pre;overflow-x:auto;line-height:normal;font-family:Menlo,'DejaVu Sans Mono',consolas,'Courier New',monospace\">## Command Line Notation\n",
       "\n",
       "In this chapter and throughout the book, we’ll show some commands used in the\n",
       "terminal. Lines that you should enter in a terminal all start with $. You\n",
       "don’t need to type the $ character; it’s the command line prompt shown to\n",
       "indicate the start of each command. Lines that don’t start with $ typically\n",
       "show the output of the previous command. Additionally, PowerShell-specific\n",
       "examples will use &amp;gt; rather than $.\n",
       "\n",
       "#\n",
       "</pre>\n"
      ],
      "text/plain": [
       "## Command Line Notation\n",
       "\n",
       "In this chapter and throughout the book, we’ll show some commands used in the\n",
       "terminal. Lines that you should enter in a terminal all start with $. You\n",
       "don’t need to type the $ character; it’s the command line prompt shown to\n",
       "indicate the start of each command. Lines that don’t start with $ typically\n",
       "show the output of the previous command. Additionally, PowerShell-specific\n",
       "examples will use &gt; rather than $.\n",
       "\n",
       "#\n"
      ]
     },
     "metadata": {},
     "output_type": "display_data"
    },
    {
     "name": "stdout",
     "output_type": "stream",
     "text": [
      "-------------------------------------------------------------------------------- \n",
      "\n",
      "\n"
     ]
    },
    {
     "data": {
      "text/html": [
       "<pre style=\"white-space:pre;overflow-x:auto;line-height:normal;font-family:Menlo,'DejaVu Sans Mono',consolas,'Courier New',monospace\">## Installing rustup on Linux or macOS\n",
       "\n",
       "If you’re using Linux or macOS, open a terminal and enter the following command:\n",
       "\n",
       "```\n",
       "$ curl --proto '=https' --tlsv1.2 https://sh.rustup.rs -sSf | sh\n",
       "```\n",
       "\n",
       "The command downloads a script and starts the installation of the rustup\n",
       "tool, which installs the latest stable version of Rust. You might be prompted\n",
       "for your password. If the install is successful, the following line will appear:\n",
       "\n",
       "```\n",
       "Rust is installed now. Great!\n",
       "```\n",
       "\n",
       "You will also need a linker, which is a program that Rust uses to join its\n",
       "compiled outputs into one file. It is likely you already have one. If you get\n",
       "linker errors, you should install a C compiler, which will typically include a\n",
       "linker. A C compiler is also useful because some common Rust packages depend on\n",
       "C code and will need a C compiler.\n",
       "\n",
       "On macOS, you can get a C compiler by running:\n",
       "\n",
       "```\n",
       "$ xcode-select --install\n",
       "\n",
       "</pre>\n"
      ],
      "text/plain": [
       "## Installing rustup on Linux or macOS\n",
       "\n",
       "If you’re using Linux or macOS, open a terminal and enter the following command:\n",
       "\n",
       "```\n",
       "$ curl --proto '=https' --tlsv1.2 https://sh.rustup.rs -sSf | sh\n",
       "```\n",
       "\n",
       "The command downloads a script and starts the installation of the rustup\n",
       "tool, which installs the latest stable version of Rust. You might be prompted\n",
       "for your password. If the install is successful, the following line will appear:\n",
       "\n",
       "```\n",
       "Rust is installed now. Great!\n",
       "```\n",
       "\n",
       "You will also need a linker, which is a program that Rust uses to join its\n",
       "compiled outputs into one file. It is likely you already have one. If you get\n",
       "linker errors, you should install a C compiler, which will typically include a\n",
       "linker. A C compiler is also useful because some common Rust packages depend on\n",
       "C code and will need a C compiler.\n",
       "\n",
       "On macOS, you can get a C compiler by running:\n",
       "\n",
       "```\n",
       "$ xcode-select --install\n",
       "\n"
      ]
     },
     "metadata": {},
     "output_type": "display_data"
    },
    {
     "name": "stdout",
     "output_type": "stream",
     "text": [
      "-------------------------------------------------------------------------------- \n",
      "\n",
      "\n"
     ]
    },
    {
     "data": {
      "text/html": [
       "<pre style=\"white-space:pre;overflow-x:auto;line-height:normal;font-family:Menlo,'DejaVu Sans Mono',consolas,'Courier New',monospace\">```\n",
       "\n",
       "Linux users should generally install GCC or Clang, according to their\n",
       "distribution’s documentation. For example, if you use Ubuntu, you can install\n",
       "the build-essential package.\n",
       "\n",
       "#\n",
       "</pre>\n"
      ],
      "text/plain": [
       "```\n",
       "\n",
       "Linux users should generally install GCC or Clang, according to their\n",
       "distribution’s documentation. For example, if you use Ubuntu, you can install\n",
       "the build-essential package.\n",
       "\n",
       "#\n"
      ]
     },
     "metadata": {},
     "output_type": "display_data"
    },
    {
     "name": "stdout",
     "output_type": "stream",
     "text": [
      "-------------------------------------------------------------------------------- \n",
      "\n",
      "\n"
     ]
    },
    {
     "data": {
      "text/html": [
       "<pre style=\"white-space:pre;overflow-x:auto;line-height:normal;font-family:Menlo,'DejaVu Sans Mono',consolas,'Courier New',monospace\"># The Rust Programming Language\n",
       "\n",
       "## Hello, World!\n",
       "\n",
       "Now that you’ve installed Rust, it’s time to write your first Rust program.\n",
       "It’s traditional when learning a new language to write a little program that\n",
       "prints the text Hello, world! to the screen, so we’ll do the same here!\n",
       "\n",
       "Note: This book assumes basic familiarity with the command line. Rust makes\n",
       "no specific demands about your editing or tooling or where your code lives, so\n",
       "if you prefer to use an integrated development environment (IDE) instead of\n",
       "the command line, feel free to use your favorite IDE. Many IDEs now have some\n",
       "degree of Rust support; check the IDE’s documentation for details. The Rust\n",
       "team has been focusing on enabling great IDE support via rust-analyzer. See\n",
       "Appendix D for more details.\n",
       "\n",
       "#\n",
       "</pre>\n"
      ],
      "text/plain": [
       "# The Rust Programming Language\n",
       "\n",
       "## Hello, World!\n",
       "\n",
       "Now that you’ve installed Rust, it’s time to write your first Rust program.\n",
       "It’s traditional when learning a new language to write a little program that\n",
       "prints the text Hello, world! to the screen, so we’ll do the same here!\n",
       "\n",
       "Note: This book assumes basic familiarity with the command line. Rust makes\n",
       "no specific demands about your editing or tooling or where your code lives, so\n",
       "if you prefer to use an integrated development environment (IDE) instead of\n",
       "the command line, feel free to use your favorite IDE. Many IDEs now have some\n",
       "degree of Rust support; check the IDE’s documentation for details. The Rust\n",
       "team has been focusing on enabling great IDE support via rust-analyzer. See\n",
       "Appendix D for more details.\n",
       "\n",
       "#\n"
      ]
     },
     "metadata": {},
     "output_type": "display_data"
    },
    {
     "name": "stdout",
     "output_type": "stream",
     "text": [
      "-------------------------------------------------------------------------------- \n",
      "\n",
      "\n"
     ]
    },
    {
     "data": {
      "text/html": [
       "<pre style=\"white-space:pre;overflow-x:auto;line-height:normal;font-family:Menlo,'DejaVu Sans Mono',consolas,'Courier New',monospace\">## Creating a Project Directory\n",
       "\n",
       "You’ll start by making a directory to store your Rust code. It doesn’t matter\n",
       "to Rust where your code lives, but for the exercises and projects in this book,\n",
       "we suggest making a projects directory in your home directory and keeping all\n",
       "your projects there.\n",
       "\n",
       "Open a terminal and enter the following commands to make a projects directory\n",
       "and a directory for the “Hello, world!” project within the projects directory.\n",
       "\n",
       "For Linux, macOS, and PowerShell on Windows, enter this:\n",
       "\n",
       "```\n",
       "$ mkdir ~/projects\n",
       "$ cd ~/projects\n",
       "$ mkdir hello_world\n",
       "$ cd hello_world\n",
       "```\n",
       "\n",
       "For Windows CMD, enter this:\n",
       "\n",
       "```\n",
       "&gt; mkdir \"%USERPROFILE%\\projects\"\n",
       "&gt; cd /d \"%USERPROFILE%\\projects\"\n",
       "&gt; mkdir hello_world\n",
       "&gt; cd hello_world\n",
       "```\n",
       "\n",
       "#\n",
       "</pre>\n"
      ],
      "text/plain": [
       "## Creating a Project Directory\n",
       "\n",
       "You’ll start by making a directory to store your Rust code. It doesn’t matter\n",
       "to Rust where your code lives, but for the exercises and projects in this book,\n",
       "we suggest making a projects directory in your home directory and keeping all\n",
       "your projects there.\n",
       "\n",
       "Open a terminal and enter the following commands to make a projects directory\n",
       "and a directory for the “Hello, world!” project within the projects directory.\n",
       "\n",
       "For Linux, macOS, and PowerShell on Windows, enter this:\n",
       "\n",
       "```\n",
       "$ mkdir ~/projects\n",
       "$ cd ~/projects\n",
       "$ mkdir hello_world\n",
       "$ cd hello_world\n",
       "```\n",
       "\n",
       "For Windows CMD, enter this:\n",
       "\n",
       "```\n",
       "> mkdir \"%USERPROFILE%\\projects\"\n",
       "> cd /d \"%USERPROFILE%\\projects\"\n",
       "> mkdir hello_world\n",
       "> cd hello_world\n",
       "```\n",
       "\n",
       "#\n"
      ]
     },
     "metadata": {},
     "output_type": "display_data"
    },
    {
     "name": "stdout",
     "output_type": "stream",
     "text": [
      "-------------------------------------------------------------------------------- \n",
      "\n",
      "\n"
     ]
    },
    {
     "data": {
      "text/html": [
       "<pre style=\"white-space:pre;overflow-x:auto;line-height:normal;font-family:Menlo,'DejaVu Sans Mono',consolas,'Courier New',monospace\">## Writing and Running a Rust Program\n",
       "\n",
       "Next, make a new source file and call it main.rs. Rust files always end with\n",
       "the .rs extension. If you’re using more than one word in your filename, the\n",
       "convention is to use an underscore to separate them. For example, use\n",
       "hello\\_world.rs rather than helloworld.rs.\n",
       "\n",
       "Now open the main.rs file you just created and enter the code in Listing 1-1.\n",
       "\n",
       "Listing 1-1: A program that prints Hello, world!\n",
       "\n",
       "&lt;!-- image --&gt;\n",
       "\n",
       "Save the file and go back to your terminal window in the\n",
       "~/projects/hello\\_world directory. On Linux or macOS, enter the following\n",
       "commands to compile and run the file:\n",
       "\n",
       "```\n",
       "$ rustc main.rs\n",
       "$ ./main\n",
       "Hello, world!\n",
       "```\n",
       "\n",
       "On Windows, enter the command .\\main.exe instead of ./main:\n",
       "\n",
       "```\n",
       "&gt; rustc main.rs\n",
       "&gt; .\\main.exe\n",
       "\n",
       "</pre>\n"
      ],
      "text/plain": [
       "## Writing and Running a Rust Program\n",
       "\n",
       "Next, make a new source file and call it main.rs. Rust files always end with\n",
       "the .rs extension. If you’re using more than one word in your filename, the\n",
       "convention is to use an underscore to separate them. For example, use\n",
       "hello\\_world.rs rather than helloworld.rs.\n",
       "\n",
       "Now open the main.rs file you just created and enter the code in Listing 1-1.\n",
       "\n",
       "Listing 1-1: A program that prints Hello, world!\n",
       "\n",
       "<!-- image -->\n",
       "\n",
       "Save the file and go back to your terminal window in the\n",
       "~/projects/hello\\_world directory. On Linux or macOS, enter the following\n",
       "commands to compile and run the file:\n",
       "\n",
       "```\n",
       "$ rustc main.rs\n",
       "$ ./main\n",
       "Hello, world!\n",
       "```\n",
       "\n",
       "On Windows, enter the command .\\main.exe instead of ./main:\n",
       "\n",
       "```\n",
       "> rustc main.rs\n",
       "> .\\main.exe\n",
       "\n"
      ]
     },
     "metadata": {},
     "output_type": "display_data"
    },
    {
     "name": "stdout",
     "output_type": "stream",
     "text": [
      "-------------------------------------------------------------------------------- \n",
      "\n",
      "\n"
     ]
    },
    {
     "data": {
      "text/html": [
       "<pre style=\"white-space:pre;overflow-x:auto;line-height:normal;font-family:Menlo,'DejaVu Sans Mono',consolas,'Courier New',monospace\">Hello, world!\n",
       "```\n",
       "\n",
       "Regardless of your operating system, the string Hello, world! should print to\n",
       "the terminal. If you don’t see this output, refer back to the\n",
       "“Troubleshooting” part of the Installation\n",
       "section for ways to get help.\n",
       "\n",
       "If Hello, world! did print, congratulations! You’ve officially written a Rust\n",
       "program. That makes you a Rust programmer—welcome!\n",
       "\n",
       "#\n",
       "</pre>\n"
      ],
      "text/plain": [
       "Hello, world!\n",
       "```\n",
       "\n",
       "Regardless of your operating system, the string Hello, world! should print to\n",
       "the terminal. If you don’t see this output, refer back to the\n",
       "“Troubleshooting” part of the Installation\n",
       "section for ways to get help.\n",
       "\n",
       "If Hello, world! did print, congratulations! You’ve officially written a Rust\n",
       "program. That makes you a Rust programmer—welcome!\n",
       "\n",
       "#\n"
      ]
     },
     "metadata": {},
     "output_type": "display_data"
    },
    {
     "name": "stdout",
     "output_type": "stream",
     "text": [
      "-------------------------------------------------------------------------------- \n",
      "\n",
      "\n"
     ]
    }
   ],
   "source": [
    "list_of_chunks = [(ch, sch, content, chunker(content)) for ch, sch, content in text_results]\n",
    "print(f\"Total number of lists of chunks: {len(list_of_chunks)}\")\n",
    "# @title A quick look at our chunks~\n",
    "for ch, sch, conent, clist in list_of_chunks[:3]:\n",
    "    for chunk in clist[:4]:\n",
    "        rprint(chunk.text)\n",
    "        print('-'*80, '\\n\\n')"
   ]
  },
  {
   "cell_type": "code",
   "execution_count": 9,
   "id": "3902eca6-f719-48fa-8e3a-286d58481229",
   "metadata": {},
   "outputs": [],
   "source": [
    "def vectorize_text(text):\n",
    "    inputs = tokenizer(text, return_tensors=\"pt\", truncation=True, padding=True, max_length=512)\n",
    "    with torch.no_grad():\n",
    "        outputs = model(**inputs)\n",
    "        embedding = outputs.last_hidden_state[:, 0, :].squeeze().tolist()\n",
    "    return embedding\n",
    "\n",
    "def vectorize_chunked(chunked: List[str]) -> List[List[float]]:\n",
    "    # embedding dims: 768\n",
    "    vectorized = []\n",
    "    for chunk in tqdm(chunked):\n",
    "        embedding = vectorize_text(chunk)\n",
    "        vectorized.append(embedding)\n",
    "    return vectorized\n",
    "\n",
    "OLLAMA_API_URL = \"http://localhost:11434/api/generate\"\n",
    "\n",
    "def get_ollama_response(prompt):\n",
    "    payload = {\n",
    "        \"model\": \"llama3.1:8b\",\n",
    "        \"prompt\": prompt,\n",
    "        \"stream\": False\n",
    "    }\n",
    "    response = requests.post(OLLAMA_API_URL, json=payload)\n",
    "    if response.status_code == 200:\n",
    "        return response.json()[\"response\"]\n",
    "    else:\n",
    "        raise Exception(f\"Ollama API request failed with status {response.status_code}\")\n",
    "\n",
    "def create_prompt(context: str, query: str) -> str:\n",
    "    prompt_template = \"\"\"<instructions>\n",
    "    Based on the provided contexts, answer the given question to the best of your ability.\n",
    "    </instructions>\n",
    "\n",
    "    <context>\n",
    "    {context}\n",
    "    </context>\n",
    "\n",
    "    <query>\n",
    "    {query}\n",
    "    </query>\n",
    "    \"\"\"\n",
    "    prompt = prompt_template.format(context=context, query=query)\n",
    "    return prompt"
   ]
  },
  {
   "cell_type": "code",
   "execution_count": 10,
   "id": "1db673ad-1c97-4cd3-a773-a9de396dd4aa",
   "metadata": {},
   "outputs": [
    {
     "name": "stderr",
     "output_type": "stream",
     "text": [
      "100%|█████████████████████████████████████████████████████████████████████████████████████████████████████████████| 90/90 [02:08<00:00,  1.43s/it]"
     ]
    },
    {
     "name": "stdout",
     "output_type": "stream",
     "text": [
      "length of items: 90\n"
     ]
    },
    {
     "name": "stderr",
     "output_type": "stream",
     "text": [
      "\n"
     ]
    }
   ],
   "source": [
    "items = [(ch, [(sch, content, [(chunk.text, vectorize_text(chunk.text)) for chunk in clist])]) for ch, sch, content, clist in tqdm(list_of_chunks)]\n",
    "print(f\"length of items: {len(items)}\")"
   ]
  },
  {
   "cell_type": "code",
   "execution_count": 11,
   "id": "de85bc27-de9e-408b-9959-8e872651858f",
   "metadata": {},
   "outputs": [
    {
     "name": "stdout",
     "output_type": "stream",
     "text": [
      "\u001b[32m[HELIX]\u001b[0m Helix instance found at 'http://0.0.0.0:6969'\n"
     ]
    }
   ],
   "source": [
    "db = helix.Client(local=True)\n",
    "\n",
    "class loaddocs_rag(Query):\n",
    "    def __init__(\n",
    "        self,\n",
    "        chapters: List[Tuple[int, List[Tuple[str, str, List[Tuple[str, List[float]]]]]]],\n",
    "    ):\n",
    "        super().__init__()\n",
    "        self.chapters = chapters\n",
    "\n",
    "    def query(self) -> List[Payload]:\n",
    "        chapters_payload = []\n",
    "        for id, subchapters in self.chapters:\n",
    "            for title, content, chunks in subchapters:\n",
    "                chunks_l = []\n",
    "                for chunk, vector in chunks:\n",
    "                    chunks_l.append({ \"chunk\": chunk, \"vector\": vector })\n",
    "                subchapter_payload = [{ \"title\": title, \"content\": content, \"chunks\": chunks_l }]\n",
    "            chapters_payload.append({ \"id\": id, \"subchapters\": subchapter_payload })\n",
    "        return [{ \"chapters\": chapters_payload }]\n",
    "\n",
    "    def response(self, response):\n",
    "        return response\n",
    "\n",
    "class searchdocs_rag(Query):\n",
    "    def __init__(self, query_vector: List[float], k: int=3):\n",
    "        super().__init__()\n",
    "        self.query_vector = query_vector\n",
    "        self.k = k\n",
    "\n",
    "    def query(self) -> List[Payload]:\n",
    "        return [{ \"query\": self.query_vector, \"k\": self.k }]\n",
    "\n",
    "    def response(self, response):\n",
    "        return response"
   ]
  },
  {
   "cell_type": "code",
   "execution_count": 12,
   "id": "da909461-9bde-4a0a-9756-661b3a3b61e4",
   "metadata": {},
   "outputs": [
    {
     "name": "stderr",
     "output_type": "stream",
     "text": [
      "\u001b[32m[HELIX]\u001b[0m Querying 'http://0.0.0.0:6969/loaddocs_rag': 100%|██████████████████████████████████████████████████████████| 1/1 [00:32<00:00, 32.76s/it]\u001b[0m\n"
     ]
    },
    {
     "data": {
      "text/plain": [
       "[{'message': 'Success'}]"
      ]
     },
     "execution_count": 12,
     "metadata": {},
     "output_type": "execute_result"
    }
   ],
   "source": [
    "# insert all the docs to vectors into helix\n",
    "db.query(loaddocs_rag(items))"
   ]
  },
  {
   "cell_type": "code",
   "execution_count": 14,
   "id": "c35356ad-fbd6-46e8-a205-36fae3108d80",
   "metadata": {},
   "outputs": [
    {
     "name": "stderr",
     "output_type": "stream",
     "text": [
      "\u001b[32m[HELIX]\u001b[0m Querying 'http://0.0.0.0:6969/searchdocs_rag': 100%|████████████████████████████████████████████████████████| 1/1 [00:00<00:00, 35.62it/s]\u001b[0m\n"
     ]
    },
    {
     "name": "stdout",
     "output_type": "stream",
     "text": [
      "reponse: Ownership in Rust refers to the concept of a variable or data being owned by a single instance, which can be either another variable or the program itself. In Rust, each value has an owner that is responsible for deallocating the memory when it goes out of scope.\n",
      "\n",
      "Lifetimes are used to specify how long a reference lives and which variables it references. A lifetime is essentially a scope within which a reference is valid. When a reference's lifetime ends, its validity also ends, and the referenced value can be safely deallocated.\n",
      "\n",
      "In Rust, ownership and lifetimes work together to ensure memory safety. The compiler checks for any potential issues at compile time using borrow checking. This means that you don't have to manually manage memory or worry about common programming errors like dangling pointers or double frees.\n",
      "\n",
      "Here's an example of how ownership works in Rust:\n",
      "\n",
      "```rust\n",
      "let s = String::from(\"hello\");  // s owns the string\n",
      "let t = s;  // t now owns the string, and s no longer does\n",
      "println!(\"{}\", t);  // prints \"hello\"\n",
      "```\n",
      "\n",
      "In this example, `s` initially owns the string. However, when we assign the value of `s` to `t`, the ownership is transferred to `t`. The compiler will prevent any further attempts to use `s` after it's assigned to `t`.\n",
      "\n",
      "Lifetimes come into play when you have references that need to live for a certain amount of time. For example:\n",
      "\n",
      "```rust\n",
      "fn longest_function(s: &String) -> &String {\n",
      "    s  // the returned reference lives as long as s does\n",
      "}\n",
      "```\n",
      "\n",
      "In this function, the lifetime of the returned reference is tied to the input parameter `s`. As long as `s` remains in scope, the returned reference will also be valid.\n",
      "\n",
      "Overall, ownership and lifetimes are fundamental concepts in Rust that help prevent common programming errors and ensure memory safety.\n"
     ]
    }
   ],
   "source": [
    "user_prompt = \"what is ownership in rust and how does it relate to lifetimes\"\n",
    "query_embedding = vectorize_text(user_prompt)\n",
    "res = db.query(searchdocs_rag(query_embedding))[0]['subchapters']\n",
    "#[print(r['title'], r['content'], \"\\n\") for r in res]\n",
    "response = get_ollama_response(create_prompt(res, user_prompt))\n",
    "print(f\"reponse: {response}\")"
   ]
  },
  {
   "cell_type": "code",
   "execution_count": null,
   "id": "5e8a588b-2168-4bab-a5a4-1cd63ac126eb",
   "metadata": {},
   "outputs": [],
   "source": []
  }
 ],
 "metadata": {
  "kernelspec": {
   "display_name": "Python 3 (ipykernel)",
   "language": "python",
   "name": "python3"
  },
  "language_info": {
   "codemirror_mode": {
    "name": "ipython",
    "version": 3
   },
   "file_extension": ".py",
   "mimetype": "text/x-python",
   "name": "python",
   "nbconvert_exporter": "python",
   "pygments_lexer": "ipython3",
   "version": "3.13.3"
  }
 },
 "nbformat": 4,
 "nbformat_minor": 5
}
